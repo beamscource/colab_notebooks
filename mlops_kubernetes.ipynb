{
  "nbformat": 4,
  "nbformat_minor": 0,
  "metadata": {
    "colab": {
      "provenance": [],
      "authorship_tag": "ABX9TyNsKB9Nw7sN1iLKlm+oXlMT",
      "include_colab_link": true
    },
    "kernelspec": {
      "name": "python3",
      "display_name": "Python 3"
    },
    "language_info": {
      "name": "python"
    }
  },
  "cells": [
    {
      "cell_type": "markdown",
      "metadata": {
        "id": "view-in-github",
        "colab_type": "text"
      },
      "source": [
        "<a href=\"https://colab.research.google.com/github/beamscource/colab_notebooks/blob/main/mlops_kubernetes.ipynb\" target=\"_parent\"><img src=\"https://colab.research.google.com/assets/colab-badge.svg\" alt=\"Open In Colab\"/></a>"
      ]
    },
    {
      "cell_type": "markdown",
      "source": [
        "**Candidate Handbook**: https://www.cncf.io/certification/candidate-handbook\n",
        "\n",
        "**Exam Tips**: https://docs.linuxfoundation.org/tc-docs/certification/tips-cka-and-ckad\n",
        "\n",
        "**Other infos**\n",
        "- https://github.com/mmumshad/kubernetes-the-hard-way\n",
        "- https://docs.linuxfoundation.org/tc-docs/certification/faq-cka-ckad-cks\n",
        "- https://docs.linuxfoundation.org/tc-docs/certification/faq-cka-ckad-cks\n",
        "- https://join.slack.com/t/kodekloud/shared_invite/zt-1n6rss375-e1YEkgAkEkKTMDp5DV4Eeg\n",
        "\n",
        "**Certified Kubernetes Application Developer**: https://www.cncf.io/certification/ckad/\n",
        "\n",
        "- https://www.youtube.com/user/mmumshad\n",
        "- https://www.youtube.com/watch?v=rnemKrveZks\n",
        "\n",
        "**Kubernetes Challenges**\n",
        "\n",
        "- https://kodekloud.com/courses/kubernetes-challenges/?utm_source=udemy&utm_medium=video-description&utm_campaign=kubernetes-challenges\n",
        "- https://kodekloud.com/p/kubernetes-challenges\n",
        "\n",
        "- https://github.com/dgkanatsios/CKAD-exercises\n"
      ],
      "metadata": {
        "id": "KVqxq5X4gJ2q"
      }
    },
    {
      "cell_type": "markdown",
      "source": [
        "## Core Concepts\n",
        "- https://kodekloud.com/topic/practice-test-introduction-4/\n"
      ],
      "metadata": {
        "id": "3D_vtJG5gsuG"
      }
    },
    {
      "cell_type": "markdown",
      "source": [
        "### PODS\n",
        "\n",
        "- Link to the lab: https://uklabs.kodekloud.com/topic/pods-4/\n"
      ],
      "metadata": {
        "id": "sShJD-9Fg4aL"
      }
    },
    {
      "cell_type": "code",
      "source": [
        "# see all pods in the default name space\n",
        "kubectl get pods\n",
        "# create a pod called nginx using the docker image of the same name\n",
        "kubectl run nginx --image=ngingx\n",
        "# see detailed description of a pod\n",
        "kubectl describe pods/xxxxx\n",
        "# get a wide output with more infos (which you can also get from the description)\n",
        "kubectl get pods -o wide\n",
        "# delete a pod\n",
        "kubectl delete pods/webapp #kubectl delete pod webapp\n",
        "# use dry run and pipe configuration file into a yaml\n",
        "kubectl run redis --image=redis123 --dry-run=client -o yaml > redis.yaml\n",
        "cat redis.yaml\n"
      ],
      "metadata": {
        "id": "IY1GQbyLgkD3"
      },
      "execution_count": null,
      "outputs": []
    },
    {
      "cell_type": "markdown",
      "source": [
        "In any of the practical quizzes if you are asked to edit an existing POD, please note the following:\n",
        "\n",
        "- If you are given a pod definition file, edit that file and use it to create a new pod.\n",
        "- If you are not given a pod definition file, you may extract the definition to a file using the below command:\n",
        "\n",
        "- kubectl get pod pod-name -o yaml > pod-definition.yaml\n",
        "\n",
        "Then edit the file to make the necessary changes, delete and re-create the pod.\n",
        "\n",
        "Use the kubectl edit pod pod-name command to edit pod properties.\n"
      ],
      "metadata": {
        "id": "0U0i09MbjaQC"
      }
    },
    {
      "cell_type": "code",
      "source": [
        "apiVersion: v1\n",
        "kind: Pod\n",
        "metadata:\n",
        "  name: redis\n",
        "  labels:\n",
        "    app: redis\n",
        "    type: cache\n",
        "spec:\n",
        "  containers:\n",
        "  - name: redis-container\n",
        "    image: redis123\n",
        "\n",
        "kubectl create -f redis.yaml\n",
        "kubectl apply -f pod-definition-redis.yaml "
      ],
      "metadata": {
        "id": "yRAaPwHgjliE"
      },
      "execution_count": null,
      "outputs": []
    }
  ]
}