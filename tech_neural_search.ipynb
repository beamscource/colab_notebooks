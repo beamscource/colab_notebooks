{
  "nbformat": 4,
  "nbformat_minor": 0,
  "metadata": {
    "colab": {
      "private_outputs": true,
      "provenance": [],
      "collapsed_sections": [
        "UzGD0heIoDce",
        "69YVggHLEKBj",
        "SYWWmfY7zmsW",
        "itK1X-qjk5BC",
        "8a5j1FtwzMsC"
      ],
      "authorship_tag": "ABX9TyMsOlHQEcBUgCuaJb22dunJ",
      "include_colab_link": true
    },
    "kernelspec": {
      "name": "python3",
      "display_name": "Python 3"
    },
    "language_info": {
      "name": "python"
    },
    "accelerator": "GPU",
    "gpuClass": "standard"
  },
  "cells": [
    {
      "cell_type": "markdown",
      "metadata": {
        "id": "view-in-github",
        "colab_type": "text"
      },
      "source": [
        "<a href=\"https://colab.research.google.com/github/beamscource/colab_notebooks/blob/main/tech_neural_search.ipynb\" target=\"_parent\"><img src=\"https://colab.research.google.com/assets/colab-badge.svg\" alt=\"Open In Colab\"/></a>"
      ]
    },
    {
      "cell_type": "markdown",
      "source": [
        "# General introduction: semantic search"
      ],
      "metadata": {
        "id": "UzGD0heIoDce"
      }
    },
    {
      "cell_type": "markdown",
      "source": [
        "- semantic search is a general term including keyword search, structured search, and natural language search\n",
        "- question answering (natural language search) on text/on knowledge graphs is a quite old concept\n",
        "- in the context of deep learning, people speak of vector/neural search when talking about semantic search\n",
        "- however, semantic search is a single use case for modern vector search applications  "
      ],
      "metadata": {
        "id": "UC1C10_72pNA"
      }
    },
    {
      "cell_type": "markdown",
      "source": [
        "**Semantic search survey from 2016 (pre-Transformer)**\n",
        "\n",
        "- https://documentcloud.adobe.com/gsuiteintegration/index.html?state=%7B%22ids%22%3A%5B%221cTZYIdOauz4FR9ZPCrqGqKimAY8ympVU%22%5D%2C%22action%22%3A%22open%22%2C%22userId%22%3A%22116509636905417906901%22%2C%22resourceKeys%22%3A%7B%7D%7D"
      ],
      "metadata": {
        "id": "IIGdIcSjoM0Z"
      }
    },
    {
      "cell_type": "markdown",
      "source": [
        "**Neural search**\n",
        "- https://livebook.manning.com/book/ai-powered-search/welcome/v-14/\n",
        "- https://github.com/treygrainger/ai-powered-search"
      ],
      "metadata": {
        "id": "zzPxP5eKLfQf"
      }
    },
    {
      "cell_type": "markdown",
      "source": [
        "**Neural QA**\n",
        "- https://arxiv.org/pdf/2002.06612.pdf - survey article from 2020\n",
        "- https://en.wikipedia.org/wiki/Question_answering\n",
        "- https://www.deepset.ai/blog/why-trained-qa-model-needs-data\n",
        "- https://towardsdatascience.com/understanding-dense-passage-retrieval-dpr-system-bce5aee4fd40\n",
        "- https://arxiv.org/abs/2110.03142\n",
        "- https://ad-publications.cs.uni-freiburg.de/KI_broccoli_quality_BBH_2017.pdf"
      ],
      "metadata": {
        "id": "pH_xz_r6aurV"
      }
    },
    {
      "cell_type": "markdown",
      "source": [
        "**OSS software for vector/neural search**\n",
        "\n",
        "- https://github.com/deepset-ai/haystack - Question Answering or semantic document search, combine with other open-source projects like Huggingface's Transformers, Elasticsearch, or Milvus. Written in Python.\n",
        "\n",
        "- https://github.com/neuml/txtai - similarity search and complex NLP-driven data extractions\n",
        "- https://github.com/jina-ai/jina\n",
        "- https://github.com/allenai/document-qa - research project, not production ready\n",
        "- https://github.com/victordibia/neuralqa\n",
        "- https://pythonrepo.com/tag/question-answering"
      ],
      "metadata": {
        "id": "BmKmAh-Yowz6"
      }
    },
    {
      "cell_type": "markdown",
      "source": [
        "## Haystack (search framework for text)"
      ],
      "metadata": {
        "id": "itK1X-qjk5BC"
      }
    },
    {
      "cell_type": "markdown",
      "source": [
        "List of all Haystack tutorials:\n",
        "\n",
        "- https://haystack.deepset.ai/tutorials/first-qa-system\n",
        "- https://github.com/deepset-ai/haystack-tutorials/tree/main/tutorials\n",
        "\n",
        "**Haystack allows to build all kinds of search applications. It doesn't have to be a vector search application. What makes it a vector search application is not Haystack itself, but rather the type of DB used in the backend.**"
      ],
      "metadata": {
        "id": "Ay2Se3ODn_Bb"
      }
    },
    {
      "cell_type": "markdown",
      "source": [
        "Make sure to change the runtime to 'GPU'..."
      ],
      "metadata": {
        "id": "_GO2o7ZRlC8U"
      }
    },
    {
      "cell_type": "code",
      "source": [
        "# check GPU\n",
        "\n",
        "! nvidia-smi"
      ],
      "metadata": {
        "id": "PhqGj1sOlCMe"
      },
      "execution_count": null,
      "outputs": []
    },
    {
      "cell_type": "code",
      "source": [
        "# install haystack\n",
        "! pip install --upgrade pip\n",
        "! pip install git+https://github.com/deepset-ai/haystack.git#egg=farm-haystack[colab]"
      ],
      "metadata": {
        "id": "1mcHHdQJlV8A"
      },
      "execution_count": null,
      "outputs": []
    },
    {
      "cell_type": "markdown",
      "source": [
        "We configure how logging messages should be displayed and which log level should be used before importing Haystack.\n",
        "\n",
        "Default log level in basicConfig is WARNING so the explicit parameter is not necessary but can be changed easily:"
      ],
      "metadata": {
        "id": "8TwK-LTHmTqL"
      }
    },
    {
      "cell_type": "code",
      "source": [
        "import logging\n",
        "\n",
        "logging.basicConfig(format=\"%(levelname)s - %(name)s -  %(message)s\", level=logging.WARNING)\n",
        "logging.getLogger(\"haystack\").setLevel(logging.INFO)"
      ],
      "metadata": {
        "id": "FqqCF4KmmXT9"
      },
      "execution_count": null,
      "outputs": []
    },
    {
      "cell_type": "markdown",
      "source": [
        "**Document store**\n",
        "\n",
        "Haystack finds answers to queries within the documents stored in a **DocumentStore**.\n",
        "\n",
        "The current implementations of DocumentStore include\n",
        "- ElasticsearchDocumentStore\n",
        "- FAISSDocumentStore\n",
        "- SQLDocumentStore (using SQLite)\n",
        "- InMemoryDocumentStore\n",
        "\n",
        "Find more infor at https://haystack.deepset.ai/components/document-store\n"
      ],
      "metadata": {
        "id": "s_L1ZtgLmhOi"
      }
    },
    {
      "cell_type": "markdown",
      "source": [
        "We recommended Elasticsearch as it comes preloaded with following features:\n",
        "\n",
        "**Full-text queries**\n",
        "\n",
        "https://www.elastic.co/guide/en/elasticsearch/reference/current/full-text-queries.html\n",
        "\n",
        "**BM25 retrieval**\n",
        "\n",
        "https://www.elastic.co/de/elasticon/conf/2016/sf/improved-text-scoring-with-bm25\n",
        "\n",
        "**Vector storage for text embeddings**\n",
        "\n",
        "https://www.elastic.co/guide/en/elasticsearch/reference/7.6/dense-vector.html\n",
        "\n",
        "If you are unable to setup an Elasticsearch instance, then follow this tutorial for using SQL/InMemory document stores: https://github.com/deepset-ai/haystack-tutorials/blob/main/tutorials/03_Basic_QA_Pipeline_without_Elasticsearch.ipynb\n",
        "\n",
        "**Hint**: This tutorial creates a new document store instance with Wikipedia articles on Game of Thrones. However, you can configure Haystack to work with your existing document stores.\n"
      ],
      "metadata": {
        "id": "EP2M7fe2m2yn"
      }
    },
    {
      "cell_type": "code",
      "source": [
        "# install and start an elasticsearch server\n",
        "!wget https://artifacts.elastic.co/downloads/elasticsearch/elasticsearch-7.9.2-linux-x86_64.tar.gz -q\n",
        "!tar -xzf elasticsearch-7.9.2-linux-x86_64.tar.gz\n",
        "!chown -R daemon:daemon elasticsearch-7.9.2\n",
        "!sudo -u daemon -- elasticsearch-7.9.2/bin/elasticsearch"
      ],
      "metadata": {
        "id": "gCGL2Rhdvy2N"
      },
      "execution_count": null,
      "outputs": []
    },
    {
      "cell_type": "code",
      "source": [
        "import os\n",
        "from haystack.document_stores import ElasticsearchDocumentStore\n",
        "\n",
        "# Get the host where Elasticsearch is running, default to localhost\n",
        "host = os.environ.get(\"ELASTICSEARCH_HOST\", \"localhost\")\n",
        "document_store = ElasticsearchDocumentStore(host=host, username=\"\", password=\"\", index=\"document\")"
      ],
      "metadata": {
        "id": "tP8zpC8GwLv2"
      },
      "execution_count": null,
      "outputs": []
    },
    {
      "cell_type": "code",
      "source": [
        "# In-Memory Document Store\n",
        "from haystack.document_stores import InMemoryDocumentStore\n",
        "document_store = InMemoryDocumentStore()"
      ],
      "metadata": {
        "id": "57ztY4F0mvkx"
      },
      "execution_count": null,
      "outputs": []
    },
    {
      "cell_type": "code",
      "source": [
        "# Alternatively, uncomment the following to use the SQLite Document Store:\n",
        "\n",
        "# from haystack.document_stores import SQLDocumentStore\n",
        "# document_store = SQLDocumentStore(url=\"sqlite:///qa.db\")"
      ],
      "metadata": {
        "id": "_bBhapNVoTgN"
      },
      "execution_count": null,
      "outputs": []
    },
    {
      "cell_type": "markdown",
      "source": [
        "**Preprocessing of documents**\n",
        "\n",
        "\n",
        "Haystack provides a customizable pipeline for:\n",
        "\n",
        "- converting files into texts\n",
        "- cleaning texts\n",
        "- splitting texts\n",
        "- writing them to a Document Store"
      ],
      "metadata": {
        "id": "rOBGZcJ5ojR5"
      }
    },
    {
      "cell_type": "markdown",
      "source": [
        "In this tutorial, we download Wikipedia articles about **Game of Thrones**, apply a basic cleaning function, and index them in Elasticsearch."
      ],
      "metadata": {
        "id": "-5rcBg3toxZF"
      }
    },
    {
      "cell_type": "code",
      "source": [
        "from haystack.utils import clean_wiki_text, convert_files_to_docs, fetch_archive_from_http\n",
        "\n",
        "\n",
        "# Let's first fetch some documents that we want to query\n",
        "# Here: 517 Wikipedia articles for Game of Thrones\n",
        "doc_dir = \"data/tutorial1\"\n",
        "s3_url = \"https://s3.eu-central-1.amazonaws.com/deepset.ai-farm-qa/datasets/documents/wiki_gameofthrones_txt1.zip\"\n",
        "fetch_archive_from_http(url=s3_url, output_dir=doc_dir)\n",
        "\n",
        "# Convert files to dicts\n",
        "# You can optionally supply a cleaning function that is applied to each doc (e.g. to remove footers)\n",
        "# It must take a str as input, and return a str.\n",
        "docs = convert_files_to_docs(dir_path=doc_dir, clean_func=clean_wiki_text, split_paragraphs=True)\n",
        "\n",
        "# We now have a list of dictionaries that we can write to our document store.\n",
        "# If your texts come from a different source (e.g. a DB), you can of course skip convert_files_to_dicts() and create the dictionaries yourself.\n",
        "# The default format here is:\n",
        "# {\n",
        "#    'content': \"<DOCUMENT_TEXT_HERE>\",\n",
        "#    'meta': {'name': \"<DOCUMENT_NAME_HERE>\", ...}\n",
        "# }\n",
        "# (Optionally: you can also add more key-value-pairs here, that will be indexed as fields in Elasticsearch and\n",
        "# can be accessed later for filtering or shown in the responses of the Pipeline)\n",
        "\n",
        "# Let's have a look at the first 3 entries:\n",
        "print(docs[:3])\n",
        "\n",
        "# Now, let's write the dicts containing documents to our DB.\n",
        "document_store.write_documents(docs)"
      ],
      "metadata": {
        "id": "N_R5UV-con-H"
      },
      "execution_count": null,
      "outputs": []
    },
    {
      "cell_type": "markdown",
      "source": [
        "**Retriever**\n",
        "\n",
        "Retrievers help narrowing down the scope for the Reader to smaller units of text where a given question could be answered. They use some simple but fast algorithm.\n",
        "\n",
        "- Elasticsearch's default **BM25 algorithm** (https://en.wikipedia.org/wiki/Okapi_BM25)\n",
        "- Customize the **BM25Retriever** with custom queries (e.g. boosting) and filters\n",
        "- Use **TfidfRetriever** in combination with a SQL or InMemory Document store for simple prototyping and debugging\n",
        "- Use **EmbeddingRetriever** to find candidate documents based on the similarity of embeddings (e.g. created via Sentence-BERT)\n",
        "- Use **DensePassageRetriever** to use different embedding models for passage and query (see https://github.com/deepset-ai/haystack-tutorials/blob/main/tutorials/06_Better_Retrieval_via_Embedding_Retrieval.ipynb)"
      ],
      "metadata": {
        "id": "rb4pJLXtp57C"
      }
    },
    {
      "cell_type": "code",
      "source": [
        "from haystack.nodes import BM25Retriever\n",
        "\n",
        "retriever = BM25Retriever(document_store=document_store)"
      ],
      "metadata": {
        "id": "w_ld3OZUsDjo"
      },
      "execution_count": null,
      "outputs": []
    },
    {
      "cell_type": "code",
      "source": [
        "# Alternative: An in-memory TfidfRetriever based on Pandas dataframes for building quick-prototypes with SQLite document store.\n",
        "\n",
        "from haystack.nodes import TfidfRetriever\n",
        "retriever = TfidfRetriever(document_store=document_store)"
      ],
      "metadata": {
        "id": "Kpe7JUAMsJ8f"
      },
      "execution_count": null,
      "outputs": []
    },
    {
      "cell_type": "markdown",
      "source": [
        "**Reader**\n",
        "\n",
        "\n",
        "A Reader **extracts the k best answers** from the texts returned by the retriever. Readers are based on **powerful, but slower deep learning models.\n",
        "\n",
        "Haystack currently supports Readers based on the frameworks **FARM and Transformers**.\n",
        "\n",
        "*With both you can either load a local model or one from Hugging Face's model hub (https://huggingface.co/models).\n",
        "\n",
        "**Tutorial for a FARM reader**: a medium sized RoBERTa QA model using a Reader based on FARM (https://huggingface.co/deepset/roberta-base-squad2)\n",
        "\n",
        "**Alternative Reader**: **TransformersReader** (leveraging the pipeline of the Transformers package)\n",
        "\n",
        "**Alternatives Models**: e.g. \"distilbert-base-uncased-distilled-squad\" (fast) or \"deepset/bert-large-uncased-whole-word-masking-squad2\" (good accuracy)\n",
        "\n",
        "**Hint**: You can adjust the model to return \"no answer possible\" with the no_ans_boost. Higher values mean the model prefers \"no answer possible\""
      ],
      "metadata": {
        "id": "CyidrDoysB34"
      }
    },
    {
      "cell_type": "code",
      "source": [
        "from haystack.nodes import FARMReader\n",
        "\n",
        "# Load a  local model or any of the QA models on\n",
        "# Hugging Face's model hub (https://huggingface.co/models)\n",
        "\n",
        "reader = FARMReader(model_name_or_path=\"deepset/roberta-base-squad2\", use_gpu=True)"
      ],
      "metadata": {
        "id": "hsXXRA_breFp"
      },
      "execution_count": null,
      "outputs": []
    },
    {
      "cell_type": "code",
      "source": [
        "from haystack.nodes import TransformersReader\n",
        "# reader = TransformersReader(model_name_or_path=\"distilbert-base-uncased-distilled-squad\", tokenizer=\"distilbert-base-uncased\", use_gpu=-1)"
      ],
      "metadata": {
        "id": "Ipc618MLuPTr"
      },
      "execution_count": null,
      "outputs": []
    },
    {
      "cell_type": "markdown",
      "source": [
        "**Pipeline**\n",
        "\n",
        "With a Haystack Pipeline you can stick together your building blocks to a search pipeline. Under the hood, Pipelines are Directed Acyclic Graphs (DAGs) that you can easily customize for your own use cases.\n",
        "\n",
        "To speed things up, Haystack also comes with a few **predefined Pipelines**. One of them is the **ExtractiveQAPipeline** that combines a retriever and a reader to answer our questions.\n",
        "\n",
        "You can learn more about Pipelines here https://haystack.deepset.ai/docs/latest/pipelinesmd"
      ],
      "metadata": {
        "id": "ESZDpJ9_uccH"
      }
    },
    {
      "cell_type": "code",
      "source": [
        "from haystack.pipelines import ExtractiveQAPipeline\n",
        "\n",
        "pipe = ExtractiveQAPipeline(reader, retriever)"
      ],
      "metadata": {
        "id": "Dz7k5c9XuqbR"
      },
      "execution_count": null,
      "outputs": []
    },
    {
      "cell_type": "markdown",
      "source": [
        "**Ask a question**"
      ],
      "metadata": {
        "id": "OlPUCWbVu6Wt"
      }
    },
    {
      "cell_type": "code",
      "source": [
        "# You can configure how many candidates the Reader and Retriever shall return\n",
        "# The higher top_k_retriever, the better (but also the slower) your answers.\n",
        "prediction = pipe.run(\n",
        "    query=\"Who is the father of Arya Stark?\", params={\"Retriever\": {\"top_k\": 10}, \"Reader\": {\"top_k\": 5}}\n",
        ")"
      ],
      "metadata": {
        "id": "Az_rzKeNu4oA"
      },
      "execution_count": null,
      "outputs": []
    },
    {
      "cell_type": "code",
      "source": [
        "# prediction = pipe.run(query=\"Who created the Dothraki vocabulary?\", params={\"Reader\": {\"top_k\": 5}})\n",
        "# prediction = pipe.run(query=\"Who is the sister of Sansa?\", params={\"Reader\": {\"top_k\": 5}})"
      ],
      "metadata": {
        "id": "pEW9Mzy1w3v4"
      },
      "execution_count": null,
      "outputs": []
    },
    {
      "cell_type": "code",
      "source": [
        "# print the predictions\n",
        "\n",
        "from pprint import pprint\n",
        "\n",
        "pprint(prediction)\n",
        "\n",
        "# Sample output:\n",
        "# {\n",
        "#     'answers': [ <Answer: answer='Eddard', type='extractive', score=0.9919578731060028, offsets_in_document=[{'start': 608, 'end': 615}], offsets_in_context=[{'start': 72, 'end': 79}], document_id='cc75f739897ecbf8c14657b13dda890e', meta={'name': '454_Music_of_Game_of_Thrones.txt'}}, context='...' >,\n",
        "#                  <Answer: answer='Ned', type='extractive', score=0.9767240881919861, offsets_in_document=[{'start': 3687, 'end': 3801}], offsets_in_context=[{'start': 18, 'end': 132}], document_id='9acf17ec9083c4022f69eb4a37187080', meta={'name': '454_Music_of_Game_of_Thrones.txt'}}, context='...' >,\n",
        "#                  ...\n",
        "#                ]\n",
        "#     'documents': [ <Document: content_type='text', score=0.8034909798951382, meta={'name': '332_Sansa_Stark.txt'}, embedding=None, id=d1f36ec7170e4c46cde65787fe125dfe', content='\\n===\\'\\'A Game of Thrones\\'\\'===\\nSansa Stark begins the novel by being betrothed to Crown ...'>,\n",
        "#                    <Document: content_type='text', score=0.8002150354529785, meta={'name': '191_Gendry.txt'}, embedding=None, id='dd4e070a22896afa81748d6510006d2', 'content='\\n===Season 2===\\nGendry travels North with Yoren and other Night's Watch recruits, including Arya ...'>,\n",
        "#                    ...\n",
        "#                  ],\n",
        "#     'no_ans_gap':  11.688868522644043,\n",
        "#     'node_id': 'Reader',\n",
        "#     'params': {'Reader': {'top_k': 5}, 'Retriever': {'top_k': 5}},\n",
        "#     'query': 'Who is the father of Arya Stark?',\n",
        "#     'root_node': 'Query'\n",
        "# }"
      ],
      "metadata": {
        "id": "lUB4v6yEvd3i"
      },
      "execution_count": null,
      "outputs": []
    },
    {
      "cell_type": "code",
      "source": [
        "from haystack.utils import print_answers\n",
        "\n",
        "# Change `minimum` to `medium` or `all` to raise the level of detail\n",
        "print_answers(prediction, details=\"minimum\")"
      ],
      "metadata": {
        "id": "nPzlAXOPxCw7"
      },
      "execution_count": null,
      "outputs": []
    },
    {
      "cell_type": "markdown",
      "source": [
        "**Generative and long-form QA**\n",
        "\n",
        "- https://haystack.deepset.ai/tutorials/retrieval-augmented-generation\n",
        "- https://haystack.deepset.ai/tutorials/lfqa\n",
        "- https://www.youtube.com/watch?v=O9lrWt15wH8"
      ],
      "metadata": {
        "id": "EZdZXnKxk99X"
      }
    },
    {
      "cell_type": "markdown",
      "source": [
        "Useful resources:\n",
        "\n",
        "- https://haystack.deepset.ai/guides/guides-overview\n",
        "- https://www.deepset.ai/weaviate-vector-search-engine-integration\n",
        "- https://www.deepset.ai/germanquad\n",
        "- https://haystack.deepset.ai/components/annotation\n",
        "\n",
        "- https://www.youtube.com/watch?v=ZdS_V1A5r44&list=PLIUOU7oqGTLhmJsdJo67WynQ-mbRXkL9R&index=5\n",
        "\n",
        "- https://github.com/deepset-ai/rasa-haystack - Combine a Rasa Chatbot with Haystack\n",
        "\n",
        "- https://medium.com/@duerr.sebastian/gain-valuable-corporate-insights-from-a-10-k-report-in-5-easy-steps-with-dense-passage-retrieval-8e0cac743c7d"
      ],
      "metadata": {
        "id": "sG7G-QZ_xSF-"
      }
    },
    {
      "cell_type": "markdown",
      "source": [
        "**Demo app with Haystack**\n",
        "- https://www.deepset.ai/blog/building-a-rest-api-for-question-answering-with-haystack\n",
        "- https://github.com/deepset-ai/haystack/issues/664\n",
        "- https://github.com/anakin87/haystack/tree/722c850bc7aee028b53f88831ddfa176fcb0432a\n",
        "- https://hub.docker.com/r/deepset/haystack-streamlit-ui"
      ],
      "metadata": {
        "id": "hcRr2-_TEoDP"
      }
    },
    {
      "cell_type": "markdown",
      "source": [
        "## Langchain and Llama-Index for generative QA"
      ],
      "metadata": {
        "id": "b62Jj2VLKIrf"
      }
    },
    {
      "cell_type": "markdown",
      "source": [
        "- https://langchain.readthedocs.io/en/latest/_modules/langchain/llms/huggingface_pipeline.html?highlight=HUggingFace#\n",
        "- https://github.com/jerryjliu/gpt_index\n",
        "- see this YT channel https://www.youtube.com/@jamesbriggs"
      ],
      "metadata": {
        "id": "T7SpFQQ8KNFn"
      }
    },
    {
      "cell_type": "markdown",
      "source": [
        "## Research on neural QA"
      ],
      "metadata": {
        "id": "i5rLvanCphTL"
      }
    },
    {
      "cell_type": "markdown",
      "source": [
        "**LLMs + Graphs**\n",
        "\n",
        "- https://arxiv.org/abs/2104.06378 - LM + GNN\n",
        "- Tutorial https://ai.stanford.edu/blog/qagnn/\n",
        "- https://pris-nlp.github.io/en/publication/large-scale-relation-learning-for-question-answering-over-knowledge-bases-with-pre-trained-language-models/\n",
        "\n",
        "**Generative QA**\n",
        "- https://ai.facebook.com/blog/longform-qa/\n",
        "\n",
        "- https://aclanthology.org/D19-5827/ - Generalizing QA with LMs\n",
        "\n",
        "- https://paperswithcode.com/task/question-answering - list of papers"
      ],
      "metadata": {
        "id": "SuqdMHQB2pHx"
      }
    },
    {
      "cell_type": "markdown",
      "source": [
        "**Amazon**"
      ],
      "metadata": {
        "id": "a1fpibLDpkZf"
      }
    },
    {
      "cell_type": "markdown",
      "source": [
        "- QA on KGs\n",
        "- NLU as QA https://www.amazon.science/publications/language-model-is-all-you-need-natural-language-understanding-as-question-answering"
      ],
      "metadata": {
        "id": "81bk5bdlp_cy"
      }
    },
    {
      "cell_type": "markdown",
      "source": [
        "**Microsoft**"
      ],
      "metadata": {
        "id": "y7g3Ch7687mQ"
      }
    },
    {
      "cell_type": "markdown",
      "source": [
        "**Knowledge-infused language models for commen sense QA**\n",
        "\n",
        "https://www.youtube.com/watch?v=18jub4NRzwY"
      ],
      "metadata": {
        "id": "5PnLbxtw94id"
      }
    },
    {
      "cell_type": "markdown",
      "source": [
        "**Group**\n",
        "\n",
        "- 10-13 PhDs\n",
        "- publications and push into productions (MS Cognitive Services)"
      ],
      "metadata": {
        "id": "UIImiqy2XtFR"
      }
    },
    {
      "cell_type": "markdown",
      "source": [
        "**Problems**\n",
        "\n",
        "- the models get too big to be used in practice (hosting and fine-tuning)\n",
        "- for 175B GPT-3 model you require 24 V100 GPUs at least\n",
        "- no path to human-level intelligence"
      ],
      "metadata": {
        "id": "RTX5TnZf-GNm"
      }
    },
    {
      "cell_type": "markdown",
      "source": [
        "**External attention to knowledge**\n",
        "\n",
        "- a LM learns rather the grammatical patterns (how to express)\n",
        "- knowledge (what to express) is not present in the question itself\n",
        "- the possibilities to encode knowledge in LLMs is inefficient\n",
        "    - during training it tries to \"memorize\" grammar, facts, knowledge etc\n",
        "    - larger models memorize more, but not enough\n",
        "- alternative to precise knowledge store: knowledge graphs\n",
        "\n",
        "**Caounter proposal**\n",
        "\n",
        "- use basic LM to capture grammar and basic understanding, delegate the task of memorizing facts from the learning task to external knowledge sources\n",
        "- leverage external knowledge that is unlimited wrt volume and up-to-dateness\n",
        "- knowledge is any information absent from the input, but is required to generate the output\n",
        "- external knowledge can be stored in:\n",
        "  - knowledge graphs\n",
        "  - dictionaries (definitions)\n",
        "  - free text (e.g., Wikipedia)\n",
        "  - other specific LMs output\n",
        "\n",
        "\n"
      ],
      "metadata": {
        "id": "10tXIIpw96EM"
      }
    },
    {
      "cell_type": "markdown",
      "source": [
        "**How to integrate external knowledge into LMs?**\n",
        "\n",
        "1. ground input text into related knowledge\n",
        "2. represent the knowledge\n",
        "3. fuse the representation into LM\n",
        "\n",
        "1.\n",
        "  - we don't need all the information from the external knowledge\n",
        "  - use string matching or entity-recognition, entity-linking or information retrieval to destill important parts from the question\n",
        "  - identify concepts and relations that are in the knowlede source\n",
        "\n",
        "2.\n",
        "  - external knowledge has to be represented in a uniform format for the LM to consume\n",
        "  - text format using canonnical forms of entities in the knowledge graph, or descriptions and definitions from a dictionary, or numerical text embeddings\n",
        "  - example: cumpute graph embeddings with GNN from a knowledge graph and then return the node embedding corresponding to the entity/concept apearing in the question\n",
        "\n",
        "3.\n",
        "  - if knowledge is represented as text, simply concatenate it with the input\n",
        "  - for embeddings, append the graph embedding to the text word embedding of a concept\n",
        "  - use attention to re-weight importance of the embeddings\n",
        "\n"
      ],
      "metadata": {
        "id": "k38dlzfRJ_HW"
      }
    },
    {
      "cell_type": "markdown",
      "source": [
        "**Case study: commensense QA**\n",
        "\n",
        "**Paper**: https://arxiv.org/abs/2112.03254\n",
        "\n",
        "- Question: Where would I not want a fox [to be]?\n",
        "- 5 choices with the correct being *hen house*\n",
        "- commensence knowledge: foxes eat hens, we don't want to loose hens \n",
        "\n",
        "**With LM only**\n",
        "- concatenate the question with each choice: 87 confidence score\n",
        "- depends on the data set of the language model\n",
        "\n",
        "**ConceptNet**\n",
        "\n",
        "ConceptNet is a freely-available semantic network, designed to help computers understand the meanings of words that people use.\n",
        "\n",
        "- https://conceptnet.io/\n",
        "- was used to construct the data set for commensense QA\n",
        "- we try to establish a relation between the entity from the question (fox) with the entities from the answer choices (hen house etc)\n",
        "- appending (after a separator) question entity, choice entity, triple from the graph after the query\n",
        "- improves the accuracy by 7 percent\n",
        "\n",
        "**Dictionary**\n",
        "\n",
        "- no biases based on the frequency of word tokens like LMs\n",
        "- we look up definitions (fox, hen house) of the question entity and response entity and append the text to the query\n",
        "\n",
        "**Training data**\n",
        "\n",
        "- we don't throw away the training set after training because the model didn't memorized everything\n",
        "- use IR to get top 5-10 training instances pairs of similar questions (if X = Where is Mona Lisa? and y = ???, then x1 = Where are Davinci's paintings?, y1 = Louvre, x2 = What is in the Louvre? y2 = Paintings.... )and append them to the query\n",
        "- BART base performs better than BART large with this addition\n",
        "- 98.8 accuracy\n",
        "- we can incorporate more training data from related tasks to improve the accuracy even further\n",
        "- MS got over human-parity"
      ],
      "metadata": {
        "id": "3DzvC76wM2oN"
      }
    },
    {
      "cell_type": "markdown",
      "source": [
        "**Questions**\n",
        "\n",
        "- triplets, definitions, and external training data are used during fine-tuning and inference stage of the task\n",
        "- how to understand whether the external training data is relevant (related to few-shot learning and zero-shot learning)\n",
        "  - label a minimum amount of training data (100 pairs)\n",
        "  - find similar data sets"
      ],
      "metadata": {
        "id": "9T9WRBfQSlNa"
      }
    },
    {
      "cell_type": "markdown",
      "source": [
        "**Case study: Multilingual QA**\n",
        "\n",
        "**Paper**: https://aclanthology.org/2022.findings-acl.255.pdf\n",
        "\n",
        "- most knowledge sources are in English\n",
        "\n",
        "**Summary**\n",
        "- Translate-Retrieve-Translate (TRT)\n",
        "- same stuff but with a translation step\n",
        "- triplet: canonnical form, neighbour node, relation (entity-linking)\n",
        "- additional augmentation with free text\n",
        "- used BM25 for the retrival step\n",
        "- use GPT-3 to generate simple definitions (with additional examples)\n",
        "- dictionaries proofed to be most useful\n",
        "- "
      ],
      "metadata": {
        "id": "kIgerSEOSkKz"
      }
    },
    {
      "cell_type": "markdown",
      "source": [
        "**Case study: Dict-BERT**\n",
        "\n",
        "**Paper**: https://arxiv.org/abs/2110.06490\n",
        "\n",
        "- include definitions during **pre-training**\n",
        "- BERT base + dictionaries\n",
        "- adopt masked language training\n",
        "- first task: append difinitions for masked and related words to the training examples\n",
        "- second task: increase the similarity between positive and negative pairs\n",
        "- third task: is the given definition describes the masked word"
      ],
      "metadata": {
        "id": "koOJg3BlWC9P"
      }
    },
    {
      "cell_type": "markdown",
      "source": [
        "## Jina AI (a more general search framework, e.g. for images and audio)"
      ],
      "metadata": {
        "id": "8a5j1FtwzMsC"
      }
    },
    {
      "cell_type": "markdown",
      "source": [
        "- https://medium.com/jina-ai/faceted-knowledge-base-search-with-jina-and-jcloud-d7c92f963033\n",
        "- https://colab.research.google.com/github/jina-ai/workshops/blob/docs-add-text-to-image-notebook/text2image/Image_Search_via_Text.ipynb#scrollTo=uxtgtYD9zTB4"
      ],
      "metadata": {
        "id": "35t4g5YlzPhn"
      }
    },
    {
      "cell_type": "markdown",
      "source": [
        "## FAISS"
      ],
      "metadata": {
        "id": "6OkTw20X47Tk"
      }
    },
    {
      "cell_type": "markdown",
      "source": [
        "- https://faiss.ai/\n",
        "\n",
        "Faiss is a library for efficient similarity search and clustering of dense vectors. It contains algorithms that search in sets of vectors of any size, up to ones that possibly do not fit in RAM. It also contains supporting code for evaluation and parameter tuning."
      ],
      "metadata": {
        "id": "V0Q1Bt-r5AC6"
      }
    },
    {
      "cell_type": "markdown",
      "source": [
        "# Vector databases"
      ],
      "metadata": {
        "id": "69YVggHLEKBj"
      }
    },
    {
      "cell_type": "markdown",
      "source": [
        "A vector database is a hard requirement to make modern vector search application. Irrespective of wether you're interested in text, images, or multi-modal applications:"
      ],
      "metadata": {
        "id": "rmizGZAyGrFf"
      }
    },
    {
      "cell_type": "markdown",
      "source": [
        "Overview of vector DBs:\n",
        "- https://dmitry-kan.medium.com/landscape-of-vector-databases-d241b279f486\n",
        "- Dmitry Kan on Weaviate podcast https://m.youtube.com/watch?v=1ebCUCUJraE#bottom-sheet\n",
        "- https://www.youtube.com/c/VectorPodcast\n",
        "\n",
        "- https://towardsdatascience.com/milvus-pinecone-vespa-weaviate-vald-gsi-what-unites-these-buzz-words-and-what-makes-each-9c65a3bd0696"
      ],
      "metadata": {
        "id": "FvNxGFiHEN29"
      }
    },
    {
      "cell_type": "markdown",
      "source": [
        "- https://github.com/semi-technologies/weaviate - a low-latency vector search engine with out-of-the-box support for different media types (text, images, etc.). It offers Semantic Search, Question-Answer Extraction, Classification, Customizable Models (PyTorch/TensorFlow/Keras), etc. Built from scratch in Go, Weaviate stores both objects and vectors, allowing for combining vector search with structured filtering and the fault-tolerance of a cloud-native database, all accessible through GraphQL, REST, and various programming languages client.\n",
        "\n",
        "- https://github.com/milvus-io/milvus\n",
        "- https://github.com/qdrant/qdrant\n",
        "- https://qdrant.tech/benchmarks/single-node-speed-benchmark/\n",
        "- https://www.pinecone.io/learn/vector-database/\n"
      ],
      "metadata": {
        "id": "jwehYLhFLS8c"
      }
    },
    {
      "cell_type": "markdown",
      "source": [
        "## Weaviate (database with QA capabilities)"
      ],
      "metadata": {
        "id": "SYWWmfY7zmsW"
      }
    },
    {
      "cell_type": "markdown",
      "source": [
        "**Introduction**\n",
        "\n",
        "See https://weaviate.io/developers/weaviate/current/core-knowledge/basics.html\n",
        "\n",
        "\n",
        "Weaviate is a database of the type search engine, and it’s specifically built to work with vector representations produced by machine learning models. Hence, Weaviate is a **vector search engine**.\n",
        "\n",
        "When working with a database, you want full CRUD support (https://en.wikipedia.org/wiki/Create,_read,_update_and_delete). Not all approximate nearest neighbor algorithms support this, and not all incumbent databases (/search engines) are optimized for this type of indexing.\n",
        "\n",
        "These reasons are -among others- the most important to why Weaviate exists You can also learn more about this by reading https://db-engines.com/en/blog_post/87\n",
        "\n",
        "**JSON objects as documents**\n",
        "\n",
        "We can save the information about an author like this:"
      ],
      "metadata": {
        "id": "h8GCgsbA8YK9"
      }
    },
    {
      "cell_type": "code",
      "source": [
        "{\n",
        "    \"name\": \"Alice Munro\",\n",
        "    \"age\": 91,\n",
        "    \"born\": \"1931-07-10T00:00:00.0Z\",\n",
        "    \"wonNobelPrize\": true,\n",
        "    \"description\": \"Alice Ann Munro is a Canadian short story writer who won the Nobel Prize in Literature in 2013. Munro's work has been described as revolutionizing the architecture of short stories, especially in its tendency to move forward and backward in time.\"\n",
        "}\n"
      ],
      "metadata": {
        "id": "v7RDuDBT95-7"
      },
      "execution_count": null,
      "outputs": []
    },
    {
      "cell_type": "markdown",
      "source": [
        "We can also attach vector representations to our data objects under a \"vector\" property, like this:"
      ],
      "metadata": {
        "id": "EFr4qfdR9-W-"
      }
    },
    {
      "cell_type": "code",
      "source": [
        "{\n",
        "    \"id\": \"779c8970-0594-301c-bff5-d12907414002\",\n",
        "    \"class\": \"Author\",\n",
        "    \"properties\": {\n",
        "        \"name\": \"Alice Munro\",\n",
        "        (...)\n",
        "    },\n",
        "    \"vector\": [\n",
        "        -0.16147631,\n",
        "        -0.065765485,\n",
        "        -0.06546908\n",
        "    ]\n",
        "}\n"
      ],
      "metadata": {
        "id": "ZtPHs3iw-D0C"
      },
      "execution_count": null,
      "outputs": []
    },
    {
      "cell_type": "markdown",
      "source": [
        "Weaviate groups all Authors under the Author class and place them in the same **class collection**. Weaviate can store multipe authors like this:"
      ],
      "metadata": {
        "id": "cF1JWVoT-RBv"
      }
    },
    {
      "cell_type": "code",
      "source": [
        "[{\n",
        "    \"id\": \"dedd462a-23c8-32d0-9412-6fcf9c1e8149\",\n",
        "    \"class\": \"Author\",\n",
        "    \"properties\": {\n",
        "        \"name\": \"Alice Munro\",\n",
        "        \"age\": 91,\n",
        "        \"born\": \"1931-07-10T00:00:00.0Z\",\n",
        "        \"wonNobelPrize\": true,\n",
        "        \"description\": \"Alice Ann Munro is a Canadian short story writer who won the Nobel Prize in Literature in 2013. Munro's work has been described as revolutionizing the architecture of short stories, especially in its tendency to move forward and backward in time.\"\n",
        "    },\n",
        "    \"vector\": [\n",
        "        -0.16147631,\n",
        "        -0.065765485,\n",
        "        -0.06546908\n",
        "    ]\n",
        "}, {\n",
        "    \"id\": \"779c8970-0594-301c-bff5-d12907414002\",\n",
        "    \"class\": \"Author\",\n",
        "    \"properties\": {\n",
        "        \"name\": \"Paul Krugman\",\n",
        "        \"age\": 69,\n",
        "        \"born\": \"1953-02-28T00:00:00.0Z\",\n",
        "        \"wonNobelPrize\": true,\n",
        "        \"description\": \"Paul Robin Krugman is an American economist and public intellectual, who is Distinguished Professor of Economics at the Graduate Center of the City University of New York, and a columnist for The New York Times. In 2008, Krugman was the winner of the Nobel Memorial Prize in Economic Sciences for his contributions to New Trade Theory and New Economic Geography.\"\n",
        "    },\n",
        "    \"vector\": [\n",
        "        -0.93070928,\n",
        "        -0.03782172,\n",
        "        -0.56288009\n",
        "    ]\n",
        "}]\n"
      ],
      "metadata": {
        "id": "eKZY5SSo-WhU"
      },
      "execution_count": null,
      "outputs": []
    },
    {
      "cell_type": "markdown",
      "source": [
        "Every object stored has a UIID (https://en.wikipedia.org/wiki/Universally_unique_identifier)."
      ],
      "metadata": {
        "id": "qVz5oFuT-cLE"
      }
    },
    {
      "cell_type": "markdown",
      "source": [
        "In some cases we need to link data objects with each other. For example: “Paul Krugman writes for the New York Times”."
      ],
      "metadata": {
        "id": "4t6fE68p-w9k"
      }
    },
    {
      "cell_type": "code",
      "source": [
        "{\n",
        "    \"id\": \"32d5a368-ace8-3bb7-ade7-9f7ff03eddb6\",\n",
        "    \"class\": \"Publication\",\n",
        "    \"properties\": {\n",
        "        \"name\": \"The New York Times\"\n",
        "    },\n",
        "    \"vector\": [...]\n",
        "}\n"
      ],
      "metadata": {
        "id": "wpQo86ES-1Cx"
      },
      "execution_count": null,
      "outputs": []
    },
    {
      "cell_type": "markdown",
      "source": [
        "We can use the UUID from the above object, to attach it to the Author like this (see \"writesFor\"):"
      ],
      "metadata": {
        "id": "2XhkohMC-7rz"
      }
    },
    {
      "cell_type": "code",
      "source": [
        "{\n",
        "    \"id\": \"779c8970-0594-301c-bff5-d12907414002\",\n",
        "    \"class\": \"Author\",\n",
        "    \"properties\": {\n",
        "        \"name\": \"Paul Krugman\",\n",
        "        ...\n",
        "        \"writesFor\": [\n",
        "            {\n",
        "                \"beacon\": \"weaviate://localhost/32d5a368-ace8-3bb7-ade7-9f7ff03eddb6\",\n",
        "                \"href\": \"/v1/objects/32d5a368-ace8-3bb7-ade7-9f7ff03eddb6\"\n",
        "            }\n",
        "        ]\n",
        "    },\n",
        "    \"vector\": [...]\n",
        "}\n"
      ],
      "metadata": {
        "id": "KMvEDLKF-9cV"
      },
      "execution_count": null,
      "outputs": []
    },
    {
      "cell_type": "markdown",
      "source": [
        "**Hrefs** and **beacons** are the locations within Weaviate, which allow us to retrieve cross-referenced objects. The difference between the two will become apparent while going through the getting started guide."
      ],
      "metadata": {
        "id": "tQqOzIzf_HRo"
      }
    },
    {
      "cell_type": "markdown",
      "source": [
        "- **Classes** and properties are **defined in the schema**.\n",
        "- **Every class has its own vector space**, which means that you can attach vectors from different models to different classes.\n",
        "- You can **link classes** (even if they use different embeddings) **by setting cross-references**.\n",
        "- You can configure module behavior, ANN index settings, reverse index types, etc. in the schema as well.\n",
        "\n",
        "Here is a getting-started guide for working with a schema https://weaviate.io/developers/weaviate/current/getting-started/schema.html"
      ],
      "metadata": {
        "id": "UQ4Rpofg_nCZ"
      }
    },
    {
      "cell_type": "markdown",
      "source": [
        "As a user, you have **two ways of generating vectors** for objects:\n",
        "\n",
        "- You render your vector from any model you have.\n",
        "- You use a Weaviate module with a prepackaged text2vec integration (we call them “vectorizers”, you can learn more about them here https://weaviate.io/developers/weaviate/current/modules/).\n",
        "\n",
        "- text2vec-transformers\n",
        "- text2vec-openai\n",
        "- text2vec-huggingface\n",
        "- text2vec-contextionary (custom FastText based vectorizer)\n",
        "- img2vec-neural\n",
        "- multi2vec-clip\n",
        "\n",
        "If you bring your own vectors to Weaviate, running *Weaviate stand-alone* is all you need. But in certain cases, you might want to use one of the prepackaged modules. For example, if you use OpenAI embeddings, you might want to use the OpenAI module, which automatically integrates with their embeddings-API. Or, if you have a use case where you want to use Sentence Transformers, you can use the Huggingface transformers module.\n",
        "\n",
        "Weaviate distinguishes **three types of modules**:\n",
        "\n",
        "1. *retrievers & vectorizers* are used to vectorize data objects and queries.\n",
        "2. *readers & generators* are used for reranking or processing the results.\n",
        "3. other modules are -often- non-ML, for example, the spell-check module.\n",
        "\n",
        "It's also possible to create custom modules (need knowledge of Go): https://weaviate.io/developers/weaviate/current/other-modules/custom-modules.html"
      ],
      "metadata": {
        "id": "wNvQSlc3AOcJ"
      }
    },
    {
      "cell_type": "markdown",
      "source": [
        "**Weaviate console**\n",
        "\n",
        "The Weaviate console is part of the Weaviate Cloud Service and allows you to connect to any Weaviate instance and query it. For a getting-started guide see https://weaviate.io/developers/weaviate/current/core-knowledge/console.html\n",
        "\n",
        "We can query the database using the GraphQL-interface or -in some cases- the RESTful API.\n",
        "\n",
        "**Benchmarks**\n",
        "\n",
        "https://weaviate.io/developers/weaviate/current/benchmarks/\n",
        "\n",
        "**Monitoring**\n",
        "\n",
        "https://weaviate.io/developers/weaviate/current/configuration/monitoring.html\n",
        "\n"
      ],
      "metadata": {
        "id": "e2RSFVDjBjZx"
      }
    },
    {
      "cell_type": "markdown",
      "source": [
        "**Querying data**\n",
        "\n",
        "- Weaviate’s main API is its GraphQL-API (https://www.youtube.com/watch?v=eIQh02xuVw4&ab_channel=Fireship)\n",
        "- Weaviate also has a RESTful API but it is used for other operations.\n",
        "- You can also use the clients to query Weaviate natively in your language of choice. The clients will automatically determine which API to use for the request. See https://weaviate.io/developers/weaviate/current/core-knowledge/clients.html\n",
        "\n",
        "The Weaviate Console contains a cool auto-complete feature to write queries easily.\n",
        "\n",
        "https://weaviate.io/developers/weaviate/current/getting-started/query.html"
      ],
      "metadata": {
        "id": "jlVFNdWlCQte"
      }
    },
    {
      "cell_type": "markdown",
      "source": [
        "List of tutorials:\n",
        "- https://weaviate.io/developers/weaviate/current/tutorials/index.html"
      ],
      "metadata": {
        "id": "Ihkm2taB0_Tr"
      }
    },
    {
      "cell_type": "markdown",
      "source": [
        "- https://medium.com/keenious/knowledge-graph-search-of-60-million-vectors-with-weaviate-7964657ec911"
      ],
      "metadata": {
        "id": "9bYan6Fbzo4T"
      }
    },
    {
      "cell_type": "markdown",
      "source": [
        "**QA with Weaviate**\n",
        "\n",
        "- https://weaviate.io/developers/weaviate/v1.11.0/reader-generator-modules/qna-transformers.html\n",
        "- https://zenodo.org/record/6518245#.Yy2eFXZBzZ8\n",
        "- https://www.youtube.com/watch?v=BkozaOnZpJI&ab_channel=Weaviate%E2%80%A2VectorSearchEngine - combine Weaviate and Haystack\n",
        "- https://github.com/weaviate/partner-integration-examples/blob/main/docarray/.devcontainer/docker-compose.yml"
      ],
      "metadata": {
        "id": "mLK_ClKGL91-"
      }
    },
    {
      "cell_type": "markdown",
      "source": [
        "- https://github.com/weaviate/semantic-search-through-wikipedia-with-weaviate\n",
        "- https://weaviate.io/blog/semantic-search-with-wikipedia-and-weaviate"
      ],
      "metadata": {
        "id": "EncibC30SHyX"
      }
    },
    {
      "cell_type": "markdown",
      "source": [
        "- https://github.com/weaviate/weaviate-examples"
      ],
      "metadata": {
        "id": "gK1Gk_kmSaNH"
      }
    },
    {
      "cell_type": "markdown",
      "source": [
        "## Qdrant"
      ],
      "metadata": {
        "id": "Bs2aFHx_CuSc"
      }
    },
    {
      "cell_type": "markdown",
      "source": [
        "### Text example"
      ],
      "metadata": {
        "id": "HDQxfpqUMM5I"
      }
    },
    {
      "cell_type": "markdown",
      "source": [
        "- https://blog.qdrant.tech/neural-search-tutorial-3f034ab13adc\n",
        "- https://qdrant.tech/demo/\n",
        "- https://github.com/qdrant/qdrant_demo"
      ],
      "metadata": {
        "id": "F7P1Q2VyCwvk"
      }
    },
    {
      "cell_type": "markdown",
      "source": [
        "To be able to search for our descriptions in vector space, we must get vectors first. We need to encode the descriptions into a vector representation. As the descriptions are textual data, we can use a pre-trained language model."
      ],
      "metadata": {
        "id": "nbtXaId1GCm-"
      }
    },
    {
      "cell_type": "markdown",
      "source": [
        "**Embedding text**"
      ],
      "metadata": {
        "id": "uabXbdLFFJRe"
      }
    },
    {
      "cell_type": "code",
      "metadata": {
        "id": "w2tYEjeeHHT5"
      },
      "source": [
        "# We will use startup descriptions in this neural search demo\n",
        "# Data source: https://startups-list.com/\n",
        "# It contains name, short descrition, logo and location of startups.\n",
        "!wget https://storage.googleapis.com/generall-shared-data/startups_demo.json"
      ],
      "execution_count": null,
      "outputs": []
    },
    {
      "cell_type": "code",
      "metadata": {
        "id": "FhfngYGiCNJP"
      },
      "source": [
        "!pip install sentence-transformers"
      ],
      "execution_count": null,
      "outputs": []
    },
    {
      "cell_type": "code",
      "metadata": {
        "id": "Hk4uS1LBDxEz"
      },
      "source": [
        "from sentence_transformers import SentenceTransformer\n",
        "import numpy as np\n",
        "import json\n",
        "import pandas as pd\n",
        "from tqdm.notebook import tqdm"
      ],
      "execution_count": null,
      "outputs": []
    },
    {
      "cell_type": "code",
      "metadata": {
        "id": "SVmYlQhdDv0S"
      },
      "source": [
        "# distilbert - is a distilated (lightweight) version of BERT model\n",
        "# stsb - denotes that the model was trained for Semantic Textual Similarity\n",
        "# Full list of available models could be found here https://www.sbert.net/docs/pretrained_models.html\n",
        "model = SentenceTransformer('distilbert-base-nli-stsb-mean-tokens', device=\"cuda\")"
      ],
      "execution_count": null,
      "outputs": []
    },
    {
      "cell_type": "code",
      "metadata": {
        "id": "O-M1Q1CHEH9P"
      },
      "source": [
        "df = pd.read_json('./startups_demo.json', lines=True)"
      ],
      "execution_count": null,
      "outputs": []
    },
    {
      "cell_type": "code",
      "metadata": {
        "id": "tjtcRn8gIR27"
      },
      "source": [
        "# Here we ancode all startup descriptions\n",
        "# We do encoding in batches, as this reduces overhead costs and significantly speeds up the process\n",
        "vectors = []\n",
        "batch_size = 64\n",
        "batch = []\n",
        "for row in tqdm(df.itertuples()):\n",
        "  description = row.alt + \". \" + row.description\n",
        "  batch.append(description)\n",
        "  if len(batch) >= batch_size:\n",
        "    vectors.append(model.encode(batch))  # Text -> vector encoding happens here\n",
        "    batch = []\n",
        "\n",
        "if len(batch) > 0:\n",
        "  vectors.append(model.encode(batch))\n",
        "  batch = []\n",
        "\n",
        "vectors = np.concatenate(vectors)"
      ],
      "execution_count": null,
      "outputs": []
    },
    {
      "cell_type": "code",
      "metadata": {
        "id": "vBT95rCSMXeZ"
      },
      "source": [
        "# Now we have all our descriptions converted into vectors.\n",
        "# We have 40474 vectors of 768 dimentions. The output layer of the model has this dimension\n",
        "vectors.shape"
      ],
      "execution_count": null,
      "outputs": []
    },
    {
      "cell_type": "code",
      "metadata": {
        "id": "XtfleUz_IiuO"
      },
      "source": [
        "np.save('vectors.npy', vectors, allow_pickle=False)"
      ],
      "execution_count": null,
      "outputs": []
    },
    {
      "cell_type": "markdown",
      "source": [
        "**Simple test**"
      ],
      "metadata": {
        "id": "PPG0VqBFFr4d"
      }
    },
    {
      "cell_type": "code",
      "metadata": {
        "id": "wrQYXNUpNczo"
      },
      "source": [
        "from sklearn.metrics.pairwise import cosine_similarity"
      ],
      "execution_count": null,
      "outputs": []
    },
    {
      "cell_type": "code",
      "metadata": {
        "id": "URJ8t1xHNlR1"
      },
      "source": [
        "# Take a random description as a query\n",
        "sample_query = df.iloc[12345].description\n",
        "print(sample_query)"
      ],
      "execution_count": null,
      "outputs": []
    },
    {
      "cell_type": "code",
      "metadata": {
        "id": "Z8Lr8MNyNwhW"
      },
      "source": [
        "query_vector = model.encode(sample_query)  # Convert query description into a vector."
      ],
      "execution_count": null,
      "outputs": []
    },
    {
      "cell_type": "code",
      "metadata": {
        "id": "qEB0drvZNfK8"
      },
      "source": [
        "scores = cosine_similarity([query_vector], vectors)[0]  # Look for the most similar vectors, manually score all vectors\n",
        "top_scores_ids = np.argsort(scores)[-5:][::-1]  # Select top-5 with vectors the largest scores"
      ],
      "execution_count": null,
      "outputs": []
    },
    {
      "cell_type": "code",
      "metadata": {
        "id": "GjK3ULqONo3t"
      },
      "source": [
        "# Check if result similar to the query\n",
        "for top_id in top_scores_ids:\n",
        "  print(df.iloc[top_id].description)\n",
        "  print(\"-----\")"
      ],
      "execution_count": null,
      "outputs": []
    },
    {
      "cell_type": "markdown",
      "source": [
        "**Store embeddings into the DB**\n",
        "\n",
        "Now as we have a vector representation for all our records, we need to store them somewhere. In addition to storing, we may also need to add or delete a vector, save additional information with the vector. And most importantly, we need a way to search for the nearest vectors.\n",
        "\n",
        "Qdrant not only supports all necessary operations with vectors but also allows to store additional payload along with vectors and use it to perform filtering of the search result. Qdrant has a client for python."
      ],
      "metadata": {
        "id": "kt2ncJcEGRn7"
      }
    },
    {
      "cell_type": "code",
      "source": [
        "pip install qdrant-client"
      ],
      "metadata": {
        "id": "IegwxXCsPQmJ"
      },
      "execution_count": null,
      "outputs": []
    },
    {
      "cell_type": "code",
      "source": [
        "# Import client library\n",
        "from qdrant_client import QdrantClient\n",
        "from qdrant_client import models\n",
        "qdrant_client = QdrantClient(host=’localhost’, port=6333)"
      ],
      "metadata": {
        "id": "rYp1dEmRGWm_"
      },
      "execution_count": null,
      "outputs": []
    },
    {
      "cell_type": "code",
      "source": [
        "qdrant_client.recreate_collection(\n",
        "  collection_name='startups',\n",
        "  vectors_config=models.VectorParams(size=768, distance=\"Cosine\")\n",
        ")"
      ],
      "metadata": {
        "id": "k7kkM8qIP1MB"
      },
      "execution_count": null,
      "outputs": []
    },
    {
      "cell_type": "markdown",
      "source": [
        "The `recreate_collection` function first tries to remove an existing collection with the same name. This is useful if you are experimenting and running the script several times.\n",
        "\n",
        "The `vector_size` parameter is very important. It tells the service the size of the vectors in that collection. All vectors in a collection must have the same size, otherwise, it is impossible to calculate the distance between them. `768` is the output dimensionality of the encoder we are using.\n",
        "\n",
        "The `distance` parameter allows specifying the function used to measure the distance between two points.\n",
        "\n",
        "The Qdrant client library defines a special function that allows you to load datasets into the service. However, since there may be too much data to fit a single computer memory, the function takes an iterator over the data as input."
      ],
      "metadata": {
        "id": "mBSxhEMFPwl2"
      }
    },
    {
      "cell_type": "code",
      "source": [
        "import numpy as np\n",
        "import json\n",
        "\n",
        "fd = open('./startups.json')\n",
        "\n",
        "# payload is now an iterator over startup data\n",
        "payload = map(json.loads, fd)\n",
        "\n",
        "# Here we load all vectors into memory, numpy array works as iterable for itself.\n",
        "# Other option would be to use Mmap, if we don't want to load all data into RAM\n",
        "vectors = np.load('./startup_vectors.npy')\n",
        "\n",
        "# And the final step - data uploading\n",
        "qdrant_client.upload_collection(\n",
        "  collection_name='startups',\n",
        "  vectors=vectors,\n",
        "  payload=payload,\n",
        "  ids=None,  # Vector ids will be assigned automatically\n",
        "  batch_size=256  # How many vectors will be uploaded in a single request?\n",
        ")\n",
        "\n",
        "# https://github.com/qdrant/qdrant_demo/blob/master/qdrant_demo/init_vector_search_index.py"
      ],
      "metadata": {
        "id": "jh_TjnAMPxLi"
      },
      "execution_count": null,
      "outputs": []
    },
    {
      "cell_type": "markdown",
      "source": [
        "**Searching**"
      ],
      "metadata": {
        "id": "fd5Db26BRM3d"
      }
    },
    {
      "cell_type": "code",
      "source": [
        "# File: neural_searcher.py\n",
        "\n",
        "from qdrant_client import QdrantClient\n",
        "from sentence_transformers import SentenceTransformer\n",
        "\n",
        "\n",
        "class NeuralSearcher:\n",
        "\n",
        "    def __init__(self, collection_name):\n",
        "        self.collection_name = collection_name\n",
        "        # Initialize encoder model\n",
        "        self.model = SentenceTransformer('distilbert-base-nli-stsb-mean-tokens', device='cpu')\n",
        "        # initialize Qdrant client\n",
        "        self.qdrant_client = QdrantClient(host='localhost', port=6333)\n",
        "\n",
        "    # The search function looks as simple as possible:\n",
        "\n",
        "    def search(self, text: str):\n",
        "        # Convert text query into vector\n",
        "        vector = self.model.encode(text).tolist()\n",
        "\n",
        "        # Use `vector` for search for closest vectors in the collection\n",
        "        search_result = self.qdrant_client.search(\n",
        "            collection_name=self.collection_name,\n",
        "            query_vector=vector,\n",
        "            query_filter=None,  # We don't want any filters for now\n",
        "            top=5  # 5 the most closest results is enough\n",
        "        )\n",
        "\n",
        "        # `search_result` contains found vector ids with similarity scores along with the stored payload\n",
        "        # In this function we are interested in payload only\n",
        "        payloads = [hit.payload for hit in search_result]\n",
        "        return payloads"
      ],
      "metadata": {
        "id": "McZoqhYcROi2"
      },
      "execution_count": null,
      "outputs": []
    },
    {
      "cell_type": "markdown",
      "source": [
        "We can additionally filter the results like this:"
      ],
      "metadata": {
        "id": "St07GAMQSBcV"
      }
    },
    {
      "cell_type": "code",
      "source": [
        "from qdrant_client.http.models import Filter\n",
        "\n",
        "    ...\n",
        "\n",
        "    city_of_interest = \"Berlin\"\n",
        "\n",
        "    # Define a filter for cities\n",
        "    city_filter = Filter(**{\n",
        "        \"must\": [{\n",
        "            \"key\": \"city\", # We store city information in a field of the same name \n",
        "            \"match\": { # This condition checks if payload field have requested value\n",
        "                \"value\": city_of_interest\n",
        "            }\n",
        "        }]\n",
        "    })\n",
        "\n",
        "    search_result = self.qdrant_client.search(\n",
        "        collection_name=self.collection_name,\n",
        "        query_vector=vector,\n",
        "        query_filter=city_filter,\n",
        "        top=5\n",
        "    )"
      ],
      "metadata": {
        "id": "7D0LLf8iSGBT"
      },
      "execution_count": null,
      "outputs": []
    },
    {
      "cell_type": "markdown",
      "source": [
        "**Deploy everything as a service**"
      ],
      "metadata": {
        "id": "f48IdYU4SU8d"
      }
    },
    {
      "cell_type": "markdown",
      "source": [
        "Download the Docker image from DockerHub:"
      ],
      "metadata": {
        "id": "Sdbrdsl8TvOC"
      }
    },
    {
      "cell_type": "code",
      "source": [
        "docker pull qdrant/qdrant"
      ],
      "metadata": {
        "id": "_RWJW6DITlU3"
      },
      "execution_count": null,
      "outputs": []
    },
    {
      "cell_type": "markdown",
      "source": [
        "Run the container like this:"
      ],
      "metadata": {
        "id": "uvgnARMxUTiU"
      }
    },
    {
      "cell_type": "code",
      "source": [
        "docker run -p 6333:6333 \\\n",
        "  -v $(pwd)/qdrant_storage:/qdrant/storage \\\n",
        "  qdrant/qdrant"
      ],
      "metadata": {
        "id": "amKbXmh3UXGK"
      },
      "execution_count": null,
      "outputs": []
    },
    {
      "cell_type": "markdown",
      "source": [
        "To make sure that the container is running, you can test http://localhost:6333/ in your browser and get qdrant version info.\n",
        "\n",
        "All uploaded to Qdrant data is saved into the `./qdrant_storage` directory and will be persisted even if you recreate the container."
      ],
      "metadata": {
        "id": "A_Y8ag5HUe1q"
      }
    },
    {
      "cell_type": "markdown",
      "source": [
        "To build the service we will use the FastAPI framework."
      ],
      "metadata": {
        "id": "4msu9bD6To6m"
      }
    },
    {
      "cell_type": "code",
      "source": [
        "pip install fastapi uvicorn"
      ],
      "metadata": {
        "id": "8FssqMcySbER"
      },
      "execution_count": null,
      "outputs": []
    },
    {
      "cell_type": "code",
      "source": [
        "# File: service.py\n",
        "\n",
        "from fastapi import FastAPI\n",
        "\n",
        "# That is the file where NeuralSearcher is stored\n",
        "from neural_searcher import NeuralSearcher\n",
        "\n",
        "app = FastAPI()\n",
        "\n",
        "# Create an instance of the neural searcher\n",
        "neural_searcher = NeuralSearcher(collection_name='startups')\n",
        "\n",
        "@app.get(\"/api/search\")\n",
        "def search_startup(q: str):\n",
        "    return {\n",
        "        \"result\": neural_searcher.search(text=q)\n",
        "    }\n",
        "\n",
        "\n",
        "if __name__ == \"__main__\":\n",
        "    import uvicorn\n",
        "    uvicorn.run(app, host=\"0.0.0.0\", port=8000)"
      ],
      "metadata": {
        "id": "ibXuKpN0SkbI"
      },
      "execution_count": null,
      "outputs": []
    },
    {
      "cell_type": "code",
      "source": [
        "python service.py"
      ],
      "metadata": {
        "id": "mUmC0yFISn0o"
      },
      "execution_count": null,
      "outputs": []
    },
    {
      "cell_type": "markdown",
      "source": [
        "If you run the service and open your browser at http://localhost:8000/docs , you should be able to see a debug interface for your service."
      ],
      "metadata": {
        "id": "Ili_YjTFStny"
      }
    },
    {
      "cell_type": "markdown",
      "source": [
        "![image.png](data:image/png;base64,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)"
      ],
      "metadata": {
        "id": "uEkM8ec-S8jV"
      }
    },
    {
      "cell_type": "code",
      "source": [],
      "metadata": {
        "id": "WXRSy81uS9L1"
      },
      "execution_count": null,
      "outputs": []
    },
    {
      "cell_type": "markdown",
      "source": [
        "### Code example"
      ],
      "metadata": {
        "id": "Jkn0IgorMQgd"
      }
    },
    {
      "cell_type": "markdown",
      "source": [
        "- https://github.com/qdrant/demo-code-search"
      ],
      "metadata": {
        "id": "g3ygxfc2MS0p"
      }
    },
    {
      "cell_type": "markdown",
      "source": [
        "### Page search"
      ],
      "metadata": {
        "id": "CcfEpqG-M63i"
      }
    },
    {
      "cell_type": "markdown",
      "source": [
        "- https://github.com/qdrant/page-search"
      ],
      "metadata": {
        "id": "haBeLZ5UM84N"
      }
    },
    {
      "cell_type": "markdown",
      "source": [
        "### Coud documentation search"
      ],
      "metadata": {
        "id": "9f_pSLh_OD9-"
      }
    },
    {
      "cell_type": "markdown",
      "source": [
        "- https://github.com/qdrant/demo-cloud-faq"
      ],
      "metadata": {
        "id": "2t1SsV3IOHPW"
      }
    },
    {
      "cell_type": "markdown",
      "source": [
        "### Product categorization demo"
      ],
      "metadata": {
        "id": "mGCoFYnqOYgI"
      }
    },
    {
      "cell_type": "markdown",
      "source": [
        "- https://github.com/qdrant/goods_categorization_demo"
      ],
      "metadata": {
        "id": "ltAY5jAdOccB"
      }
    },
    {
      "cell_type": "markdown",
      "source": [
        "### Qdrant + Haystack"
      ],
      "metadata": {
        "id": "i4P8gI-FMphc"
      }
    },
    {
      "cell_type": "markdown",
      "source": [
        "- https://github.com/qdrant/qdrant-haystack"
      ],
      "metadata": {
        "id": "ml80Rq3jMtUZ"
      }
    },
    {
      "cell_type": "markdown",
      "source": [
        "### QA workshop"
      ],
      "metadata": {
        "id": "023lKZQyNkKS"
      }
    },
    {
      "cell_type": "markdown",
      "source": [
        "- https://github.com/qdrant/qdrant-qa-workshop"
      ],
      "metadata": {
        "id": "ZNH66f6xNnkx"
      }
    },
    {
      "cell_type": "markdown",
      "source": [
        "### Lightning app"
      ],
      "metadata": {
        "id": "PxHofIYJN1J0"
      }
    },
    {
      "cell_type": "markdown",
      "source": [
        "- https://github.com/qdrant/lightning-wine-reviews"
      ],
      "metadata": {
        "id": "FaLhk0qHN3jn"
      }
    },
    {
      "cell_type": "markdown",
      "source": [
        "## Milvus"
      ],
      "metadata": {
        "id": "I-wn7wy2Th25"
      }
    },
    {
      "cell_type": "markdown",
      "source": [
        "Milvus uses TypeScript to interact with the DB.."
      ],
      "metadata": {
        "id": "m43KbJ6LrraP"
      }
    },
    {
      "cell_type": "markdown",
      "source": [
        "- https://milvus.io/milvus-demos/\n",
        "- https://github.com/milvus-io/milvus-demo-video-search\n",
        "- https://github.com/milvus-io/milvus-demo-image-search"
      ],
      "metadata": {
        "id": "d9x6rNg9q3c-"
      }
    },
    {
      "cell_type": "markdown",
      "source": [
        "## Other demos"
      ],
      "metadata": {
        "id": "TBBrB0wbDkad"
      }
    },
    {
      "cell_type": "markdown",
      "source": [
        "- https://github.com/DmitryKey/bert-solr-search"
      ],
      "metadata": {
        "id": "SLHe-vDKDiR1"
      }
    }
  ]
}