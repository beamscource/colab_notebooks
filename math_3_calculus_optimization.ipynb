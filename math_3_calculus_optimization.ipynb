{
  "nbformat": 4,
  "nbformat_minor": 0,
  "metadata": {
    "colab": {
      "provenance": [],
      "authorship_tag": "ABX9TyP4MLFwOMH1Ex3zjW8F+VBR",
      "include_colab_link": true
    },
    "kernelspec": {
      "name": "python3",
      "display_name": "Python 3"
    },
    "language_info": {
      "name": "python"
    }
  },
  "cells": [
    {
      "cell_type": "markdown",
      "metadata": {
        "id": "view-in-github",
        "colab_type": "text"
      },
      "source": [
        "<a href=\"https://colab.research.google.com/github/beamscource/colab_notebooks/blob/main/math_3_calculus_optimization.ipynb\" target=\"_parent\"><img src=\"https://colab.research.google.com/assets/colab-badge.svg\" alt=\"Open In Colab\"/></a>"
      ]
    },
    {
      "cell_type": "markdown",
      "source": [
        "# Calculus and Optimization"
      ],
      "metadata": {
        "id": "XSHE2wn4Lws8"
      }
    },
    {
      "cell_type": "markdown",
      "source": [
        "Books:\n",
        "  - https://www.whitman.edu/mathematics/multivariable/\n",
        "\n",
        "Info:  Chapter 14 “Partial Differentiation” is very useful while understanding gradients and Hessians. Chapters 2–6 (regarding single-variable derivatives) and Chapters 7–9 (integration) were a good refresher for studying Convex Optimization.\n",
        "\n",
        "3Blue1Brown: https://www.youtube.com/playlist?list=PLZHQObOWTQDMsr9K-rj53DwVRMYO3t5Yr"
      ],
      "metadata": {
        "id": "-Mgawt0r2DDX"
      }
    },
    {
      "cell_type": "markdown",
      "source": [
        "**Area of a circle**"
      ],
      "metadata": {
        "id": "zQh9aQvYq5aT"
      }
    },
    {
      "cell_type": "markdown",
      "source": [
        "**Reframed as area under the curve**"
      ],
      "metadata": {
        "id": "TBDhjv0IuBLz"
      }
    },
    {
      "cell_type": "markdown",
      "source": [
        "**General function computing area under the curve (Integrals)**"
      ],
      "metadata": {
        "id": "fM1P2AAXuFjT"
      }
    },
    {
      "cell_type": "markdown",
      "source": [
        "**Approximating integrals**"
      ],
      "metadata": {
        "id": "mnSr6wjpuL3R"
      }
    },
    {
      "cell_type": "markdown",
      "source": [
        "**Derivatives**\n",
        "\n",
        "From derivatives, we can reverse-engineer the integral function that computes the area under the curve of a function."
      ],
      "metadata": {
        "id": "r1pcQEZiucKK"
      }
    },
    {
      "cell_type": "markdown",
      "source": [
        "**Chain rule**"
      ],
      "metadata": {
        "id": "5Tv6c11dukR7"
      }
    },
    {
      "cell_type": "markdown",
      "source": [
        "https://documentcloud.adobe.com/gsuiteintegration/index.html?state=%7B%22ids%22%3A%5B%221Pr9Dg9fD-00i5UVCz-0VpdDXjsEGISov%22%5D%2C%22action%22%3A%22open%22%2C%22userId%22%3A%22116509636905417906901%22%2C%22resourceKeys%22%3A%7B%7D%7D"
      ],
      "metadata": {
        "id": "u9OTDcRfhFAV"
      }
    },
    {
      "cell_type": "markdown",
      "source": [
        "**ML and optimization**\n",
        "\n",
        "Machine learning algorithms solve mathematical problems by methods that update estimates of the solution via an *iterative* process, rather than analytically deriving a symbolic formula for the correct solution.\n",
        "\n",
        "Common operations include *optimization* (finding the value of an argument that minimizes or maximizes a function) and *solving systems of linear equations*."
      ],
      "metadata": {
        "id": "1oZRiWT8hYRd"
      }
    },
    {
      "cell_type": "markdown",
      "source": [
        "**Optimization and approximation error**\n",
        "\n",
        "Fundamental difficulty in performing continuous math on a digital computer is that we need to represent infinitely many real numbers with a finite number of bit patterns.\n",
        "\n",
        "This means that for almost all real numbers, we incur some *approximation error* (rounding errors).\n",
        "\n",
        "One form of rounding error that is particularly devastating is *underflow* which occurs when numbers near zero are rounded to zero. Many functions behave qualitatively differently when their argument is zero; for example, we usually want to avoid division by zero or taking the logarithm of zero.\n",
        "\n",
        "Another highly damaging form of numerical error is *owerflow* which occurs with when large numbers are approximated as infinity or negative infinity.\n",
        "\n"
      ],
      "metadata": {
        "id": "ycvIzkttkqCc"
      }
    },
    {
      "cell_type": "markdown",
      "source": [
        "**Stabilizing softmax function**\n",
        "\n",
        "A function that must be stabilized against underflow and overflow is the softmax function which is used to predict the probabilities with a *multinoulli* distribution."
      ],
      "metadata": {
        "id": "ALODs5z3mQFE"
      }
    },
    {
      "cell_type": "markdown",
      "source": [
        "![image.png](data:image/png;base64,iVBORw0KGgoAAAANSUhEUgAAAV4AAABYCAYAAAC9BZ+zAAAgAElEQVR4nO2de1zO5//HX/d9d1BKaUomSkKpdWBRMeXMRoWawyasrDWnHb4bM2Yy5vA1lHJOzRw225AhEyo0kqmIEukgh3Q+SKvu9++Pfvfn6+4+drrLXM/Ho8dD13V9rvf7c+d+39d9fa73+8UjIgKDwWAwVAa/rR1gMBiMVw0WeBkMBkPFsMDLYDAYKoYFXgaDwVAxLPAyGAyGimGBl8FgMFQMC7wMBqPR1NXVYd26daioqFCZzZiYGJw+fVpl9loTFngZDEajEAqF8PHxARFBR0dHZXadnZ2xdu1aHDx4UGU2Wwu1tnaAwWC8XHz99dfg8/lYsmSJSu1qamri999/h5OTE7p3745hw4ap1H5LwmOZawwGQ1lOnz4NPz8/3LhxA/r6+m3iQ1xcHGbMmIGUlBQYGBi0iQ/NhQVeBoOhFFVVVejXrx+++eYb+Pn5takvnp6eMDIyws6dO9vUj6bCAi+DwVCK9evXY/PmzcjJyYGaWtvuUl69ehXOzs64efMmLC0t29SXpsAerjEYDIUIhUKEhIRgzpw5bR50AcDR0RGWlpbYtm1bW7vSJFjgZTAYCjlz5gxycnLg7u7e1q5weHp6IiIiAjU1NW3tSqNhgZfBaGOqq6sRGxuLX3/9FefPn0dVVVWL2ygvL8e9e/e4c7dCoRD3799Heno6qqurFV5/8uRJdOrUCY6OjkrbzMvLw71791BXVyfWnpWVhaysrMbdgBSGDx+O0tJSxMfHN3suVcMCL4PRhgQFBaFHjx74+eef8ezZMxw9ehQmJiYIDQ3lxgQGBsLCwgL29vawt7dH//79YWZmhrKyMgDA5cuXYWZmBjs7O9jb28PKygrTpk0DAEyaNAkaGhro1KkTLCwscPXqVWzevBlubm4IDAzE4sWL0a1bN/j7+6OgoECmn+fOnYODgwP4fMUhIzU1FRMmTMC6deuwatUqWFpaIjExEU+fPoWHhweCgoKwZs0a2NvbIzMzs8mv3YABAwAAZ8+ebfIcbQYxGIw2YcGCBSQQCOjMmTNi7REREQSAIiIiiIjo2bNn9OjRI1q7di0BIAAUGRlJQqGQiIhqamrI39+fAJCPjw9dunSJSkpKiIiovLycMjMzydbWlgCQra0trV+/nurq6jh78fHxpKOjQ+bm5nT//n0JP//55x9SU1Ojjz76SOE9paen05gxY+jJkydcm7e3N/Xp04fc3d0pNTWViIiGDBlCACgwMLCRr5o4hoaGNGnSpGbN0RawwMtgtAG//fYbAaAZM2ZI9NXV1VGPHj3IyMiIqqurxfpWrFhBAGjmzJli7e7u7rRx40aZ9nx8fAgALVy4UGr/zp07CQC9+eabYkGZqD6YAqDVq1crvK8JEyZQdna2WNu8efMIAPn6+hIRUVVVFWlqahKPx5P40CEiKiwspN27d1NFRYVCew4ODmRtba1wXHuDbTUwGG1AYGAggPoHRA3h8/kYMWIE8vPzceHCBbG+FStW4O2338a+ffu4J/qhoaEwMjLCZ599JtMej8cDADg4OEjt/+CDD9C1a1ckJiZKpOQ+efIEAPDaa6/JvacLFy6ge/fu6Nmzp1j7rVu3AABTpkwBAHTo0AFJSUm4ffs2Ro0aJTGP6JzwlStX5NoDAD09PRQWFioc195ggZfBUDF5eXlITk4GAFhZWUkd06dPHwBARkaGWDuPx8O+fftgamqKTz75BEFBQTh8+DBCQkKa5ZNAIMDIkSMBAEePHhXrq6ysBFCfsiuPnj17YtmyZWJtRITk5GQIBAK4urpy7ZaWlujXr5/UeXx9fbFr1y4MHz5cod96enqcfy8TbX8gj8F4xcjOzub+/d1336FDhw4SY6qrq+Hp6Ym+fftK9BkYGODw4cMYOnQoFi1ahLS0NGhoaDTbLzMzMwCSwb62tlap601NTSXaUlNTUVRUhMGDB0NbW1upeRwcHGSuzKWhrH/tCRZ4GQwV8+LJgLVr13IBrzHY2NigT58+SE1NxeLFi3HkyBFuO6GpiK5vePxLVIFMKBQ2es7o6GgAgJubW7N8k0VFRQU6duzYKnO3JmyrgcFQMb179+aCXH5+fpPmCAgIwCeffIJZs2bh2LFjWL9+fbP9ys3NBQBYWFiItXfp0gUAmrSXGhMTA0B64H1x5V9XV4fPP/8cU6ZMgZubG7evrIjy8nJ07ty50X61NSzwMhgqxtDQEEOGDAEAJCYmyhyXnJyMuLg4ifaQkBB06tQJfn5+2LZtG2xsbLB06VKcP3++yT4JhULu+obZaaIV+aNHj+TOUVtbK/ZBIhQKERcXBx6PB2dnZ7GxFy5cwA8//MD9vmbNGgwcOBA///wzLl68iF27dinl94MHD7j98JcJFngZjDZg9erV4PP52Lt3r8yv8N99951E2cOzZ88iPDwcGzZsAABoaWnh8OHD0NTUxLRp05CXlyfXbk5OjtT2X375Bbm5ubCxscHMmTPF+nR0dNCjRw/cu3dP5rzPnz+Hvb09unbtygXw8+fPo7i4GGZmZtDT0xMbHxQUhIULF3LXxsfHY8aMGUhMTERdXR26d+8u9z6A+od+jx8/lvmAsj3DAm875saNG61WbX/NmjUoLy9vlbkZihk2bBiCg4Nx7do1fPnll6AGRQJDQ0NhYmICGxsbAEBRURHWrVuHiRMnYsiQIWInDCwtLTF16lTk5+fD09NT7vbF9u3bce3aNbG227dvY/78+ejZsyeOHTsmtQiOq6srrl+/LnPemzdvIjU1FQKBAK+99hrq6uoQGBgINzc3lJeXiz0ACw4Ohr29PXr37g2gPvB+++23AICwsDBoampi0qRJMm2JSE5OhlAoFDst8dLQVgeIS0tL6bfffqM9e/bQ33//3VZutFuuXLlCtra29OjRo1aZ//jx4+Ts7ExlZWWtMj9DOaKiosjKyooGDRpEq1atosDAQBo+fDgtXbqUamtriYho5syZxOPxSFdXl/h8PgGgixcvcnNs376dABCPxyM9PT0SCATUtWtX+uuvv7gxs2bNIgC0ZcsWmjp1Kn3yyScUERFBX331Fenr69P7779Pjx8/lunnjz/+SACkZrYR1SdFDB48mCZOnEjh4eHk7u5OBw8epPz8fLK3tycfHx8KCwsjDw8PWrlyJZd19yIVFRWkq6srNalEGmvWrCENDQ0qLS1Vanx7ok0C7+HDh8nAwICWL19O//3vf0kgEFBQUFBbuNIuyc7Opp49e9LNmzdb1c6mTZto/PjxEplKDNVz48YNOn78OEVHR7dKIBEF3r179xIRUWpqKh05coSio6OpqKhI4fVlZWWko6NDW7dulTlGKBTS1atXKTIyUmzBUFNTQ/Hx8XTixAmxVOKG7NmzhwBQdHQ0EZHcsURELi4uNHXqVIW+t0dUHnijo6OJz+fTqlWriIho/vz5XA45g6i2tpaGDh1KGzZsaHVbQqGQRo4cSWvXrm11W4y2pWHgbQrz5s0jR0fHFvRKnLfeeotMTU2prq6O0tPTKSAgQObYtLQ0AkCxsbGt5k9rovLAO2rUKOLz+VwRjytXrtCoUaPE/kOsW7eO/vjjD1W71i7YunUr9erVSyJHv7X4+++/SVNTkzIzM1Vij9E2tETgzc3NpQ4dOlBcXFwLevY/tLW1adGiRURE5OvrSzdu3JA51t/fn0aNGtUqfqgClT9cS05ORvfu3bmnnIMGDcKZM2cwe/ZsbkxGRsZLWdy4uVRUVGDlypX4z3/+0yKZSMrg4OCAkSNHYvny5Sqxx2gbRDV+m5PlZWJighUrVuCrr75qUjKFIqZOnYrk5GT4+fnBysqKe7DYkPT0dBw8eBDBwcEt7oPKUHWk19PTI1NTU7ljrK2t6ciRIyryqP2we/du6tChg8ofFhw+fJjU1dXlPlxhvJwEBwfTnDlzqGPHjgSAzMzM6OOPP6ZTp041ab7a2loaMWKE3EpozSElJYVyc3Pl2ndycqLt27e3in1V0e5Shs+dO4fU1NS2dqNN2L17N9zc3NCpUyeV2h0/fjx4PB5+/PFHfPHFFyq1zWhdLCws0K1bN7GkiOrqahgbGzdpPoFAgF9//RUjR46EtbU1xo4d21KuAgDeeOMNuf0LFy6Eo6Mj/P39W9SuqhELvM+ePUNiYiKePHkCbW1tDB48GPr6+khKSsKbb74pdYLS0lIkJCSgtLQU3bp1w6BBg6Curt4kZ9LS0uDj46PU2NraWhQWFqKyshLm5uYA6s8D3rt3DxoaGujVq5fEecSCggI8ePAA3bp1Q9euXRXayMrKQkpKCmpqatCvXz+ZX31agsLCQly5coU7GK8Md+/exYULF1BWVgZjY2OMGDEChoaGAOrTMaOioqCmpgYnJydYW1vLnKdjx44YNGgQTp48yQLvv4xx48a1+JydO3fG6dOnERAQgCFDhnC1HFqbqKgoGBgYcCU1X2pES9+wsDBydnam0NBQioqKoqNHj9L7779Ptra25OrqKrFULikpIX9/f7K0tKTvv/+e9u/fT19++SX17t2bgoODxc7p5ebmkqmpKZmamhKPxyOBQMD9bmpqSqWlpTRu3DjS0NDgKuwbGhqKjRGdSczNzSV9fX1unJ2dHdXW1tKyZcvIw8ODli1bRu7u7mRgYEBhYWFERPTgwQPy8vIiX19fWrp0KfXt25ccHBwoIyND6teAwsJC8vb2Jn9/f4qIiKA9e/bQoEGDyN7enhISEiTGr1y5knr37k12dnZkZ2dHVlZW3H0REf31119kampKtra2ZGdnR5aWlhLHYH799VcCQOfPn1f4NeXp06fk5eVFmpqa5OHhQd7e3qSpqUmampq0ZcsW2r9/P3Xo0IHGjx9P48aNIz6fT99++63cORcuXEjq6upUVVWl0D6DwWgeIKoPDAYGBlLP882aNUsi8BYWFpKtrS0NHz5cokr8nTt36LXXXuOqzTdET0+P9PT0ZDrk4eFBAGTu8dbV1VFRUREdPHiQC7z/+c9/6OeffxYbN2LECOLxeBQXF0eTJ0+mrKwsri83N5f4fD7Z29tLtTF27FiaM2cOVVZWcm3V1dXk6upKWlpaEgkfzZFmESFSFlC0z1pWVkZvvPEGDRs2TOyeRNcDIHV1dQoNDSUiojlz5nCH6wsLC2XOGxISQgAoOTlZan9tbS3t27evSacfysrK6P79+836efjwYaPtMhjtFRARLVq0iOzs7KQOuH79ukTgnThxIvH5fAmJDxE7duwgABQcHCzR19zAK6K6upoAUOfOnWnp0qUS/evXr+dWzikpKRL99vb2BIBycnLE2isrK7kAtnnzZrG+6OhoAkBeXl4y/WqqNMv06dNJXV1dZr+IuXPnUq9evai8vFysPTAwkPPbysqKiIiuXbvGtQGQCPYvcuzYMQJAhw8fltp/+PBhAkDLly9X6GNDTExMxPxoyo9AIKCzZ88qbVNaZhSD0daIshHVgPqSbMnJydixYwfmzp0rVi+0f//+nJonAFy8eBHHjx+Hg4ODhMSHCE9PT/j7++Pbb7+Fr68vtLS0GrsDohDRcavi4mLMnTtXol+012lubi51w160x1tcXIwePXpw7R06dED//v2RlpYmUR5PtMfbMNf9RVasWIGrV69i3759cHZ2RkBAgFLSLE+ePFEorVJSUoKwsDDs2LFDYl/tRZ+8vb0BAEZGRtDX10dJSQm+/PJLiUIlLyLqk1X6z9XVFRs3boSvr69cH6WRnZ3NKeI2FS0tLYUKCC/C4/FQVlaGTZs24fHjx1KLjTMYquL58+dYsGAB+vfvD+D/H65Nnz4dW7duxUcffYRVq1Zh9OjRcHJywpgxY9CrVy+x8m2//fYbAMiU7QDq3/CdO3dGYWEhYmNjW2WDX4SamprcQtLSKvgD4N6Iz549E2vn8/lITk7Gs2fPxE4X5Ofn4/79+wDkF4QWSbMMGDAAn3zyCWpqanDkyBGcPn1a7n1UVlYqDCy6urqIi4vDoEGDxNqJCJcuXeJ+F0m4mJiYICcnB5WVlQqfYosCrywZFUNDQ7kfHPLg8/nQ19dv0rXNobq6GidPnkRGRgZ0dXVVbp/BAOrfn+Xl5fDy8hIPvC4uLti/fz8+/vhj5OXlITw8HOHh4QDqa3Pu2rULRkZGAOoPLwNQeOSpU6dOKC4uRnp6eqsGXkXV519cvUvj+fPnEm1qamqora3Fhg0bcOLECQD12liiVbQimiLNoszBdoFAABcXF4n2W7duoaCgAED9ytDJyYnr09XVbVTQeRllVGRhaGiolGAig6EqiAg8Hu9/ZSFnzJiB3NxcREZGYvHixXB0dASPx0NkZCQmTpzIrfJEb0xFb1BRQPvnn39a6x5ajX379sHCwgJ79+7Fxo0bERMTg23btjVqxSeSZgGAxYsXS5T9a4iOjk6Ts4FeVKJ1cXFpUtZbRUUFAMkPsvDwcEyePBmOjo5iq2oGg9F4RMojagCwc+dOuLu7w9jYGBMnTsTEiRMB1BdN9vHxQWxsLKKjozFmzBhO0K60tFSugeLiYgDgam42h5KSEsyePVtC/bQ1iIyMhI+PD4yNjREbG6v0KrchImmWixcvIiIiAuvXr8fixYtlju/SpQuuXr2qcN7Hjx8jNjYWrq6u3PaBSF4FAIYOHSpxTUJCAnJycuDl5SVzXlFt3hdlVOLi4nD58mX89ttvGD58OFasWMFpaDUGLy8v3L17t9HXvYiuri42bdok8zw5g/EyoQYA8fHxUFNTwwcffCDW2bNnTxw8eBCvv/46MjMzAdRvPezevRu3b9+WOWlOTg7++ecfaGtrY8SIEY1ySCAQSLRVV1errHZBUFAQAGDRokUSQVeU7y4iKSkJ4eHh2Lx5s1j7i9Is7733Hq5du4alS5di0KBBMiWrzczM8OzZM5SVlcncxsnMzMTAgQNRUlICOzs7JCUlQSgUigXehlsRRARfX1/Y29vLDbwPHjwAADEZlU2bNmHv3r34559/cP36dXh6esq8Xh4ffvghHj582KRrRWhqasrcr2cwXja41K7w8HCJwAvUPygTCATck/8JEybA2dkZf/31F1JSUmBraytxzU8//QSg/it2Yx+qiFZxL6ojPHz4ECYmJo2aRxGyvvqLpFGkrdTlnWYQIZJmuXjxIoD/SbMMGDAA06ZNw99//y1V1kS06X7v3j2Z0taRkZEoKSkBAC4rLyYmRkwYsGGG2o4dO5CRkYFffvlFrt/37t0Dj8cTe2j60UcfQV9fHwcOHEBZWRmmT5+u6PalMmbMmCZd97JSW1uLOXPm4MmTJ+jZsye2b9+OuLg47Ny5E+rq6sjIyEBAQABmzZrV1q4y2gqi/5WM27Nnj8S5s4iICOrTp49YmcKHDx9S3759yd7engoKCsTGx8XFkZaWFnl7e3Nn1kTk5+cTAOLz+RLnZ0WcOnVK4hxsYGCgxLneu3fvcmc88/PzJeZZuXIlAaDx48dLnOmsra0lGxsbAkAHDhwQ65s3bx4BoGnTpom1FxcX07Rp08jV1ZXU1dUpPz+fjhw5QqtXryai+qSStWvXkpaWFlfa7kVmz55NAOjNN9+UWuBZdD/S/gYiREkj3bt3p+TkZMrLyyMrKyuxc7IxMTFEVJ/U8d1335G6urrEPUpj9OjRNGDAAKl9I0aMIBMTE1YwXUl2795N+/bt4/6mXl5e9PHHH3PvobCwMOLxeHKLwTD+3XCB19vbmxYsWEDvv/8+hYWFUVhYGH344Yfk5OREd+/elbiwqKiI/Pz8yMTEhD799FNav349TZ06lYyNjemHH36QSBnu2rUrCQQC0tXVJV1dXRIIBGRkZESff/65xNxLliwhLS0tWrhwIS1ZsoTc3d25N31ubi4ZGRkRn8+njh07kra2Nid1kpubS5s2bSI9PT0CQHp6eqSmpsZ9EBARDR48mDQ1NUlDQ4MbZ2RkxCUOVFVV0YIFC0hDQ4M8PDxo165dtG7dOho7dizduXOHLl++TDo6OmRmZkbvvPMOFRQUtIg0CxGRubk5zZo1S+Yfq7a2lgICAkggEFCfPn1IS0uLpkyZQuXl5RQYGEi6urqkrq5O1tbW1LFjR3J0dOQCsTyqq6tJR0eHlixZItEnCh7Lli0jIsWqAO2NLVu2NDt5Q95Pw4xJIqLx48fT8+fPuYSbhh/+hw4dIgAUHx+vypfiX0tKSopSi4vW4Pz58xQVFdXo60BULwNSU1NDRER5eXl04sQJOn78ON26dUvhBKWlpXT27Fk6evQoXblyRWKV21QKCgro1KlTFBMT0yYrreLiYjp37hwdPXqUEhMTxXwoKyujO3futLhfK1asoK5duyp8DQsKCuivv/4SSxkmqg+gN27coAsXLsj8RiGNP//8kwDQ7du3JfqWL19OAOju3btUV1dHo0ePVnre9sD9+/e5D9gePXrQ7du3lU5TvnXrFiUkJNCJEycoNDSUAgICyMzMTCzwvvPOOxI2RW/EVatWEQBKTU0V6//iiy8IgNwUboZytLY2oSKeP39Obm5ujQ78bSZ2yZAkLy+P1NXV6cSJEyq1O336dBo+fLjUvrfffptLJ4+IiKCQkBBVutYi/Pzzz1yglCcnowx1dXV0/PhxeuuttwgAqampyayv4erqSubm5hLt5ubm5OTk1Cw/GKrTJlREUVER9e3bt1EyRCzwtjPmz59PI0aMUJm97OxsUldXF9saeZG9e/dSjx49aNmyZfTee++12DcaVePn58cF35Yqsr99+3bi8/m0adMmib6qqirS1NQkHx8fsfbExEQCwIm7Sns+wVCMKrUJlSE2Npa6d++u9LcYFnjbGYWFhdStWzc6ffq0SuzNnDmT5syZI3dMTk6OXP2rl4GKigqytLTkCis1ZitGHuHh4eTg4CDRHhMTI1Xj7LPPPiM+n09Pnjyhmpqal27rpr2gam1CZfDw8KC5c+cqNZYF3nZIdHQ0mZmZUXFxcava+eOPP6hfv34qlxpqK5KSkkhTU5MA0NChQ1ts9T527FiJDybR/m7DffiRI0eSi4sLEdVX8ZMnl86QTnl5ORkaGra7ba+EhAQSCARSn5U0hAXedsrOnTtp1KhRrfaJnpaWRn379qW0tLRWmb+9EhQUxG05rFixokXmvH37tkSNZk9PT+rfv7/E2M2bN5OZmRktXryY5s6dy8pXNoG20iZUBmtra1q4cKHCcTwiBUUEGG1GeHg4ysvLsWDBghaf28fHB0uWLOESN14ViAgeHh44fvw4+Hw+YmJi8NZbb7W4ncePH0NNTQ1dunSR6MvKykJlZaVcOSaGbJydnaGvr49Tp061tSsSLFu2DFu3bsXTp0/lSqCxwMt45SgoKICdnR0ePnyI7t27IyUlBQYGBm3tVrsgMzMTN2/eBBGhf//+YinkLUFNTQ0KCwtRXV0tVvflwYMH6NKli0ItxMLCQhgaGmLDhg34/PPPlbKZl5eH58+fw8zMTKwkQVZWFgDILSvbWM6ePYtRo0YhJiYGrq6uMsfJr5nIYPwL6dKlC3766Sfw+Xzk5eVJTZV/1cjMzMTo0aPh4eGBrKwsPHr0CF5eXnB1deXqeJSVlcHMzAw2Njawt7eHvb09zM3NxcQnp02bhn79+nH9vXr1wuXLl3H58mXo6elBQ0MD3bp1w6xZs5CRkQFPT0/MnDkTW7ZswdChQ2Fra4tjx47J9DMmJgZEhIEDByq8p9TUVEyYMAHr1q3DqlWrYGlpicTERDx9+hQeHh4ICgrCmjVrYG9vz9WiaS4i0YizZ8/KH9ia+x0MRntm6dKl3H5ve3tQo0rS0tKoS5cuNHr0aLFnCpWVlWRtbU1WVlZUVVVFQqGQiouLKTExkUu5f+utt8RkqO7du0fq6upkYmJCO3fupOzsbKqpqaGamhoqKiqi0NBQLpll6NChYlmx1dXVNH36dAJAgYGBUn1VVpswPT2dxowZI5Zp6e3tTX369CF3d3cuqWXIkCFy7Ym4e/cu7du3T6k9eUNDQ5o0aZLcMSzwMl5ZampqyNnZmQCQpqamVG2+fzt1dXVkZ2dHAOjOnTsS/bt27ZKqP5iXl0fdunUjbW1tsdft77//JgsLC5mBMTMzkwCQtra21FoVz58/p169ehEAOnbsmES/stqEEyZMkNCEFNVhEQnxis5a83g8OnPmjNz5RAFamZR5BwcHsra2ljuGBV7GK82LKcVWVlZiytKvAkeOHCEAUk9gENW/Pvj/43cNuXjxIqmpqZGFhQWVlpZScXExDRw4UG6pAdF8pqamMsds3bqVAJCFhYVE34gRI8jY2FjuPcXFxZG/v79E+/DhwwkAnTx5kmu7ffu2Uid7oqKipH4QSMPNzU2hjyzwMl55XkwplqZY3VLExcVRdHR0q81fVFRE4eHhjbpGlNE3ZcoUmWPU1NSoa9euUvs2btxIAGjy5Mk0ceJEioyMlGtPmcB7584d7u/RMB148ODBcq8lIsrKypJYTQuFQjIwMCCBQNDqH64eHh6kq6srdwxXj5fBeFV59913ceDAAZw8eRLu7u6tYuPZs2cYOXIk+vTpg9TU1Bab9/79+7h9+zbi4+OxZ88eaGpqNqrOb3Z2NgDg5s2bmD17ttQxEyZM4DQXG/Lpp5/i0qVL+P333zF9+nROvaY5vHjKICMjQ+zYnTKagKLTEi+SmpqKoqIiDB48GNra2s32URGK/GSBl/HKk5KSgjNnzmDbtm0YPHhwq9jQ1tZGSEgIHB0dW3Te9PR0ZGRkYNy4cYiLi+MK+SuLSAzWycmJE7htDDweDxMmTMCxY8fw66+/YtGiRc1+DUW6ZABQV1cn1qejo4P8/PxGzymSrHJzc1P6mnPnziEkJARlZWXo3bs3tm7dygkQyKOiokKhCC/bamC80hQUFJCpqSnNmzevrV1pNq6urgq/hjdk/vz5XM3gpnDjxg1ydHSk+Ph40tbWJhMTE3r69KnM8cpsNYgewAGgpKQksb4pUx2qP3UAAAdHSURBVKaQtrZ2o/308PAgAHTq1CmJvoZp3UT1RW+mT59OVVVVlJqaSgAUbqOIGDRoEPXp00fuGHaOl/HKUltbi3fffRempqbYtGlTW7vTJoh09K5duyZXCTs4OFiiraSkBL6+vjhw4ACcnZ2xY8cOPHjwANOnT5dYqTYG0RlYU1NTCWmxF7UJZVFbWyu2KhYKhYiLiwOPx4Ozs7PY2AsXLuCHH34QaxMKhfj222+xa9cudOjQAbm5uQDqkz+U4cGDB4oTT5QK4QzGv5BFixZRz549W7U0Y3BwME2ZMoWcnZ1p27ZtrWaHqGkrXiKiUaNGyV3RJScn07vvvivWVl1dTePGjaODBw+Ktc+ZM4cA0Ndffy11LtGKt1OnTlRWVibRX1NTQ9bW1gSADh06JNG/Z88eAiBRG0NEVVUVd/25c+eIiDglkF69ekmM9/LyklDYqayspLi4OO73r7/+mgAoVWy9oqKC+Hy+VGWdF2GBl/FKsnfvXtLS0pL5Bm4Jvv/+e65ebEhICPF4PCopKeH6v/nmG/Lw8Gj0j6wA2dTA+/TpU7K2tiZjY2NKT08X63vy5Am5uLhwZ2KFQiFdunSJO9fasIJeVlYWt00gTT9QFHi1tbXJx8dHrEKcUCjkztqKpKYaokib8OrVqwSABAIBJScnU21tLQ0bNozc3NyoS5cunNIOUX3BpO+++07h6zNkyBDq16+fwnFERJcuXVJqW4I9XGO8ciQkJCAgIAB79uyRqejcGLKzs1FeXg4bGxuuLSsrC9euXcPhw4cBALm5uSAisa/gU6ZMabR9Pp/f4g/ounTpgvj4eCxZsgQuLi7w8vJC3759cevWLWRmZmLr1q3o2bMnbt26hTfffBO1tbVcAZh3330Xf/75JzeXk5MTgHp17fnz52P+/Plwd3fHoUOHxGwaGhrC09MT77zzDiZMmAANDQ3s378fOTk5OHToEKZOnSrV1969e8Pc3BxxcXFSU71tbGwwePBgGBkZ4fr161i+fDkCAgIwcuRIjBkzBr6+vnBzc8OxY8cwYMAALF++XO5rU1lZiYSEBKXTymNjY6GhoSG3TgMAttXAeLV49OgRvf766/TFF1+02JwzZsyQEC5NT0+nzMxM7vfGrJqaSlNXvC8i0lCMjIxsleL3DR+ulZWV0Z9//knHjx+npKQkpVJyFWkTCoVCunr1KkVGRoptD9TU1FB8fDydOHFCadFWkep5wy0VWbi4uNDUqVMVjmOBl/HKUF1dTU5OTjRu3LgWK4L+xx9/kJmZmdyAUVlZSerq6lKzqVqSlgi8rY0ypxoUoUptwsWLFyu9v5uWlkYAlNJeY1sNjFeGefPmoaCgACdPnhQrD9hUTpw4AW9vbyxcuFDs7GlDLl26hJqaGokzpFFRUUhLS2uUTT6fj7Fjx6Jfv35N8vnfwOuvvw5/f39s3LgRb7/9dqvaiomJQb9+/WBsbKxw7KZNmzBq1CgMGzZM4VgWeBmvBKGhoTh06BCuXLmCzp07N2uuvLw8BAYGYufOnQDqSyHKQ3Q8qmHgzc7O5mrCNobHjx+/tIG3qqoKgHIZaPJYuXIlbGxs8Oeff2LMmDEt4ZoEFRUVSExMhJ+fn8Kx6enpOHjwIK5cuaLU3CzwMv71xMbGYtGiRdizZw9ef/11lJSUKH3ts2fP8OjRI2RnZyMlJQUXLlxAbGws95BMVHtWHrJWTf7+/o2/GTmUlZWhoqICRCR3Bd4W3L17F8HBwbh8+TKA+g8vLy8vmJiYYPPmzY2ez8DAAPv27YOfnx+uX78OfX39ZvtYU1ODqKgouLm5QVdXF5GRkairq4O3t7fc6+rq6jB79mysX78elpaWStliChSMfzUPHjzAwIEDm5RmqgwrV67EN998I7O/oqIC+vr68PPzw/bt21vc/vHjxxESEoInT54gKSkJAGBpaYkePXpg6tSp8PX1bXGbTeHx48c4e/asRCptaWlpo2pLNGTXrl345ZdfcOLECWhoaDTLx7Vr1+Krr75CWFgYJk+ejAEDBqB///6IjIyU+0E2b948CAQCBAUFKW2LrXgZ/2oePXqEgICAVptfUdC4ePEi6urqGlUjoDFMnDixRQrTtDbGxsZ47733WnzeuXPnQl1dHTt27Gi2NqGtrS20tbWRnJyMzZs3Y/LkyVi9erXcoBsVFQUDAwMxFQ5lYCteBqMFKSgoQEJCAsaPHw8ej4cPP/wQ+/fvx6NHj9CpU6e2do+hgLKyMuTn58PExAQdOnRoNTtsxctgtCDvv/8+Tp8+jczMTBQVFSEiIgKrV69mQfcloVOnTir5W7HAy2C0II6OjkhKSkJwcDBOnTqF7du3Y86cOW3tFqOdwbYaGIwWJj8/HxUVFTAzM+Pq3TIYL8ICL4PBYKgY9nHMYDAYKoYFXgaDwVAxLPAyGAyGimGBl8FgMFQMC7wMBoOhYljgZTAYDBXDAi+DwWCoGBZ4GQwGQ8WwwMtgMBgq5v8AXON+FhMwfOAAAAAASUVORK5CYII=)"
      ],
      "metadata": {
        "id": "Bz2snUEdm6hy"
      }
    },
    {
      "cell_type": "markdown",
      "source": [
        "Consider what happens when all of the *xi* are equal to some constant *c*. If *c* is very negative, then exp(*c*) will underflow.\n",
        "\n",
        "This means the denominator of the softmax will become 0, so the final result is undefined. When *c* is very large and positive, exp(*c*) will overflow, again resulting in the expression as a whole being undefined.\n",
        "\n",
        "Both of these difficulties can be resolved by instead evaluating softmax(*z*) where *z* = *x*−max*ixi*.\n",
        "\n",
        "Subtracting in the largest argument to exp maxixi results being 0, which rules out the possibility of overflow. Likewise, at least one term in the denominator has a value of 1, which rules out the possibility of underflow in the denominator leading to a division by zero."
      ],
      "metadata": {
        "id": "bkLPrE96nekH"
      }
    },
    {
      "cell_type": "markdown",
      "source": [
        "Underflow in the numerator can still cause the expression as a whole to evaluate to zero. This means that if we implement log softmax (*x*) by first running the softmax subroutine then passing the result to the log function, we could erroneously obtain a separate function that calculates −∞ . Instead, we must implement log softmax log softmax in a numerically stable way."
      ],
      "metadata": {
        "id": "ooP7bAjkodb2"
      }
    },
    {
      "cell_type": "markdown",
      "source": [
        "**Conditioning**\n",
        "\n",
        "Conditioning refers to how rapidly a function changes with respect to small changes in its inputs.\n",
        "\n",
        "Functions that change rapidly when their inputs are perturbed slightly can be problematic for scientific computation because rounding errors in the inputs can result in large changes in the output.\n",
        "\n",
        "Consider the function f(x) = ***A***−1***x***. When ***A*** ∈ Rn× n has an eigenvalue decomposition, its condition number is\n",
        "\n",
        ".\n"
      ],
      "metadata": {
        "id": "dzEl5Sawop5N"
      }
    },
    {
      "cell_type": "markdown",
      "source": [
        "![image.png](data:image/png;base64,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)"
      ],
      "metadata": {
        "id": "mcR0JYjVpQZe"
      }
    },
    {
      "cell_type": "markdown",
      "source": [
        "This sensitivity is an intrinsic property of the matrix itself, not the result of rounding error during matrix inversion. Poorly conditioned matrices amplify pre-existing errors when we multiply by the true matrix inverse."
      ],
      "metadata": {
        "id": "_q4RaP9lpQh4"
      }
    },
    {
      "cell_type": "markdown",
      "source": [
        "**Gradient-based optimization**"
      ],
      "metadata": {
        "id": "6DIHIMm7ptyg"
      }
    },
    {
      "cell_type": "markdown",
      "source": [
        "**Jacobian and Hessian matrices**"
      ],
      "metadata": {
        "id": "KiBBJbgjpx9r"
      }
    },
    {
      "cell_type": "markdown",
      "source": [
        "**Constrained Optimization**"
      ],
      "metadata": {
        "id": "VJaMvY0hqBJw"
      }
    },
    {
      "cell_type": "markdown",
      "source": [
        "**Linear Least Squares**"
      ],
      "metadata": {
        "id": "qI3mN0aWqN_K"
      }
    }
  ]
}