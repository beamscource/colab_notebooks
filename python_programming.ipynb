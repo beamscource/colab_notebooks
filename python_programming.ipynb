{
  "nbformat": 4,
  "nbformat_minor": 0,
  "metadata": {
    "colab": {
      "provenance": [],
      "collapsed_sections": [
        "3RzhJF-JahIw",
        "TGW9fF9bcIhb",
        "1UzSnugNcO_x",
        "SdYy9R3x6bjy",
        "O6TgvoTM3_Sm",
        "WPpWG1GtjscP",
        "8QiEww000Pt3"
      ],
      "authorship_tag": "ABX9TyM3msckbPDp72kKzyKXEX+6",
      "include_colab_link": true
    },
    "kernelspec": {
      "name": "python3",
      "display_name": "Python 3"
    },
    "language_info": {
      "name": "python"
    }
  },
  "cells": [
    {
      "cell_type": "markdown",
      "metadata": {
        "id": "view-in-github",
        "colab_type": "text"
      },
      "source": [
        "<a href=\"https://colab.research.google.com/github/beamscource/colab_notebooks/blob/main/python_programming.ipynb\" target=\"_parent\"><img src=\"https://colab.research.google.com/assets/colab-badge.svg\" alt=\"Open In Colab\"/></a>"
      ]
    },
    {
      "cell_type": "markdown",
      "source": [
        "This is a summary of the following resources:\n",
        "\n",
        "- https://learning.edx.org/course/course-v1:MITx+6.00.1x_9+2T2016/home\n",
        "- https://www.amazon.de/Python-Crash-Course-Hands-Project-Based/\n",
        "- https://www.amazon.de/dp/1593279663/\n",
        "- https://www.amazon.de/Serious-Python-Black-Belt-Deployment-Scalability/dp/1593278780"
      ],
      "metadata": {
        "id": "qeraweilCaOP"
      }
    },
    {
      "cell_type": "markdown",
      "source": [
        "Serious Python\n",
        "- tools for style checking 11\n",
        "- documentation 34\n",
        "- unit testing 75\n",
        "- methods and decorators 99\n",
        "- functional programming 119\n",
        "- performance optimization 151"
      ],
      "metadata": {
        "id": "WA8oqmt-31hx"
      }
    },
    {
      "cell_type": "markdown",
      "source": [
        "Beyond Basic Python\n",
        "- lambda functions 174/201\n",
        "- type hints 190/2175\n",
        "- git + projects 200/227\n",
        "- OOP 247/303"
      ],
      "metadata": {
        "id": "6ctHSlGdWEak"
      }
    },
    {
      "cell_type": "markdown",
      "source": [
        "# Core language"
      ],
      "metadata": {
        "id": "9LtJ4w9Guiv_"
      }
    },
    {
      "cell_type": "markdown",
      "source": [
        "## 1. Primitive Datatypes and Operators"
      ],
      "metadata": {
        "id": "Wb2pIy9fZ6kC"
      }
    },
    {
      "cell_type": "markdown",
      "source": [
        "**Strings and string methods**"
      ],
      "metadata": {
        "id": "xeDXzU_6iHRM"
      }
    },
    {
      "cell_type": "markdown",
      "source": [
        "Strings are quite simple at first glance, but you can use them in many different ways. A string is simply a series of characters. Anything inside quotes is considered a string in Python, and you can use single or double quotes around your strings. This flexibility allows you to use quotes and apostrophes within your strings."
      ],
      "metadata": {
        "id": "-VNqh9tBfJ37"
      }
    },
    {
      "cell_type": "code",
      "source": [
        "# Strings are created with \" or '\n",
        "\"This is a string.\"\n",
        "'This is also a string.'\n",
        "\n",
        "# Strings can be added too! But try not to do this.\n",
        "\"Hello \" + \"world!\"  # => \"Hello world!\"\n",
        "# String literals (but not variables) can be concatenated without using '+'\n",
        "\"Hello \" \"world!\"    # => \"Hello world!\"\n",
        "\n",
        "# A string can be treated like a list of characters\n",
        "\"This is a string\"[0]  # => 'T'\n",
        "\n",
        "# You can find the length of a string\n",
        "len(\"This is a string\")  # => 16\n",
        "\n",
        "# .format can be used to format strings, like this:\n",
        "\"{} can be {}\".format(\"Strings\", \"interpolated\")  # => \"Strings can be interpolated\"\n",
        "\n",
        "# You can repeat the formatting arguments to save some typing.\n",
        "\"{0} be nimble, {0} be quick, {0} jump over the {1}\".format(\"Jack\", \"candle stick\")\n",
        "# => \"Jack be nimble, Jack be quick, Jack jump over the candle stick\"\n",
        "\n",
        "# You can use keywords if you don't want to count.\n",
        "\"{name} wants to eat {food}\".format(name=\"Bob\", food=\"lasagna\")  # => \"Bob wants to eat lasagna\"\n",
        "\n",
        "# for Python 2.5 and below, you can also use the old style of formatting:\n",
        "\"%s can be %s the %s way\" % (\"Strings\", \"interpolated\", \"old\")  # => \"Strings can be interpolated the old way\"\n",
        "\n",
        "# You can also format using f-strings or formatted string literals (in Python 3.6+)\n",
        "name = \"Reiko\"\n",
        "f\"She said her name is {name}.\" # => \"She said her name is Reiko\"\n",
        "f\"{name} is {len(name)} characters long.\" # => \"Reiko is 5 characters long.\""
      ],
      "metadata": {
        "id": "1-c6HwDdh9iD"
      },
      "execution_count": null,
      "outputs": []
    },
    {
      "cell_type": "code",
      "source": [
        "# reverse a string\n",
        "string = 'This is also a string.'\n",
        "string[::-1]\n",
        "''.join(reversed(string))"
      ],
      "metadata": {
        "id": "OZj76A6qjzdj"
      },
      "execution_count": null,
      "outputs": []
    },
    {
      "cell_type": "code",
      "source": [
        "# string methods\n",
        "name = \"Ada Lovelace\"\n",
        "print(name.upper())\n",
        "print(name.lower())\n",
        "print(name.title())\n",
        "print(name.split())\n",
        "print(list(name)) # split into single characters"
      ],
      "metadata": {
        "colab": {
          "base_uri": "https://localhost:8080/"
        },
        "id": "TMAp0wzOgTWA",
        "outputId": "3d01160e-ec1d-4200-ce08-a8e205fd5797"
      },
      "execution_count": null,
      "outputs": [
        {
          "output_type": "stream",
          "name": "stdout",
          "text": [
            "ADA LOVELACE\n",
            "ada lovelace\n",
            "Ada Lovelace\n",
            "['Ada', 'Lovelace']\n",
            "['A', 'd', 'a', ' ', 'L', 'o', 'v', 'e', 'l', 'a', 'c', 'e']\n"
          ]
        }
      ]
    },
    {
      "cell_type": "code",
      "source": [
        "# check if condition is True\n",
        "name.istitle()\n",
        "name.islower()\n",
        "name.isupper()\n",
        "name.isalpha()\n",
        "name.isdigit()\n",
        "name.isalnum()\n",
        "name.endswith('t') # useful to check if a file name ends in a specific extension\n",
        "name.startswith('t')"
      ],
      "metadata": {
        "id": "K7NZoGnIfdnY"
      },
      "execution_count": null,
      "outputs": []
    },
    {
      "cell_type": "code",
      "source": [
        "print(\"\\tPython\")\n",
        "print('   Python  '.rstrip())\n",
        "print('   Python  '.strip())"
      ],
      "metadata": {
        "colab": {
          "base_uri": "https://localhost:8080/"
        },
        "id": "V04osRu4iqC1",
        "outputId": "bababac7-eae4-4e37-d7ce-9e67034a368e"
      },
      "execution_count": null,
      "outputs": [
        {
          "output_type": "stream",
          "name": "stdout",
          "text": [
            "\tPython\n",
            "   Python\n",
            "Python\n"
          ]
        }
      ]
    },
    {
      "cell_type": "code",
      "source": [
        "name.strip()\n",
        "name.find('x')\n",
        "name.replace('x', 'X')"
      ],
      "metadata": {
        "id": "Y55EHZVmgOWK"
      },
      "execution_count": null,
      "outputs": []
    },
    {
      "cell_type": "code",
      "source": [
        "print(\"I'm Python. Nice to meet you!\")  # => I'm Python. Nice to meet you!\n",
        "\n",
        "# By default the print function also prints out a newline at the end.\n",
        "# Use the optional argument end to change the end string.\n",
        "print(\"Hello, World\", end=\"!\")  # => Hello, World!\n",
        "\n",
        "# Simple way to get input data from console\n",
        "input_string_var = input(\"Enter some data: \") # Returns the data as a string\n",
        "# In earlier versions of Python, input() method was named as raw_input()"
      ],
      "metadata": {
        "id": "Ja4yWdR5jJ2M"
      },
      "execution_count": null,
      "outputs": []
    },
    {
      "cell_type": "markdown",
      "source": [
        "**Integers**"
      ],
      "metadata": {
        "id": "Uu19DAn2huyy"
      }
    },
    {
      "cell_type": "markdown",
      "source": [
        "Numbers are used quite often in programming to keep score in games, rep-\n",
        "resent data in visualizations, store information in web applications, and so on. Python treats numbers in several different ways, depending on how they\n",
        "are being used."
      ],
      "metadata": {
        "id": "_E457zTokOE6"
      }
    },
    {
      "cell_type": "code",
      "execution_count": null,
      "metadata": {
        "id": "xOBafEtuGQZr",
        "colab": {
          "base_uri": "https://localhost:8080/"
        },
        "outputId": "1fdbf54b-93ce-4b56-d016-5cc594544b70"
      },
      "outputs": [
        {
          "output_type": "execute_result",
          "data": {
            "text/plain": [
              "8"
            ]
          },
          "metadata": {},
          "execution_count": 15
        }
      ],
      "source": [
        "# math on scalars\n",
        "1 + 1   # => 2\n",
        "8 - 1   # => 7\n",
        "10 * 2  # => 20\n",
        "35 / 5  # => 7.0\n",
        "\n",
        "# Integer division rounds down for both positive and negative numbers.\n",
        "5 // 3       # => 1\n",
        "-5 // 3      # => -2\n",
        "5.0 // 3.0   # => 1.0 # works on floats too\n",
        "-5.0 // 3.0  # => -2.0\n",
        "\n",
        "# The result of division is always a float\n",
        "10.0 / 3  # => 3.3333333333333335\n",
        "round(10.0 / 3, 2) # rounding by decimal places\n",
        "\n",
        "# Modulo operation\n",
        "7 % 3  # => 1\n",
        "\n",
        "# Exponentiation (x**y, x to the yth power)\n",
        "2**3  # => 8\n",
        "\n",
        "# Enforce precedence with parentheses\n",
        "(1 + 3) * 2  # => 8"
      ]
    },
    {
      "cell_type": "markdown",
      "source": [
        "**Floats**"
      ],
      "metadata": {
        "id": "Akc2x0oflBUV"
      }
    },
    {
      "cell_type": "markdown",
      "source": [
        "Python calls any number with a decimal point a float. This term is used in\n",
        "most programming languages, and it refers to the fact that a decimal point\n",
        "can appear at any position in a number. Every programming language must\n",
        "be carefully designed to properly manage decimal numbers so numbers\n",
        "behave appropriately no matter where the decimal point appears."
      ],
      "metadata": {
        "id": "CRwYna4KlNTq"
      }
    },
    {
      "cell_type": "code",
      "source": [
        "0.1 + 0.1\n",
        "0.2 + 0.2\n",
        "2 * 0.1\n",
        "2 * 0.2"
      ],
      "metadata": {
        "colab": {
          "base_uri": "https://localhost:8080/"
        },
        "id": "h4t-1CT0lDtI",
        "outputId": "ebb8ebf2-765c-40a2-85d2-6d6ee30d0de4"
      },
      "execution_count": null,
      "outputs": [
        {
          "output_type": "execute_result",
          "data": {
            "text/plain": [
              "0.4"
            ]
          },
          "metadata": {},
          "execution_count": 16
        }
      ]
    },
    {
      "cell_type": "code",
      "source": [
        "# https://www.geeksforgeeks.org/floor-ceil-function-python/\n",
        "print(round(2.7468, 2))\n",
        "print(round(2.7468))"
      ],
      "metadata": {
        "colab": {
          "base_uri": "https://localhost:8080/"
        },
        "id": "ngsDnD_Zlh2m",
        "outputId": "87640fb7-904c-4249-c099-420cf4bbade7"
      },
      "execution_count": null,
      "outputs": [
        {
          "output_type": "stream",
          "name": "stdout",
          "text": [
            "2.75\n",
            "3\n"
          ]
        }
      ]
    },
    {
      "cell_type": "code",
      "source": [
        "str(10)"
      ],
      "metadata": {
        "colab": {
          "base_uri": "https://localhost:8080/",
          "height": 36
        },
        "id": "HW3OSxaUmO_K",
        "outputId": "64a3af6d-c327-46b6-f4e2-38ffd28fbe72"
      },
      "execution_count": null,
      "outputs": [
        {
          "output_type": "execute_result",
          "data": {
            "text/plain": [
              "'10'"
            ],
            "application/vnd.google.colaboratory.intrinsic+json": {
              "type": "string"
            }
          },
          "metadata": {},
          "execution_count": 24
        }
      ]
    },
    {
      "cell_type": "markdown",
      "source": [
        "Sometimes it's helpful to check a type of a variable to enforce certain conditions:"
      ],
      "metadata": {
        "id": "7I8hPm-ImYpx"
      }
    },
    {
      "cell_type": "code",
      "source": [
        "type('test')"
      ],
      "metadata": {
        "colab": {
          "base_uri": "https://localhost:8080/"
        },
        "id": "Vq8TFIJxmLHS",
        "outputId": "e83c57b1-1dca-4c1d-a83f-9f89e385afca"
      },
      "execution_count": null,
      "outputs": [
        {
          "output_type": "execute_result",
          "data": {
            "text/plain": [
              "str"
            ]
          },
          "metadata": {},
          "execution_count": 14
        }
      ]
    },
    {
      "cell_type": "code",
      "source": [
        "isinstance('test', str)"
      ],
      "metadata": {
        "colab": {
          "base_uri": "https://localhost:8080/"
        },
        "id": "x4b5vNSPmhE8",
        "outputId": "f77af2d4-df10-4b11-d74a-de40e26a42ca"
      },
      "execution_count": null,
      "outputs": [
        {
          "output_type": "execute_result",
          "data": {
            "text/plain": [
              "True"
            ]
          },
          "metadata": {},
          "execution_count": 15
        }
      ]
    },
    {
      "cell_type": "markdown",
      "source": [
        "## 2. Variables and Collections\n"
      ],
      "metadata": {
        "id": "XPfJyEmcaVrN"
      }
    },
    {
      "cell_type": "markdown",
      "source": [
        "**Variable assignment**"
      ],
      "metadata": {
        "id": "hWfoNOY5ksGT"
      }
    },
    {
      "cell_type": "markdown",
      "source": [
        "Every variable holds a value, which is the information associated with that variable."
      ],
      "metadata": {
        "id": "Kow_FBlHeUXj"
      }
    },
    {
      "cell_type": "code",
      "source": [
        "# There are no declarations, only assignments.\n",
        "some_var = 5\n",
        "\n",
        "# Accessing a previously unassigned variable is an exception.\n",
        "# See Control Flow to learn more about exception handling.\n",
        "some_unknown_var  # Raises a NameError"
      ],
      "metadata": {
        "id": "MHReSAj-Z7jM"
      },
      "execution_count": null,
      "outputs": []
    },
    {
      "cell_type": "markdown",
      "source": [
        "When you’re using variables in Python, you need to adhere to a few rules and guidelines.\n",
        "\n",
        "- Variable names can contain only letters, numbers, and underscores. They can start with a letter or an underscore, but not with a number. For instance, you can call a variable message_1 but not 1_message.\n",
        "\n",
        "- Spaces are not allowed in variable names, but underscores can be used to separate words in variable names.\n",
        "\n",
        "- Avoid using Python keywords and function names as variable names; that is, do not use words that Python has reserved for a particular programmatic purpose, such as the word print.\n",
        "\n",
        "- Variable names should be short but descriptive. For example, name is better than n, student_name is better than s_n, and name_length is better than length_of_persons_name."
      ],
      "metadata": {
        "id": "qP7D739Qekbc"
      }
    },
    {
      "cell_type": "markdown",
      "source": [
        "**Lists**"
      ],
      "metadata": {
        "id": "rjz3upikkv-H"
      }
    },
    {
      "cell_type": "markdown",
      "source": [
        "A list is a collection of items in a particular order. You can make a list that\n",
        "includes the letters of the alphabet, the digits from 0–9, or the names of\n",
        "all the people in your family. You can put anything you want into a list, and the items in your list don’t have to be related in any particular way.\n",
        "\n",
        "Because a list usually contains more than one element, it’s a good idea to make the name of your list plural, such as letters, digits, or names.\n",
        "\n",
        "In Python, square brackets ([]) indicate a list, and individual elements\n",
        "in the list are separated by commas."
      ],
      "metadata": {
        "id": "zQtHdivGom69"
      }
    },
    {
      "cell_type": "code",
      "source": [
        "# lists store sequences\n",
        "exp_list = [] # empty list\n",
        "other_exp_list = [4, 5, 6]"
      ],
      "metadata": {
        "id": "a1YCmk33kugr"
      },
      "execution_count": 18,
      "outputs": []
    },
    {
      "cell_type": "code",
      "source": [
        "test_list = [*range(10)]"
      ],
      "metadata": {
        "id": "W4_WVuV939D6"
      },
      "execution_count": null,
      "outputs": []
    },
    {
      "cell_type": "markdown",
      "source": [
        "Adding separate elements to a list or expanding the original list:"
      ],
      "metadata": {
        "id": "VgJZvSP8vv8p"
      }
    },
    {
      "cell_type": "code",
      "source": [
        "# add stuff to the end of a list\n",
        "exp_list.append(1)    # exp_list is now [1]\n",
        "exp_list.append(2)    # exp_list is now [1, 2]"
      ],
      "metadata": {
        "id": "5Bgd0etSvmOX"
      },
      "execution_count": null,
      "outputs": []
    },
    {
      "cell_type": "code",
      "source": [
        "test_list = [*range(10)]\n",
        "test_list_2 = [*range(10, 20)]\n",
        "test_list.append(test_list_2)\n",
        "print(test_list) # adding the second list as an element of the first list\n",
        "test_list.extend(test_list_2) # extending the same list with additional elements\n",
        "print(test_list)"
      ],
      "metadata": {
        "colab": {
          "base_uri": "https://localhost:8080/"
        },
        "id": "Ern3XB9D7SH5",
        "outputId": "2f642143-d97e-46ae-9b26-59e7e17787bd"
      },
      "execution_count": 20,
      "outputs": [
        {
          "output_type": "stream",
          "name": "stdout",
          "text": [
            "[0, 1, 2, 3, 4, 5, 6, 7, 8, 9, [10, 11, 12, 13, 14, 15, 16, 17, 18, 19]]\n",
            "[0, 1, 2, 3, 4, 5, 6, 7, 8, 9, [10, 11, 12, 13, 14, 15, 16, 17, 18, 19], 10, 11, 12, 13, 14, 15, 16, 17, 18, 19]\n"
          ]
        }
      ]
    },
    {
      "cell_type": "code",
      "source": [
        "# remove the last element (you can use the value of that element)\n",
        "removed_element = exp_list.pop()        # => 2 and exp_list is now [1]\n",
        "\n",
        "# delete arbitrary elements without using them anymore\n",
        "del exp_list[2]"
      ],
      "metadata": {
        "id": "64qBTQhD7QuO"
      },
      "execution_count": null,
      "outputs": []
    },
    {
      "cell_type": "markdown",
      "source": [
        "Sometimes you won’t know the position of the value you want to remove from a list. If you only know the value of the item you want to remove, you can use the remove() method."
      ],
      "metadata": {
        "id": "5C6nVGThvVfl"
      }
    },
    {
      "cell_type": "code",
      "source": [
        "# remove first occurrence of a value\n",
        "removed_item = other_exp_list.remove(5)  # exp_list is now []\n",
        "other_exp_list.remove(5)  # Raises a ValueError as 5 is not in the exp_list"
      ],
      "metadata": {
        "id": "vB8gxEYAvg5x"
      },
      "execution_count": null,
      "outputs": []
    },
    {
      "cell_type": "code",
      "source": [
        "# Insert an element at a specific index\n",
        "exp_list.insert(1, 2)  # exp_list is now [2]\n",
        "\n",
        "# Get the index of the first item found matching the argument\n",
        "exp_list.index(2)  # => 1\n",
        "exp_list.index(4)  # Raises a ValueError as 4 is not in the list"
      ],
      "metadata": {
        "id": "dlhNw8VrvqzC"
      },
      "execution_count": null,
      "outputs": []
    },
    {
      "cell_type": "markdown",
      "source": [
        "Lists are ordered collections, so you can access any element in a list by telling Python the position, or index, of the item desired. To access an element in a list, write the name of the list followed by the index of the item enclosed in square brackets."
      ],
      "metadata": {
        "id": "YPHswHwhpF5J"
      }
    },
    {
      "cell_type": "code",
      "source": [
        "# indexing and slicing on lists\n",
        "exp_list[0] # first element\n",
        "exp_list[-1] # last element"
      ],
      "metadata": {
        "id": "dtfq6Ls1o3c-"
      },
      "execution_count": null,
      "outputs": []
    },
    {
      "cell_type": "markdown",
      "source": [
        "To make a slice, you specify the index of the first and last elements you want to work with. As with the range() function, Python stops one item before the second index you specify."
      ],
      "metadata": {
        "id": "g2ZweXk62RpY"
      }
    },
    {
      "cell_type": "code",
      "source": [
        "exp_list[1:3]\n",
        "exp_list[2:]\n",
        "exp_list[:3]\n",
        "# exp_list[start:end:step]\n",
        "exp_list[::2] # Select every second entry\n",
        "\n",
        "#reverse a list\n",
        "exp_list[::-1]\n",
        "\n",
        "# Looking out of bounds is an IndexError\n",
        "exp_list[4]  # Raises an IndexError"
      ],
      "metadata": {
        "id": "-ageqUwy2Zn2"
      },
      "execution_count": null,
      "outputs": []
    },
    {
      "cell_type": "markdown",
      "source": [
        "Keep in mind that whenever you want to access the last item in a list you use the index -1. A negative index returns an element at a certain distance from the end of a list; therefore, you can output any slice from the end of a list."
      ],
      "metadata": {
        "id": "JtfQOenozOoK"
      }
    },
    {
      "cell_type": "code",
      "source": [
        "other_exp_list[-1:]"
      ],
      "metadata": {
        "colab": {
          "base_uri": "https://localhost:8080/"
        },
        "id": "UJLnxRxZ21Mc",
        "outputId": "f02d0295-0fc5-46a3-af08-6dd0a1a57174"
      },
      "execution_count": null,
      "outputs": [
        {
          "output_type": "execute_result",
          "data": {
            "text/plain": [
              "[6]"
            ]
          },
          "metadata": {},
          "execution_count": 19
        }
      ]
    },
    {
      "cell_type": "markdown",
      "source": [
        "Sometimes you’ll want to preserve the original order of your list, and other times you’ll want to change the original order."
      ],
      "metadata": {
        "id": "zE01bPWHx414"
      }
    },
    {
      "cell_type": "code",
      "source": [
        "cars = ['bmw', 'audi', 'toyota', 'subaru']\n",
        "cars.sort()\n",
        "print(cars)"
      ],
      "metadata": {
        "colab": {
          "base_uri": "https://localhost:8080/"
        },
        "id": "9PugEHBHx6No",
        "outputId": "94507e5c-840a-427f-f026-adbc22b64841"
      },
      "execution_count": null,
      "outputs": [
        {
          "output_type": "stream",
          "name": "stdout",
          "text": [
            "['audi', 'bmw', 'subaru', 'toyota']\n"
          ]
        }
      ]
    },
    {
      "cell_type": "code",
      "source": [
        "cars.sort(reverse=True)\n",
        "print(cars)"
      ],
      "metadata": {
        "colab": {
          "base_uri": "https://localhost:8080/"
        },
        "id": "HK-3GduoyOcV",
        "outputId": "eeed707e-fd41-443d-e363-f14eed468d8f"
      },
      "execution_count": null,
      "outputs": [
        {
          "output_type": "stream",
          "name": "stdout",
          "text": [
            "['toyota', 'subaru', 'bmw', 'audi']\n"
          ]
        }
      ]
    },
    {
      "cell_type": "markdown",
      "source": [
        "To maintain the original order of a list but present it in a sorted order, you can use the sorted() function. The sorted() function lets you display your list in a particular order but doesn’t affect the actual order of the list."
      ],
      "metadata": {
        "id": "QYZgJ7ucyWo-"
      }
    },
    {
      "cell_type": "code",
      "source": [
        "print(\"Here is the original list:\")\n",
        "print(cars)\n",
        "\n",
        "print(\"\\nHere is the sorted list:\")\n",
        "print(sorted(cars))"
      ],
      "metadata": {
        "colab": {
          "base_uri": "https://localhost:8080/"
        },
        "id": "qxUU1vjVyX1l",
        "outputId": "5ba35813-620a-458c-bd16-40001e6935c0"
      },
      "execution_count": null,
      "outputs": [
        {
          "output_type": "stream",
          "name": "stdout",
          "text": [
            "Here is the original list:\n",
            "['toyota', 'subaru', 'bmw', 'audi']\n",
            "\n",
            "Here is the sorted list:\n",
            "['audi', 'bmw', 'subaru', 'toyota']\n"
          ]
        }
      ]
    },
    {
      "cell_type": "markdown",
      "source": [
        "To reverse the original order of a list, you can use the reverse() method. "
      ],
      "metadata": {
        "id": "ZggPCMJdyv6Y"
      }
    },
    {
      "cell_type": "code",
      "source": [
        "cars.reverse()\n",
        "print(cars)"
      ],
      "metadata": {
        "colab": {
          "base_uri": "https://localhost:8080/"
        },
        "id": "ZVr4b8oIy0Oj",
        "outputId": "2fd09a8a-321b-46bb-f8e3-1485431638de"
      },
      "execution_count": null,
      "outputs": [
        {
          "output_type": "stream",
          "name": "stdout",
          "text": [
            "['audi', 'bmw', 'subaru', 'toyota']\n"
          ]
        }
      ]
    },
    {
      "cell_type": "markdown",
      "source": [
        "To copy a list, you can make a slice that includes the entire original list by omitting the first index and the second index ([:]). "
      ],
      "metadata": {
        "id": "GZh054yb3KOa"
      }
    },
    {
      "cell_type": "code",
      "source": [
        "# Make a one layer deep copy\n",
        "exp_list2 = exp_list[:]\n",
        "\n",
        "# You can add lists\n",
        "exp_list + other_list\n",
        "\n",
        "# Concatenate lists with \"extend()\"\n",
        "exp_list.extend(other_list)\n",
        "\n",
        "# Check for existence in a list with \"in\"\n",
        "1 in exp_list\n",
        "\n",
        "len(exp_list)"
      ],
      "metadata": {
        "id": "31K5Dj3sowa9"
      },
      "execution_count": null,
      "outputs": []
    },
    {
      "cell_type": "code",
      "source": [
        "word_list.append('stuck')\n",
        "word_list.insert(1, 'here')\n",
        "word_list.remove(\"I\")\n",
        "word_list.sort()\n",
        "word_list.reverse()"
      ],
      "metadata": {
        "id": "FB92TRnbhhYX"
      },
      "execution_count": null,
      "outputs": []
    },
    {
      "cell_type": "markdown",
      "source": [
        "**For-loops**"
      ],
      "metadata": {
        "id": "1iiJ-KKmkdpW"
      }
    },
    {
      "cell_type": "markdown",
      "source": [
        "You’ll often want to run through all entries in a list, performing the same task with each item."
      ],
      "metadata": {
        "id": "nKStHXuRz1uo"
      }
    },
    {
      "cell_type": "code",
      "source": [
        "# iterate over list elements\n",
        "for animal in [\"dog\", \"cat\", \"mouse\"]:\n",
        "    print(f\"{animal} is a mammal\") # f-string\n",
        "\n",
        "text = 'this is a longer text \\n with several lines \\n attached to it'\n",
        "\n",
        "# define an index in the loop\n",
        "for i, line in enumerate(text.split('\\n')):\n",
        "    print(line)\n",
        "\n",
        "# skip remaining iterations in a loop or skip to the next iteration\n",
        "# depending on a condition\n",
        "for i, line in enumerate(text.split('\\n')):\n",
        "    print(line)\n",
        "    if len(line.split()) == 3:\n",
        "        break\n",
        "        #continue\n",
        "\n",
        "# manipulate each element within a loop\n",
        "string = 'Das ist ein.'\n",
        "for word in string:\n",
        "    print(word.upper())\n",
        "\n"
      ],
      "metadata": {
        "id": "Lzt9rmiwevIv"
      },
      "execution_count": null,
      "outputs": []
    },
    {
      "cell_type": "code",
      "source": [
        "for i in range(10):\n",
        "    print(i)\n",
        "\n",
        "print('\\n')\n",
        "# range(lower, upper, step)\n",
        "for i in range(4, 8, 2):\n",
        "    print(i)"
      ],
      "metadata": {
        "id": "lrXUmzaM0Zr-"
      },
      "execution_count": null,
      "outputs": []
    },
    {
      "cell_type": "code",
      "source": [
        "numbers = list(range(1,6))\n",
        "print(numbers)"
      ],
      "metadata": {
        "colab": {
          "base_uri": "https://localhost:8080/"
        },
        "id": "aW4kZ8Tl00g7",
        "outputId": "643f2a65-31cb-414e-ca4a-e436170821ea"
      },
      "execution_count": null,
      "outputs": [
        {
          "output_type": "stream",
          "name": "stdout",
          "text": [
            "[1, 2, 3, 4, 5]\n"
          ]
        }
      ]
    },
    {
      "cell_type": "markdown",
      "source": [
        "**List comprehensions**"
      ],
      "metadata": {
        "id": "5s6dbgQ-pSpo"
      }
    },
    {
      "cell_type": "markdown",
      "source": [
        " A list comprehension combines the for loop and the creation of new elements into one line, and automatically appends each new element."
      ],
      "metadata": {
        "id": "Cvv3AMsd1G2c"
      }
    },
    {
      "cell_type": "code",
      "source": [
        "# list_comprehension\n",
        "new_list = [e for e in numbers if e % 2 == 0]\n",
        "print(new_list)"
      ],
      "metadata": {
        "id": "7rppjesvpVNf",
        "colab": {
          "base_uri": "https://localhost:8080/"
        },
        "outputId": "c4204cf8-7c7b-409d-893b-00808251bab1"
      },
      "execution_count": null,
      "outputs": [
        {
          "output_type": "stream",
          "name": "stdout",
          "text": [
            "[2, 4]\n"
          ]
        }
      ]
    },
    {
      "cell_type": "markdown",
      "source": [
        "Open a set of square brackets and define the expression for the values you want to store in the new list. In this example the expression is e**2, which raises the element to the second power. Then, write a for loop to generate the numbers you want to feed into the expression, and close the square brackets."
      ],
      "metadata": {
        "id": "_68JyVDi15wy"
      }
    },
    {
      "cell_type": "code",
      "source": [
        "new_list = [e**2 for e in numbers]\n",
        "print(new_list)"
      ],
      "metadata": {
        "colab": {
          "base_uri": "https://localhost:8080/"
        },
        "id": "wLaX9L1g1aMF",
        "outputId": "0807238a-6fbb-40ff-b080-16e5244973eb"
      },
      "execution_count": null,
      "outputs": [
        {
          "output_type": "stream",
          "name": "stdout",
          "text": [
            "[1, 4, 9, 16, 25]\n"
          ]
        }
      ]
    },
    {
      "cell_type": "code",
      "source": [
        "test_new = 'DasisteinTest'\n",
        "[c.upper() for c in test_new if c not in 'aeiou']"
      ],
      "metadata": {
        "colab": {
          "base_uri": "https://localhost:8080/"
        },
        "id": "E5WIrhW6hqhN",
        "outputId": "e9955839-9dd4-4a44-a893-5353f4854a8c"
      },
      "execution_count": null,
      "outputs": [
        {
          "output_type": "execute_result",
          "data": {
            "text/plain": [
              "['D', 'S', 'S', 'T', 'N', 'T', 'S', 'T']"
            ]
          },
          "metadata": {},
          "execution_count": 2
        }
      ]
    },
    {
      "cell_type": "markdown",
      "source": [
        "Ternary coperator which allows to keep lower-case characters in the output list:"
      ],
      "metadata": {
        "id": "j5QPEHFfiMQT"
      }
    },
    {
      "cell_type": "code",
      "source": [
        "''.join([c.upper() if c not in 'aeiou' else c for c in test_new])"
      ],
      "metadata": {
        "colab": {
          "base_uri": "https://localhost:8080/",
          "height": 36
        },
        "id": "RDCxGvOtiA8m",
        "outputId": "bbd91b16-5ec1-4f4f-d907-afd8fb291a22"
      },
      "execution_count": null,
      "outputs": [
        {
          "output_type": "execute_result",
          "data": {
            "text/plain": [
              "'DaSiSTeiNTeST'"
            ],
            "application/vnd.google.colaboratory.intrinsic+json": {
              "type": "string"
            }
          },
          "metadata": {},
          "execution_count": 5
        }
      ]
    },
    {
      "cell_type": "code",
      "source": [
        "# example of combining a loop with a list comprehension\n",
        "exclude_list = [':', '|', '==']\n",
        "\n",
        "for element in exclude_list:\n",
        "    recognizer_output = [line for line in recognizer_output \\\n",
        "    if (element not in line)]"
      ],
      "metadata": {
        "id": "sT5SRSnzpnNS"
      },
      "execution_count": null,
      "outputs": []
    },
    {
      "cell_type": "markdown",
      "source": [
        "**Tuples**"
      ],
      "metadata": {
        "id": "1KdoIBeMrDGV"
      }
    },
    {
      "cell_type": "markdown",
      "source": [
        "Sometimes you’ll want to create a list of items that cannot change. Tuples allow you to do just that. Python refers to values that cannot change as *immutable*, and an immutable list is called a tuple.\n",
        "\n",
        "A tuple looks just like a list except you use parentheses instead of square brackets."
      ],
      "metadata": {
        "id": "3kNlqYx837Vg"
      }
    },
    {
      "cell_type": "code",
      "source": [
        "# Tuples are like lists but are immutable.\n",
        "tup = (1, 2, 3)\n",
        "tup[0]      # => 1\n",
        "tup[0] = 3  # Raises a TypeError"
      ],
      "metadata": {
        "id": "yK6HZ_jwk2_4",
        "colab": {
          "base_uri": "https://localhost:8080/",
          "height": 200
        },
        "outputId": "11d0cd17-15b1-42b4-c8a7-6c96147e5929"
      },
      "execution_count": null,
      "outputs": [
        {
          "output_type": "error",
          "ename": "TypeError",
          "evalue": "ignored",
          "traceback": [
            "\u001b[0;31m---------------------------------------------------------------------------\u001b[0m",
            "\u001b[0;31mTypeError\u001b[0m                                 Traceback (most recent call last)",
            "\u001b[0;32m<ipython-input-23-1e709546ebdb>\u001b[0m in \u001b[0;36m<module>\u001b[0;34m\u001b[0m\n\u001b[1;32m      2\u001b[0m \u001b[0mtup\u001b[0m \u001b[0;34m=\u001b[0m \u001b[0;34m(\u001b[0m\u001b[0;36m1\u001b[0m\u001b[0;34m,\u001b[0m \u001b[0;36m2\u001b[0m\u001b[0;34m,\u001b[0m \u001b[0;36m3\u001b[0m\u001b[0;34m)\u001b[0m\u001b[0;34m\u001b[0m\u001b[0;34m\u001b[0m\u001b[0m\n\u001b[1;32m      3\u001b[0m \u001b[0mtup\u001b[0m\u001b[0;34m[\u001b[0m\u001b[0;36m0\u001b[0m\u001b[0;34m]\u001b[0m      \u001b[0;31m# => 1\u001b[0m\u001b[0;34m\u001b[0m\u001b[0;34m\u001b[0m\u001b[0m\n\u001b[0;32m----> 4\u001b[0;31m \u001b[0mtup\u001b[0m\u001b[0;34m[\u001b[0m\u001b[0;36m0\u001b[0m\u001b[0;34m]\u001b[0m \u001b[0;34m=\u001b[0m \u001b[0;36m3\u001b[0m  \u001b[0;31m# Raises a TypeError\u001b[0m\u001b[0;34m\u001b[0m\u001b[0;34m\u001b[0m\u001b[0m\n\u001b[0m",
            "\u001b[0;31mTypeError\u001b[0m: 'tuple' object does not support item assignment"
          ]
        }
      ]
    },
    {
      "cell_type": "code",
      "source": [
        "# Note that a tuple of length one has to have a comma after the last element but\n",
        "# tuples of other lengths, even zero, do not.\n",
        "print(type((1)))   # => <class 'int'>\n",
        "print(type((1,)))  # => <class 'tuple'>\n",
        "print(type(()))    # => <class 'tuple'>"
      ],
      "metadata": {
        "colab": {
          "base_uri": "https://localhost:8080/"
        },
        "id": "pmP32fsQ4ScJ",
        "outputId": "d4171417-18f0-40bf-9e9d-dd92fe9b3419"
      },
      "execution_count": null,
      "outputs": [
        {
          "output_type": "stream",
          "name": "stdout",
          "text": [
            "<class 'int'>\n",
            "<class 'tuple'>\n",
            "<class 'tuple'>\n"
          ]
        }
      ]
    },
    {
      "cell_type": "code",
      "source": [
        "# You can do most of the list operations on tuples too\n",
        "print(len(tup))         # => 3\n",
        "print(tup + (4, 5, 6))  # => (1, 2, 3, 4, 5, 6)\n",
        "print(tup[:2])          # => (1, 2)\n",
        "print(2 in tup)         # => True"
      ],
      "metadata": {
        "colab": {
          "base_uri": "https://localhost:8080/"
        },
        "id": "eFW1KO-84yoh",
        "outputId": "9246c758-09a6-416b-c064-dd53f815fc85"
      },
      "execution_count": null,
      "outputs": [
        {
          "output_type": "stream",
          "name": "stdout",
          "text": [
            "3\n",
            "(1, 2, 3, 4, 5, 6)\n",
            "(1, 2)\n",
            "True\n"
          ]
        }
      ]
    },
    {
      "cell_type": "markdown",
      "source": [
        "Although you can’t modify a tuple, you can assign a new value to a variable that holds a tuple. "
      ],
      "metadata": {
        "id": "u9zk_3m14rMh"
      }
    },
    {
      "cell_type": "markdown",
      "source": [
        "**Dictionaries**"
      ],
      "metadata": {
        "id": "7fz1cbINrNlY"
      }
    },
    {
      "cell_type": "markdown",
      "source": [
        "A dictionary in Python is a collection of key-value pairs. Each key is connected to a value, and you can use a key to access the value associated with that key. A key’s value can be a number, a string, a list, or even another dictionary."
      ],
      "metadata": {
        "id": "fVkbVvnLit_D"
      }
    },
    {
      "cell_type": "code",
      "source": [
        "# Dictionaries store mappings from keys to values\n",
        "empty_dict = {}\n",
        "my_dict = {\"one\": 1, \"two\": 2, \"three\": 3}"
      ],
      "metadata": {
        "id": "VLqlyDBfrR9c"
      },
      "execution_count": null,
      "outputs": []
    },
    {
      "cell_type": "code",
      "source": [
        "# keys for dictionaries have to be immutable to ensure that\n",
        "# the key can be converted to a constant hash value for quick access\n",
        "# immutable types include ints, floats, strings, an tuples\n",
        "invalid_dict = {[1,2,3]: \"123\"}  # => Raises a TypeError: unhashable type: 'list'\n",
        "valid_dict = {'example_key':[1,2,3]}   # Values can be of any type, however."
      ],
      "metadata": {
        "id": "LS8HbYEppXg6"
      },
      "execution_count": null,
      "outputs": []
    },
    {
      "cell_type": "code",
      "source": [
        "# accessing values\n",
        "my_dict[\"one\"]  # => 1\n",
        "\n",
        "# Get all keys as an iterable with \"keys()\"\n",
        "list(my_dict.keys())  # => [\"three\", \"two\", \"one\"] in Python <3.7\n",
        "list(my_dict.keys())  # => [\"one\", \"two\", \"three\"] in Python 3.7+\n",
        "list(my_dict.values())  # => [3, 2, 1]  in Python <3.7\n",
        "list(my_dict.values())  # => [1, 2, 3] in Python 3.7+"
      ],
      "metadata": {
        "colab": {
          "base_uri": "https://localhost:8080/"
        },
        "id": "6zp-OIu7pbiC",
        "outputId": "4a523003-1f78-48e9-e3d9-12c81502900a"
      },
      "execution_count": null,
      "outputs": [
        {
          "output_type": "execute_result",
          "data": {
            "text/plain": [
              "[1, 2, 3]"
            ]
          },
          "metadata": {},
          "execution_count": 40
        }
      ]
    },
    {
      "cell_type": "code",
      "source": [
        "# extract all values\n",
        "value_list = list(my_dict.values())"
      ],
      "metadata": {
        "id": "aTDTbb2opxda"
      },
      "execution_count": null,
      "outputs": []
    },
    {
      "cell_type": "code",
      "source": [
        "# Remove keys from a dictionary with del\n",
        "del my_dict[\"one\"]  # deletes the key \"one\" from filled dict\n",
        "\n",
        "# insert into dictionaries\n",
        "my_dict.update({\"key_3\":3})\n",
        "my_dict['key_4'] = 6"
      ],
      "metadata": {
        "id": "IyR9HAI1thUy"
      },
      "execution_count": null,
      "outputs": []
    },
    {
      "cell_type": "code",
      "source": [
        "# \"setdefault()\" inserts into a dictionary only if the given key isn't present\n",
        "my_dict.setdefault(\"five\", 5)  # my_dict[\"five\"] is set to 5\n",
        "my_dict.setdefault(\"five\", 6)  # my_dict[\"five\"] is still 5\n",
        "\n",
        "# Check for existence of keys in a dictionary with \"in\"\n",
        "\"one\" in my_dict  # => True\n",
        "1 in my_dict      # => False\n",
        "\n",
        "# Looking up a non-existing key is a KeyError\n",
        "my_dict[\"four\"]  # KeyError\n",
        "\n",
        "# Use \"get()\" method to avoid the KeyError\n",
        "my_dict.get(\"one\")      # => 1\n",
        "my_dict.get(\"four\")     # => None\n",
        "\n",
        "# The get method supports a default argument when the value is missing\n",
        "my_dict.get(\"one\", 4)   # => 1\n",
        "my_dict.get(\"four\", 4)  # => 4\n",
        "\n",
        "# From Python 3.5 you can also use the additional unpacking options\n",
        "{'a': 1, **{'b': 2}}  # => {'a': 1, 'b': 2}\n",
        "{'a': 1, **{'a': 2}}  # => {'a': 2}"
      ],
      "metadata": {
        "id": "ZwusM8jjqKn6"
      },
      "execution_count": null,
      "outputs": []
    },
    {
      "cell_type": "code",
      "source": [
        "my_dict = {'key_1':'value_1',\n",
        "            'key_2':'value_2'}\n",
        "\n",
        "# iterate through keys\n",
        "for key in my_dict.keys():\n",
        "    if key == 'key_2':\n",
        "        my_dict[key] = 'new_value'\n",
        "\n",
        "# sorted keys\n",
        "for key in sorted(my_dict.keys()):\n",
        "    if key == 'key_2':\n",
        "        my_dict[key] = 'new_value'\n",
        "\n",
        "# loop over values directly\n",
        "for value in sorted(my_dict.values()):\n",
        "    if value == 'value':\n",
        "        print(value)\n",
        "\n",
        "# iterate through keys and values at the same time\n",
        "for key, val in my_dict.items():\n",
        "    print(my_dict[key])\n",
        "\n",
        "# loop through two dicts at once with zip\n",
        "for (key_a, value_a), (key_b, value_b) in zip(dict_a.items(), \\\n",
        "            dict_b.items()):\n",
        "  pass"
      ],
      "metadata": {
        "id": "sMQG9SCVsySC"
      },
      "execution_count": null,
      "outputs": []
    },
    {
      "cell_type": "code",
      "source": [
        "my_dict_copy = my_dict.copy()"
      ],
      "metadata": {
        "id": "TSeNczxWitp5"
      },
      "execution_count": null,
      "outputs": []
    },
    {
      "cell_type": "code",
      "source": [
        "# list comprehension works for dicts\n",
        "{x: x**2 for x in range(5)}  # => {0: 0, 1: 1, 2: 4, 3: 9, 4: 16}"
      ],
      "metadata": {
        "id": "R1ckcyePt0Nq"
      },
      "execution_count": null,
      "outputs": []
    },
    {
      "cell_type": "markdown",
      "source": [
        "You can nest dictionaries in a list or lists in dictionaries."
      ],
      "metadata": {
        "id": "2vGE9mjcr8Y4"
      }
    },
    {
      "cell_type": "code",
      "source": [
        "from collections import OrderedDict"
      ],
      "metadata": {
        "id": "NWPVRss1spQJ"
      },
      "execution_count": null,
      "outputs": []
    },
    {
      "cell_type": "markdown",
      "source": [
        "OrderedDict is a great data structure to be aware of because it combines the main benefit of lists (retaining your original order) with the main feature of dictionaries (connecting pieces of information). "
      ],
      "metadata": {
        "id": "eRgMNeZ3sy2K"
      }
    },
    {
      "cell_type": "markdown",
      "source": [
        "The collections.Counter() class in Python is a container that allows you to count the occurrences of elements in a collection.\n",
        "\n",
        "You can create a Counter object by passing an iterable (such as a list, string, or tuple) to it. The Counter will then count the occurrences of each element in the iterable and store the results as key-value pairs in a dictionary-like structure."
      ],
      "metadata": {
        "id": "bdi-lPsHboR9"
      }
    },
    {
      "cell_type": "code",
      "source": [
        "from collections import Counter\n",
        "\n",
        "# Create a Counter object\n",
        "my_list = ['a', 'b', 'c', 'a', 'b', 'a']\n",
        "counter = Counter(my_list)\n",
        "\n",
        "# Access the counts of elements\n",
        "print(counter)  # Counter({'a': 3, 'b': 2, 'c': 1})\n",
        "\n",
        "# Access individual counts\n",
        "print(counter['a'])  # 3\n",
        "print(counter['b'])  # 2\n",
        "print(counter['c'])  # 1\n",
        "\n",
        "# Get the most common elements\n",
        "print(counter.most_common(2))  # [('a', 3), ('b', 2)]\n"
      ],
      "metadata": {
        "id": "UgosQmztbd9T"
      },
      "execution_count": null,
      "outputs": []
    },
    {
      "cell_type": "markdown",
      "source": [
        "**Set**"
      ],
      "metadata": {
        "id": "88OkPJ1ZuCVY"
      }
    },
    {
      "cell_type": "markdown",
      "source": [
        "A set is similar to a list except that each item in the set must be unique:"
      ],
      "metadata": {
        "id": "lpOWHxnosXmh"
      }
    },
    {
      "cell_type": "code",
      "source": [
        "# Sets store ... well sets\n",
        "empty_set = set()\n",
        "# Initialize a set with a bunch of values. Yeah, it looks a bit like a dict. Sorry.\n",
        "some_set = {1, 1, 2, 2, 3, 4}  # some_set is now {1, 2, 3, 4}\n",
        "\n",
        "# Similar to keys of a dictionary, elements of a set have to be immutable.\n",
        "invalid_set = {[1], 1}  # => Raises a TypeError: unhashable type: 'list'\n",
        "valid_set = {(1,), 1}\n",
        "\n",
        "# Add one more item to the set\n",
        "filled_set = some_set\n",
        "filled_set.add(5)  # filled_set is now {1, 2, 3, 4, 5}\n",
        "# Sets do not have duplicate elements\n",
        "filled_set.add(5)  # it remains as before {1, 2, 3, 4, 5}\n",
        "\n",
        "# Do set intersection with &\n",
        "other_set = {3, 4, 5, 6}\n",
        "filled_set & other_set  # => {3, 4, 5}\n",
        "\n",
        "# Do set union with |\n",
        "filled_set | other_set  # => {1, 2, 3, 4, 5, 6}\n",
        "\n",
        "# Do set difference with -\n",
        "{1, 2, 3, 4} - {2, 3, 5}  # => {1, 4}\n",
        "\n",
        "# Do set symmetric difference with ^\n",
        "{1, 2, 3, 4} ^ {2, 3, 5}  # => {1, 4, 5}\n",
        "\n",
        "# Check if set on the left is a superset of set on the right\n",
        "{1, 2} >= {1, 2, 3} # => False\n",
        "\n",
        "# Check if set on the left is a subset of set on the right\n",
        "{1, 2} <= {1, 2, 3} # => True\n",
        "\n",
        "# Check for existence in a set with in\n",
        "2 in filled_set   # => True\n",
        "10 in filled_set  # => False"
      ],
      "metadata": {
        "id": "C1GiryiEuFXS"
      },
      "execution_count": null,
      "outputs": []
    },
    {
      "cell_type": "markdown",
      "source": [
        "When you wrap set() around a list that contains duplicate items, Python identifies the unique items in the list and builds a set from those items."
      ],
      "metadata": {
        "id": "TZt5MNyesfJg"
      }
    },
    {
      "cell_type": "markdown",
      "source": [
        "**Unpacking collections into variables**"
      ],
      "metadata": {
        "id": "QBwoe-Rb703f"
      }
    },
    {
      "cell_type": "code",
      "source": [
        "# You can unpack tuples (or lists) into variables\n",
        "a, b, c = (1, 2, 3)  # a is now 1, b is now 2 and c is now 3\n",
        "print(a)\n",
        "print(b)\n",
        "print(c)\n"
      ],
      "metadata": {
        "colab": {
          "base_uri": "https://localhost:8080/"
        },
        "id": "K0kuYa8Y40pX",
        "outputId": "71c73147-2a7a-4d5b-e8aa-0bb68ebcdc82"
      },
      "execution_count": null,
      "outputs": [
        {
          "output_type": "stream",
          "name": "stdout",
          "text": [
            "1\n",
            "2\n",
            "3\n"
          ]
        }
      ]
    },
    {
      "cell_type": "code",
      "source": [
        "# You can also do extended unpacking\n",
        "a, *b, c = (1, 2, 3, 4)  # a is now 1, b is now [2, 3] and c is now 4\n",
        "print(a)\n",
        "print(b)\n",
        "print(c)"
      ],
      "metadata": {
        "colab": {
          "base_uri": "https://localhost:8080/"
        },
        "id": "zGcZ1mpQ6Lsx",
        "outputId": "fa10f811-0ad9-4062-d72a-3aab17370dbd"
      },
      "execution_count": null,
      "outputs": [
        {
          "output_type": "stream",
          "name": "stdout",
          "text": [
            "1\n",
            "[2, 3]\n",
            "4\n"
          ]
        }
      ]
    },
    {
      "cell_type": "code",
      "source": [
        "d, e, f = 4, 5, 6  # tuple 4, 5, 6 is unpacked into variables d, e and f\n",
        "# respectively such that d = 4, e = 5 and f = 6\n",
        "print(type(d))\n",
        "print(e)\n",
        "print(f)\n"
      ],
      "metadata": {
        "colab": {
          "base_uri": "https://localhost:8080/"
        },
        "id": "MwA0Ta0j6Nbr",
        "outputId": "8d564ac9-b648-408a-9363-cf8370bec0bf"
      },
      "execution_count": null,
      "outputs": [
        {
          "output_type": "stream",
          "name": "stdout",
          "text": [
            "<class 'int'>\n",
            "5\n",
            "6\n"
          ]
        }
      ]
    },
    {
      "cell_type": "code",
      "source": [
        "# Now look how easy it is to swap two values\n",
        "e, d = d, e  # d is now 5 and e is now 4\n",
        "print(d)\n",
        "print(e)"
      ],
      "metadata": {
        "colab": {
          "base_uri": "https://localhost:8080/"
        },
        "id": "TDuLi-xu6kTy",
        "outputId": "af996de9-0ea5-412d-f13e-55634f57dc78"
      },
      "execution_count": null,
      "outputs": [
        {
          "output_type": "stream",
          "name": "stdout",
          "text": [
            "5\n",
            "4\n"
          ]
        }
      ]
    },
    {
      "cell_type": "markdown",
      "source": [
        "## 3. Control Flow and Iterables\n"
      ],
      "metadata": {
        "id": "3RzhJF-JahIw"
      }
    },
    {
      "cell_type": "markdown",
      "source": [
        "**If-else statements and comparisons**"
      ],
      "metadata": {
        "id": "9SdL4V54kV16"
      }
    },
    {
      "cell_type": "markdown",
      "source": [
        "Programming often involves examining a set of conditions and deciding which action to take based on those conditions."
      ],
      "metadata": {
        "id": "onErv3fNXYer"
      }
    },
    {
      "cell_type": "code",
      "source": [
        "string = 'Das ist ein Satz.'\n",
        "\n",
        "if len(string) > 15:\n",
        "    print('Satz ist länger als 15 Buchstaben.')\n",
        "elif len(string) < 15:\n",
        "    print('Satz ist kürzer als 15 Buchstaben.')\n",
        "else:\n",
        "    print('Es gibt keinen String')\n",
        "\n",
        "f'\"{string}\" is {len(string)} characters long.'"
      ],
      "metadata": {
        "id": "H8BAPhebajoH"
      },
      "execution_count": null,
      "outputs": []
    },
    {
      "cell_type": "markdown",
      "source": [
        "At the heart of every if statement is an expression that can be evaluated as True or False and is called a conditional test. Python uses the values True and False to decide whether the code in an if statement should be executed. If a conditional test evaluates to True, Python executes the code following the if statement. If the test evaluates to False, Python ignores the code following the if statement."
      ],
      "metadata": {
        "id": "ACysw_i_X6UP"
      }
    },
    {
      "cell_type": "code",
      "source": [
        "# Equality is ==\n",
        "1 == 1  # => True\n",
        "2 == 1  # => False\n",
        "\n",
        "# Inequality is !=\n",
        "1 != 1  # => False\n",
        "2 != 1  # => True\n",
        "\n",
        "# More comparisons\n",
        "1 < 10  # => True\n",
        "1 > 10  # => False\n",
        "2 <= 2  # => True\n",
        "2 >= 2  # => True\n",
        "\n",
        "# Seeing whether a value is in a range\n",
        "1 < 2 and 2 < 3  # => True\n",
        "2 < 3 and 3 < 2  # => False\n",
        "\n",
        "1 < 2 or 2 < 3  # => True\n",
        "2 < 3 or 3 < 2  # => True\n",
        "# Chaining makes this look nicer\n",
        "1 < 2 < 3  # => True\n",
        "2 < 3 < 2  # => False\n",
        "\n",
        "# (is vs. ==) is checks if two variables refer to the same object, but == checks\n",
        "# if the objects pointed to have the same values.\n",
        "a = [1, 2, 3, 4]  # Point a at a new list, [1, 2, 3, 4]\n",
        "b = a             # Point b at what a is pointing to\n",
        "b is a            # => True, a and b refer to the same object\n",
        "b == a            # => True, a's and b's objects are equal\n",
        "b = [1, 2, 3, 4]  # Point b at a new list, [1, 2, 3, 4]\n",
        "b is a            # => False, a and b do not refer to the same object\n",
        "b == a            # => True, a's and b's objects are equal"
      ],
      "metadata": {
        "id": "BxdciawKhr_T"
      },
      "execution_count": null,
      "outputs": []
    },
    {
      "cell_type": "code",
      "source": [
        "# if can be used as an expression\n",
        "\"yahoo!\" if 3 > 2 else 2  # => \"yahoo!\""
      ],
      "metadata": {
        "id": "pNsUJ-NbkUMI"
      },
      "execution_count": null,
      "outputs": []
    },
    {
      "cell_type": "code",
      "source": [
        "if x in some_list:\n",
        "  pass\n",
        "if x not in some_list:\n",
        "  pass"
      ],
      "metadata": {
        "id": "RU_SvDyziFav"
      },
      "execution_count": null,
      "outputs": []
    },
    {
      "cell_type": "markdown",
      "source": [
        "**Booleans**"
      ],
      "metadata": {
        "id": "19lK6H9cYFl0"
      }
    },
    {
      "cell_type": "code",
      "source": [
        "# Boolean values are primitives (Note: the capitalization)\n",
        "True\n",
        "False\n",
        "\n",
        "# negate with not\n",
        "not True   # => False\n",
        "not False  # => True\n",
        "\n",
        "# Boolean Operators\n",
        "# Note \"and\" and \"or\" are case-sensitive\n",
        "True and False  # => False\n",
        "False or True   # => True\n",
        "\n",
        "# True and False are actually 1 and 0 but with different keywords\n",
        "True + True # => 2\n",
        "True * 8    # => 8\n",
        "False - 5   # => -5\n",
        "\n",
        "# Comparison operators look at the numerical value of True and False\n",
        "0 == False  # => True\n",
        "1 == True   # => True\n",
        "2 == True   # => False\n",
        "-5 != False # => True\n",
        "\n",
        "# Using boolean logical operators on ints casts them to booleans for evaluation, but their non-cast value is returned\n",
        "# Don't mix up with bool(ints) and bitwise and/or (&,|)\n",
        "bool(0)     # => False\n",
        "bool(4)     # => True\n",
        "bool(-6)    # => True\n",
        "0 and 2     # => 0\n",
        "-5 or 0     # => -5"
      ],
      "metadata": {
        "id": "YXohkBpbhc_X"
      },
      "execution_count": null,
      "outputs": []
    },
    {
      "cell_type": "code",
      "source": [
        "# None is an object\n",
        "None  # => None\n",
        "\n",
        "# Don't use the equality \"==\" symbol to compare objects to None\n",
        "# Use \"is\" instead. This checks for equality of object identity.\n",
        "\"etc\" is None  # => False\n",
        "None is None   # => True\n",
        "\n",
        "# None, 0, and empty strings/lists/dicts/tuples all evaluate to False.\n",
        "# All other values are True\n",
        "bool(0)   # => False\n",
        "bool(\"\")  # => False\n",
        "bool([])  # => False\n",
        "bool({})  # => False\n",
        "bool(())  # => False"
      ],
      "metadata": {
        "id": "uEX3ABS3iw9y"
      },
      "execution_count": null,
      "outputs": []
    },
    {
      "cell_type": "code",
      "source": [
        "text = 'This is a test.'\n",
        "if isinstance(text, str):\n",
        "  pass"
      ],
      "metadata": {
        "id": "A-7eCf7NcC5F"
      },
      "execution_count": null,
      "outputs": []
    },
    {
      "cell_type": "markdown",
      "source": [
        "**While-loops and Match statement**"
      ],
      "metadata": {
        "id": "ExnZl1pAuOix"
      }
    },
    {
      "cell_type": "code",
      "source": [
        "i = 6\n",
        "while i > 3:\n",
        "    print(i)\n",
        "    i -= 1"
      ],
      "metadata": {
        "id": "WisMJWySqvau"
      },
      "execution_count": null,
      "outputs": []
    },
    {
      "cell_type": "markdown",
      "source": [
        "This works like switch in Matlab:"
      ],
      "metadata": {
        "id": "d4_9Ve4UszKy"
      }
    },
    {
      "cell_type": "code",
      "source": [
        "# starting with python 3.10\n",
        "http_code = \"418\"\n",
        "match http_code:\n",
        "    case \"200\":\n",
        "        print(\"OK\")\n",
        "        do_something_good()\n",
        "    case \"404\":\n",
        "        print(\"Not Found\")\n",
        "        do_something_bad()\n",
        "    case \"418\":\n",
        "        print(\"I'm a teapot\")\n",
        "        make_coffee()\n",
        "    case _:\n",
        "        print(\"Code not found\")"
      ],
      "metadata": {
        "id": "g3JpjOe2gfpn"
      },
      "execution_count": null,
      "outputs": []
    },
    {
      "cell_type": "markdown",
      "source": [
        "**Iterables and generators**"
      ],
      "metadata": {
        "id": "t2K3VIYr5Jn9"
      }
    },
    {
      "cell_type": "code",
      "source": [
        "# Python offers a fundamental abstraction called the Iterable.\n",
        "# An iterable is an object that can be treated as a sequence.\n",
        "# The object returned by the range function, is an iterable.\n",
        "\n",
        "filled_dict = {\"one\": 1, \"two\": 2, \"three\": 3}\n",
        "our_iterable = filled_dict.keys()\n",
        "print(our_iterable)  # => dict_keys(['one', 'two', 'three']). This is an object that implements our Iterable interface.\n",
        "\n",
        "# We can loop over it.\n",
        "for i in our_iterable:\n",
        "    print(i)  # Prints one, two, three\n",
        "\n",
        "# However we cannot address elements by index.\n",
        "our_iterable[1]  # Raises a TypeError\n",
        "\n",
        "# An iterable is an object that knows how to create an iterator.\n",
        "our_iterator = iter(our_iterable)\n",
        "\n",
        "# Our iterator is an object that can remember the state as we traverse through it.\n",
        "# We get the next object with \"next()\".\n",
        "next(our_iterator)  # => \"one\"\n",
        "\n",
        "# It maintains state as we iterate.\n",
        "next(our_iterator)  # => \"two\"\n",
        "next(our_iterator)  # => \"three\"\n",
        "\n",
        "# After the iterator has returned all of its data, it raises a StopIteration exception\n",
        "next(our_iterator)  # Raises StopIteration\n",
        "\n",
        "# You can grab all the elements of an iterator by calling list() on it.\n",
        "list(filled_dict.keys())  # => Returns [\"one\", \"two\", \"three\"]\n",
        "\n",
        "# Generators are memory-efficient because they only load the data needed to\n",
        "# process the next value in the iterable. This allows them to perform\n",
        "# operations on otherwise prohibitively large value ranges.\n",
        "# `range` is a generator.\n",
        "\n",
        "# Every generator is an iterator, but not vice versa.\n",
        "\n",
        "# Yield is a keyword in Python that is used to return from a function without\n",
        "# destroying the states of its local variable and when the function is called,\n",
        "# the execution starts from the last yield statement. Any function that contains\n",
        "# a yield keyword is termed a generator. \n",
        "\n",
        "def double_numbers(iterable):\n",
        "    for i in iterable:\n",
        "        yield i + i\n",
        "\n",
        "# Just as you can create a list comprehension, you can create generator\n",
        "# comprehensions as well.\n",
        "values = (-x for x in [1,2,3,4,5])\n",
        "for x in values:\n",
        "    print(x)\n",
        "\n",
        "# e.g.\n",
        "my_dict.iteritems()\n",
        "pd.iterrows()"
      ],
      "metadata": {
        "id": "mmnupv4RupEY"
      },
      "execution_count": null,
      "outputs": []
    },
    {
      "cell_type": "markdown",
      "source": [
        "**Exceptions**"
      ],
      "metadata": {
        "id": "b00BSO2PuanN"
      }
    },
    {
      "cell_type": "markdown",
      "source": [
        "When you think an error may occur, you can write a try-except block to handle the exception that might be raised. You tell Python to try running some code, and you tell it what to do if the code results in a particular kind of exception."
      ],
      "metadata": {
        "id": "CQwt3TkxxPm1"
      }
    },
    {
      "cell_type": "code",
      "source": [
        "# Handle exceptions with a try/except block\n",
        "try:\n",
        "    # Use \"raise\" to raise an error\n",
        "    raise IndexError(\"This is an index error\")\n",
        "except IndexError as e:\n",
        "    pass                 # Pass is just a no-op. Usually you would do recovery here.\n",
        "except (TypeError, NameError):\n",
        "    pass                 # Multiple exceptions can be handled together, if required.\n",
        "else:                    # Optional clause to the try/except block. Must follow all except blocks\n",
        "    print(\"All good!\")   # Runs only if the code in try raises no exceptions\n",
        "finally:                 #  Execute under all circumstances\n",
        "    print(\"We can clean up resources here\")\n",
        "\n",
        "# Instead of try/finally to cleanup resources you can use a with statement\n",
        "with open(\"myfile.txt\") as f:\n",
        "    for line in f:\n",
        "        print(line)"
      ],
      "metadata": {
        "id": "EBFlMUWxgsWe"
      },
      "execution_count": null,
      "outputs": []
    },
    {
      "cell_type": "markdown",
      "source": [
        "Handling errors correctly is especially important when the program has more work to do after the error occurs."
      ],
      "metadata": {
        "id": "RS4iXyHhySYt"
      }
    },
    {
      "cell_type": "markdown",
      "source": [
        "In this example, we have a function called calculate_square_root() that calculates the square root of a given number. However, if the number is negative, it raises a ValueError with an appropriate error message."
      ],
      "metadata": {
        "id": "f0id2AbrwnRV"
      }
    },
    {
      "cell_type": "code",
      "source": [
        "def calculate_square_root(number):\n",
        "    if number < 0:\n",
        "        raise ValueError(\"Cannot calculate square root of a negative number.\")\n",
        "    return math.sqrt(number)\n",
        "\n",
        "try:\n",
        "    result = calculate_square_root(-9)\n",
        "    print(\"Square root:\", result)\n",
        "except ValueError as e:\n",
        "    print(\"Error:\", str(e))"
      ],
      "metadata": {
        "colab": {
          "base_uri": "https://localhost:8080/"
        },
        "id": "i5Zj1LPtwdT4",
        "outputId": "19c208b7-6220-4d5e-f80d-db97fae2507d"
      },
      "execution_count": null,
      "outputs": [
        {
          "output_type": "stream",
          "name": "stdout",
          "text": [
            "Error: Cannot calculate square root of a negative number.\n"
          ]
        }
      ]
    },
    {
      "cell_type": "markdown",
      "source": [
        "- Specific Exception: It's recommended to use specific exception types that accurately represent the error. In this case, we raise a ValueError since calculating the square root of a negative number is not possible.\n",
        "\n",
        "- Descriptive Error Message: The error message in the raised exception is clear and informative.\n",
        "\n",
        "- Handling the Exception: The raised exception is handled using a try-except block.\n",
        "\n",
        "- Exception Chaining (optional): If the exception is raised from a function or module that is not the immediate source of the error, you can chain the exception using the from keyword. This helps to preserve the original traceback and provide more context. For example:"
      ],
      "metadata": {
        "id": "O8omnFtawzCu"
      }
    },
    {
      "cell_type": "code",
      "source": [
        "raise ValueError(\"Cannot calculate square root.\") from original_exception"
      ],
      "metadata": {
        "id": "otV4vVcvxGQG"
      },
      "execution_count": null,
      "outputs": []
    },
    {
      "cell_type": "markdown",
      "source": [
        "**Assertions**\n",
        "\n",
        "Assertions are used to check if a condition is true. If the condition is false, it raises an AssertionError with an optional error message.\n",
        "\n",
        "Let's break down the line:\n",
        "\n",
        "assert: The assert keyword is used to initiate an assertion statement.\n",
        "\n",
        "len(feed.entries) > 0: This is the condition being checked. It verifies if the length of feed.entries is greater than zero. In other words, it checks if there are any entries present in the feed.\n",
        "\n",
        "No entries found in feed, disable VPN: This is the error message that is displayed if the condition is false. It provides information about the reason for the assertion failure."
      ],
      "metadata": {
        "id": "Mb03DqLWv49L"
      }
    },
    {
      "cell_type": "code",
      "source": [
        "test_list = []\n",
        "assert len(test_list) > 0, \"No entries found in list, please check\""
      ],
      "metadata": {
        "colab": {
          "base_uri": "https://localhost:8080/",
          "height": 182
        },
        "id": "ludvC9rWvuIq",
        "outputId": "93b745f4-b2aa-4ef1-ee8f-87a55b7aeeb5"
      },
      "execution_count": null,
      "outputs": [
        {
          "output_type": "error",
          "ename": "AssertionError",
          "evalue": "ignored",
          "traceback": [
            "\u001b[0;31m---------------------------------------------------------------------------\u001b[0m",
            "\u001b[0;31mAssertionError\u001b[0m                            Traceback (most recent call last)",
            "\u001b[0;32m<ipython-input-16-430a83c3307a>\u001b[0m in \u001b[0;36m<cell line: 2>\u001b[0;34m()\u001b[0m\n\u001b[1;32m      1\u001b[0m \u001b[0mtest_list\u001b[0m \u001b[0;34m=\u001b[0m \u001b[0;34m[\u001b[0m\u001b[0;34m]\u001b[0m\u001b[0;34m\u001b[0m\u001b[0;34m\u001b[0m\u001b[0m\n\u001b[0;32m----> 2\u001b[0;31m \u001b[0;32massert\u001b[0m \u001b[0mlen\u001b[0m\u001b[0;34m(\u001b[0m\u001b[0mtest_list\u001b[0m\u001b[0;34m)\u001b[0m \u001b[0;34m>\u001b[0m \u001b[0;36m0\u001b[0m\u001b[0;34m,\u001b[0m \u001b[0;34m\"No entries found in list, please check\"\u001b[0m\u001b[0;34m\u001b[0m\u001b[0;34m\u001b[0m\u001b[0m\n\u001b[0m",
            "\u001b[0;31mAssertionError\u001b[0m: No entries found in list, please check"
          ]
        }
      ]
    },
    {
      "cell_type": "markdown",
      "source": [
        "## 4. Functions\n"
      ],
      "metadata": {
        "id": "TLA1B1itcAfT"
      }
    },
    {
      "cell_type": "markdown",
      "source": [
        "You can use positional arguments, which need to be in the same order the parameters were written; keyword arguments, where each argument consists of a variable name and a value; and lists and dictionaries of values."
      ],
      "metadata": {
        "id": "vD6xgDspyjEg"
      }
    },
    {
      "cell_type": "code",
      "source": [
        "def add(x, y):\n",
        "    return x + y \n",
        "\n",
        "# Calling functions with parameters\n",
        "add(5, 6)  # => prints out \"x is 5 and y is 6\" and returns 11\n",
        "\n"
      ],
      "metadata": {
        "id": "kjdvrWBncC1H",
        "colab": {
          "base_uri": "https://localhost:8080/"
        },
        "outputId": "79509a75-ec51-4bf6-e06c-8f17ec3c2a5b"
      },
      "execution_count": null,
      "outputs": [
        {
          "output_type": "execute_result",
          "data": {
            "text/plain": [
              "11"
            ]
          },
          "metadata": {},
          "execution_count": 41
        }
      ]
    },
    {
      "cell_type": "code",
      "source": [
        "# Another way to call functions is with keyword arguments\n",
        "add(y=6, x=5)  # Keyword arguments can arrive in any order.\n",
        "\n"
      ],
      "metadata": {
        "colab": {
          "base_uri": "https://localhost:8080/"
        },
        "id": "PvObCl37yuXo",
        "outputId": "28f5022a-c1d6-45ee-d888-875519109173"
      },
      "execution_count": null,
      "outputs": [
        {
          "output_type": "execute_result",
          "data": {
            "text/plain": [
              "11"
            ]
          },
          "metadata": {},
          "execution_count": 42
        }
      ]
    },
    {
      "cell_type": "code",
      "source": [
        "# You can define functions that take a variable number of\n",
        "# positional arguments which are compiled as a tuple\n",
        "def varargs(*args):\n",
        "    for arg in args:\n",
        "      print(arg**4)\n",
        "\n",
        "varargs(1, 2, 3)"
      ],
      "metadata": {
        "colab": {
          "base_uri": "https://localhost:8080/"
        },
        "id": "6e0m2GEpyzyJ",
        "outputId": "4935728d-1b08-4527-9b53-8bbf9e12f423"
      },
      "execution_count": null,
      "outputs": [
        {
          "output_type": "stream",
          "name": "stdout",
          "text": [
            "1\n",
            "16\n",
            "81\n"
          ]
        }
      ]
    },
    {
      "cell_type": "markdown",
      "source": [
        "A keyword argument is a name-value pair that you pass to a function. When writing a function, you can define a default value for each parameter. If an argument for a parameter is provided in the function call, Python uses the argument value. If not, it uses the parameter’s default value. "
      ],
      "metadata": {
        "id": "afporgoW5H3I"
      }
    },
    {
      "cell_type": "code",
      "source": [
        "# You can define functions that take a variable number of\n",
        "# keyword arguments, as well\n",
        "def keyword_args(**kwargs):\n",
        "    return kwargs\n",
        "\n",
        "# keyword arguments are saved in a dict\n",
        "keyword_args(big=\"foot\", loch=\"ness\")  # => {\"big\": \"foot\", \"loch\": \"ness\"}"
      ],
      "metadata": {
        "id": "fSqSvy0TzNYP"
      },
      "execution_count": null,
      "outputs": []
    },
    {
      "cell_type": "code",
      "source": [
        "# extracting the kwarguments from the dict and defining them as variables\n",
        "\n",
        "def function(**kwargs):\n",
        "\n",
        "    for key, value in kwargs.items():\n",
        "        if key == 'transcripts':\n",
        "            raw_transcripts = kwargs[key]\n",
        "        if key == 'intents':\n",
        "            intents = kwargs[key]\n",
        "        if key == 'sem_sigs':\n",
        "            sem_sigs = kwargs[key]\n",
        "        if key == 'entities':\n",
        "            entities = kwargs[key]\n",
        "        if key == 'canonicals':\n",
        "            canonicals = kwargs[key]"
      ],
      "metadata": {
        "id": "pwJ_s4xavnhA"
      },
      "execution_count": null,
      "outputs": []
    },
    {
      "cell_type": "markdown",
      "source": [
        "When writing a function, you can define a default value for each parameter. If an argument for a parameter is provided in the function call, Python uses the argument value. If not, it uses the parameter’s default value."
      ],
      "metadata": {
        "id": "_qNBvZ1DwSMn"
      }
    },
    {
      "cell_type": "code",
      "source": [
        "# You can do both at once, if you like\n",
        "def all_the_args(*args, **kwargs):\n",
        "    print(args)\n",
        "    print(kwargs)\n",
        "\"\"\"\n",
        "all_the_args(1, 2, a=3, b=4) prints:\n",
        "    (1, 2)\n",
        "    {\"a\": 3, \"b\": 4}\n",
        "\"\"\""
      ],
      "metadata": {
        "id": "stl9yPbpvg4c"
      },
      "execution_count": null,
      "outputs": []
    },
    {
      "cell_type": "markdown",
      "source": [
        "https://realpython.com/python-lambda/"
      ],
      "metadata": {
        "id": "VgEGnUfeoGG2"
      }
    },
    {
      "cell_type": "code",
      "source": [
        "# anonymous functions\n",
        "(lambda x: x > 2)(3) #True\n",
        "\n",
        "# There are built-in higher order functions\n",
        "# first class functions\n",
        "def create_adder(x):\n",
        "    def adder(y):\n",
        "        return x + y\n",
        "    return adder\n",
        "\n",
        "add_10 = create_adder(10)\n",
        "add_10(3) # 13\n",
        "\n",
        "# When calling functions, you can do the opposite of args/kwargs!\n",
        "# Use * to expand tuples and use ** to expand kwargs.\n",
        "args = (1, 2, 3, 4)\n",
        "kwargs = {\"a\": 3, \"b\": 4}\n",
        "all_the_args(*args)            # equivalent to all_the_args(1, 2, 3, 4)\n",
        "all_the_args(**kwargs)         # equivalent to all_the_args(a=3, b=4)\n",
        "all_the_args(*args, **kwargs)  # equivalent to all_the_args(1, 2, 3, 4, a=3, b=4)\n",
        "\n",
        "# Returning multiple values (with tuple assignments)\n",
        "def swap(x, y):\n",
        "    return y, x  # Return multiple values as a tuple without the parenthesis.\n",
        "                 # (Note: parenthesis have been excluded but can be included)\n",
        "\n",
        "x = 1\n",
        "y = 2\n",
        "x, y = swap(x, y)     # => x = 2, y = 1\n",
        "# (x, y) = swap(x,y)  # Again parenthesis have been excluded but can be included.\n",
        "\n",
        "# Function Scope\n",
        "x = 5\n",
        "\n",
        "def set_x(num):\n",
        "    # Local var x not the same as global variable x\n",
        "    x = num    # => 43\n",
        "    print(x)   # => 43\n",
        "\n",
        "def set_global_x(num):\n",
        "    global x\n",
        "    print(x)   # => 5\n",
        "    x = num    # global var x is now set to 6\n",
        "    print(x)   # => 6\n",
        "\n",
        "set_x(43)\n",
        "set_global_x(6)\n",
        "\n",
        "\n",
        "# Python has first class functions\n",
        "def create_adder(x):\n",
        "    def adder(y):\n",
        "        return x + y\n",
        "    return adder\n",
        "\n",
        "add_10 = create_adder(10)\n",
        "add_10(3)   # => 13\n",
        "\n",
        "# There are also anonymous functions\n",
        "(lambda x: x > 2)(3)                  # => True\n",
        "(lambda x, y: x ** 2 + y ** 2)(2, 1)  # => 5\n",
        "\n",
        "# There are built-in higher order functions\n",
        "list(map(add_10, [1, 2, 3]))          # => [11, 12, 13]\n",
        "list(map(max, [1, 2, 3], [4, 2, 1]))  # => [4, 2, 3]\n",
        "\n",
        "list(filter(lambda x: x > 5, [3, 4, 5, 6, 7]))  # => [6, 7]\n",
        "\n",
        "garbled = \"IXXX aXXmX aXXXnXoXXXXXtXhXeXXXXrX sXXXXeXcXXXrXeXt mXXeXsXXXsXaXXXXXXgXeX!XX\"\n",
        "message = list(filter(lambda x: x !='X',garbled))\n",
        "\n",
        "# We can use list comprehensions for nice maps and filters\n",
        "# List comprehension stores the output as a list which can itself be a nested list\n",
        "[add_10(i) for i in [1, 2, 3]]         # => [11, 12, 13]\n",
        "[x for x in [3, 4, 5, 6, 7] if x > 5]  # => [6, 7]\n",
        "\n",
        "# You can construct set and dict comprehensions as well.\n",
        "{x for x in 'abcddeef' if x not in 'abc'}  # => {'d', 'e', 'f'}\n",
        "{x: x**2 for x in range(5)}  # => {0: 0, 1: 1, 2: 4, 3: 9, 4: 16}"
      ],
      "metadata": {
        "id": "D1Vl6DRoy6Lv"
      },
      "execution_count": null,
      "outputs": []
    },
    {
      "cell_type": "markdown",
      "source": [
        "## 5. Modules\n"
      ],
      "metadata": {
        "id": "TGW9fF9bcIhb"
      }
    },
    {
      "cell_type": "markdown",
      "source": [
        "The Python standard library is a set of modules included with every Python installation. You can start to use modules like these that other programmers have written."
      ],
      "metadata": {
        "id": "OBgld2KGsNdk"
      }
    },
    {
      "cell_type": "code",
      "source": [
        "# You can import modules\n",
        "import math\n",
        "print(math.sqrt(16))  # => 4.0\n",
        "\n",
        "# You can get specific functions from a module\n",
        "from math import ceil, floor\n",
        "print(ceil(3.7))   # => 4.0\n",
        "print(floor(3.7))  # => 3.0\n",
        "\n",
        "# You can import all functions from a module.\n",
        "# Warning: this is not recommended\n",
        "from math import *\n",
        "\n",
        "# You can shorten module names\n",
        "import math as m\n",
        "math.sqrt(16) == m.sqrt(16)  # => True\n",
        "\n",
        "# Python modules are just ordinary Python files. You\n",
        "# can write your own, and import them. The name of the\n",
        "# module is the same as the name of the file.\n",
        "\n",
        "# You can find out which functions and attributes\n",
        "# are defined in a module.\n",
        "import math\n",
        "dir(math)\n",
        "\n",
        "# If you have a Python script named math.py in the same\n",
        "# folder as your current script, the file math.py will\n",
        "# be loaded instead of the built-in Python module.\n",
        "# This happens because the local folder has priority\n",
        "# over Python's built-in libraries."
      ],
      "metadata": {
        "id": "mbkx8m9FcLsH"
      },
      "execution_count": null,
      "outputs": []
    },
    {
      "cell_type": "markdown",
      "source": [
        "## 6. Classes\n"
      ],
      "metadata": {
        "id": "1UzSnugNcO_x"
      }
    },
    {
      "cell_type": "markdown",
      "source": [
        "In object-oriented programming you write classes that represent real-world things and situations, and you create objects based on these classes. When you write a class, you define the general behavior that a whole category of objects can have.\n",
        "\n",
        "When you create individual objects from the class, each object is automatically equipped with the general behavior; you can then give each object whatever unique traits you desire.\n",
        "\n",
        "Making an object from a class is called *instantiation*, and you work with *instances* of a class."
      ],
      "metadata": {
        "id": "pJJL-ZoQ_hhG"
      }
    },
    {
      "cell_type": "code",
      "source": [
        "class Dog():\n",
        "  \"\"\"A simple attempt to model a dog.\"\"\"\n",
        "\n",
        "  # a class attribute is shared by all instances of this class\n",
        "  species = 'brutus'\n",
        "  \n",
        "  def __init__(self, name, age):\n",
        "    \"\"\"Initialize name and age attributes.\"\"\"\n",
        "    self.name = name\n",
        "    self.age = age\n",
        "    \n",
        "  def sit(self):\n",
        "    \"\"\"Simulate a dog sitting in response to a command.\"\"\"\n",
        "    print(self.name.title() + \" is now sitting.\")\n",
        "  \n",
        "  def roll_over(self):\n",
        "    \"\"\"Simulate rolling over in response to a command.\"\"\"\n",
        "    print(self.name.title() + \" rolled over!\")\n",
        "  \n",
        "  @staticmethod\n",
        "  def bark():\n",
        "    print('Woow.')\n",
        "  \n",
        "  @classmethod\n",
        "  def drool(cls):\n",
        "      return cls.species"
      ],
      "metadata": {
        "id": "OJW8GjzgABbV"
      },
      "execution_count": null,
      "outputs": []
    },
    {
      "cell_type": "markdown",
      "source": [
        "A function that’s part of a class is a method.  The \\__init__() method is a special method Python runs automatically whenever we create a new instance based on a class.\n",
        "\n",
        "Any variable prefixed with self is available to every method in the class, and we’ll also be able to access these variables through any instance created from the class. self.name = name takes the value stored in the parameter name and stores it in the variable name, which is then attached to the instance being created. \n",
        "\n",
        "Variables that are accessible through instances are called attributes."
      ],
      "metadata": {
        "id": "MQgE3ZZp03Da"
      }
    },
    {
      "cell_type": "code",
      "source": [
        "my_dog = Dog('willie', 6)\n",
        "my_dog.name"
      ],
      "metadata": {
        "colab": {
          "base_uri": "https://localhost:8080/"
        },
        "id": "t-rrgH0SM-Du",
        "outputId": "b7eb3e1b-4725-433a-836b-3a260da9bb24"
      },
      "execution_count": null,
      "outputs": [
        {
          "output_type": "execute_result",
          "data": {
            "text/plain": [
              "'willie'"
            ],
            "application/vnd.google.colaboratory.intrinsic+json": {
              "type": "string"
            }
          },
          "metadata": {},
          "execution_count": 3
        }
      ]
    },
    {
      "cell_type": "code",
      "source": [
        "# methods are functions bound to the instance of a class\n",
        "# are also called instance methods\n",
        "my_dog.roll_over()"
      ],
      "metadata": {
        "colab": {
          "base_uri": "https://localhost:8080/"
        },
        "id": "zSkjb1d8NHlm",
        "outputId": "f479919a-4e0a-44e6-b6c5-d49c822459ba"
      },
      "execution_count": null,
      "outputs": [
        {
          "output_type": "stream",
          "name": "stdout",
          "text": [
            "Willie rolled over!\n"
          ]
        }
      ]
    },
    {
      "cell_type": "code",
      "source": [
        "# we cannot use this method without istantiating an object from the class\n",
        "# it need the self argument\n",
        "Dog.roll_over()"
      ],
      "metadata": {
        "colab": {
          "base_uri": "https://localhost:8080/"
        },
        "id": "SIKfC_nyNYta",
        "outputId": "1607d8a1-c51f-45a5-8cc7-778c927d9403"
      },
      "execution_count": null,
      "outputs": [
        {
          "output_type": "error",
          "ename": "TypeError",
          "evalue": "ignored",
          "traceback": [
            "\u001b[0;31m---------------------------------------------------------------------------\u001b[0m",
            "\u001b[0;31mTypeError\u001b[0m                                 Traceback (most recent call last)",
            "\u001b[0;32m<ipython-input-9-a390acd14e4a>\u001b[0m in \u001b[0;36m<module>\u001b[0;34m\u001b[0m\n\u001b[1;32m      1\u001b[0m \u001b[0;31m# we cannot use this method without istantiating an object from the class\u001b[0m\u001b[0;34m\u001b[0m\u001b[0;34m\u001b[0m\u001b[0;34m\u001b[0m\u001b[0m\n\u001b[0;32m----> 2\u001b[0;31m \u001b[0mDog\u001b[0m\u001b[0;34m.\u001b[0m\u001b[0mroll_over\u001b[0m\u001b[0;34m(\u001b[0m\u001b[0;34m)\u001b[0m\u001b[0;34m\u001b[0m\u001b[0;34m\u001b[0m\u001b[0m\n\u001b[0m",
            "\u001b[0;31mTypeError\u001b[0m: roll_over() missing 1 required positional argument: 'self'"
          ]
        }
      ]
    },
    {
      "cell_type": "code",
      "source": [
        "# but it works for a staticmethod\n",
        "Dog.bark()"
      ],
      "metadata": {
        "colab": {
          "base_uri": "https://localhost:8080/"
        },
        "id": "4Yh9xC5LN-sy",
        "outputId": "df9496d9-7761-48f2-e8e5-e40facaa5032"
      },
      "execution_count": null,
      "outputs": [
        {
          "output_type": "stream",
          "name": "stdout",
          "text": [
            "Woow.\n"
          ]
        }
      ]
    },
    {
      "cell_type": "code",
      "source": [
        "# class atributes are not bound to specific instances\n",
        "Dog.species"
      ],
      "metadata": {
        "colab": {
          "base_uri": "https://localhost:8080/"
        },
        "id": "a3SOkewtQldV",
        "outputId": "e26d4a3e-2747-431f-b27e-84f1343891e0"
      },
      "execution_count": null,
      "outputs": [
        {
          "output_type": "execute_result",
          "data": {
            "text/plain": [
              "'brutus'"
            ],
            "application/vnd.google.colaboratory.intrinsic+json": {
              "type": "string"
            }
          },
          "metadata": {},
          "execution_count": 14
        }
      ]
    },
    {
      "cell_type": "code",
      "source": [
        "# just like class methods\n",
        "Dog.drool()"
      ],
      "metadata": {
        "colab": {
          "base_uri": "https://localhost:8080/"
        },
        "id": "9bjJvvYJRawx",
        "outputId": "afb78139-1b31-496e-a886-584872e36008"
      },
      "execution_count": null,
      "outputs": [
        {
          "output_type": "execute_result",
          "data": {
            "text/plain": [
              "'brutus'"
            ],
            "application/vnd.google.colaboratory.intrinsic+json": {
              "type": "string"
            }
          },
          "metadata": {},
          "execution_count": 18
        }
      ]
    },
    {
      "cell_type": "code",
      "source": [
        "# see more detailed explanations here https://julien.danjou.info/guide-python-static-class-abstract-methods/"
      ],
      "metadata": {
        "id": "gKrZcUrYJsCn"
      },
      "execution_count": null,
      "outputs": []
    },
    {
      "cell_type": "markdown",
      "source": [
        "If the class you’re writing is a specialized version of another class you wrote, you can use inheritance. When one class inherits from another, it automatically takes on all the attributes and methods of the first class. The original class is called the parent class, and the new class is the child class. The child class inherits every attribute and method from its parent class but is also free to define new attributes and methods of its own."
      ],
      "metadata": {
        "id": "RKA4cSts22PX"
      }
    },
    {
      "cell_type": "code",
      "source": [
        "class Car():\n",
        "  \"\"\"A simple attempt to represent a car.\"\"\"\n",
        "  \n",
        "  def __init__(self, make, model, year):\n",
        "    self.make = make\n",
        "    self.model = model\n",
        "    self.year = year\n",
        "    self.odometer_reading = 0\n",
        "  \n",
        "  def get_descriptive_name(self):\n",
        "    long_name = str(self.year) + ' ' + self.make + ' ' + self.model\n",
        "    return long_name.title()\n",
        "  \n",
        "  def read_odometer(self):\n",
        "    print(\"This car has \" + str(self.odometer_reading) + \" miles on it.\")\n",
        "    \n",
        "  def update_odometer(self, mileage):\n",
        "    if mileage >= self.odometer_reading:\n",
        "      self.odometer_reading = mileage\n",
        "    else:\n",
        "      print(\"You can't roll back an odometer!\")\n",
        "  \n",
        "  def increment_odometer(self, miles):\n",
        "    self.odometer_reading += miles\n",
        "\n",
        "class ElectricCar(Car):\n",
        "  \"\"\"Represent aspects of a car, specific to electric vehicles.\"\"\"\n",
        "  \n",
        "  def __init__(self, make, model, year):\n",
        "    \"\"\"        Initialize attributes of the parent class.\n",
        "    Then initialize attributes specific to an electric car. \"\"\"\n",
        "    super().__init__(make, model, year)\n",
        "    self.battery_size = 70\n",
        "   \n",
        "  def describe_battery(self):\n",
        "   \"\"\"Print a statement describing the battery size.\"\"\"\n",
        "   print(\"This car has a \" + str(self.battery_size) + \"-kWh battery.\")"
      ],
      "metadata": {
        "id": "da1cLO4hcVuY"
      },
      "execution_count": null,
      "outputs": []
    },
    {
      "cell_type": "markdown",
      "source": [
        "The super() function is a special function that helps Python make connections between the parent and child class. "
      ],
      "metadata": {
        "id": "xSzI0FuGp4d7"
      }
    },
    {
      "cell_type": "code",
      "source": [
        " shitty_tesla = ElectricCar('tesla', 'model s', 2016)\n",
        " print(shitty_tesla.get_descriptive_name())"
      ],
      "metadata": {
        "colab": {
          "base_uri": "https://localhost:8080/"
        },
        "id": "MYcjOG3opkP6",
        "outputId": "0b0be2b3-cf67-481e-94c0-e0ff7154d48f"
      },
      "execution_count": null,
      "outputs": [
        {
          "output_type": "stream",
          "name": "stdout",
          "text": [
            "2016 Tesla Model S\n"
          ]
        }
      ]
    },
    {
      "cell_type": "code",
      "source": [
        "shitty_tesla.describe_battery()"
      ],
      "metadata": {
        "colab": {
          "base_uri": "https://localhost:8080/"
        },
        "id": "fKhag6pHrUOL",
        "outputId": "76b0e693-735f-45c0-b389-6f56402f870d"
      },
      "execution_count": null,
      "outputs": [
        {
          "output_type": "stream",
          "name": "stdout",
          "text": [
            "This car has a 70-kWh battery.\n"
          ]
        }
      ]
    },
    {
      "cell_type": "markdown",
      "source": [
        "You can override any method from the parent class that doesn’t fit what you’re trying to model with the child class. To do this, you define a method in the child class with the same name as the method you want to override in the parent class."
      ],
      "metadata": {
        "id": "dY3ZXRytrhW9"
      }
    },
    {
      "cell_type": "markdown",
      "source": [
        "A single class can also inherit from several classes:"
      ],
      "metadata": {
        "id": "jN_rBB-tcev5"
      }
    },
    {
      "cell_type": "code",
      "source": [
        "# Another class definition\n",
        "# bat.py\n",
        "class Bat:\n",
        "\n",
        "    species = 'Baty'\n",
        "\n",
        "    def __init__(self, can_fly=True):\n",
        "        self.fly = can_fly\n",
        "\n",
        "    # This class also has a say method\n",
        "    def say(self, msg):\n",
        "        msg = '... ... ...'\n",
        "        return msg\n",
        "\n",
        "    # And its own method as well\n",
        "    def sonar(self):\n",
        "        return '))) ... ((('\n",
        "\n",
        "if __name__ == '__main__':\n",
        "    b = Bat()\n",
        "    print(b.say('hello'))\n",
        "    print(b.fly)\n",
        "\n",
        "\n",
        "# And yet another class definition that inherits from Superhero and Bat\n",
        "# superhero.py\n",
        "from superhero import Superhero\n",
        "from bat import Bat\n",
        "\n",
        "# Define Batman as a child that inherits from both Superhero and Bat\n",
        "class Batman(Superhero, Bat):\n",
        "\n",
        "    def __init__(self, *args, **kwargs):\n",
        "        # Typically to inherit attributes you have to call super:\n",
        "        # super(Batman, self).__init__(*args, **kwargs)      \n",
        "        # However we are dealing with multiple inheritance here, and super()\n",
        "        # only works with the next base class in the MRO list.\n",
        "        # So instead we explicitly call __init__ for all ancestors.\n",
        "        # The use of *args and **kwargs allows for a clean way to pass arguments,\n",
        "        # with each parent \"peeling a layer of the onion\".\n",
        "        Superhero.__init__(self, 'anonymous', movie=True, \n",
        "                           superpowers=['Wealthy'], *args, **kwargs)\n",
        "        Bat.__init__(self, *args, can_fly=False, **kwargs)\n",
        "        # override the value for the name attribute\n",
        "        self.name = 'Sad Affleck'\n",
        "\n",
        "    def sing(self):\n",
        "        return 'nan nan nan nan nan batman!'\n",
        "\n",
        "\n",
        "if __name__ == '__main__':\n",
        "    sup = Batman()\n",
        "\n",
        "    # Get the Method Resolution search Order used by both getattr() and super().\n",
        "    # This attribute is dynamic and can be updated\n",
        "    print(Batman.__mro__)       # => (<class '__main__.Batman'>, \n",
        "                                # => <class 'superhero.Superhero'>, \n",
        "                                # => <class 'human.Human'>, \n",
        "                                # => <class 'bat.Bat'>, <class 'object'>)\n",
        "\n",
        "    # Calls parent method but uses its own class attribute\n",
        "    print(sup.get_species())    # => Superhuman\n",
        "\n",
        "    # Calls overridden method\n",
        "    print(sup.sing())           # => nan nan nan nan nan batman!\n",
        "\n",
        "    # Calls method from Human, because inheritance order matters\n",
        "    sup.say('I agree')          # => Sad Affleck: I agree\n",
        "\n",
        "    # Call method that exists only in 2nd ancestor\n",
        "    print(sup.sonar())          # => ))) ... (((\n",
        "\n",
        "    # Inherited class attribute\n",
        "    sup.age = 100\n",
        "    print(sup.age)              # => 100\n",
        "\n",
        "    # Inherited attribute from 2nd ancestor whose default value was overridden.\n",
        "    print('Can I fly? ' + str(sup.fly)) # => Can I fly? False"
      ],
      "metadata": {
        "id": "RsRl1WxTche2"
      },
      "execution_count": null,
      "outputs": []
    },
    {
      "cell_type": "markdown",
      "source": [
        "Class names should be written in CamelCaps. To do this, capitalize the f irst letter of each word in the name, and don’t use underscores. Instance and module names should be written in lowercase with underscores between words.\n",
        "\n",
        "Every class should have a docstring immediately following the class definition. The docstring should be a brief description of what the class does, and you should follow the same formatting conventions you used for writing docstrings in functions. Each module should also have a docstring describing what the classes in a module can be used for. You can use blank lines to organize code, but don’t use them excessively. Within a class you can use one blank line between methods, and within a module you can use two blank lines to separate classes."
      ],
      "metadata": {
        "id": "r_bN2S0HuACj"
      }
    },
    {
      "cell_type": "markdown",
      "source": [
        "## 7. Advanced\n"
      ],
      "metadata": {
        "id": "xIwCutjJckep"
      }
    },
    {
      "cell_type": "markdown",
      "source": [
        "\n",
        "See https://www.youtube.com/watch?v=cKPlPJyQrt4"
      ],
      "metadata": {
        "id": "BiVosyjRDSU4"
      }
    },
    {
      "cell_type": "markdown",
      "source": [
        "**Generators**"
      ],
      "metadata": {
        "id": "KURK7AQ9-dOu"
      }
    },
    {
      "cell_type": "markdown",
      "source": [
        "You can save time and memory by not saving the results of your computation in an object when using a generator."
      ],
      "metadata": {
        "id": "1skNxwa80tIG"
      }
    },
    {
      "cell_type": "code",
      "source": [
        "# Generators are memory-efficient because they only load the data needed to\n",
        "# process the next value in the iterable. This allows them to perform\n",
        "# operations on otherwise prohibitively large value ranges.\n",
        "\n",
        "from time import sleep\n",
        "\n",
        "def compute():\n",
        "  for i in range(10):\n",
        "    sleep(.5)\n",
        "    yield i"
      ],
      "metadata": {
        "id": "rJFk0tiGcnwC"
      },
      "execution_count": null,
      "outputs": []
    },
    {
      "cell_type": "code",
      "source": [
        "for value in compute():\n",
        "  print(value)"
      ],
      "metadata": {
        "id": "wk07x4J82fip"
      },
      "execution_count": null,
      "outputs": []
    },
    {
      "cell_type": "code",
      "source": [
        "# Just as you can create a list comprehension, you can create generator\n",
        "# comprehensions as well.\n",
        "values = (-x for x in [1,2,3,4,5])\n",
        "for x in values:\n",
        "    print(x)  # prints -1 -2 -3 -4 -5 to console/terminal"
      ],
      "metadata": {
        "id": "ZgWB-2GU2Qk_"
      },
      "execution_count": null,
      "outputs": []
    },
    {
      "cell_type": "code",
      "source": [
        "# You can also cast a generator comprehension directly to a list. Why exactly?\n",
        "values = (-x for x in [1,2,3,4,5])\n",
        "gen_to_list = list(values)\n",
        "print(gen_to_list)  # => [-1, -2, -3, -4, -5]"
      ],
      "metadata": {
        "id": "v9FbE7Aa2NB4"
      },
      "execution_count": null,
      "outputs": []
    },
    {
      "cell_type": "markdown",
      "source": [
        "**Decorators**"
      ],
      "metadata": {
        "id": "T6v3slIJ-fso"
      }
    },
    {
      "cell_type": "markdown",
      "source": [
        "Python’s decorators are a handy way to modify functions. Decorators were first  introduced with the classmethod() and staticmethod().\n",
        "\n",
        "Along with these two original decorators, Python now provides a few right out of the box and supports the simple creation of custom decorators.\n",
        "\n",
        "A decorator is a function that takes another function as an argument and replaces it with a new, modified function. The primary use case for decorators is in factoring common code that needs to be called before, after, or around multiple functions.\n"
      ],
      "metadata": {
        "id": "r_E7Adid-jY-"
      }
    },
    {
      "cell_type": "code",
      "source": [
        "# Decorators\n",
        "# In this example `beg` wraps `say`. If say_please is True then it\n",
        "# will change the returned message.\n",
        "#from functools import wraps\n",
        "\n",
        "\n",
        "def beg(target_function):\n",
        "    #@wraps(target_function)\n",
        "    def wrapper(*args, **kwargs):\n",
        "        msg, say_please = target_function(*args, **kwargs)\n",
        "        if say_please:\n",
        "            return \"{} {}\".format(msg, \"Please! I am poor :(\")\n",
        "        return msg\n",
        "\n",
        "    return wrapper\n",
        "\n",
        "\n",
        "@beg\n",
        "def say(say_please=False):\n",
        "    msg = \"Can you buy me a beer?\"\n",
        "    return msg, say_please\n",
        "\n",
        "\n",
        "print(say())                 # Can you buy me a beer?\n",
        "print(say(say_please=True))  # Can you buy me a beer? Please! I am poor :("
      ],
      "metadata": {
        "colab": {
          "base_uri": "https://localhost:8080/"
        },
        "id": "jG3Pn1ln-iJ5",
        "outputId": "ce25aa16-1134-4e76-b929-606cddf0eb03"
      },
      "execution_count": null,
      "outputs": [
        {
          "output_type": "stream",
          "name": "stdout",
          "text": [
            "Can you buy me a beer?\n",
            "Can you buy me a beer? Please! I am poor :(\n"
          ]
        }
      ]
    },
    {
      "cell_type": "markdown",
      "source": [
        "# Common use cases"
      ],
      "metadata": {
        "id": "zmV2r4mPv8Ug"
      }
    },
    {
      "cell_type": "markdown",
      "source": [
        "## Documentation"
      ],
      "metadata": {
        "id": "SdYy9R3x6bjy"
      }
    },
    {
      "cell_type": "markdown",
      "source": [
        "Documentation is one of the most important parts of writing software. Unfortunately, a lot of projects don’t provide proper documentation. One of the biggest reasons for sparse or nonexistent documentation is that many people assume the only way to document code is by hand.\n",
        "\n",
        "It’s not only possible to put your documentation directly in the code itself, but it’s also simple to convert that documentation into easy-to-read HTML and PDF files.\n",
        "\n",
        "The most common format for Python documentation is reStructuredText, or reST for short. It’s a lightweight markup language (like Markdown) that’s as easy to read and write for humans as it is for computers. Sphinx is the most commonly used tool for working with this format; Sphinx can read reST-formatted content and output documentation in a variety of other formats."
      ],
      "metadata": {
        "id": "kjvxXwKb6eFl"
      }
    },
    {
      "cell_type": "markdown",
      "source": [
        "https://idratherbewriting.com/learnapidoc/pubapis_which_tool_to_choose.html"
      ],
      "metadata": {
        "id": "FygLGi3k867t"
      }
    },
    {
      "cell_type": "markdown",
      "source": [
        "https://github.com/facebook/docusaurus"
      ],
      "metadata": {
        "id": "ZlmHwF9E8WDy"
      }
    },
    {
      "cell_type": "markdown",
      "source": [
        "## Style checks with linters"
      ],
      "metadata": {
        "id": "O6TgvoTM3_Sm"
      }
    },
    {
      "cell_type": "markdown",
      "source": [
        "Python folks, in their vast wisdom, came up with the PEP 8: Style Guide for Python Code (https://www.python.org/dev/peps/pep-0008/). This document defines the standard style for writing Python code. "
      ],
      "metadata": {
        "id": "ltvxEPGl4DNE"
      }
    },
    {
      "cell_type": "markdown",
      "source": [
        "![image.png](data:image/png;base64,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)"
      ],
      "metadata": {
        "id": "3xUBWik04qMq"
      }
    },
    {
      "cell_type": "markdown",
      "source": [
        "There’s a pep8 tool (found at https://pypi.org/project/pep8/) that can automatically check any Python file you send its way. Install pep8 with pip, and then you can use it on a file like so: "
      ],
      "metadata": {
        "id": "O9vGrWRJ45-v"
      }
    },
    {
      "cell_type": "code",
      "source": [
        "!pep8 hello.py"
      ],
      "metadata": {
        "id": "oY791OX448DS"
      },
      "execution_count": null,
      "outputs": []
    },
    {
      "cell_type": "markdown",
      "source": [
        "But there are many other linters too: https://inventwithpython.com/blog/2022/11/19/python-linter-comparison-2022-pylint-vs-pyflakes-vs-flake8-vs-autopep8-vs-bandit-vs-prospector-vs-pylama-vs-pyroma-vs-black-vs-mypy-vs-radon-vs-mccabe/"
      ],
      "metadata": {
        "id": "nprnjZGb5L6D"
      }
    },
    {
      "cell_type": "markdown",
      "source": [
        "You can set-up the corresponding plugin in VSCode directly to re-format your code on save. See https://dev.to/adamlombard/how-to-use-the-black-python-code-formatter-in-vscode-3lo0"
      ],
      "metadata": {
        "id": "ATgjjoZd5bil"
      }
    },
    {
      "cell_type": "markdown",
      "source": [
        "## Common libraries"
      ],
      "metadata": {
        "id": "Z61l06TjVT5S"
      }
    },
    {
      "cell_type": "markdown",
      "source": [
        "Whenever you’re tempted to write your own function to handle a simple task, first stop and look through the standard library. In fact, skim through the whole thing at least once."
      ],
      "metadata": {
        "id": "2ZwnM892XCfb"
      }
    },
    {
      "cell_type": "markdown",
      "source": [
        "![image.png](data:image/png;base64,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)"
      ],
      "metadata": {
        "id": "bxRuTtzIXn-T"
      }
    },
    {
      "cell_type": "markdown",
      "source": [
        "The Python Standard Library is safe, well-charted territory: its modules are heavily documented, and enough people use it on a regular basis that you can feel assured it won’t break messily when you give it a try.\n",
        "\n",
        "External libraries, on the other hand, are the parts of the map labeled “here there be dragons”: documentation may be sparse, functionality may be buggy, and updates may be sporadic or even nonexistent. "
      ],
      "metadata": {
        "id": "Tggh6rYUX2_h"
      }
    },
    {
      "cell_type": "markdown",
      "source": [
        "**sys**"
      ],
      "metadata": {
        "id": "rSFDZrHEYrT8"
      }
    },
    {
      "cell_type": "markdown",
      "source": [
        "The sys module provides access to variables and functions related to Python itself and the operating system it is running on. This module also contains a lot of information about Python’s import system. "
      ],
      "metadata": {
        "id": "0qJD_EJKVm6n"
      }
    },
    {
      "cell_type": "code",
      "source": [
        "import sys\n",
        "sys.modules['os']\n",
        "sys.modules.keys()\n",
        "sys.builtin_module_names\n",
        "sys.stdout\n",
        "sys.stderr"
      ],
      "metadata": {
        "id": "4WcLzbJ9VqyG"
      },
      "execution_count": null,
      "outputs": []
    },
    {
      "cell_type": "markdown",
      "source": [
        "To check which paths your interpreter will search for modules, just enter:"
      ],
      "metadata": {
        "id": "x4skFczXWHLh"
      }
    },
    {
      "cell_type": "code",
      "source": [
        "sys.path"
      ],
      "metadata": {
        "id": "qSzdu0atWIjZ"
      },
      "execution_count": null,
      "outputs": []
    },
    {
      "cell_type": "code",
      "source": [
        "sys.path.append('/foo/bar')"
      ],
      "metadata": {
        "id": "0TpKDv6LWc5m"
      },
      "execution_count": null,
      "outputs": []
    },
    {
      "cell_type": "markdown",
      "source": [
        "Adding paths to the sys.path variable can be useful if you want to install Python modules to nonstandard locations, such as a test environment."
      ],
      "metadata": {
        "id": "cC1pgpYdWVU-"
      }
    },
    {
      "cell_type": "markdown",
      "source": [
        "It’s important to note that the list will be iterated over to find the requested module, so the order of the paths in sys.path is important. It’s useful to put the path most likely to contain the modules you are importing early in the list to speed up search time. Doing so also ensures that if two modules with the same name are available, the first match will be picked"
      ],
      "metadata": {
        "id": "46IFAv4CWsQZ"
      }
    },
    {
      "cell_type": "code",
      "source": [
        "sys.platform"
      ],
      "metadata": {
        "colab": {
          "base_uri": "https://localhost:8080/",
          "height": 36
        },
        "id": "3lZM1VDkdx0a",
        "outputId": "1a3c8454-d86f-4a8e-e59e-ce53dd4f87e2"
      },
      "execution_count": null,
      "outputs": [
        {
          "output_type": "execute_result",
          "data": {
            "text/plain": [
              "'linux'"
            ],
            "application/vnd.google.colaboratory.intrinsic+json": {
              "type": "string"
            }
          },
          "metadata": {},
          "execution_count": 3
        }
      ]
    },
    {
      "cell_type": "code",
      "source": [
        "sys.exit(1)"
      ],
      "metadata": {
        "id": "bkIie3fXfHZY"
      },
      "execution_count": null,
      "outputs": []
    },
    {
      "cell_type": "markdown",
      "source": [
        "**pip**"
      ],
      "metadata": {
        "id": "hFUS3pLnY1WQ"
      }
    },
    {
      "cell_type": "markdown",
      "source": [
        "The pip project offers a really simple way to handle package and external library installations. By looking it up on the PyPI distribution index, where anyone can upload a package for distribution and installation by others, pip install can install any package."
      ],
      "metadata": {
        "id": "0LpU5tYqYmRP"
      }
    },
    {
      "cell_type": "markdown",
      "source": [
        "You can also provide a --user option that makes pip install the package in your home directory. This avoids polluting your operating system directories with packages installed system-wide."
      ],
      "metadata": {
        "id": "RegUAhGLZQuu"
      }
    },
    {
      "cell_type": "code",
      "source": [
        "pip install\n",
        "pip unistall"
      ],
      "metadata": {
        "id": "Z4A8ACXLZdlM"
      },
      "execution_count": null,
      "outputs": []
    },
    {
      "cell_type": "code",
      "source": [
        "# list imstalled packages\n",
        "pip freeze"
      ],
      "metadata": {
        "id": "wKa4E7xBZUhd"
      },
      "execution_count": null,
      "outputs": []
    },
    {
      "cell_type": "code",
      "source": [
        "# itertools.chain()\n",
        "# abc\n",
        "# os"
      ],
      "metadata": {
        "id": "Oxqgc7_1bE3C"
      },
      "execution_count": null,
      "outputs": []
    },
    {
      "cell_type": "markdown",
      "source": [
        "**OS**"
      ],
      "metadata": {
        "id": "2eb3JwYPET2I"
      }
    },
    {
      "cell_type": "code",
      "source": [
        "import os\n",
        "\n",
        "# get current working directory\n",
        "os.getcwd()\n",
        "\n",
        "# append current directory to a file's name\n",
        "os.path.abspath('test.wav')\n",
        "\n",
        "# check for file existance\n",
        "if os.path.isfile(file_path):\n",
        "  pass\n",
        "# check for dir existance\n",
        "if os.path.isdir(source_location):\n",
        "  pass\n",
        "\n",
        "# check if folder exists and create it if not\n",
        "if not os.path.exists(file_dir):\n",
        "  os.makedirs(file_dir)\n",
        "\n",
        "# concatenate path parts\n",
        "complete_path = os.path.join(first_part, second_part)\n",
        "\n",
        "# split path parts\n",
        "beginning, end = os.path.split(complete_path)\n",
        "\n",
        "# split the extension\n",
        "file, extension = os.path.splitext(path)\n",
        "\n",
        "# get a list of all files in a dir\n",
        "for file in os.listdir(path):\n",
        "  if file.endswith('.txt'):\n",
        "    to_delete_list.append(file)\n",
        "\n",
        "# delete file\n",
        "for file in to_delete_list:\n",
        "  os.remove(os.path.join(path, file))"
      ],
      "metadata": {
        "id": "5ygNkSb9EK9_"
      },
      "execution_count": null,
      "outputs": []
    },
    {
      "cell_type": "code",
      "source": [
        "os.path.abspath('file_name')\n",
        "os.path.exists()\n",
        "os.path.isdir()\n",
        "os.path.isfile()\n",
        "os.path.join()\n",
        "os.path.split()\n",
        "os.path.splitext()\n",
        "os.listdir()\n",
        "os.getcwd()\n",
        "os.makedirs() # just use this\n",
        "os.mkdir() # error prone"
      ],
      "metadata": {
        "id": "bmjujo29Pdta"
      },
      "execution_count": null,
      "outputs": []
    },
    {
      "cell_type": "markdown",
      "source": [
        "**Process bars**"
      ],
      "metadata": {
        "id": "zSukRKcSNa_c"
      }
    },
    {
      "cell_type": "code",
      "source": [
        "from tqdm import tqdm\n",
        "\n",
        "for i, element in enumerate(tqdm(list)):\n",
        "  pass"
      ],
      "metadata": {
        "id": "37k7GwesNfDw"
      },
      "execution_count": null,
      "outputs": []
    },
    {
      "cell_type": "markdown",
      "source": [
        "**Time**"
      ],
      "metadata": {
        "id": "xcfU2hCiy4uF"
      }
    },
    {
      "cell_type": "code",
      "source": [
        "from time import time\n",
        "from time import sleep"
      ],
      "metadata": {
        "id": "4i-T2qU-y6MB"
      },
      "execution_count": null,
      "outputs": []
    },
    {
      "cell_type": "markdown",
      "source": [
        "**Virtual environment**\n",
        "\n",
        "https://stackoverflow.com/questions/41573587/what-is-the-difference-between-venv-pyvenv-pyenv-virtualenv-virtualenvwrappe\n",
        "\n",
        "Short version: use virtualenv; pyenv is for running different python versions, which you don't neccessarily need for simple scripts programming, pyenv-virtualenv is just a plugin to use pyenv together with virtualenv."
      ],
      "metadata": {
        "id": "mT8g0YPR18vO"
      }
    },
    {
      "cell_type": "markdown",
      "source": [
        "## Scripts with argparse"
      ],
      "metadata": {
        "id": "dp6EgZ63eN1U"
      }
    },
    {
      "cell_type": "code",
      "source": [
        "import argparse\n",
        "\n",
        "\n",
        "if __name__ == \"__main__\":\n",
        "\n",
        "    ''' update source grammar file(s) and save them to a corresponding subfolder.'''\n",
        "\n",
        "    parser = argparse.ArgumentParser(description='Update a NR9 grammar to a \\\n",
        "        NR10/11 grammar.')\n",
        "\n",
        "    parser.add_argument('-s', '--source', required=True, help=\"Folder \\\n",
        "        containing the scource grammars.\")\n",
        "    parser.add_argument('-t', '--target', default='updated', help=\"Subfolder \\\n",
        "        for the updated grammars.\")\n",
        "    parser.add_argument('-c', '--color', choices=['red', 'yellow'], required=False, \\\n",
        "                        help='Constraining the color.')\n",
        "    args = parser.parse_args()\n",
        "\n",
        "    main(args)"
      ],
      "metadata": {
        "id": "B42_GVT0eUOC"
      },
      "execution_count": null,
      "outputs": []
    },
    {
      "cell_type": "code",
      "source": [
        "source_location = args.source\n",
        "updated_location = args.target"
      ],
      "metadata": {
        "id": "1yXlAVKpD76W"
      },
      "execution_count": null,
      "outputs": []
    },
    {
      "cell_type": "markdown",
      "source": [
        "## Logging"
      ],
      "metadata": {
        "id": "WPpWG1GtjscP"
      }
    },
    {
      "cell_type": "markdown",
      "source": [
        "https://docs.python.org/3/library/logging.html"
      ],
      "metadata": {
        "id": "5zFz4I2Gqbj1"
      }
    },
    {
      "cell_type": "markdown",
      "source": [
        "The logging module provides a flexible and configurable logging system for Python programs. Here's an example of how you can set up a logger:"
      ],
      "metadata": {
        "id": "j3jw5igjQ1fx"
      }
    },
    {
      "cell_type": "code",
      "source": [
        "import logging\n",
        "\n",
        "# Configure the logger\n",
        "logging.basicConfig(\n",
        "    level=logging.DEBUG,  # Set the logging level\n",
        "    format='%(asctime)s - %(name)s - %(levelname)s - %(message)s',  # Set the log format\n",
        "    filename='app.log',  # Set the log file name (optional)\n",
        "    filemode='w'  # Set the log file mode (optional)\n",
        ")\n",
        "\n",
        "# Create a logger instance\n",
        "logger = logging.getLogger('my_logger')\n",
        "\n",
        "# Log messages\n",
        "logger.debug('Debug message')\n",
        "logger.info('Info message')\n",
        "logger.warning('Warning message')\n",
        "logger.error('Error message')"
      ],
      "metadata": {
        "id": "M3CMtW75Q2Si"
      },
      "execution_count": null,
      "outputs": []
    },
    {
      "cell_type": "markdown",
      "source": [
        "In this example, the logging configuration is set using logging.basicConfig(). The level parameter sets the logging level, which determines the verbosity of the logs. Common levels include DEBUG, INFO, WARNING, ERROR, and CRITICAL.\n",
        "\n",
        "The format parameter specifies the format of the log messages. The format string can include various placeholders such as %(asctime)s for the timestamp, %(name)s for the logger name, %(levelname)s for the log level, and %(message)s for the log message itself.\n",
        "\n",
        "You can also specify a filename parameter to save the logs to a file. If filename is not provided, the logs will be printed to the console by default. The filemode parameter sets the mode for writing to the log file, where 'w' means overwriting the file each time ('a' can be used to append logs).\n",
        "\n",
        "Once the logger is configured, you can create an instance of the logger using logging.getLogger('logger_name'), where 'logger_name' can be any name you choose.\n",
        "\n",
        "Finally, you can use the logger instance to log messages at different levels (debug(), info(), warning(), error(), etc.). The logs will be processed according to the configured logging level."
      ],
      "metadata": {
        "id": "IhJ_MQ36S3Xf"
      }
    },
    {
      "cell_type": "markdown",
      "source": [
        "### Simple example"
      ],
      "metadata": {
        "id": "p4aDEeRQwJjC"
      }
    },
    {
      "cell_type": "markdown",
      "source": [
        "Using the root logger explicitly"
      ],
      "metadata": {
        "id": "S6eo361Ix2rj"
      }
    },
    {
      "cell_type": "code",
      "execution_count": null,
      "metadata": {
        "id": "rjvm7urpv3FA"
      },
      "outputs": [],
      "source": [
        "import logging"
      ]
    },
    {
      "cell_type": "code",
      "source": [
        "root_logger = logging.getLogger()\n",
        "print(root_logger.handlers)\n",
        "root_logger.warning('warn from root')"
      ],
      "metadata": {
        "colab": {
          "base_uri": "https://localhost:8080/"
        },
        "id": "yX4wb8PcfHL0",
        "outputId": "de0c0a00-8821-4f27-dabf-724d1f3f5a67"
      },
      "execution_count": null,
      "outputs": [
        {
          "output_type": "stream",
          "name": "stderr",
          "text": [
            "WARNING:root:warn from root\n"
          ]
        },
        {
          "output_type": "stream",
          "name": "stdout",
          "text": [
            "[<StreamHandler stderr (NOTSET)>]\n"
          ]
        }
      ]
    },
    {
      "cell_type": "markdown",
      "source": [
        "Using the root logger implicitly"
      ],
      "metadata": {
        "id": "E_BmfdbrwTrw"
      }
    },
    {
      "cell_type": "code",
      "source": [
        "logging.warning('warn from root')"
      ],
      "metadata": {
        "colab": {
          "base_uri": "https://localhost:8080/"
        },
        "id": "6QuohWd6wSyO",
        "outputId": "ed817f1d-3379-4374-b85b-cebfb4655c6a"
      },
      "execution_count": null,
      "outputs": [
        {
          "output_type": "stream",
          "name": "stderr",
          "text": [
            "WARNING:root:warn from root\n"
          ]
        }
      ]
    },
    {
      "cell_type": "markdown",
      "source": [
        "Why is there a difference above?"
      ],
      "metadata": {
        "id": "7Gk54kxL9JW1"
      }
    },
    {
      "cell_type": "markdown",
      "source": [
        " Also logs by default is to stderr (which is default for StreamHandler)."
      ],
      "metadata": {
        "id": "vHJxjEpKNFJV"
      }
    },
    {
      "cell_type": "markdown",
      "source": [
        "Normal usage in code"
      ],
      "metadata": {
        "id": "e8n6r4y68lEf"
      }
    },
    {
      "cell_type": "code",
      "source": [
        "my_logger = logging.getLogger(__name__)\n",
        "my_logger.error('something bad happened')"
      ],
      "metadata": {
        "id": "2HfzYHAu8kR4",
        "colab": {
          "base_uri": "https://localhost:8080/"
        },
        "outputId": "da975ed7-f50c-4343-eaed-4eab2209825f"
      },
      "execution_count": null,
      "outputs": [
        {
          "output_type": "stream",
          "name": "stderr",
          "text": [
            "ERROR:__main__:something bad happened\n"
          ]
        }
      ]
    },
    {
      "cell_type": "markdown",
      "source": [
        "### Log levels"
      ],
      "metadata": {
        "id": "qGdRy_WV7IMn"
      }
    },
    {
      "cell_type": "code",
      "source": [
        "print(f'WARNING is: {logging.WARNING}')\n",
        "print(f'ERROR is: {logging.ERROR}')"
      ],
      "metadata": {
        "id": "vduzLuAZ7PC-",
        "colab": {
          "base_uri": "https://localhost:8080/"
        },
        "outputId": "3ca209cf-6121-41e2-8453-5830b5364cd3"
      },
      "execution_count": null,
      "outputs": [
        {
          "output_type": "stream",
          "name": "stdout",
          "text": [
            "WARNING is: 30\n",
            "ERROR is: 40\n"
          ]
        }
      ]
    },
    {
      "cell_type": "code",
      "source": [
        "new_logger = logging.getLogger('first-time-logger')\n",
        "print(new_logger.level)\n",
        "print(logging.getLevelName(new_logger.level))"
      ],
      "metadata": {
        "id": "Kq0pdjnt8W6F",
        "colab": {
          "base_uri": "https://localhost:8080/"
        },
        "outputId": "28f69f9d-3adb-44cd-ed8c-3a228d544863"
      },
      "execution_count": null,
      "outputs": [
        {
          "output_type": "stream",
          "name": "stdout",
          "text": [
            "0\n",
            "NOTSET\n"
          ]
        }
      ]
    },
    {
      "cell_type": "code",
      "source": [
        "root_logger = logging.getLogger()\n",
        "print(logging.getLevelName(root_logger.level))"
      ],
      "metadata": {
        "id": "M30dPKch9YFw",
        "colab": {
          "base_uri": "https://localhost:8080/"
        },
        "outputId": "6f8fa4ca-cbe0-4abf-c472-37fa20bd70c0"
      },
      "execution_count": null,
      "outputs": [
        {
          "output_type": "stream",
          "name": "stdout",
          "text": [
            "WARNING\n"
          ]
        }
      ]
    },
    {
      "cell_type": "code",
      "source": [
        "print(logging.getLevelName(0))\n",
        "print(logging.getLevelName('NOTSET'))"
      ],
      "metadata": {
        "colab": {
          "base_uri": "https://localhost:8080/"
        },
        "id": "ruCGr7bw-55p",
        "outputId": "126632f6-77e3-42d4-b496-61bbf04be824"
      },
      "execution_count": null,
      "outputs": [
        {
          "output_type": "stream",
          "name": "stdout",
          "text": [
            "NOTSET\n",
            "0\n"
          ]
        }
      ]
    },
    {
      "cell_type": "markdown",
      "source": [
        "### Logger hierarchy"
      ],
      "metadata": {
        "id": "9GhF2sy291mk"
      }
    },
    {
      "cell_type": "code",
      "source": [
        "rasa_logger = logging.getLogger('rasa')\n",
        "rasa_cli_logger = logging.getLogger('rasa.cli')\n",
        "\n",
        "rasa_logger.warning('warning from rasa logger')\n",
        "rasa_cli_logger.warning('warning from rasa cli logger')"
      ],
      "metadata": {
        "colab": {
          "base_uri": "https://localhost:8080/"
        },
        "id": "Zp9Vrdgo93vh",
        "outputId": "c75f4da1-935c-46e5-e82c-0ce335dbb49b"
      },
      "execution_count": null,
      "outputs": [
        {
          "output_type": "stream",
          "name": "stderr",
          "text": [
            "WARNING:rasa:warning from rasa logger\n",
            "WARNING:rasa.cli:warning from rasa cli logger\n"
          ]
        }
      ]
    },
    {
      "cell_type": "code",
      "source": [
        "rasa_formatter = logging.Formatter(\n",
        "    'RASA - %(asctime)s - %(name)s - %(levelname)s - %(message)s'\n",
        ")\n",
        "rasa_handler = logging.StreamHandler()\n",
        "rasa_handler.setFormatter(rasa_formatter)\n",
        "rasa_logger.addHandler(rasa_handler)"
      ],
      "metadata": {
        "id": "UMIkrIxI-j6q"
      },
      "execution_count": null,
      "outputs": []
    },
    {
      "cell_type": "code",
      "source": [
        "rasa_logger.warning('warning from rasa logger')\n",
        "print(rasa_logger.level)\n",
        "print(rasa_logger.getEffectiveLevel())"
      ],
      "metadata": {
        "colab": {
          "base_uri": "https://localhost:8080/"
        },
        "id": "IPx_ODSEAWWo",
        "outputId": "540950e3-e8af-4da0-8b24-4d581272ebf2"
      },
      "execution_count": null,
      "outputs": [
        {
          "output_type": "stream",
          "name": "stderr",
          "text": [
            "RASA - 2022-01-14 15:35:47,762 - rasa - WARNING - warning from rasa logger\n",
            "WARNING:rasa:warning from rasa logger\n"
          ]
        },
        {
          "output_type": "stream",
          "name": "stdout",
          "text": [
            "0\n",
            "30\n"
          ]
        }
      ]
    },
    {
      "cell_type": "code",
      "source": [
        "rasa_cli_formatter = logging.Formatter(\n",
        "    'RASA CLI - %(asctime)s - %(name)s - %(levelname)s - %(message)s'\n",
        ")\n",
        "rasa_cli_handler = logging.StreamHandler()\n",
        "rasa_cli_handler.setFormatter(rasa_cli_formatter)\n",
        "rasa_cli_logger.addHandler(rasa_cli_handler)"
      ],
      "metadata": {
        "id": "iTBs2Pus_Stu"
      },
      "execution_count": null,
      "outputs": []
    },
    {
      "cell_type": "code",
      "source": [
        "rasa_cli_logger.warning('warning from rasa cli logger')"
      ],
      "metadata": {
        "colab": {
          "base_uri": "https://localhost:8080/"
        },
        "id": "-4VNkKBkAapt",
        "outputId": "fecd4300-ab98-4c0b-dcec-572f821c060e"
      },
      "execution_count": null,
      "outputs": [
        {
          "output_type": "stream",
          "name": "stderr",
          "text": [
            "RASA CLI - 2022-01-14 15:38:06,994 - rasa.cli - WARNING - warning from rasa cli logger\n",
            "RASA - 2022-01-14 15:38:06,994 - rasa.cli - WARNING - warning from rasa cli logger\n",
            "WARNING:rasa.cli:warning from rasa cli logger\n"
          ]
        }
      ]
    },
    {
      "cell_type": "code",
      "source": [
        "rasa_cli_logger.error('error from rasa cli logger')"
      ],
      "metadata": {
        "id": "FLKBnNdPfcYj",
        "colab": {
          "base_uri": "https://localhost:8080/"
        },
        "outputId": "bcead992-8971-4118-e62f-64e493895699"
      },
      "execution_count": null,
      "outputs": [
        {
          "output_type": "stream",
          "name": "stderr",
          "text": [
            "RASA CLI - 2022-01-14 15:38:32,350 - rasa.cli - ERROR - error from rasa cli logger\n",
            "RASA - 2022-01-14 15:38:32,350 - rasa.cli - ERROR - error from rasa cli logger\n",
            "ERROR:rasa.cli:error from rasa cli logger\n"
          ]
        }
      ]
    },
    {
      "cell_type": "markdown",
      "source": [
        "Remember the flow diagram? Logger levels are only used once, when the logger first receives the message; but nowhere else on the hierarchy."
      ],
      "metadata": {
        "id": "FCTlIFqJKFPH"
      }
    },
    {
      "cell_type": "code",
      "source": [
        "rasa_cli_logger.setLevel('DEBUG')\n",
        "rasa_logger.setLevel('ERROR')"
      ],
      "metadata": {
        "id": "DZlljYBjKREP"
      },
      "execution_count": null,
      "outputs": []
    },
    {
      "cell_type": "markdown",
      "source": [
        "What happens to parent loggers? Do they handle the message?"
      ],
      "metadata": {
        "id": "vsduToK_LoQn"
      }
    },
    {
      "cell_type": "code",
      "source": [
        "rasa_cli_logger.debug('debug from rasa cli logger')"
      ],
      "metadata": {
        "colab": {
          "base_uri": "https://localhost:8080/"
        },
        "id": "JNrEhKzAKbhk",
        "outputId": "317e264d-07b7-4ffd-d77a-a14d91b65e1b"
      },
      "execution_count": null,
      "outputs": [
        {
          "output_type": "stream",
          "name": "stderr",
          "text": [
            "RASA CLI - 2022-01-14 15:40:32,137 - rasa.cli - DEBUG - debug from rasa cli logger\n",
            "RASA - 2022-01-14 15:40:32,137 - rasa.cli - DEBUG - debug from rasa cli logger\n",
            "DEBUG:rasa.cli:debug from rasa cli logger\n"
          ]
        }
      ]
    },
    {
      "cell_type": "markdown",
      "source": [
        "What do you expect to be printed here?"
      ],
      "metadata": {
        "id": "er0oK2HfLk0A"
      }
    },
    {
      "cell_type": "code",
      "source": [
        "rasa_logger.warning('debug from rasa logger')\n",
        "print('wat?')"
      ],
      "metadata": {
        "colab": {
          "base_uri": "https://localhost:8080/",
          "height": 183
        },
        "id": "91P1oF0wLIS3",
        "outputId": "0e92fa98-4252-43de-cf3c-503b4d5ea6b5"
      },
      "execution_count": null,
      "outputs": [
        {
          "output_type": "error",
          "ename": "NameError",
          "evalue": "ignored",
          "traceback": [
            "\u001b[0;31m---------------------------------------------------------------------------\u001b[0m",
            "\u001b[0;31mNameError\u001b[0m                                 Traceback (most recent call last)",
            "\u001b[0;32m<ipython-input-6-3e8ce6be27fb>\u001b[0m in \u001b[0;36m<module>\u001b[0;34m\u001b[0m\n\u001b[0;32m----> 1\u001b[0;31m \u001b[0mrasa_logger\u001b[0m\u001b[0;34m.\u001b[0m\u001b[0mwarning\u001b[0m\u001b[0;34m(\u001b[0m\u001b[0;34m'debug from rasa logger'\u001b[0m\u001b[0;34m)\u001b[0m\u001b[0;34m\u001b[0m\u001b[0;34m\u001b[0m\u001b[0m\n\u001b[0m\u001b[1;32m      2\u001b[0m \u001b[0mprint\u001b[0m\u001b[0;34m(\u001b[0m\u001b[0;34m'wat?'\u001b[0m\u001b[0;34m)\u001b[0m\u001b[0;34m\u001b[0m\u001b[0;34m\u001b[0m\u001b[0m\n",
            "\u001b[0;31mNameError\u001b[0m: name 'rasa_logger' is not defined"
          ]
        }
      ]
    },
    {
      "cell_type": "markdown",
      "source": [
        "### exception vs error"
      ],
      "metadata": {
        "id": "_1ad3mfVfpSH"
      }
    },
    {
      "cell_type": "code",
      "source": [
        "logging.error('hej')"
      ],
      "metadata": {
        "colab": {
          "base_uri": "https://localhost:8080/"
        },
        "id": "F4qw0exKgPb0",
        "outputId": "555b5f64-0d6c-4dca-d98d-1960d00cf826"
      },
      "execution_count": null,
      "outputs": [
        {
          "output_type": "stream",
          "name": "stderr",
          "text": [
            "ERROR:root:hej\n"
          ]
        }
      ]
    },
    {
      "cell_type": "code",
      "source": [
        "logging.exception('hej')"
      ],
      "metadata": {
        "colab": {
          "base_uri": "https://localhost:8080/"
        },
        "id": "L8rG6yPIgQe5",
        "outputId": "159e6267-9514-4154-eb22-6008ca080dae"
      },
      "execution_count": null,
      "outputs": [
        {
          "output_type": "stream",
          "name": "stderr",
          "text": [
            "ERROR:root:hej\n",
            "NoneType: None\n"
          ]
        }
      ]
    },
    {
      "cell_type": "markdown",
      "source": [
        "Log levels seem to be the same, but... What's this `NoneType` thing on the second line above?"
      ],
      "metadata": {
        "id": "wO3lby8ehCUy"
      }
    },
    {
      "cell_type": "code",
      "source": [
        "try: \n",
        "   42/0 \n",
        "except: \n",
        "   logging.error('division by zero!') \n",
        "   logging.exception('div by zero')"
      ],
      "metadata": {
        "colab": {
          "base_uri": "https://localhost:8080/"
        },
        "id": "6ZVXAArigSn0",
        "outputId": "304f78d4-1a5b-433f-df9b-6608aa75c59a"
      },
      "execution_count": null,
      "outputs": [
        {
          "output_type": "stream",
          "name": "stderr",
          "text": [
            "ERROR:root:division by zero!\n",
            "ERROR:root:div by zero\n",
            "Traceback (most recent call last):\n",
            "  File \"<ipython-input-21-5c018f45e6dc>\", line 2, in <module>\n",
            "    42/0\n",
            "ZeroDivisionError: division by zero\n"
          ]
        }
      ]
    },
    {
      "cell_type": "markdown",
      "source": [
        "Exception and stack trace is automatically populated when you use `logging.exception` like above, but you can also do this explicitly for any kind of level. Eg:"
      ],
      "metadata": {
        "id": "LobrQRLQkYl2"
      }
    },
    {
      "cell_type": "code",
      "source": [
        "my_exc = ZeroDivisionError('oh noes')\n",
        "logging.warning('just an info', exc_info=my_exc)"
      ],
      "metadata": {
        "colab": {
          "base_uri": "https://localhost:8080/"
        },
        "id": "D2SzQArukoMq",
        "outputId": "64d77e18-dcdd-4d27-f7e4-b2279b099d6e"
      },
      "execution_count": null,
      "outputs": [
        {
          "output_type": "stream",
          "name": "stderr",
          "text": [
            "WARNING:root:just an info\n",
            "ZeroDivisionError: oh noes\n"
          ]
        }
      ]
    },
    {
      "cell_type": "markdown",
      "source": [
        "`logging.debug(msg, *args, **kwargs)` -> args is for log message's parameters whereas kwargs includes exception info and traceback parameters."
      ],
      "metadata": {
        "id": "97HHbbL3kqbP"
      }
    },
    {
      "cell_type": "markdown",
      "source": [
        "In summary, use `.exception` if you're handling an exception so that you get extra stack trace and other goodies for free."
      ],
      "metadata": {
        "id": "U3A5OLavlA6o"
      }
    },
    {
      "cell_type": "markdown",
      "source": [
        "### Message parameters"
      ],
      "metadata": {
        "id": "SVDrNapFlLbs"
      }
    },
    {
      "cell_type": "markdown",
      "source": [
        "What do you do when you want to log an IP address or a username or something else that is dynamic?"
      ],
      "metadata": {
        "id": "xHamS1wClPfz"
      }
    },
    {
      "cell_type": "code",
      "source": [
        "username = 'tayfun'\n",
        "logging.error(f'oh noes, user {username} does not exist') # Works but NOT OPTIMAL"
      ],
      "metadata": {
        "colab": {
          "base_uri": "https://localhost:8080/"
        },
        "id": "iZ7cEiJ0lLLe",
        "outputId": "37badc6d-6254-4033-bede-a61cf14178ab"
      },
      "execution_count": null,
      "outputs": [
        {
          "output_type": "stream",
          "name": "stderr",
          "text": [
            "ERROR:root:oh noes, user tayfun does not exist\n"
          ]
        }
      ]
    },
    {
      "cell_type": "code",
      "source": [
        "username = 'tayfun'\n",
        "logging.error('oh noes, user %s does not exist', username) # Better, but why?"
      ],
      "metadata": {
        "colab": {
          "base_uri": "https://localhost:8080/"
        },
        "id": "rR_Mm_pKlhPA",
        "outputId": "ff7ec0ae-5b73-47ed-8107-71846bd3dc4d"
      },
      "execution_count": null,
      "outputs": [
        {
          "output_type": "stream",
          "name": "stderr",
          "text": [
            "ERROR:root:oh noes, user tayfun does not exist\n"
          ]
        }
      ]
    },
    {
      "cell_type": "markdown",
      "source": [
        "Identical output above, but inner workings are different. Second usage allows Sentry to group errors together, in addition to other benefits. See https://sentry.io/organizations/rasahq/issues/2908829193/events/?project=2801673&statsPeriod=1h \n",
        "\n",
        "Nowadays Sentry is very good at grouping events which are sent even very differently but still, giving a helping hand and doing the right thing never hurts :) \n",
        "\n",
        "Also, better way defers string interpolation until it is needed - so could be very fast depending on use case, ie. if the log is going to be filtered out as an example."
      ],
      "metadata": {
        "id": "hU9Xv7IjlsY6"
      }
    },
    {
      "cell_type": "markdown",
      "source": [
        "### Handler of last resort"
      ],
      "metadata": {
        "id": "1e0kPZ0-07rq"
      }
    },
    {
      "cell_type": "code",
      "source": [
        "new_logger = logging.getLogger('new_logger')\n",
        "print(logging.getLevelName(new_logger.level))\n",
        "print(new_logger.propagate)\n",
        "print(new_logger.handlers)"
      ],
      "metadata": {
        "colab": {
          "base_uri": "https://localhost:8080/"
        },
        "id": "DzNSvtmx0-Dn",
        "outputId": "625bb9bc-ac01-45ae-cd5d-0875b8700346"
      },
      "execution_count": null,
      "outputs": [
        {
          "output_type": "stream",
          "name": "stdout",
          "text": [
            "NOTSET\n",
            "True\n",
            "[]\n"
          ]
        }
      ]
    },
    {
      "cell_type": "code",
      "source": [
        "new_logger.warning('a warning?')"
      ],
      "metadata": {
        "colab": {
          "base_uri": "https://localhost:8080/"
        },
        "id": "0jyLVSRpLwJS",
        "outputId": "acc1268d-b075-4c48-e6da-9aa12c33c7aa"
      },
      "execution_count": null,
      "outputs": [
        {
          "output_type": "stream",
          "name": "stderr",
          "text": [
            "WARNING:new_logger:a warning?\n"
          ]
        }
      ]
    },
    {
      "cell_type": "code",
      "source": [
        "new_logger.propagate = False"
      ],
      "metadata": {
        "id": "D9YDk8OY1ZUK"
      },
      "execution_count": null,
      "outputs": []
    },
    {
      "cell_type": "code",
      "source": [
        "new_logger.warning('a warning?')"
      ],
      "metadata": {
        "colab": {
          "base_uri": "https://localhost:8080/"
        },
        "id": "PyaciXk_1jwR",
        "outputId": "95fefa71-6339-4c74-a432-cf6fc195c120"
      },
      "execution_count": null,
      "outputs": [
        {
          "output_type": "stream",
          "name": "stderr",
          "text": [
            "a warning?\n"
          ]
        }
      ]
    },
    {
      "cell_type": "markdown",
      "source": [
        "What? What happened to the formatting? You may remember this message format (or its inexistence :D) from the first cell run."
      ],
      "metadata": {
        "id": "nwEbtgY11sgP"
      }
    },
    {
      "cell_type": "code",
      "source": [],
      "metadata": {
        "id": "V1-N2R7Dju0P"
      },
      "execution_count": null,
      "outputs": []
    },
    {
      "cell_type": "markdown",
      "source": [
        "## Reading from and writing to files"
      ],
      "metadata": {
        "id": "QicMCymnwcN7"
      }
    },
    {
      "cell_type": "code",
      "source": [
        "with open(source_location, 'r', encoding='utf-8') as f:\n",
        "            grammar_contents = f.readlines()"
      ],
      "metadata": {
        "id": "HwJowfBQwfla"
      },
      "execution_count": null,
      "outputs": []
    },
    {
      "cell_type": "code",
      "source": [
        "with open(os.path.join(updated_file_path, grammar), 'w', encoding='utf-8') as f:\n",
        "        for line in grammar_contents:\n",
        "            f.writelines(\"{}\".format(line))"
      ],
      "metadata": {
        "id": "-5UjLTJAFV0h"
      },
      "execution_count": null,
      "outputs": []
    },
    {
      "cell_type": "code",
      "source": [
        "f.readline()\n",
        "f.read()\n",
        "f.writeline()\n",
        "f.write()"
      ],
      "metadata": {
        "id": "forGiJtQj_eq"
      },
      "execution_count": null,
      "outputs": []
    },
    {
      "cell_type": "markdown",
      "source": [
        "Dump data as JSON file:"
      ],
      "metadata": {
        "id": "3JXjG22a0LDX"
      }
    },
    {
      "cell_type": "code",
      "source": [
        "import json\n",
        "\n",
        "numbers = [2, 3, 5, 7, 11, 13]\n",
        "\n",
        "filename = 'numbers.json'\n",
        "\n",
        "with open(filename, 'w') as f:\n",
        "  json.dump(numbers, f)"
      ],
      "metadata": {
        "id": "kLVUAyUbv_HO"
      },
      "execution_count": null,
      "outputs": []
    },
    {
      "cell_type": "code",
      "source": [
        "with open(filename) as f:\n",
        "  numbers_2 = json.load(f)"
      ],
      "metadata": {
        "id": "yWJdEph6zcFt"
      },
      "execution_count": null,
      "outputs": []
    },
    {
      "cell_type": "code",
      "source": [
        "print(numbers_2)"
      ],
      "metadata": {
        "colab": {
          "base_uri": "https://localhost:8080/"
        },
        "id": "Sd-wytCqzkfe",
        "outputId": "8ab88e62-7e0d-4aa8-d084-ad7a3bddacea"
      },
      "execution_count": null,
      "outputs": [
        {
          "output_type": "stream",
          "name": "stdout",
          "text": [
            "[2, 3, 5, 7, 11, 13]\n"
          ]
        }
      ]
    },
    {
      "cell_type": "markdown",
      "source": [
        "## Data science & NLP"
      ],
      "metadata": {
        "id": "YgnJCUXydng4"
      }
    },
    {
      "cell_type": "code",
      "source": [
        "import numpy as np\n",
        "import pandas as pd"
      ],
      "metadata": {
        "id": "z9pMfg3wdvbl"
      },
      "execution_count": null,
      "outputs": []
    },
    {
      "cell_type": "code",
      "source": [
        "# read the input file\n",
        "pd.read_excel(r'C:\\file.xlsx', sheet_name='Data', engine='openpyxl')\n",
        "\n",
        "# write to a file\n",
        "writer = pd.ExcelWriter(r'C:\\file.xlsx', engine = 'openpyxl') # xlsxwriter\n",
        "df.to_excel(writer, sheet_name = 'sheet', index = False)\n",
        "writer.save()\n",
        "writer.close()\n",
        "\n",
        "# rename columns\n",
        "df.rename(columns = {'file':file_column_name})\n",
        "\n",
        "# delete columns\n",
        "df.drop('column', inplace=True, axis=1)\n",
        "\n",
        "# add empty column\n",
        "df['column'] = np.nan\n",
        "\n",
        "# extract index of a column by name\n",
        "df.columns.tolist().index('column')\n",
        "\n",
        "# apply a function to a column\n",
        "df[file_column_name].map(convert_timestamp)\n",
        "\n",
        "# extract a column based on a value of an other column\n",
        "df.loc[df['condition_column'] == 'condition']['target_column']\n",
        "\n",
        "# save sontents to list\n",
        "df.loc[df['condition_column'] == 'condition']['target_column'].tolist()\n",
        "\n",
        "# find dublicates\n",
        "df['column'][df['column'].duplicated(na=False)]\n",
        "\n",
        "# count dublicates\n",
        "df['column'][df['column'].duplicated()].value_counts()"
      ],
      "metadata": {
        "id": "kdwsaIw0eras"
      },
      "execution_count": null,
      "outputs": []
    },
    {
      "cell_type": "markdown",
      "source": [
        "Text and Regex in Pandas:"
      ],
      "metadata": {
        "id": "T_St0le8sIJ-"
      }
    },
    {
      "cell_type": "code",
      "source": [
        "# text and regex in pandas\n",
        "import pandas as pd\n",
        "\n",
        "# string methods\n",
        "df['column'].str.lower().str.replace(r'[^\\w\\s]+', '', regex=True).str.strip()\n",
        "\n",
        "df['column'][df['column'].str.contains('\\\\d+грн', na=False)]\n",
        "\n",
        "regex_dict = {r'\\d+гр\\b':r'гривна'\n",
        "              , r'\\d+грн\\b':r'гривна'\n",
        "              , r'\\n':r''}\n",
        "\n",
        "for pattern, replacement in tqdm(regex_dict.items(), total=len(regex_dict.items())):\n",
        "    df['column']=df['column'].str.replace(pattern,replacement,regex=True)\n",
        "\n",
        "time_sentences = [\"Monday: The doctor's appointment is at 2:45pm.\", \n",
        "                  \"Tuesday: The dentist's appointment is at 11:30 am.\",\n",
        "                  \"Wednesday: At 7:00pm, there is a basketball game!\",\n",
        "                  \"Thursday: Be back home by 11:15 pm at the latest.\",\n",
        "                  \"Friday: Take the train at 08:10 am, arrive at 09:00am.\"]\n",
        "\n",
        "df = pd.DataFrame(time_sentences, columns=['text'])\n",
        "\n",
        "# find the number of characters for each string in df['text']\n",
        "df['text'].str.len()\n",
        "# find the number of tokens for each string in df['text']\n",
        "df['text'].str.split().str.len()\n",
        "# find which entries contain the word 'appointment'\n",
        "df['text'].str.contains('appointment')\n",
        "# find how many times a digit occurs in each string\n",
        "df['text'].str.count(r'\\d')\n",
        "# find all occurances of the digits\n",
        "df['text'].str.findall(r'\\d')\n",
        "# group and find the hours and minutes\n",
        "df['text'].str.findall(r'(\\d?\\d):(\\d\\d)')\n",
        "# replace weekdays with '???'\n",
        "df['text'].str.replace(r'\\w+day\\b', '???')\n",
        "# replace weekdays with 3 letter abbrevations\n",
        "df['text'].str.replace(r'(\\w+day\\b)', lambda x: x.groups()[0][:3])\n",
        "# create new columns from first match of extracted groups\n",
        "df['text'].str.extract(r'(\\d?\\d):(\\d\\d)')\n",
        "# extract the entire time, the hours, the minutes, and the period\n",
        "df['text'].str.extractall(r'((\\d?\\d):(\\d\\d) ?([ap]m))')\n",
        "# extract the entire time, the hours, the minutes, and the period with group names\n",
        "df['text'].str.extractall(r'(?P<time>(?P<hour>\\d?\\d):(?P<minute>\\d\\d) ?(?P<period>[ap]m))')"
      ],
      "metadata": {
        "id": "maDVILPBsLCX"
      },
      "execution_count": null,
      "outputs": []
    },
    {
      "cell_type": "code",
      "source": [
        "# compile a dataframe\n",
        "df = pd.DataFrame(rank_terms(tfidf_ru, vocab_ru))\n",
        "df.columns=['lemma','Tfidf_score']\n",
        "df.sort_values('Tfidf_score', ascending=False)"
      ],
      "metadata": {
        "id": "-PKUkvWzUNFp"
      },
      "execution_count": null,
      "outputs": []
    },
    {
      "cell_type": "code",
      "source": [
        "df = pd.DataFrame(list(zip(list_1, list_2)), columns = ['column_1', 'column_2'])"
      ],
      "metadata": {
        "id": "Q8PWADPiGdn_"
      },
      "execution_count": null,
      "outputs": []
    },
    {
      "cell_type": "code",
      "source": [
        "# save numpy file\n",
        "np.save(r'C:\\file.npy', list)\n",
        "\n",
        "# load numpy file\n",
        "np.load(r'C:\\file.npy', allow_pickle=True)"
      ],
      "metadata": {
        "id": "_Y0wcGEdS_8d"
      },
      "execution_count": null,
      "outputs": []
    },
    {
      "cell_type": "code",
      "source": [
        "# ANALYTICS\n",
        "\n",
        "# get counts for a category in a column\n",
        "df['column'].value_counts()\n",
        "\n",
        "from scipy import stats\n",
        "stats.describe(number_list)\n",
        "\n",
        "import seaborn as sns\n",
        "plot = sns.distplot(number_list, norm_hist=False, kde=False, bins=100)\n",
        "plot.set(xlabel='Word count', ylabel='Frequency')\n",
        "plt.show(block=False)\n",
        "\n",
        "sns.barplot(x=lemma_tfidf_ru_scores.lemma[:100], y=lemma_tfidf_ru_scores.Tfidf_score[:100])\n",
        "plt.xticks(rotation=90, fontsize=12)\n",
        "plt.tight_layout()\n",
        "plt.show(block=False)\n",
        "\n"
      ],
      "metadata": {
        "id": "cznobWFUQMju"
      },
      "execution_count": null,
      "outputs": []
    },
    {
      "cell_type": "code",
      "source": [
        "import numpy as np\n",
        "import pandas as pd\n",
        "import matplotlib.pyplot as plt\n",
        "import matplotlib.patches as mpatches\n",
        "%matplotlib inline\n",
        "\n",
        "table = pd.read_table('sample_table.txt')\n",
        "table.sort_values(by=['col_1','col_2'], inplace=True)\n",
        "\n",
        "# label sessions based on two conditions: 1 hour interval between two timestamps and different user id\n",
        "cond_1 = user_data.created_at.diff() > pd.Timedelta(1, 'h')\n",
        "cond_2 = user_data.uuid != user_data.uuid.shift(1)\n",
        "user_data['session_id'] = (cond_1|cond_2).cumsum()\n",
        "\n",
        "# get durations between each activity within each session\n",
        "user_data['activity_duration'] = user_data.groupby('session_id')['created_at'].diff()\n",
        "user_data.head(10)\n",
        "\n",
        "# aggregate session data with user ids, session ids, day ids, and session durations\n",
        "session_data = user_data.groupby(['uuid','session_id', 'day_id'])['activity_duration'].sum().reset_index()\n",
        "session_data['activity_duration'].mean()\n",
        "\n",
        "# check for outliers (very long session durations) in session durations: Z-score higher than 3 times the\n",
        "# standard deviation (SD)\n",
        "session_duration_outliers = ((session_data['activity_duration']-session_data['activity_duration'].mean()) >\n",
        "                             threshold_outlier)\n",
        "\n",
        "# exclude outliers from the set of session durations \n",
        "session_durations_clean = session_data['activity_duration'][~session_duration_outliers]\n",
        "\n",
        "# plot session durations as a histogramm (approx. 3.5 minute intervals per bin)\n",
        "session_durations_clean.astype('timedelta64[m]').hist(bins=40)\n",
        "plt.ylabel('Frequency of observations')\n",
        "plt.xlabel('Session duration (min)')\n",
        "plt.title('Distribution of session lengths')\n",
        "\n",
        "session_durations_median = round(session_durations_clean.astype('timedelta64[s]').median()/60)\n",
        "session_durations_max = int(round(session_durations_clean.astype('timedelta64[s]').max()/60))\n",
        "\n",
        "x = np.sort(session_durations_clean.astype('timedelta64[m]').values)\n",
        "y = np.arange(1, len(x) +1) / len(x)\n",
        "\n",
        "plt.plot(x, y, marker = '.', linestyle='none')\n",
        "plt.axhline(y=0.8, color = 'red')\n",
        "plt.axvline(x=22, color = 'red')\n",
        "plt.ylabel('Percentage of sessions')\n",
        "plt.xlabel('Session duration (min)')\n",
        "plt.title('Empirical cumulative distribution')\n",
        "\n",
        "# aggregate session numbers split by user id and by day id\n",
        "sessions_per_day = session_data.groupby(['uuid', 'day_id'])['session_id'].count().reset_index()\n",
        "\n",
        "# select rows with multiple sessions per day\n",
        "multiple_sessions_per_day = sessions_per_day.loc[sessions_per_day['session_id'] > 1]\n",
        "\n",
        "# merge the experimental assignment to the frame containing session numbers higher than 1\n",
        "experiment_multiple_sessions_per_day = multiple_sessions_per_day.merge(experiment_group, how='left')\n",
        "\n",
        "experiment_multiple_sessions_per_day['session_id'].hist(bins= 4, by = group_index)\n",
        "plt.ylabel('Frequency of observations')\n",
        "plt.xlabel('Number of sessions')\n",
        "\n",
        "# aggregate unique user IDs with all / multiple sessions per day split by the experimental group\n",
        "uuids_per_group = experiment_session_data.groupby('test_group')['uuid'].nunique()\n",
        "uuids_multiple_per_group = experiment_multiple_sessions_per_day.groupby('test_group')['uuid'].nunique()\n",
        "\n",
        "# plot session durations as a histogramm with approx. 2 minute intervals per bin\n",
        "session_durations_clean.astype('timedelta64[m]').hist(bins=70)\n",
        "plt.xlim(0,40) # look closer at sessions with durations under 30 minutes\n",
        "plt.ylabel('Frequency of observations')\n",
        "plt.xlabel('Session duration (min)')\n",
        "plt.title('Distribution of session lengths')\n",
        "\n",
        "# show first n rows\n",
        "table.head(n)\n",
        "# select a column by its name, only unique entries and save as a list\n",
        "# (getting levels of factor)\n",
        "table['col_name'].unique().tolist()\n",
        "\n",
        "# create a mapping from col_1 value to col_2 value and embedd them into a dict as key-values pairs\n",
        "combined_dict = dict(zip(table.col_1.unique(), table.col_2.unique())) \n",
        "\n",
        "plt.figure()\n",
        "plt.title('Example')\n",
        "plt.scatter(table.col_2, table.col_3, marker= 'o', s=50)\n",
        "plt.show()"
      ],
      "metadata": {
        "id": "QXBAbKJgzPJZ"
      },
      "execution_count": null,
      "outputs": []
    },
    {
      "cell_type": "markdown",
      "source": [
        "**NLTK**"
      ],
      "metadata": {
        "id": "BDTS6IrFrXD7"
      }
    },
    {
      "cell_type": "code",
      "source": [
        "import nltk\n",
        "from nltk.book import *"
      ],
      "metadata": {
        "id": "FwUP_1_5rZkj"
      },
      "execution_count": null,
      "outputs": []
    },
    {
      "cell_type": "code",
      "source": [
        "# list first 10 unique words\n",
        "list(set(text7))[:10]"
      ],
      "metadata": {
        "id": "zpCLBQd0rfa2"
      },
      "execution_count": null,
      "outputs": []
    },
    {
      "cell_type": "code",
      "source": [
        "# get frequency of words in a dict\n",
        "dist = FreqDist(text7)\n",
        "len(dist)\n",
        "dist['four']"
      ],
      "metadata": {
        "id": "oQPm6U8arpfK"
      },
      "execution_count": null,
      "outputs": []
    },
    {
      "cell_type": "code",
      "source": [
        "# get words saved as keys\n",
        "vocab1 = dist.keys()\n",
        "list(vocab1)[:10]"
      ],
      "metadata": {
        "id": "_Dj_RbZOrum8"
      },
      "execution_count": null,
      "outputs": []
    },
    {
      "cell_type": "code",
      "source": [
        "# list of words which are longer than 5 chars and occur more tha 100 times\n",
        "freqwords = [w for w in vocab1 if len(w) > 5 and dist[w] > 100]"
      ],
      "metadata": {
        "id": "hlLag9SmrzAd"
      },
      "execution_count": null,
      "outputs": []
    },
    {
      "cell_type": "code",
      "source": [
        "# stemming\n",
        "porter = nltk.PorterStemmer()\n",
        "stemmed = [porter.stem(t) for t in list(text7)]"
      ],
      "metadata": {
        "id": "DswnX4zMr2B6"
      },
      "execution_count": null,
      "outputs": []
    },
    {
      "cell_type": "code",
      "source": [
        "# lemmatization\n",
        "WNlemma = nltk.WordNetLemmatizer()\n",
        "lemmatized = [WNlemma.lemmatize(t) for t in list(text7)]"
      ],
      "metadata": {
        "id": "jZ-2_Eikr49R"
      },
      "execution_count": null,
      "outputs": []
    },
    {
      "cell_type": "code",
      "source": [
        "# tokenization\n",
        "tokenized_words = nltk.word_tokenize(text7)\n",
        "tokenized_sentences = nltk.sent_tokenize(text7)"
      ],
      "metadata": {
        "id": "LwkNAK9dr7sZ"
      },
      "execution_count": null,
      "outputs": []
    },
    {
      "cell_type": "code",
      "source": [
        "# POS tagging\n",
        "tagged_words = nltk.pos_tag(tokenized_words)"
      ],
      "metadata": {
        "id": "IqsYRvBir-lt"
      },
      "execution_count": null,
      "outputs": []
    },
    {
      "cell_type": "markdown",
      "source": [
        "**Scikit-learn**"
      ],
      "metadata": {
        "id": "cvspKnfvw0F1"
      }
    },
    {
      "cell_type": "code",
      "source": [
        "from sklearn.feature_extraction.text import TfidfVectorizer\n",
        "\n",
        "vectorizerTf = TfidfVectorizer(\n",
        "    max_df=0.95, # percentage of documents a term has to appear in\n",
        "    min_df=2, # percentage (count when integers) of documents a term has to appear in \n",
        "    # max_df=.5,\n",
        "    # min_df=10,\n",
        "    max_features=None,\n",
        "    ngram_range=(1, 3),\n",
        "    norm=None,\n",
        "    binary=True,\n",
        "    use_idf=False,\n",
        "    sublinear_tf=False\n",
        ")\n",
        "\n",
        "tfidf_ru = vectorizerTf.fit_transform(lemm_transcripts_list_ru)\n",
        "vocab_ru = vectorizerTf.get_feature_names()"
      ],
      "metadata": {
        "id": "cZVZ9dBHrsk5"
      },
      "execution_count": null,
      "outputs": []
    },
    {
      "cell_type": "code",
      "source": [
        "from sklearn.model_selection import train_test_split\n",
        "\n",
        "# split into train/test sets\n",
        "# X are columns with freatures, y is the corresponding category label\n",
        "X = table[['col_1', 'col_2', 'col_3', 'col_4']]\n",
        "y = table['col_5']\n",
        "X_train, X_test, y_train, y_test = train_test_split(X, y, random_state=0)\n",
        "\n",
        "# create logistic regression classifier\n",
        "from sklearn.linear_model import LogisticRegression\n",
        "\n",
        "# C is a regularization term, higher == less regularization\n",
        "clf = LogisticRegression(C=100)\n",
        "\n",
        "# train\n",
        "clf.fit(X_train, y_train)\n",
        "# test accuracy\n",
        "clf.score(X_test, y_test)\n",
        "# classify a new data point\n",
        "prediction = clf.predict([[20, 4.3, 5.5]])\n",
        "combined_dict[prediction[0]]\n",
        "\n",
        "# dummy classifiers\n",
        "from sklearn.dummy import DummyClassifier\n",
        "\n",
        "# Negative class (0) is most frequent\n",
        "dummy_majority = DummyClassifier(strategy = 'most_frequent').fit(X_train, y_train)\n",
        "# Therefore the dummy 'most_frequent' classifier always predicts class 0\n",
        "y_dummy_predictions = dummy_majority.predict(X_test)\n",
        "\n",
        "# confusion matrices\n",
        "from sklearn.metrics import confusion_matrix\n",
        "\n",
        "lr = LogisticRegression().fit(X_train, y_train)\n",
        "lr_predicted = lr.predict(X_test)\n",
        "confusion = confusion_matrix(y_test, lr_predicted)\n",
        "\n",
        "print('Logistic regression classifier (default settings)\\n', confusion)\n",
        "\n",
        "# accuracy metrics\n",
        "from sklearn.metrics import accuracy_score, precision_score, recall_score, f1_score\n",
        "# Accuracy = TP + TN / (TP + TN + FP + FN)\n",
        "# Precision = TP / (TP + FP)\n",
        "# Recall = TP / (TP + FN)  Also known as sensitivity, or True Positive Rate\n",
        "# F1 = 2 * Precision * Recall / (Precision + Recall) \n",
        "print('Accuracy: {:.2f}'.format(accuracy_score(y_test, tree_predicted)))\n",
        "print('Precision: {:.2f}'.format(precision_score(y_test, tree_predicted)))\n",
        "print('Recall: {:.2f}'.format(recall_score(y_test, tree_predicted)))\n",
        "print('F1: {:.2f}'.format(f1_score(y_test, tree_predicted)))\n",
        "\n",
        "# Combined report with all above metrics\n",
        "from sklearn.metrics import classification_report\n",
        "\n",
        "print(classification_report(y_test, tree_predicted, target_names=['not 1', '1']))\n",
        "\n",
        "# precision-recall curves\n",
        "from sklearn.metrics import precision_recall_curve\n",
        "\n",
        "precision, recall, thresholds = precision_recall_curve(y_test, y_scores_lr)\n",
        "closest_zero = np.argmin(np.abs(thresholds))\n",
        "closest_zero_p = precision[closest_zero]\n",
        "closest_zero_r = recall[closest_zero]\n",
        "\n",
        "plt.figure()\n",
        "plt.xlim([0.0, 1.01])\n",
        "plt.ylim([0.0, 1.01])\n",
        "plt.plot(precision, recall, label='Precision-Recall Curve')\n",
        "plt.plot(closest_zero_p, closest_zero_r, 'o', markersize = 12, fillstyle = 'none', c='r', mew=3)\n",
        "plt.xlabel('Precision', fontsize=16)\n",
        "plt.ylabel('Recall', fontsize=16)\n",
        "plt.axes().set_aspect('equal')\n",
        "plt.show()\n",
        "\n",
        "# area under the curve\n",
        "from sklearn.metrics import roc_curve, auc\n",
        "\n",
        "X_train, X_test, y_train, y_test = train_test_split(X, y_binary_imbalanced, random_state=0)\n",
        "\n",
        "y_score_lr = lr.fit(X_train, y_train).decision_function(X_test)\n",
        "fpr_lr, tpr_lr, _ = roc_curve(y_test, y_score_lr)\n",
        "roc_auc_lr = auc(fpr_lr, tpr_lr)\n",
        "\n",
        "plt.figure()\n",
        "plt.xlim([-0.01, 1.00])\n",
        "plt.ylim([-0.01, 1.01])\n",
        "plt.plot(fpr_lr, tpr_lr, lw=3, label='LogRegr ROC curve (area = {:0.2f})'.format(roc_auc_lr))\n",
        "plt.xlabel('False Positive Rate', fontsize=16)\n",
        "plt.ylabel('True Positive Rate', fontsize=16)\n",
        "plt.title('ROC curve (1-of-10 digits classifier)', fontsize=16)\n",
        "plt.legend(loc='lower right', fontsize=13)\n",
        "plt.plot([0, 1], [0, 1], color='navy', lw=3, linestyle='--')\n",
        "plt.axes().set_aspect('equal')\n",
        "plt.show()\n",
        "\n",
        "# cross validation\n",
        "from sklearn.model_selection import cross_val_score\n",
        "\n",
        "X_table_2d = table[['col_1', 'col_2']]\n",
        "y_table_2d = table['col_5']\n",
        "\n",
        "X = X_fruits_2d.as_matrix()\n",
        "y = y_fruits_2d.as_matrix()\n",
        "cv_scores = cross_val_score(clf, X, y)\n",
        "\n",
        "# validation curve\n",
        "from sklearn.model_selection import validation_curve\n",
        "\n",
        "param_range = np.logspace(-3, 3, 4)\n",
        "train_scores, test_scores = validation_curve(clf, X_train, y_train,\n",
        "                                            param_name='gamma',\n",
        "                                            param_range=param_range, cv=3)\n",
        "\n",
        "plt.figure()\n",
        "\n",
        "train_scores_mean = np.mean(train_scores, axis=1)\n",
        "train_scores_std = np.std(train_scores, axis=1)\n",
        "test_scores_mean = np.mean(test_scores, axis=1)\n",
        "test_scores_std = np.std(test_scores, axis=1)\n",
        "\n",
        "plt.title('Validation Curve with SVM')\n",
        "plt.xlabel('$\\gamma$ (gamma)')\n",
        "plt.ylabel('Score')\n",
        "plt.ylim(0.0, 1.1)\n",
        "lw = 2\n",
        "\n",
        "plt.semilogx(param_range, train_scores_mean, label='Training score',\n",
        "            color='darkorange', lw=lw)\n",
        "\n",
        "plt.fill_between(param_range, train_scores_mean - train_scores_std,\n",
        "                train_scores_mean + train_scores_std, alpha=0.2,\n",
        "                color='darkorange', lw=lw)\n",
        "\n",
        "plt.semilogx(param_range, test_scores_mean, label='Cross-validation score',\n",
        "            color='navy', lw=lw)\n",
        "\n",
        "plt.fill_between(param_range, test_scores_mean - test_scores_std,\n",
        "                test_scores_mean + test_scores_std, alpha=0.2,\n",
        "                color='navy', lw=lw)\n",
        "\n",
        "plt.legend(loc='best')\n",
        "plt.show()"
      ],
      "metadata": {
        "id": "M520HfqczeNy"
      },
      "execution_count": null,
      "outputs": []
    },
    {
      "cell_type": "markdown",
      "source": [
        "TExt classification with Scikit-learn:"
      ],
      "metadata": {
        "id": "CgbOeOXkzm4s"
      }
    },
    {
      "cell_type": "code",
      "source": [
        "# text classification with logistic regression\n",
        "import pandas as pd\n",
        "import numpy as np\n",
        "\n",
        "# Read in the data\n",
        "df = pd.read_csv('Amazon_Unlocked_Mobile.csv')\n",
        "\n",
        "# Sample the data to speed up computation\n",
        "# Comment out this line to match with lecture\n",
        "df = df.sample(frac=0.1, random_state=10)\n",
        "\n",
        "df.head()\n",
        "\n",
        "# Drop missing values\n",
        "df.dropna(inplace=True)\n",
        "\n",
        "# Remove any 'neutral' ratings equal to 3\n",
        "df = df[df['Rating'] != 3]\n",
        "\n",
        "# Encode 4s and 5s as 1 (rated positively)\n",
        "# Encode 1s and 2s as 0 (rated poorly)\n",
        "df['Positively Rated'] = np.where(df['Rating'] > 3, 1, 0)\n",
        "\n",
        "# Most ratings are positive\n",
        "df['Positively Rated'].mean()\n",
        "\n",
        "from sklearn.model_selection import train_test_split\n",
        "\n",
        "# Split data into training and test sets\n",
        "X_train, X_test, y_train, y_test = train_test_split(df['Reviews'], \n",
        "                                                    df['Positively Rated'], \n",
        "                                                    random_state=0)\n",
        "print('X_train first entry:\\n\\n', X_train.iloc[0])\n",
        "print('\\n\\nX_train shape: ', X_train.shape)\n",
        "\n",
        "from sklearn.feature_extraction.text import CountVectorizer\n",
        "\n",
        "# Fit the CountVectorizer to the training data\n",
        "vect = CountVectorizer().fit(X_train)\n",
        "\n",
        "# transform the documents in the training data to a document-term matrix\n",
        "X_train_vectorized = vect.transform(X_train)\n",
        "\n",
        "from sklearn.linear_model import LogisticRegression\n",
        "\n",
        "# Train the model\n",
        "model = LogisticRegression()\n",
        "model.fit(X_train_vectorized, y_train)\n",
        "\n",
        "from sklearn.metrics import roc_auc_score\n",
        "\n",
        "# Predict the transformed test documents\n",
        "predictions = model.predict(vect.transform(X_test))\n",
        "\n",
        "print('AUC: ', roc_auc_score(y_test, predictions))\n",
        "\n",
        "# get the feature names as numpy array\n",
        "feature_names = np.array(vect.get_feature_names())\n",
        "\n",
        "# Sort the coefficients from the model\n",
        "sorted_coef_index = model.coef_[0].argsort()\n",
        "\n",
        "# Find the 10 smallest and 10 largest coefficients\n",
        "# The 10 largest coefficients are being indexed using [:-11:-1] \n",
        "# so the list returned is in order of largest to smallest\n",
        "print('Smallest Coefs:\\n{}\\n'.format(feature_names[sorted_coef_index[:10]]))\n",
        "print('Largest Coefs: \\n{}'.format(feature_names[sorted_coef_index[:-11:-1]]))\n",
        "\n",
        "from sklearn.feature_extraction.text import TfidfVectorizer\n",
        "\n",
        "# Fit the TfidfVectorizer to the training data specifiying a minimum document frequency of 5\n",
        "vect = TfidfVectorizer(min_df=5).fit(X_train)\n",
        "len(vect.get_feature_names())\n",
        "\n",
        "X_train_vectorized = vect.transform(X_train)\n",
        "\n",
        "model = LogisticRegression()\n",
        "model.fit(X_train_vectorized, y_train)\n",
        "\n",
        "predictions = model.predict(vect.transform(X_test))\n",
        "\n",
        "print('AUC: ', roc_auc_score(y_test, predictions))\n",
        "\n",
        "feature_names = np.array(vect.get_feature_names())\n",
        "\n",
        "sorted_tfidf_index = X_train_vectorized.max(0).toarray()[0].argsort()\n",
        "\n",
        "print('Smallest tfidf:\\n{}\\n'.format(feature_names[sorted_tfidf_index[:10]]))\n",
        "print('Largest tfidf: \\n{}'.format(feature_names[sorted_tfidf_index[:-11:-1]]))\n",
        "\n",
        "sorted_coef_index = model.coef_[0].argsort()\n",
        "\n",
        "print('Smallest Coefs:\\n{}\\n'.format(feature_names[sorted_coef_index[:10]]))\n",
        "print('Largest Coefs: \\n{}'.format(feature_names[sorted_coef_index[:-11:-1]]))\n",
        "\n",
        "# These reviews are treated the same by our current model\n",
        "print(model.predict(vect.transform(['not an issue, phone is working',\n",
        "                                    'an issue, phone is not working'])))\n",
        "\n",
        "# Fit the CountVectorizer to the training data specifiying a minimum \n",
        "# document frequency of 5 and extracting 1-grams and 2-grams\n",
        "vect = CountVectorizer(min_df=5, ngram_range=(1,2)).fit(X_train)\n",
        "\n",
        "X_train_vectorized = vect.transform(X_train)\n",
        "\n",
        "len(vect.get_feature_names())\n",
        "\n",
        "model = LogisticRegression()\n",
        "model.fit(X_train_vectorized, y_train)\n",
        "\n",
        "predictions = model.predict(vect.transform(X_test))\n",
        "\n",
        "print('AUC: ', roc_auc_score(y_test, predictions))\n",
        "\n",
        "feature_names = np.array(vect.get_feature_names())\n",
        "\n",
        "sorted_coef_index = model.coef_[0].argsort()\n",
        "\n",
        "print('Smallest Coefs:\\n{}\\n'.format(feature_names[sorted_coef_index[:10]]))\n",
        "print('Largest Coefs: \\n{}'.format(feature_names[sorted_coef_index[:-11:-1]]))\n",
        "\n",
        "# These reviews are now correctly identified\n",
        "print(model.predict(vect.transform(['not an issue, phone is working',\n",
        "                                    'an issue, phone is not working'])))"
      ],
      "metadata": {
        "id": "-4CH_bN0zrQI"
      },
      "execution_count": null,
      "outputs": []
    },
    {
      "cell_type": "markdown",
      "source": [
        "**Data bases**"
      ],
      "metadata": {
        "id": "P-xwkJvYw81p"
      }
    },
    {
      "cell_type": "markdown",
      "source": [
        "- https://www.geeksforgeeks.org/mongodb-and-python/"
      ],
      "metadata": {
        "id": "ETDh2TYtw_Vy"
      }
    },
    {
      "cell_type": "markdown",
      "source": [
        "## Regular expressions"
      ],
      "metadata": {
        "id": "51d1xeHgeC5P"
      }
    },
    {
      "cell_type": "markdown",
      "source": [
        "**Extracting elements between tags**\n",
        "\n",
        "Here's a breakdown of the components in (.*?):\n",
        "\n",
        "- ( ): Parentheses are used to create a group in regular expressions. In this case, it's a non-capturing group.\n",
        "- .*?: The .*? pattern matches any character (except newline) zero or more times, but it attempts to match as few characters as possible.\n",
        "\n",
        "The .*? pattern is non-greedy because it matches as few characters as possible to satisfy the overall pattern. This means that if there are multiple occurrences of the pattern following it, it will match the smallest possible sequence of characters that allows the overall pattern to match successfully."
      ],
      "metadata": {
        "id": "N0DM2xkzkIao"
      }
    },
    {
      "cell_type": "code",
      "source": [
        "import re"
      ],
      "metadata": {
        "id": "9dFPNsf0eH2P"
      },
      "execution_count": null,
      "outputs": []
    },
    {
      "cell_type": "code",
      "source": [
        "# define a regex pattern\n",
        "pattern = re.compile('<count(.*?)number(.*?)=(.*?)\\n')"
      ],
      "metadata": {
        "id": "szSyiwkbGork"
      },
      "execution_count": null,
      "outputs": []
    },
    {
      "cell_type": "code",
      "source": [
        "# find a pattern in a line\n",
        "match = re.search(pattern, text)\n",
        "if match:\n",
        "    print(match.group(1))"
      ],
      "metadata": {
        "id": "V5y0C746kf-9"
      },
      "execution_count": null,
      "outputs": []
    },
    {
      "cell_type": "code",
      "source": [
        "# find a pattern in a line\n",
        "if re.search(pattern, target_line):\n",
        "  # replace the pattern with a new element\n",
        "  original_file[i] = re.sub(pattern, 'new_element', line)"
      ],
      "metadata": {
        "id": "rRERe63bDQ1T"
      },
      "execution_count": null,
      "outputs": []
    },
    {
      "cell_type": "code",
      "source": [
        "# find all matches in a line\n",
        "items = re.findall('\">(.*?)</', line)"
      ],
      "metadata": {
        "id": "33reJyB8GKYf"
      },
      "execution_count": null,
      "outputs": []
    },
    {
      "cell_type": "markdown",
      "source": [
        "Extracting all elements betwen the tags from a longer string:"
      ],
      "metadata": {
        "id": "v-fRm3jMkrmX"
      }
    },
    {
      "cell_type": "code",
      "source": [
        "sentence_parses = [x.group() for x in \\\n",
        "        re.finditer('<\\?xml version(.*?)</result>', sentence_parses)]"
      ],
      "metadata": {
        "id": "7ro_txARKHB0"
      },
      "execution_count": null,
      "outputs": []
    },
    {
      "cell_type": "markdown",
      "source": [
        "In Python, the regex module and the built-in re module are both used for working with regular expressions, but they have some differences in terms of features, syntax, and performance. \n",
        "\n",
        "The regex module provides a more extensive set of regular expression features compared to the re module. It supports additional advanced features such as recursive patterns, conditional patterns, and lookarounds with variable-width patterns.\n",
        "\n",
        "The regex module supports an extended regular expression syntax that includes additional metacharacters and constructs.The re module follows the standard regular expression syntax defined by the Python re module documentation.\n",
        "\n",
        "The regex module is generally faster than the re module, especially when dealing with complex patterns or large texts. It implements advanced algorithms and optimizations that can improve performance in certain cases."
      ],
      "metadata": {
        "id": "IKWAsusulRyL"
      }
    },
    {
      "cell_type": "code",
      "source": [
        "import regex\n",
        "def remove_punctuation(text):\n",
        "    p = regex.compile(r'\\p{P}+')\n",
        "    return p.sub('', text)"
      ],
      "metadata": {
        "id": "lS4pOWBDAMNX"
      },
      "execution_count": null,
      "outputs": []
    },
    {
      "cell_type": "code",
      "source": [
        "print(remove_punctuation('DAst, ist!? ein test..'))"
      ],
      "metadata": {
        "colab": {
          "base_uri": "https://localhost:8080/"
        },
        "id": "oeoHHpUc3SE5",
        "outputId": "1552c643-e6f5-4369-db79-7b09ee546327"
      },
      "execution_count": null,
      "outputs": [
        {
          "output_type": "stream",
          "name": "stdout",
          "text": [
            "DAst ist ein test\n"
          ]
        }
      ]
    },
    {
      "cell_type": "code",
      "source": [
        "re.sub(r'[^\\w\\s]', '', 'DAst, ist!? ein test..')"
      ],
      "metadata": {
        "colab": {
          "base_uri": "https://localhost:8080/",
          "height": 36
        },
        "id": "GqHDVsbL4V8n",
        "outputId": "723ebaf1-7352-4f02-e562-e49329af438c"
      },
      "execution_count": null,
      "outputs": [
        {
          "output_type": "execute_result",
          "data": {
            "text/plain": [
              "'DAst ist ein test'"
            ],
            "application/vnd.google.colaboratory.intrinsic+json": {
              "type": "string"
            }
          },
          "metadata": {},
          "execution_count": 10
        }
      ]
    },
    {
      "cell_type": "markdown",
      "source": [
        "## Interacting with subprocess"
      ],
      "metadata": {
        "id": "2jTbu7ickkZ-"
      }
    },
    {
      "cell_type": "markdown",
      "source": [
        "The subprocess.run() function in Python is used to run an external command or a subprocess and wait for it to complete. It is a high-level function that provides a simplified interface for executing external commands and capturing their output."
      ],
      "metadata": {
        "id": "VnOAgqLlg5bi"
      }
    },
    {
      "cell_type": "code",
      "source": [
        "subprocess.run(args, *, stdin=None, input=None, stdout=None, stderr=None, \\\n",
        "               capture_output=False, text=False, shell=False, timeout=None, \\\n",
        "               check=False, encoding=None, errors=None, env=None, cwd=None)\n"
      ],
      "metadata": {
        "id": "hmB-rnhGhDBG"
      },
      "execution_count": null,
      "outputs": []
    },
    {
      "cell_type": "markdown",
      "source": [
        "- **args: The command or list of command-line arguments to execute.** It can be a single string or a list of strings. If it's a string, the command will be executed through the shell (unless shell=False is explicitly set).\n",
        "- stdin, **stdout**, stderr: These parameters define the input/output file handles for the subprocess. **They can be set to subprocess.PIPE to capture the respective streams**, or None to inherit them from the parent process.\n",
        "- capture_output: If set to True, both stdout and stderr are captured and returned as stdout in the result object. This parameter simplifies capturing the output of the command.\n",
        "- **text: If set to True, the stdout and stderr output will be returned as strings rather than bytes.**\n",
        "- shell: If set to True, the command is executed through the shell, allowing the use of shell-specific features and syntax. Be cautious when using shell=True to avoid potential security risks.\n",
        "- timeout: Specifies the maximum time in seconds to wait for the command to complete. If the command takes longer than the specified timeout, a TimeoutExpired exception is raised.\n",
        "- **check: If set to True, subprocess.run() raises a CalledProcessError exception if the command returns a non-zero exit status**, indicating an error.\n",
        "encoding, errors: Parameters for specifying the character encoding and error handling when decoding the output streams.\n",
        "- **env: A dictionary that allows you to set environment variables for the subprocess.**\n",
        "- **cwd: Sets the current working directory for the subprocess.**\n",
        "\n",
        "The subprocess.run() function returns a CompletedProcess object that contains information about the completed subprocess, such as the return code, captured output, and execution time."
      ],
      "metadata": {
        "id": "NXvXnAkZhedA"
      }
    },
    {
      "cell_type": "code",
      "source": [
        "try:\n",
        "    # option -n_p for simpler parsetool output doesn't seem to\n",
        "    # work for UTF-8 text; don't use text=True in subprocess\n",
        "    process = subprocess.run(['parsetool', grammar_file, '-t_f', \\\n",
        "        test_file], stdout=subprocess.PIPE, check=True)\n",
        "except subprocess.CalledProcessError as e:\n",
        "    print('ERROR: parsetool exited with status {} during sentence testing: {}'\\\n",
        "        .format(e.returncode, e.output))\n",
        "    quit()"
      ],
      "metadata": {
        "id": "W0KZ5vnzKvvf"
      },
      "execution_count": null,
      "outputs": []
    },
    {
      "cell_type": "code",
      "source": [
        "try:\n",
        "    process = subprocess.run(['parsetool', grammar_file, '-g_s', '-m_g', \\\n",
        "        number_test_utterances], timeout=30, stdout=subprocess.PIPE, check=True)\n",
        "except subprocess.CalledProcessError as e:\n",
        "    print('ERROR: parsetool exited with status {} during sentence generation: {}'\\\n",
        "        .format(e.returncode, e.output))\n",
        "    if re.search('(.*?)INVALID_LANGUAGE(.*?)', e.output.decode('utf-8')):\n",
        "        print('INFO: Please make sure you have the required language pack installed!')\n",
        "    elif re.search('(.*?)uri(.*?)file(.*?)not(.*?)found', e.output.decode('utf-8')):\n",
        "        print('INFO: External grammar not found!')\n",
        "    elif len(e.output.decode('utf-8')) < 5:\n",
        "        print('INFO: Please check your parseTool installation!')\n",
        "    quit()\n",
        "    # uri file://C:/grammar_dev/Australia_Services/py_scripts/no_pretty_bug\n",
        "    # /custom_lexicon.lexml not found.\n",
        "\n",
        "except subprocess.TimeoutExpired as e:\n",
        "    print('ERROR: parsetool timed out during sentence generation.\\n' + \\\n",
        "        'The tested grammar might be blocked by SWI_disallow=1. \\n {}'.format(e.output))\n",
        "    quit()"
      ],
      "metadata": {
        "id": "kqiWwFPeLN7S"
      },
      "execution_count": null,
      "outputs": []
    },
    {
      "cell_type": "code",
      "source": [
        "# if text is not set to True, stdout is returned as bytes and has to be decoded\n",
        "recognizer_output = process.stdout.decode('utf-8').splitlines()"
      ],
      "metadata": {
        "id": "5SJgUJZyLD1o"
      },
      "execution_count": null,
      "outputs": []
    },
    {
      "cell_type": "markdown",
      "source": [
        "## Meta stuff"
      ],
      "metadata": {
        "id": "8Rkme4VnMyHa"
      }
    },
    {
      "cell_type": "markdown",
      "source": [
        "Interact with variables in the runtime:"
      ],
      "metadata": {
        "id": "HOmtuS6snUU-"
      }
    },
    {
      "cell_type": "code",
      "source": [
        "if 'variable' in locals():\n",
        "  dict_samples = variable + samples_contents\n",
        "else:\n",
        "  dict_samples = samples_contents"
      ],
      "metadata": {
        "id": "R-PjleqHM35m"
      },
      "execution_count": null,
      "outputs": []
    },
    {
      "cell_type": "markdown",
      "source": [
        "Search function names in a package:"
      ],
      "metadata": {
        "id": "Q9ItZwb_nXuK"
      }
    },
    {
      "cell_type": "code",
      "source": [
        "import os\n",
        "list(filter(lambda x: 'cwd' in x, os.__dict__.keys()))"
      ],
      "metadata": {
        "colab": {
          "base_uri": "https://localhost:8080/"
        },
        "id": "7XVBs8GFnQJ1",
        "outputId": "3ba3850c-df46-44d8-92ab-c0e8fe48253f"
      },
      "execution_count": null,
      "outputs": [
        {
          "output_type": "execute_result",
          "data": {
            "text/plain": [
              "['getcwd', 'getcwdb']"
            ]
          },
          "metadata": {},
          "execution_count": 7
        }
      ]
    },
    {
      "cell_type": "markdown",
      "source": [
        "## Testing code"
      ],
      "metadata": {
        "id": "8QiEww000Pt3"
      }
    },
    {
      "cell_type": "markdown",
      "source": [
        "The module unittest (previously called PyUnit) from the Python standard library provides tools for testing your code. A unit test verifies that one specific aspect of a function’s behavior is correct.\n",
        "\n",
        "A test case is a collection of unit tests that together prove that a function behaves as it’s supposed to, within the full range of situations you expect it to handle.\n",
        "\n",
        "A good test case considers all the possible kinds of input a function could receive and includes tests to represent each of these situations. A test case with full coverage includes a full range of unit tests covering all the possible ways you can use a function."
      ],
      "metadata": {
        "id": "LnGxJITp0oF6"
      }
    },
    {
      "cell_type": "markdown",
      "source": [
        "To write a test case for a function, import the unittest module and the function you want to test. Then create a class that inherits from unittest.TestCase, and write a series of methods to test different aspects of your function’s behavior."
      ],
      "metadata": {
        "id": "TElDzcY_1Mlw"
      }
    },
    {
      "cell_type": "code",
      "source": [
        "def add(x, y):\n",
        "  return x+y"
      ],
      "metadata": {
        "id": "JZFaJlcq1xYM"
      },
      "execution_count": null,
      "outputs": []
    },
    {
      "cell_type": "code",
      "source": [
        "add(3,4)"
      ],
      "metadata": {
        "colab": {
          "base_uri": "https://localhost:8080/"
        },
        "id": "fx3jZ5_t12tF",
        "outputId": "b56f939a-91fc-4913-e33f-820b353a6868"
      },
      "execution_count": null,
      "outputs": [
        {
          "output_type": "execute_result",
          "data": {
            "text/plain": [
              "7"
            ]
          },
          "metadata": {},
          "execution_count": 34
        }
      ]
    },
    {
      "cell_type": "code",
      "source": [
        "import unittest\n",
        "\n",
        "class AdditionTestCase(unittest.TestCase):\n",
        "  \"\"\"Tests for 'add.py'.\"\"\"\n",
        "  \n",
        "  def test_add(self):\n",
        "    \"\"\"Do integers work?\"\"\"\n",
        "    sum = add(5, 6)\n",
        "    self.assertEqual(sum, 10)\n",
        "\n",
        "unittest.main()"
      ],
      "metadata": {
        "id": "5bAHp06aznQi"
      },
      "execution_count": null,
      "outputs": []
    },
    {
      "cell_type": "markdown",
      "source": [
        "Python provides a number of assert methods in the unittest.TestCase class. "
      ],
      "metadata": {
        "id": "6B-LPQVu6jUx"
      }
    },
    {
      "cell_type": "markdown",
      "source": [
        "![image.png](data:image/png;base64,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)"
      ],
      "metadata": {
        "id": "2P9HdTLU6ekk"
      }
    },
    {
      "cell_type": "markdown",
      "source": [
        "Testing a class is similar to testing a function—much of your work involves testing the behavior of the methods in the class. But there are a few differences:"
      ],
      "metadata": {
        "id": "CG2pKeGy6rnx"
      }
    },
    {
      "cell_type": "code",
      "source": [
        "class Car():\n",
        "  \"\"\"A simple attempt to represent a car.\"\"\"\n",
        "  \n",
        "  def __init__(self, make, model, year):\n",
        "    self.make = make\n",
        "    self.model = model\n",
        "    self.year = year\n",
        "    self.odometer_reading = 0\n",
        "  \n",
        "  def get_descriptive_name(self):\n",
        "    long_name = str(self.year) + ' ' + self.make + ' ' + self.model\n",
        "    return long_name.title()\n",
        "  \n",
        "  def read_odometer(self):\n",
        "    print(\"This car has \" + str(self.odometer_reading) + \" miles on it.\")\n",
        "    \n",
        "  def update_odometer(self, mileage):\n",
        "    if mileage >= self.odometer_reading:\n",
        "      self.odometer_reading = mileage\n",
        "    else:\n",
        "      print(\"You can't roll back an odometer!\")\n",
        "  \n",
        "  def increment_odometer(self, miles):\n",
        "    self.odometer_reading += miles"
      ],
      "metadata": {
        "id": "J5Ls8wTu6fLv"
      },
      "execution_count": null,
      "outputs": []
    },
    {
      "cell_type": "markdown",
      "source": [
        "To test the behavior of a class, we need to make an instance of the class."
      ],
      "metadata": {
        "id": "lbyMN-BHJvMK"
      }
    },
    {
      "cell_type": "code",
      "source": [
        "import unittest\n",
        "from car import Car\n",
        "\n",
        "class TestCar(unittest.TestCase):\n",
        "  \"\"\"Tests for the class Car\"\"\"\n",
        "  def test_get_descriptive_name(self):\n",
        "    \"\"\"Test that a descriptive name is formatted properly.\"\"\"\n",
        "    make = \"Tesla\"\n",
        "    model = \"X\"\n",
        "    year = \"2017\"\n",
        "    \n",
        "    car = Car(make, model, year)\n",
        "    descriptive_name = car.get_descriptive_name()\n",
        "    \n",
        "    self.assertIn(descriptive_name, car.get_descriptive_name())\n",
        "\n",
        "unittest.main() "
      ],
      "metadata": {
        "id": "8GNXPBNFHvm2"
      },
      "execution_count": null,
      "outputs": []
    },
    {
      "cell_type": "markdown",
      "source": [
        "The unittest.TestCase class has a setUp() method that allows you to create test objects including variables once and then use them in each of the following test methods."
      ],
      "metadata": {
        "id": "7CybSyOgPatE"
      }
    },
    {
      "cell_type": "code",
      "source": [
        "import unittest\n",
        "from car import Car\n",
        "\n",
        "class TestCar(unittest.TestCase):\n",
        "  \"\"\"Tests for the class Car\"\"\"\n",
        "\n",
        "  def setUp(self):\n",
        "    make = \"Tesla\"\n",
        "    model = \"X\"\n",
        "    year = \"2017\"\n",
        "    self.my_car = Car(make, model, year)\n",
        "\n",
        "\n",
        "  def test_get_descriptive_name(self):\n",
        "    \"\"\"Test that a descriptive name is formatted properly.\"\"\"\n",
        "    \n",
        "    descriptive_name = self.my_car.get_descriptive_name()\n",
        "    \n",
        "    self.assertIn(descriptive_name, self.my_car.get_descriptive_name())\n",
        "\n",
        "unittest.main() "
      ],
      "metadata": {
        "id": "FC_cOkbdPdQj"
      },
      "execution_count": null,
      "outputs": []
    },
    {
      "cell_type": "markdown",
      "source": [
        "An alternative framework for unit testing in Python is *Pytest*. Pytest supports unittest.TestCase class from the beginning.\n",
        "\n",
        "All behaviors thought during writing tests with unittest (e.g.: writing assertions) remain the same, which gives extremely smooth transition to a new framework. Additionally, most unittest features work too, so pytest executor can run old tests as well (subtests are, however, not supported).\n",
        "\n",
        "https://blog.j-labs.pl/2019/02/Pytest-why-its-more-popular-than-unittest"
      ],
      "metadata": {
        "id": "TryFyRObLOul"
      }
    },
    {
      "cell_type": "code",
      "source": [
        "import pytest\n",
        "import unittest\n",
        "\n",
        "\n",
        "class ClassTest(unittest.TestCase):\n",
        "\n",
        "     @pytest.mark.xfail\n",
        "     def test_feature_a(self):\n",
        "        self.assertEqual(2, 3)\n",
        "\n",
        "     def test_feature_b(self):\n",
        "        self.assertTrue(True)"
      ],
      "metadata": {
        "id": "Lytc3udlLzng"
      },
      "execution_count": null,
      "outputs": []
    },
    {
      "cell_type": "code",
      "source": [
        "# to execute a test script, tun\n",
        "# with verbose output\n",
        "!pytest -v my_unittest_tests.py"
      ],
      "metadata": {
        "id": "DJCuvtu4MDcX"
      },
      "execution_count": null,
      "outputs": []
    },
    {
      "cell_type": "markdown",
      "source": [
        "Pytest comes with a possibility to run tests parallelly by multiple processes using pytest-xdist."
      ],
      "metadata": {
        "id": "uJ_H0quSNooT"
      }
    },
    {
      "cell_type": "code",
      "source": [
        "!pip install pytest-xdist"
      ],
      "metadata": {
        "id": "r8lwBE4nN6k_"
      },
      "execution_count": null,
      "outputs": []
    },
    {
      "cell_type": "code",
      "source": [
        "# start a test script with several processes\n",
        "pytest test_class.py -n 6"
      ],
      "metadata": {
        "id": "gdsyl_FpOFRq"
      },
      "execution_count": null,
      "outputs": []
    },
    {
      "cell_type": "markdown",
      "source": [
        "You can run parameterized tests:"
      ],
      "metadata": {
        "id": "yT2AtpfsOd2n"
      }
    },
    {
      "cell_type": "code",
      "source": [
        "!pip install parameterized"
      ],
      "metadata": {
        "id": "TRb6_GkUOgn0"
      },
      "execution_count": null,
      "outputs": []
    },
    {
      "cell_type": "code",
      "source": [
        "import requests\n",
        "import unittest\n",
        "from parameterized import parameterized\n",
        "\n",
        "\n",
        "class TestRepositories(unittest.TestCase):\n",
        "\n",
        "    @parameterized.expand(['autorepr', 'django-nose', 'chai-subset'])\n",
        "    def test_repos_existence_in_wolever_profile(self, repo):\n",
        "        api_url = 'https://api.github.com/users/wolever/repos'\n",
        "        response = requests.get().json(api_url)\n",
        "        self.assertIn(repo, [item['name'] for item in response])"
      ],
      "metadata": {
        "id": "PddRQ5D7Ohy0"
      },
      "execution_count": null,
      "outputs": []
    },
    {
      "cell_type": "markdown",
      "source": [
        "You can also skip tests:"
      ],
      "metadata": {
        "id": "fdPw59VgzwAE"
      }
    },
    {
      "cell_type": "code",
      "source": [
        "@pytest.mark.skip(\"Do not run this\")\n",
        "\n",
        "@pytest.mark.skipif(mylib is None, reason=\"mylib is not available\")"
      ],
      "metadata": {
        "id": "gYnd1Gz4zmw6"
      },
      "execution_count": null,
      "outputs": []
    },
    {
      "cell_type": "markdown",
      "source": [
        "You can run unit tests in virtual enviroments by using a tool called tox."
      ],
      "metadata": {
        "id": "h2cwCPm_3G7i"
      }
    },
    {
      "cell_type": "markdown",
      "source": [
        "You should store tests inside a tests submodule of the application or library they apply to. Using a hierarchy in your test tree that mimics the hierarchy of your module tree will make the tests more manageable. This means that the tests covering the code of mylib/foobar.py should be stored inside mylib/tests/test_foobar.py. \n",
        "\n"
      ],
      "metadata": {
        "id": "0_StRFcCyv--"
      }
    },
    {
      "cell_type": "markdown",
      "source": [
        "## Web scraping"
      ],
      "metadata": {
        "id": "FPW-94lso3KS"
      }
    },
    {
      "cell_type": "code",
      "source": [
        "import lxlm\n",
        "import xml.etree.ElementTree as ET"
      ],
      "metadata": {
        "id": "24R62VdYo64Y"
      },
      "execution_count": null,
      "outputs": []
    },
    {
      "cell_type": "code",
      "source": [
        "root = ET.fromstring(sentence_parses[i])"
      ],
      "metadata": {
        "id": "gD2UfE1-L2ph"
      },
      "execution_count": null,
      "outputs": []
    },
    {
      "cell_type": "markdown",
      "source": [
        "#### FastAPI"
      ],
      "metadata": {
        "id": "sKmweb6fYsHg"
      }
    },
    {
      "cell_type": "markdown",
      "source": [
        "FastAPI is a modern, high-performance web framework for building APIs with Python based on standard type hints.\n",
        "\n",
        "It’s based on the open standards for APIs, OpenAPI and JSON Schema.\n",
        "\n",
        "Uvicorn is an ASGI web server implementation for Python.\n",
        "\n",
        "Until recently Python has lacked a minimal low-level server/application interface for async frameworks. The ASGI specification fills this gap, and means we're now able to start building a common set of tooling usable across all async frameworks.\n",
        "\n",
        "Uvicorn currently supports HTTP/1.1 and WebSockets."
      ],
      "metadata": {
        "id": "dAwfX5JoPfvE"
      }
    },
    {
      "cell_type": "code",
      "source": [
        "python -m pip install fastapi uvicorn[standard]"
      ],
      "metadata": {
        "id": "VpWMzPDteAoj"
      },
      "execution_count": null,
      "outputs": []
    },
    {
      "cell_type": "code",
      "source": [
        "from fastapi import FastAPI\n",
        "\n",
        "app = FastAPI()\n",
        "\n",
        "@app.get(\"/\")\n",
        "async def root():\n",
        "    return {\"message\": \"Hello World\"}"
      ],
      "metadata": {
        "id": "KtCkKeiueg_k"
      },
      "execution_count": null,
      "outputs": []
    },
    {
      "cell_type": "markdown",
      "source": [
        "This code defines your application, but it won’t run on itself if you call it with python directly. To run it, you need a **server** program."
      ],
      "metadata": {
        "id": "IqnXtr0depiY"
      }
    },
    {
      "cell_type": "code",
      "source": [
        "uvicorn main:app --reload\n",
        "\n",
        "INFO:     Uvicorn running on http://127.0.0.1:8000 (Press CTRL+C to quit)\n",
        "INFO:     Started reloader process [28720]\n",
        "INFO:     Started server process [28722]\n",
        "INFO:     Waiting for application startup.\n",
        "INFO:     Application startup complete."
      ],
      "metadata": {
        "id": "S6sN-Uzvev8E"
      },
      "execution_count": null,
      "outputs": []
    },
    {
      "cell_type": "markdown",
      "source": [
        "Since you used --reload for development, when you update your application code, the server will reload automatically.\n",
        "\n",
        "Open your browser to http://127.0.0.1:8000, which will make your browser send a request to your application. It will then send a JSON response with the following:"
      ],
      "metadata": {
        "id": "8HdAY1TJe19G"
      }
    },
    {
      "cell_type": "code",
      "source": [
        "{\"message\": \"Hello World\"}"
      ],
      "metadata": {
        "id": "-ymWtV7Fe9n4"
      },
      "execution_count": null,
      "outputs": []
    },
    {
      "cell_type": "markdown",
      "source": [
        "At http://127.0.0.1:8000/docs you will see the automatic interactive API documentation provided by Swagger UI:\n",
        "\n"
      ],
      "metadata": {
        "id": "GBWsmp2TfHWk"
      }
    },
    {
      "cell_type": "markdown",
      "source": [
        "![image.png](data:image/png;base64,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)"
      ],
      "metadata": {
        "id": "Q6n5b5j5fU5O"
      }
    },
    {
      "cell_type": "markdown",
      "source": [
        "https://fastapi.tiangolo.com/async/"
      ],
      "metadata": {
        "id": "CXhk84DLf0Cr"
      }
    },
    {
      "cell_type": "code",
      "source": [
        "from fastapi import FastAPI\n",
        "\n",
        "app = FastAPI()\n",
        "\n",
        "@app.get(\"/items/{item_id}\")\n",
        "async def read_item(item_id: int): # using type hint\n",
        "    return {\"item_id\": item_id}"
      ],
      "metadata": {
        "id": "naBK8S-ZgGhv"
      },
      "execution_count": null,
      "outputs": []
    },
    {
      "cell_type": "markdown",
      "source": [
        "With that type declaration, FastAPI gives you automatic request parsing.\n",
        "\n",
        "If you point your browser to http://127.0.0.1:8000/items/foo, then you’ll see a nice HTTP error:"
      ],
      "metadata": {
        "id": "P6MC3VQfgDv0"
      }
    },
    {
      "cell_type": "code",
      "source": [
        "{\n",
        "    \"detail\": [\n",
        "        {\n",
        "            \"loc\": [\n",
        "                \"path\",\n",
        "                \"item_id\"\n",
        "            ],\n",
        "            \"msg\": \"value is not a valid integer\",\n",
        "            \"type\": \"type_error.integer\"\n",
        "        }\n",
        "    ]\n",
        "}"
      ],
      "metadata": {
        "id": "IrFKcx2xgYvg"
      },
      "execution_count": null,
      "outputs": []
    },
    {
      "cell_type": "markdown",
      "source": [
        "So, with the same Python type hint, FastAPI gives you both data parsing and data validation.\n",
        "\n",
        "All the data validation is performed under the hood by pydantic, so you get all the benefits from it, and you know you are in good hands.\n",
        "\n",
        "You can use the same type declarations with str, float, bool and many other complex data types."
      ],
      "metadata": {
        "id": "3QajerAIgd58"
      }
    },
    {
      "cell_type": "markdown",
      "source": [
        "When creating path operations, you may find situations where you have a fixed path, like /users/me. Let’s say that it’s to get data about the current user. You might also have the path /users/{user_id} to get data about a specific user by some user ID.\n",
        "\n",
        "Because path operations are evaluated in order, you need to make sure that the path for /users/me is declared before the one for /users/{user_id}:"
      ],
      "metadata": {
        "id": "5TYQ0r-eguV1"
      }
    },
    {
      "cell_type": "code",
      "source": [
        "from fastapi import FastAPI\n",
        "\n",
        "app = FastAPI()\n",
        "\n",
        "@app.get(\"/users/me\")\n",
        "async def read_user_me():\n",
        "    return {\"user_id\": \"the current user\"}\n",
        "\n",
        "@app.get(\"/users/{user_id}\")\n",
        "async def read_user(user_id: str):\n",
        "    return {\"user_id\": user_id}"
      ],
      "metadata": {
        "id": "u-Ak2g6Tgvid"
      },
      "execution_count": null,
      "outputs": []
    },
    {
      "cell_type": "markdown",
      "source": [
        "Otherwise, the path for /users/{user_id} would also match for /users/me, thinking that it’s receiving the parameter user_id with a value of \"me\"."
      ],
      "metadata": {
        "id": "pO-pFItPg3O1"
      }
    },
    {
      "cell_type": "markdown",
      "source": [
        "First, you need to import BaseModel from pydantic and then use it to create subclasses defining the schema, or data shapes, you want to receive.\n",
        "\n",
        "Next, you declare your data model as a class that inherits from BaseModel, using standard Python types for all the attributes:"
      ],
      "metadata": {
        "id": "eQ6-Dpz8g-zI"
      }
    },
    {
      "cell_type": "code",
      "source": [
        "from typing import Optional\n",
        "\n",
        "from fastapi import FastAPI\n",
        "from pydantic import BaseModel\n",
        "\n",
        "class Item(BaseModel):\n",
        "    name: str\n",
        "    description: Optional[str] = None\n",
        "    price: float\n",
        "    tax: Optional[float] = None\n",
        "\n",
        "app = FastAPI()\n",
        "\n",
        "@app.post(\"/items/\")\n",
        "async def create_item(item: Item):\n",
        "    return item"
      ],
      "metadata": {
        "id": "H5DSAgr9hB_W"
      },
      "execution_count": null,
      "outputs": []
    },
    {
      "cell_type": "markdown",
      "source": [
        "When a model attribute has a default value, it is not required. Otherwise, it is required. To make an attribute optional, you can use None.\n",
        "\n",
        "The parameter item has a type hint of Item, which means that item is declared as an instance of the class Item.\n",
        "\n",
        "With that Python type declaration, FastAPI will:\n",
        "\n",
        "- Read the body of the request as JSON\n",
        "- Convert the corresponding types if needed\n",
        "- Validate the data and return a clear error if it is invalid\n",
        "- Give you the received data in the parameter item—since you declared it to be of type Item, you will also have all the editor support, with completion and type checks for all the attributes and their types\n",
        "- Generate JSON Schema definitions for your model that you can also use anywhere else that makes sense for your project\n",
        "\n",
        "Inside the function, you can access all the attributes of the model object directly:"
      ],
      "metadata": {
        "id": "QcsU0W-chSBC"
      }
    },
    {
      "cell_type": "code",
      "source": [
        "from typing import Optional\n",
        "\n",
        "from fastapi import FastAPI\n",
        "from pydantic import BaseModel\n",
        "\n",
        "class Item(BaseModel):\n",
        "    name: str\n",
        "    description: Optional[str] = None\n",
        "    price: float\n",
        "    tax: Optional[float] = None\n",
        "\n",
        "app = FastAPI()\n",
        "\n",
        "@app.post(\"/items/\")\n",
        "async def create_item(item: Item):\n",
        "    item_dict = item.dict()\n",
        "    if item.tax:\n",
        "        price_with_tax = item.price + item.tax\n",
        "        item_dict.update({\"price_with_tax\": price_with_tax})\n",
        "    return item_dict"
      ],
      "metadata": {
        "id": "zm_w4UOeh5_W"
      },
      "execution_count": null,
      "outputs": []
    },
    {
      "cell_type": "markdown",
      "source": [
        "You can declare path parameters and a request body at the same time.\n",
        "\n",
        "FastAPI will recognize that the function parameters that match path parameters should be taken from the path and that function parameters that are declared to be pydantic models should be taken from the request body:"
      ],
      "metadata": {
        "id": "ovgeYlYYiG5f"
      }
    },
    {
      "cell_type": "code",
      "source": [
        "from typing import Optional\n",
        "\n",
        "from fastapi import FastAPI\n",
        "from pydantic import BaseModel\n",
        "\n",
        "class Item(BaseModel):\n",
        "    name: str\n",
        "    description: Optional[str] = None\n",
        "    price: float\n",
        "    tax: Optional[float] = None\n",
        "\n",
        "app = FastAPI()\n",
        "\n",
        "@app.put(\"/items/{item_id}\")\n",
        "async def create_item(item_id: int, item: Item):\n",
        "    return {\"item_id\": item_id, **item.dict()}"
      ],
      "metadata": {
        "id": "i9LCKcxkiJwz"
      },
      "execution_count": null,
      "outputs": []
    }
  ]
}