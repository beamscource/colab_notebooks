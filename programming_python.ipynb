{
  "nbformat": 4,
  "nbformat_minor": 0,
  "metadata": {
    "colab": {
      "provenance": [],
      "authorship_tag": "ABX9TyOMSFMhrbfUzYpjNT/dR4fI",
      "include_colab_link": true
    },
    "kernelspec": {
      "name": "python3",
      "display_name": "Python 3"
    },
    "language_info": {
      "name": "python"
    }
  },
  "cells": [
    {
      "cell_type": "markdown",
      "metadata": {
        "id": "view-in-github",
        "colab_type": "text"
      },
      "source": [
        "<a href=\"https://colab.research.google.com/github/beamscource/colab_notebooks/blob/main/programming_python.ipynb\" target=\"_parent\"><img src=\"https://colab.research.google.com/assets/colab-badge.svg\" alt=\"Open In Colab\"/></a>"
      ]
    },
    {
      "cell_type": "markdown",
      "source": [
        "This is a summary of the following resources:\n",
        "\n",
        "- https://learning.edx.org/course/course-v1:MITx+6.00.1x_9+2T2016/home\n",
        "- https://www.amazon.de/Python-Crash-Course-Hands-Project-Based/\n",
        "- https://www.amazon.de/dp/1593279663/\n",
        "- https://www.amazon.de/Serious-Python-Black-Belt-Deployment-Scalability/dp/1593278780"
      ],
      "metadata": {
        "id": "qeraweilCaOP"
      }
    },
    {
      "cell_type": "markdown",
      "source": [
        "####################################################\n",
        "## 1. Primitive Datatypes and Operators\n",
        "####################################################"
      ],
      "metadata": {
        "id": "Wb2pIy9fZ6kC"
      }
    },
    {
      "cell_type": "markdown",
      "source": [
        "**Strings and string methods**"
      ],
      "metadata": {
        "id": "xeDXzU_6iHRM"
      }
    },
    {
      "cell_type": "markdown",
      "source": [
        "Strings are quite simple at first glance, but you can use them in many different ways. A string is simply a series of characters. Anything inside quotes is considered a string in Python, and you can use single or double quotes around your strings. This flexibility allows you to use quotes and apostrophes within your strings."
      ],
      "metadata": {
        "id": "-VNqh9tBfJ37"
      }
    },
    {
      "cell_type": "code",
      "source": [
        "# Strings are created with \" or '\n",
        "\"This is a string.\"\n",
        "'This is also a string.'\n",
        "\n",
        "# Strings can be added too! But try not to do this.\n",
        "\"Hello \" + \"world!\"  # => \"Hello world!\"\n",
        "# String literals (but not variables) can be concatenated without using '+'\n",
        "\"Hello \" \"world!\"    # => \"Hello world!\"\n",
        "\n",
        "# A string can be treated like a list of characters\n",
        "\"This is a string\"[0]  # => 'T'\n",
        "\n",
        "# You can find the length of a string\n",
        "len(\"This is a string\")  # => 16\n",
        "\n",
        "# .format can be used to format strings, like this:\n",
        "\"{} can be {}\".format(\"Strings\", \"interpolated\")  # => \"Strings can be interpolated\"\n",
        "\n",
        "# You can repeat the formatting arguments to save some typing.\n",
        "\"{0} be nimble, {0} be quick, {0} jump over the {1}\".format(\"Jack\", \"candle stick\")\n",
        "# => \"Jack be nimble, Jack be quick, Jack jump over the candle stick\"\n",
        "\n",
        "# You can use keywords if you don't want to count.\n",
        "\"{name} wants to eat {food}\".format(name=\"Bob\", food=\"lasagna\")  # => \"Bob wants to eat lasagna\"\n",
        "\n",
        "# for Python 2.5 and below, you can also use the old style of formatting:\n",
        "\"%s can be %s the %s way\" % (\"Strings\", \"interpolated\", \"old\")  # => \"Strings can be interpolated the old way\"\n",
        "\n",
        "# You can also format using f-strings or formatted string literals (in Python 3.6+)\n",
        "name = \"Reiko\"\n",
        "f\"She said her name is {name}.\" # => \"She said her name is Reiko\"\n",
        "f\"{name} is {len(name)} characters long.\" # => \"Reiko is 5 characters long.\""
      ],
      "metadata": {
        "id": "1-c6HwDdh9iD"
      },
      "execution_count": null,
      "outputs": []
    },
    {
      "cell_type": "code",
      "source": [
        "# reverse a string\n",
        "string = 'This is also a string.'\n",
        "string[::-1]\n",
        "''.join(reversed(string))"
      ],
      "metadata": {
        "id": "OZj76A6qjzdj"
      },
      "execution_count": null,
      "outputs": []
    },
    {
      "cell_type": "code",
      "source": [
        "# string methods\n",
        "name = \"Ada Lovelace\"\n",
        "print(name.upper())\n",
        "print(name.lower())\n",
        "print(name.title())\n",
        "print(name.split())\n",
        "print(list(name))"
      ],
      "metadata": {
        "colab": {
          "base_uri": "https://localhost:8080/"
        },
        "id": "TMAp0wzOgTWA",
        "outputId": "3d01160e-ec1d-4200-ce08-a8e205fd5797"
      },
      "execution_count": null,
      "outputs": [
        {
          "output_type": "stream",
          "name": "stdout",
          "text": [
            "ADA LOVELACE\n",
            "ada lovelace\n",
            "Ada Lovelace\n",
            "['Ada', 'Lovelace']\n",
            "['A', 'd', 'a', ' ', 'L', 'o', 'v', 'e', 'l', 'a', 'c', 'e']\n"
          ]
        }
      ]
    },
    {
      "cell_type": "code",
      "source": [
        "print(\"\\tPython\")\n",
        "print('   Python  '.rstrip())\n",
        "print('   Python  '.strip())"
      ],
      "metadata": {
        "colab": {
          "base_uri": "https://localhost:8080/"
        },
        "id": "V04osRu4iqC1",
        "outputId": "bababac7-eae4-4e37-d7ce-9e67034a368e"
      },
      "execution_count": null,
      "outputs": [
        {
          "output_type": "stream",
          "name": "stdout",
          "text": [
            "\tPython\n",
            "   Python\n",
            "Python\n"
          ]
        }
      ]
    },
    {
      "cell_type": "code",
      "source": [
        "print(\"I'm Python. Nice to meet you!\")  # => I'm Python. Nice to meet you!\n",
        "\n",
        "# By default the print function also prints out a newline at the end.\n",
        "# Use the optional argument end to change the end string.\n",
        "print(\"Hello, World\", end=\"!\")  # => Hello, World!\n",
        "\n",
        "# Simple way to get input data from console\n",
        "input_string_var = input(\"Enter some data: \") # Returns the data as a string\n",
        "# In earlier versions of Python, input() method was named as raw_input()"
      ],
      "metadata": {
        "id": "Ja4yWdR5jJ2M"
      },
      "execution_count": null,
      "outputs": []
    },
    {
      "cell_type": "markdown",
      "source": [
        "**Integers**"
      ],
      "metadata": {
        "id": "Uu19DAn2huyy"
      }
    },
    {
      "cell_type": "markdown",
      "source": [
        "Numbers are used quite often in programming to keep score in games, rep-\n",
        "resent data in visualizations, store information in web applications, and so on. Python treats numbers in several different ways, depending on how they\n",
        "are being used."
      ],
      "metadata": {
        "id": "_E457zTokOE6"
      }
    },
    {
      "cell_type": "code",
      "execution_count": 15,
      "metadata": {
        "id": "xOBafEtuGQZr",
        "colab": {
          "base_uri": "https://localhost:8080/"
        },
        "outputId": "1fdbf54b-93ce-4b56-d016-5cc594544b70"
      },
      "outputs": [
        {
          "output_type": "execute_result",
          "data": {
            "text/plain": [
              "8"
            ]
          },
          "metadata": {},
          "execution_count": 15
        }
      ],
      "source": [
        "# math on scalars\n",
        "1 + 1   # => 2\n",
        "8 - 1   # => 7\n",
        "10 * 2  # => 20\n",
        "35 / 5  # => 7.0\n",
        "\n",
        "# Integer division rounds down for both positive and negative numbers.\n",
        "5 // 3       # => 1\n",
        "-5 // 3      # => -2\n",
        "5.0 // 3.0   # => 1.0 # works on floats too\n",
        "-5.0 // 3.0  # => -2.0\n",
        "\n",
        "# The result of division is always a float\n",
        "10.0 / 3  # => 3.3333333333333335\n",
        "\n",
        "# Modulo operation\n",
        "7 % 3  # => 1\n",
        "\n",
        "# Exponentiation (x**y, x to the yth power)\n",
        "2**3  # => 8\n",
        "\n",
        "# Enforce precedence with parentheses\n",
        "(1 + 3) * 2  # => 8"
      ]
    },
    {
      "cell_type": "markdown",
      "source": [
        "**Floats**"
      ],
      "metadata": {
        "id": "Akc2x0oflBUV"
      }
    },
    {
      "cell_type": "markdown",
      "source": [
        "Python calls any number with a decimal point a float. This term is used in\n",
        "most programming languages, and it refers to the fact that a decimal point\n",
        "can appear at any position in a number. Every programming language must\n",
        "be carefully designed to properly manage decimal numbers so numbers\n",
        "behave appropriately no matter where the decimal point appears."
      ],
      "metadata": {
        "id": "CRwYna4KlNTq"
      }
    },
    {
      "cell_type": "code",
      "source": [
        "0.1 + 0.1\n",
        "0.2 + 0.2\n",
        "2 * 0.1\n",
        "2 * 0.2"
      ],
      "metadata": {
        "colab": {
          "base_uri": "https://localhost:8080/"
        },
        "id": "h4t-1CT0lDtI",
        "outputId": "ebb8ebf2-765c-40a2-85d2-6d6ee30d0de4"
      },
      "execution_count": 16,
      "outputs": [
        {
          "output_type": "execute_result",
          "data": {
            "text/plain": [
              "0.4"
            ]
          },
          "metadata": {},
          "execution_count": 16
        }
      ]
    },
    {
      "cell_type": "code",
      "source": [
        "# https://www.geeksforgeeks.org/floor-ceil-function-python/\n",
        "print(round(2.7468, 2))\n",
        "print(round(2.7468))"
      ],
      "metadata": {
        "colab": {
          "base_uri": "https://localhost:8080/"
        },
        "id": "ngsDnD_Zlh2m",
        "outputId": "87640fb7-904c-4249-c099-420cf4bbade7"
      },
      "execution_count": 23,
      "outputs": [
        {
          "output_type": "stream",
          "name": "stdout",
          "text": [
            "2.75\n",
            "3\n"
          ]
        }
      ]
    },
    {
      "cell_type": "code",
      "source": [
        "str(10)"
      ],
      "metadata": {
        "colab": {
          "base_uri": "https://localhost:8080/",
          "height": 36
        },
        "id": "HW3OSxaUmO_K",
        "outputId": "64a3af6d-c327-46b6-f4e2-38ffd28fbe72"
      },
      "execution_count": 24,
      "outputs": [
        {
          "output_type": "execute_result",
          "data": {
            "text/plain": [
              "'10'"
            ],
            "application/vnd.google.colaboratory.intrinsic+json": {
              "type": "string"
            }
          },
          "metadata": {},
          "execution_count": 24
        }
      ]
    },
    {
      "cell_type": "markdown",
      "source": [
        "####################################################\n",
        "## 2. Variables and Collections\n",
        "####################################################"
      ],
      "metadata": {
        "id": "XPfJyEmcaVrN"
      }
    },
    {
      "cell_type": "markdown",
      "source": [
        "**Variable assignment**"
      ],
      "metadata": {
        "id": "hWfoNOY5ksGT"
      }
    },
    {
      "cell_type": "markdown",
      "source": [
        "Every variable holds a value, which is the information associated with that variable."
      ],
      "metadata": {
        "id": "Kow_FBlHeUXj"
      }
    },
    {
      "cell_type": "code",
      "source": [
        "# There are no declarations, only assignments.\n",
        "some_var = 5\n",
        "\n",
        "# Accessing a previously unassigned variable is an exception.\n",
        "# See Control Flow to learn more about exception handling.\n",
        "some_unknown_var  # Raises a NameError"
      ],
      "metadata": {
        "id": "MHReSAj-Z7jM"
      },
      "execution_count": null,
      "outputs": []
    },
    {
      "cell_type": "markdown",
      "source": [
        "When you’re using variables in Python, you need to adhere to a few rules and guidelines.\n",
        "\n",
        "- Variable names can contain only letters, numbers, and underscores. They can start with a letter or an underscore, but not with a number. For instance, you can call a variable message_1 but not 1_message.\n",
        "\n",
        "- Spaces are not allowed in variable names, but underscores can be used to separate words in variable names.\n",
        "\n",
        "- Avoid using Python keywords and function names as variable names; that is, do not use words that Python has reserved for a particular programmatic purpose, such as the word print.\n",
        "\n",
        "- Variable names should be short but descriptive. For example, name is better than n, student_name is better than s_n, and name_length is better than length_of_persons_name."
      ],
      "metadata": {
        "id": "qP7D739Qekbc"
      }
    },
    {
      "cell_type": "markdown",
      "source": [
        "**Lists**"
      ],
      "metadata": {
        "id": "rjz3upikkv-H"
      }
    },
    {
      "cell_type": "markdown",
      "source": [
        "A list is a collection of items in a particular order. You can make a list that\n",
        "includes the letters of the alphabet, the digits from 0–9, or the names of\n",
        "all the people in your family. You can put anything you want into a list, and the items in your list don’t have to be related in any particular way.\n",
        "\n",
        "Because a list usually contains more than one element, it’s a good idea to make the name of your list plural, such as letters, digits, or names.\n",
        "\n",
        "In Python, square brackets ([]) indicate a list, and individual elements\n",
        "in the list are separated by commas."
      ],
      "metadata": {
        "id": "zQtHdivGom69"
      }
    },
    {
      "cell_type": "code",
      "source": [
        "# lists store sequences\n",
        "exp_list = [] # empty list\n",
        "other_exp_list = [4, 5, 6]"
      ],
      "metadata": {
        "id": "a1YCmk33kugr"
      },
      "execution_count": 1,
      "outputs": []
    },
    {
      "cell_type": "markdown",
      "source": [
        "Adding separate elements to a list or expanding the original list:"
      ],
      "metadata": {
        "id": "VgJZvSP8vv8p"
      }
    },
    {
      "cell_type": "code",
      "source": [
        "# add stuff to the end of a list\n",
        "exp_list.append(1)    # exp_list is now [1]\n",
        "exp_list.append(2)    # exp_list is now [1, 2]\n",
        "\n",
        "# remove the last element (you can use the value of that element)\n",
        "removed_element = exp_list.pop()        # => 2 and exp_list is now [1]\n",
        "\n",
        "# delete arbitrary elements without using them anymore\n",
        "del exp_list[2]"
      ],
      "metadata": {
        "id": "5Bgd0etSvmOX"
      },
      "execution_count": null,
      "outputs": []
    },
    {
      "cell_type": "markdown",
      "source": [
        "Sometimes you won’t know the position of the value you want to remove from a list. If you only know the value of the item you want to remove, you can use the remove() method."
      ],
      "metadata": {
        "id": "5C6nVGThvVfl"
      }
    },
    {
      "cell_type": "code",
      "source": [
        "# remove first occurrence of a value\n",
        "removed_item = other_exp_list.remove(5)  # exp_list is now []\n",
        "other_exp_list.remove(5)  # Raises a ValueError as 5 is not in the exp_list"
      ],
      "metadata": {
        "id": "vB8gxEYAvg5x"
      },
      "execution_count": null,
      "outputs": []
    },
    {
      "cell_type": "code",
      "source": [
        "# Insert an element at a specific index\n",
        "exp_list.insert(1, 2)  # exp_list is now [2]\n",
        "\n",
        "# Get the index of the first item found matching the argument\n",
        "exp_list.index(2)  # => 1\n",
        "exp_list.index(4)  # Raises a ValueError as 4 is not in the list"
      ],
      "metadata": {
        "id": "dlhNw8VrvqzC"
      },
      "execution_count": null,
      "outputs": []
    },
    {
      "cell_type": "markdown",
      "source": [
        "Lists are ordered collections, so you can access any element in a list by telling Python the position, or index, of the item desired. To access an element in a list, write the name of the list followed by the index of the item enclosed in square brackets."
      ],
      "metadata": {
        "id": "YPHswHwhpF5J"
      }
    },
    {
      "cell_type": "code",
      "source": [
        "# indexing and slicing on lists\n",
        "exp_list[0] # first element\n",
        "exp_list[-1] # last element"
      ],
      "metadata": {
        "id": "dtfq6Ls1o3c-"
      },
      "execution_count": null,
      "outputs": []
    },
    {
      "cell_type": "markdown",
      "source": [
        "To make a slice, you specify the index of the first and last elements you want to work with. As with the range() function, Python stops one item before the second index you specify."
      ],
      "metadata": {
        "id": "g2ZweXk62RpY"
      }
    },
    {
      "cell_type": "code",
      "source": [
        "exp_list[1:3]\n",
        "exp_list[2:]\n",
        "exp_list[:3]\n",
        "# exp_list[start:end:step]\n",
        "exp_list[::2] # Select every second entry\n",
        "\n",
        "#reverse a list\n",
        "exp_list[::-1]\n",
        "\n",
        "# Looking out of bounds is an IndexError\n",
        "exp_list[4]  # Raises an IndexError"
      ],
      "metadata": {
        "id": "-ageqUwy2Zn2"
      },
      "execution_count": null,
      "outputs": []
    },
    {
      "cell_type": "markdown",
      "source": [
        "Keep in mind that whenever you want to access the last item in a list you use the index -1. A negative index returns an element at a certain distance from the end of a list; therefore, you can output any slice from the end of a list."
      ],
      "metadata": {
        "id": "JtfQOenozOoK"
      }
    },
    {
      "cell_type": "code",
      "source": [
        "other_exp_list[-1:]"
      ],
      "metadata": {
        "colab": {
          "base_uri": "https://localhost:8080/"
        },
        "id": "UJLnxRxZ21Mc",
        "outputId": "f02d0295-0fc5-46a3-af08-6dd0a1a57174"
      },
      "execution_count": 19,
      "outputs": [
        {
          "output_type": "execute_result",
          "data": {
            "text/plain": [
              "[6]"
            ]
          },
          "metadata": {},
          "execution_count": 19
        }
      ]
    },
    {
      "cell_type": "markdown",
      "source": [
        "Sometimes you’ll want to preserve the original order of your list, and other times you’ll want to change the original order."
      ],
      "metadata": {
        "id": "zE01bPWHx414"
      }
    },
    {
      "cell_type": "code",
      "source": [
        "cars = ['bmw', 'audi', 'toyota', 'subaru']\n",
        "cars.sort()\n",
        "print(cars)"
      ],
      "metadata": {
        "colab": {
          "base_uri": "https://localhost:8080/"
        },
        "id": "9PugEHBHx6No",
        "outputId": "94507e5c-840a-427f-f026-adbc22b64841"
      },
      "execution_count": 6,
      "outputs": [
        {
          "output_type": "stream",
          "name": "stdout",
          "text": [
            "['audi', 'bmw', 'subaru', 'toyota']\n"
          ]
        }
      ]
    },
    {
      "cell_type": "code",
      "source": [
        "cars.sort(reverse=True)\n",
        "print(cars)"
      ],
      "metadata": {
        "colab": {
          "base_uri": "https://localhost:8080/"
        },
        "id": "HK-3GduoyOcV",
        "outputId": "eeed707e-fd41-443d-e363-f14eed468d8f"
      },
      "execution_count": 7,
      "outputs": [
        {
          "output_type": "stream",
          "name": "stdout",
          "text": [
            "['toyota', 'subaru', 'bmw', 'audi']\n"
          ]
        }
      ]
    },
    {
      "cell_type": "markdown",
      "source": [
        "To maintain the original order of a list but present it in a sorted order, you can use the sorted() function. The sorted() function lets you display your list in a particular order but doesn’t affect the actual order of the list."
      ],
      "metadata": {
        "id": "QYZgJ7ucyWo-"
      }
    },
    {
      "cell_type": "code",
      "source": [
        "print(\"Here is the original list:\")\n",
        "print(cars)\n",
        "\n",
        "print(\"\\nHere is the sorted list:\")\n",
        "print(sorted(cars))"
      ],
      "metadata": {
        "colab": {
          "base_uri": "https://localhost:8080/"
        },
        "id": "qxUU1vjVyX1l",
        "outputId": "5ba35813-620a-458c-bd16-40001e6935c0"
      },
      "execution_count": 8,
      "outputs": [
        {
          "output_type": "stream",
          "name": "stdout",
          "text": [
            "Here is the original list:\n",
            "['toyota', 'subaru', 'bmw', 'audi']\n",
            "\n",
            "Here is the sorted list:\n",
            "['audi', 'bmw', 'subaru', 'toyota']\n"
          ]
        }
      ]
    },
    {
      "cell_type": "markdown",
      "source": [
        "To reverse the original order of a list, you can use the reverse() method. "
      ],
      "metadata": {
        "id": "ZggPCMJdyv6Y"
      }
    },
    {
      "cell_type": "code",
      "source": [
        "cars.reverse()\n",
        "print(cars)"
      ],
      "metadata": {
        "colab": {
          "base_uri": "https://localhost:8080/"
        },
        "id": "ZVr4b8oIy0Oj",
        "outputId": "2fd09a8a-321b-46bb-f8e3-1485431638de"
      },
      "execution_count": 9,
      "outputs": [
        {
          "output_type": "stream",
          "name": "stdout",
          "text": [
            "['audi', 'bmw', 'subaru', 'toyota']\n"
          ]
        }
      ]
    },
    {
      "cell_type": "markdown",
      "source": [
        "To copy a list, you can make a slice that includes the entire original list by omitting the first index and the second index ([:]). "
      ],
      "metadata": {
        "id": "GZh054yb3KOa"
      }
    },
    {
      "cell_type": "code",
      "source": [
        "# Make a one layer deep copy\n",
        "exp_list2 = exp_list[:]\n",
        "\n",
        "# You can add lists\n",
        "exp_list + other_list\n",
        "\n",
        "# Concatenate lists with \"extend()\"\n",
        "exp_list.extend(other_list)\n",
        "\n",
        "# Check for existence in a list with \"in\"\n",
        "1 in exp_list\n",
        "\n",
        "len(exp_list)"
      ],
      "metadata": {
        "id": "31K5Dj3sowa9"
      },
      "execution_count": null,
      "outputs": []
    },
    {
      "cell_type": "markdown",
      "source": [
        "**For-loops**"
      ],
      "metadata": {
        "id": "1iiJ-KKmkdpW"
      }
    },
    {
      "cell_type": "markdown",
      "source": [
        "You’ll often want to run through all entries in a list, performing the same task with each item."
      ],
      "metadata": {
        "id": "nKStHXuRz1uo"
      }
    },
    {
      "cell_type": "code",
      "source": [
        "# iterate over list elements\n",
        "for animal in [\"dog\", \"cat\", \"mouse\"]:\n",
        "    print(f\"{animal} is a mammal\") # f-string\n",
        "\n",
        "text = 'this is a longer text \\n with several lines \\n attached to it'\n",
        "\n",
        "# define an index in the loop\n",
        "for i, line in enumerate(text.split('\\n')):\n",
        "    print(line)\n",
        "\n",
        "# skip remaining iterations in a loop or skip to the next iteration\n",
        "# depending on a condition\n",
        "for i, line in enumerate(text.split('\\n')):\n",
        "    print(line)\n",
        "    if len(line.split()) == 3:\n",
        "        break\n",
        "        #continue\n",
        "\n",
        "# manipulate each element within a loop\n",
        "string = 'Das ist ein.'\n",
        "for word in string:\n",
        "    print(word.upper())\n",
        "\n"
      ],
      "metadata": {
        "id": "Lzt9rmiwevIv"
      },
      "execution_count": null,
      "outputs": []
    },
    {
      "cell_type": "code",
      "source": [
        "for i in range(10):\n",
        "    print(i)\n",
        "\n",
        "print('\\n')\n",
        "# range(lower, upper, step)\n",
        "for i in range(4, 8, 2):\n",
        "    print(i)"
      ],
      "metadata": {
        "id": "lrXUmzaM0Zr-"
      },
      "execution_count": null,
      "outputs": []
    },
    {
      "cell_type": "code",
      "source": [
        "numbers = list(range(1,6))\n",
        "print(numbers)"
      ],
      "metadata": {
        "colab": {
          "base_uri": "https://localhost:8080/"
        },
        "id": "aW4kZ8Tl00g7",
        "outputId": "643f2a65-31cb-414e-ca4a-e436170821ea"
      },
      "execution_count": 13,
      "outputs": [
        {
          "output_type": "stream",
          "name": "stdout",
          "text": [
            "[1, 2, 3, 4, 5]\n"
          ]
        }
      ]
    },
    {
      "cell_type": "markdown",
      "source": [
        "**List comprehensions**"
      ],
      "metadata": {
        "id": "5s6dbgQ-pSpo"
      }
    },
    {
      "cell_type": "markdown",
      "source": [
        " A list comprehension combines the for loop and the creation of new elements into one line, and automatically appends each new element."
      ],
      "metadata": {
        "id": "Cvv3AMsd1G2c"
      }
    },
    {
      "cell_type": "code",
      "source": [
        "# list_comprehension\n",
        "new_list = [e for e in numbers if e % 2 == 0]\n",
        "print(new_list)"
      ],
      "metadata": {
        "id": "7rppjesvpVNf",
        "colab": {
          "base_uri": "https://localhost:8080/"
        },
        "outputId": "c4204cf8-7c7b-409d-893b-00808251bab1"
      },
      "execution_count": 16,
      "outputs": [
        {
          "output_type": "stream",
          "name": "stdout",
          "text": [
            "[2, 4]\n"
          ]
        }
      ]
    },
    {
      "cell_type": "markdown",
      "source": [
        "Open a set of square brackets and define the expression for the values you want to store in the new list. In this example the expression is e**2, which raises the element to the second power. Then, write a for loop to generate the numbers you want to feed into the expression, and close the square brackets."
      ],
      "metadata": {
        "id": "_68JyVDi15wy"
      }
    },
    {
      "cell_type": "code",
      "source": [
        "new_list = [e**2 for e in numbers]\n",
        "print(new_list)"
      ],
      "metadata": {
        "colab": {
          "base_uri": "https://localhost:8080/"
        },
        "id": "wLaX9L1g1aMF",
        "outputId": "0807238a-6fbb-40ff-b080-16e5244973eb"
      },
      "execution_count": 17,
      "outputs": [
        {
          "output_type": "stream",
          "name": "stdout",
          "text": [
            "[1, 4, 9, 16, 25]\n"
          ]
        }
      ]
    },
    {
      "cell_type": "code",
      "source": [
        "# example of combining a loop with a list comprehension\n",
        "exclude_list = [':', '|', '==']\n",
        "\n",
        "for element in exclude_list:\n",
        "    recognizer_output = [line for line in recognizer_output \\\n",
        "    if (element not in line)]"
      ],
      "metadata": {
        "id": "sT5SRSnzpnNS"
      },
      "execution_count": null,
      "outputs": []
    },
    {
      "cell_type": "markdown",
      "source": [
        "**Tuples**"
      ],
      "metadata": {
        "id": "1KdoIBeMrDGV"
      }
    },
    {
      "cell_type": "markdown",
      "source": [
        "Sometimes you’ll want to create a list of items that cannot change. Tuples allow you to do just that. Python refers to values that cannot change as *immutable*, and an immutable list is called a tuple.\n",
        "\n",
        "A tuple looks just like a list except you use parentheses instead of square brackets."
      ],
      "metadata": {
        "id": "3kNlqYx837Vg"
      }
    },
    {
      "cell_type": "code",
      "source": [
        "# Tuples are like lists but are immutable.\n",
        "tup = (1, 2, 3)\n",
        "tup[0]      # => 1\n",
        "tup[0] = 3  # Raises a TypeError"
      ],
      "metadata": {
        "id": "yK6HZ_jwk2_4",
        "colab": {
          "base_uri": "https://localhost:8080/",
          "height": 200
        },
        "outputId": "11d0cd17-15b1-42b4-c8a7-6c96147e5929"
      },
      "execution_count": 23,
      "outputs": [
        {
          "output_type": "error",
          "ename": "TypeError",
          "evalue": "ignored",
          "traceback": [
            "\u001b[0;31m---------------------------------------------------------------------------\u001b[0m",
            "\u001b[0;31mTypeError\u001b[0m                                 Traceback (most recent call last)",
            "\u001b[0;32m<ipython-input-23-1e709546ebdb>\u001b[0m in \u001b[0;36m<module>\u001b[0;34m\u001b[0m\n\u001b[1;32m      2\u001b[0m \u001b[0mtup\u001b[0m \u001b[0;34m=\u001b[0m \u001b[0;34m(\u001b[0m\u001b[0;36m1\u001b[0m\u001b[0;34m,\u001b[0m \u001b[0;36m2\u001b[0m\u001b[0;34m,\u001b[0m \u001b[0;36m3\u001b[0m\u001b[0;34m)\u001b[0m\u001b[0;34m\u001b[0m\u001b[0;34m\u001b[0m\u001b[0m\n\u001b[1;32m      3\u001b[0m \u001b[0mtup\u001b[0m\u001b[0;34m[\u001b[0m\u001b[0;36m0\u001b[0m\u001b[0;34m]\u001b[0m      \u001b[0;31m# => 1\u001b[0m\u001b[0;34m\u001b[0m\u001b[0;34m\u001b[0m\u001b[0m\n\u001b[0;32m----> 4\u001b[0;31m \u001b[0mtup\u001b[0m\u001b[0;34m[\u001b[0m\u001b[0;36m0\u001b[0m\u001b[0;34m]\u001b[0m \u001b[0;34m=\u001b[0m \u001b[0;36m3\u001b[0m  \u001b[0;31m# Raises a TypeError\u001b[0m\u001b[0;34m\u001b[0m\u001b[0;34m\u001b[0m\u001b[0m\n\u001b[0m",
            "\u001b[0;31mTypeError\u001b[0m: 'tuple' object does not support item assignment"
          ]
        }
      ]
    },
    {
      "cell_type": "code",
      "source": [
        "# Note that a tuple of length one has to have a comma after the last element but\n",
        "# tuples of other lengths, even zero, do not.\n",
        "print(type((1)))   # => <class 'int'>\n",
        "print(type((1,)))  # => <class 'tuple'>\n",
        "print(type(()))    # => <class 'tuple'>"
      ],
      "metadata": {
        "colab": {
          "base_uri": "https://localhost:8080/"
        },
        "id": "pmP32fsQ4ScJ",
        "outputId": "d4171417-18f0-40bf-9e9d-dd92fe9b3419"
      },
      "execution_count": 21,
      "outputs": [
        {
          "output_type": "stream",
          "name": "stdout",
          "text": [
            "<class 'int'>\n",
            "<class 'tuple'>\n",
            "<class 'tuple'>\n"
          ]
        }
      ]
    },
    {
      "cell_type": "code",
      "source": [
        "# You can do most of the list operations on tuples too\n",
        "print(len(tup))         # => 3\n",
        "print(tup + (4, 5, 6))  # => (1, 2, 3, 4, 5, 6)\n",
        "print(tup[:2])          # => (1, 2)\n",
        "print(2 in tup)         # => True"
      ],
      "metadata": {
        "colab": {
          "base_uri": "https://localhost:8080/"
        },
        "id": "eFW1KO-84yoh",
        "outputId": "9246c758-09a6-416b-c064-dd53f815fc85"
      },
      "execution_count": 24,
      "outputs": [
        {
          "output_type": "stream",
          "name": "stdout",
          "text": [
            "3\n",
            "(1, 2, 3, 4, 5, 6)\n",
            "(1, 2)\n",
            "True\n"
          ]
        }
      ]
    },
    {
      "cell_type": "markdown",
      "source": [
        "Although you can’t modify a tuple, you can assign a new value to a variable that holds a tuple. "
      ],
      "metadata": {
        "id": "u9zk_3m14rMh"
      }
    },
    {
      "cell_type": "markdown",
      "source": [
        "**Dictionaries**"
      ],
      "metadata": {
        "id": "7fz1cbINrNlY"
      }
    },
    {
      "cell_type": "markdown",
      "source": [
        "A dictionary in Python is a collection of key-value pairs. Each key is connected to a value, and you can use a key to access the value associated with that key. A key’s value can be a number, a string, a list, or even another dictionary."
      ],
      "metadata": {
        "id": "fVkbVvnLit_D"
      }
    },
    {
      "cell_type": "code",
      "source": [
        "# Dictionaries store mappings from keys to values\n",
        "empty_dict = {}\n",
        "my_dict = {\"one\": 1, \"two\": 2, \"three\": 3}"
      ],
      "metadata": {
        "id": "VLqlyDBfrR9c"
      },
      "execution_count": 38,
      "outputs": []
    },
    {
      "cell_type": "code",
      "source": [
        "# keys for dictionaries have to be immutable to ensure that\n",
        "# the key can be converted to a constant hash value for quick access\n",
        "# immutable types include ints, floats, strings, an tuples\n",
        "invalid_dict = {[1,2,3]: \"123\"}  # => Raises a TypeError: unhashable type: 'list'\n",
        "valid_dict = {'example_key':[1,2,3]}   # Values can be of any type, however."
      ],
      "metadata": {
        "id": "LS8HbYEppXg6"
      },
      "execution_count": null,
      "outputs": []
    },
    {
      "cell_type": "code",
      "source": [
        "# accessing values\n",
        "my_dict[\"one\"]  # => 1\n",
        "\n",
        "# Get all keys as an iterable with \"keys()\"\n",
        "list(my_dict.keys())  # => [\"three\", \"two\", \"one\"] in Python <3.7\n",
        "list(my_dict.keys())  # => [\"one\", \"two\", \"three\"] in Python 3.7+\n",
        "list(my_dict.values())  # => [3, 2, 1]  in Python <3.7\n",
        "list(my_dict.values())  # => [1, 2, 3] in Python 3.7+"
      ],
      "metadata": {
        "colab": {
          "base_uri": "https://localhost:8080/"
        },
        "id": "6zp-OIu7pbiC",
        "outputId": "4a523003-1f78-48e9-e3d9-12c81502900a"
      },
      "execution_count": 40,
      "outputs": [
        {
          "output_type": "execute_result",
          "data": {
            "text/plain": [
              "[1, 2, 3]"
            ]
          },
          "metadata": {},
          "execution_count": 40
        }
      ]
    },
    {
      "cell_type": "code",
      "source": [
        "# extract all values\n",
        "value_list = list(my_dict.values())"
      ],
      "metadata": {
        "id": "aTDTbb2opxda"
      },
      "execution_count": null,
      "outputs": []
    },
    {
      "cell_type": "code",
      "source": [
        "# Remove keys from a dictionary with del\n",
        "del my_dict[\"one\"]  # deletes the key \"one\" from filled dict\n",
        "\n",
        "# insert into dictionaries\n",
        "my_dict.update({\"key_3\":3})\n",
        "my_dict['key_4'] = 6"
      ],
      "metadata": {
        "id": "IyR9HAI1thUy"
      },
      "execution_count": null,
      "outputs": []
    },
    {
      "cell_type": "code",
      "source": [
        "# \"setdefault()\" inserts into a dictionary only if the given key isn't present\n",
        "my_dict.setdefault(\"five\", 5)  # my_dict[\"five\"] is set to 5\n",
        "my_dict.setdefault(\"five\", 6)  # my_dict[\"five\"] is still 5\n",
        "\n",
        "# Check for existence of keys in a dictionary with \"in\"\n",
        "\"one\" in my_dict  # => True\n",
        "1 in my_dict      # => False\n",
        "\n",
        "# Looking up a non-existing key is a KeyError\n",
        "my_dict[\"four\"]  # KeyError\n",
        "\n",
        "# Use \"get()\" method to avoid the KeyError\n",
        "my_dict.get(\"one\")      # => 1\n",
        "my_dict.get(\"four\")     # => None\n",
        "\n",
        "# The get method supports a default argument when the value is missing\n",
        "my_dict.get(\"one\", 4)   # => 1\n",
        "my_dict.get(\"four\", 4)  # => 4\n",
        "\n",
        "# From Python 3.5 you can also use the additional unpacking options\n",
        "{'a': 1, **{'b': 2}}  # => {'a': 1, 'b': 2}\n",
        "{'a': 1, **{'a': 2}}  # => {'a': 2}"
      ],
      "metadata": {
        "id": "ZwusM8jjqKn6"
      },
      "execution_count": null,
      "outputs": []
    },
    {
      "cell_type": "code",
      "source": [
        "my_dict = {'key_1':'value_1',\n",
        "            'key_2':'value_2'}\n",
        "\n",
        "# iterate through keys\n",
        "for key in my_dict.keys():\n",
        "    if key == 'key_2':\n",
        "        my_dict[key] = 'new_value'\n",
        "\n",
        "# sorted keys\n",
        "for key in sorted(my_dict.keys()):\n",
        "    if key == 'key_2':\n",
        "        my_dict[key] = 'new_value'\n",
        "\n",
        "# loop over values directly\n",
        "for value in sorted(my_dict.values()):\n",
        "    if value == 'value':\n",
        "        print(value)\n",
        "\n",
        "# iterate through keys and values at the same time\n",
        "for key, val in my_dict.items():\n",
        "    print(my_dict[key])\n",
        "\n",
        "# loop through two dicts at once with zip\n",
        "for (key_a, value_a), (key_b, value_b) in zip(dict_a.items(), \\\n",
        "            dict_b.items()):\n",
        "  pass"
      ],
      "metadata": {
        "id": "sMQG9SCVsySC"
      },
      "execution_count": null,
      "outputs": []
    },
    {
      "cell_type": "code",
      "source": [
        "# list comprehension works for dicts\n",
        "{x: x**2 for x in range(5)}  # => {0: 0, 1: 1, 2: 4, 3: 9, 4: 16}"
      ],
      "metadata": {
        "id": "R1ckcyePt0Nq"
      },
      "execution_count": null,
      "outputs": []
    },
    {
      "cell_type": "markdown",
      "source": [
        "You can nest dictionaries in a list or lists in dictionaries."
      ],
      "metadata": {
        "id": "2vGE9mjcr8Y4"
      }
    },
    {
      "cell_type": "markdown",
      "source": [
        "**Set**"
      ],
      "metadata": {
        "id": "88OkPJ1ZuCVY"
      }
    },
    {
      "cell_type": "markdown",
      "source": [
        "A set is similar to a list except that each item in the set must be unique:"
      ],
      "metadata": {
        "id": "lpOWHxnosXmh"
      }
    },
    {
      "cell_type": "code",
      "source": [
        "# Sets store ... well sets\n",
        "empty_set = set()\n",
        "# Initialize a set with a bunch of values. Yeah, it looks a bit like a dict. Sorry.\n",
        "some_set = {1, 1, 2, 2, 3, 4}  # some_set is now {1, 2, 3, 4}\n",
        "\n",
        "# Similar to keys of a dictionary, elements of a set have to be immutable.\n",
        "invalid_set = {[1], 1}  # => Raises a TypeError: unhashable type: 'list'\n",
        "valid_set = {(1,), 1}\n",
        "\n",
        "# Add one more item to the set\n",
        "filled_set = some_set\n",
        "filled_set.add(5)  # filled_set is now {1, 2, 3, 4, 5}\n",
        "# Sets do not have duplicate elements\n",
        "filled_set.add(5)  # it remains as before {1, 2, 3, 4, 5}\n",
        "\n",
        "# Do set intersection with &\n",
        "other_set = {3, 4, 5, 6}\n",
        "filled_set & other_set  # => {3, 4, 5}\n",
        "\n",
        "# Do set union with |\n",
        "filled_set | other_set  # => {1, 2, 3, 4, 5, 6}\n",
        "\n",
        "# Do set difference with -\n",
        "{1, 2, 3, 4} - {2, 3, 5}  # => {1, 4}\n",
        "\n",
        "# Do set symmetric difference with ^\n",
        "{1, 2, 3, 4} ^ {2, 3, 5}  # => {1, 4, 5}\n",
        "\n",
        "# Check if set on the left is a superset of set on the right\n",
        "{1, 2} >= {1, 2, 3} # => False\n",
        "\n",
        "# Check if set on the left is a subset of set on the right\n",
        "{1, 2} <= {1, 2, 3} # => True\n",
        "\n",
        "# Check for existence in a set with in\n",
        "2 in filled_set   # => True\n",
        "10 in filled_set  # => False"
      ],
      "metadata": {
        "id": "C1GiryiEuFXS"
      },
      "execution_count": null,
      "outputs": []
    },
    {
      "cell_type": "markdown",
      "source": [
        "When you wrap set() around a list that contains duplicate items, Python identifies the unique items in the list and builds a set from those items."
      ],
      "metadata": {
        "id": "TZt5MNyesfJg"
      }
    },
    {
      "cell_type": "markdown",
      "source": [
        "**Unpacking collections into variables**"
      ],
      "metadata": {
        "id": "QBwoe-Rb703f"
      }
    },
    {
      "cell_type": "code",
      "source": [
        "# You can unpack tuples (or lists) into variables\n",
        "a, b, c = (1, 2, 3)  # a is now 1, b is now 2 and c is now 3\n",
        "print(a)\n",
        "print(b)\n",
        "print(c)\n"
      ],
      "metadata": {
        "colab": {
          "base_uri": "https://localhost:8080/"
        },
        "id": "K0kuYa8Y40pX",
        "outputId": "71c73147-2a7a-4d5b-e8aa-0bb68ebcdc82"
      },
      "execution_count": null,
      "outputs": [
        {
          "output_type": "stream",
          "name": "stdout",
          "text": [
            "1\n",
            "2\n",
            "3\n"
          ]
        }
      ]
    },
    {
      "cell_type": "code",
      "source": [
        "# You can also do extended unpacking\n",
        "a, *b, c = (1, 2, 3, 4)  # a is now 1, b is now [2, 3] and c is now 4\n",
        "print(a)\n",
        "print(b)\n",
        "print(c)"
      ],
      "metadata": {
        "colab": {
          "base_uri": "https://localhost:8080/"
        },
        "id": "zGcZ1mpQ6Lsx",
        "outputId": "fa10f811-0ad9-4062-d72a-3aab17370dbd"
      },
      "execution_count": null,
      "outputs": [
        {
          "output_type": "stream",
          "name": "stdout",
          "text": [
            "1\n",
            "[2, 3]\n",
            "4\n"
          ]
        }
      ]
    },
    {
      "cell_type": "code",
      "source": [
        "d, e, f = 4, 5, 6  # tuple 4, 5, 6 is unpacked into variables d, e and f\n",
        "# respectively such that d = 4, e = 5 and f = 6\n",
        "print(type(d))\n",
        "print(e)\n",
        "print(f)\n"
      ],
      "metadata": {
        "colab": {
          "base_uri": "https://localhost:8080/"
        },
        "id": "MwA0Ta0j6Nbr",
        "outputId": "8d564ac9-b648-408a-9363-cf8370bec0bf"
      },
      "execution_count": null,
      "outputs": [
        {
          "output_type": "stream",
          "name": "stdout",
          "text": [
            "<class 'int'>\n",
            "5\n",
            "6\n"
          ]
        }
      ]
    },
    {
      "cell_type": "code",
      "source": [
        "# Now look how easy it is to swap two values\n",
        "e, d = d, e  # d is now 5 and e is now 4\n",
        "print(d)\n",
        "print(e)"
      ],
      "metadata": {
        "colab": {
          "base_uri": "https://localhost:8080/"
        },
        "id": "TDuLi-xu6kTy",
        "outputId": "af996de9-0ea5-412d-f13e-55634f57dc78"
      },
      "execution_count": null,
      "outputs": [
        {
          "output_type": "stream",
          "name": "stdout",
          "text": [
            "5\n",
            "4\n"
          ]
        }
      ]
    },
    {
      "cell_type": "markdown",
      "source": [
        "####################################################\n",
        "## 3. Control Flow and Iterables\n",
        "####################################################"
      ],
      "metadata": {
        "id": "3RzhJF-JahIw"
      }
    },
    {
      "cell_type": "markdown",
      "source": [
        "**If-else statements and comparisons**"
      ],
      "metadata": {
        "id": "9SdL4V54kV16"
      }
    },
    {
      "cell_type": "markdown",
      "source": [
        "Programming often involves examining a set of conditions and deciding which action to take based on those conditions."
      ],
      "metadata": {
        "id": "onErv3fNXYer"
      }
    },
    {
      "cell_type": "code",
      "source": [
        "string = 'Das ist ein Satz.'\n",
        "\n",
        "if len(string) > 15:\n",
        "    print('Satz ist länger als 15 Buchstaben.')\n",
        "elif len(string) < 15:\n",
        "    print('Satz ist kürzer als 15 Buchstaben.')\n",
        "else:\n",
        "    print('Es gibt keinen String')\n",
        "\n",
        "f'\"{string}\" is {len(string)} characters long.'"
      ],
      "metadata": {
        "id": "H8BAPhebajoH"
      },
      "execution_count": null,
      "outputs": []
    },
    {
      "cell_type": "markdown",
      "source": [
        "At the heart of every if statement is an expression that can be evaluated as True or False and is called a conditional test. Python uses the values True and False to decide whether the code in an if statement should be executed. If a conditional test evaluates to True, Python executes the code following the if statement. If the test evaluates to False, Python ignores the code following the if statement."
      ],
      "metadata": {
        "id": "ACysw_i_X6UP"
      }
    },
    {
      "cell_type": "code",
      "source": [
        "# Equality is ==\n",
        "1 == 1  # => True\n",
        "2 == 1  # => False\n",
        "\n",
        "# Inequality is !=\n",
        "1 != 1  # => False\n",
        "2 != 1  # => True\n",
        "\n",
        "# More comparisons\n",
        "1 < 10  # => True\n",
        "1 > 10  # => False\n",
        "2 <= 2  # => True\n",
        "2 >= 2  # => True\n",
        "\n",
        "# Seeing whether a value is in a range\n",
        "1 < 2 and 2 < 3  # => True\n",
        "2 < 3 and 3 < 2  # => False\n",
        "\n",
        "1 < 2 or 2 < 3  # => True\n",
        "2 < 3 or 3 < 2  # => True\n",
        "# Chaining makes this look nicer\n",
        "1 < 2 < 3  # => True\n",
        "2 < 3 < 2  # => False\n",
        "\n",
        "# (is vs. ==) is checks if two variables refer to the same object, but == checks\n",
        "# if the objects pointed to have the same values.\n",
        "a = [1, 2, 3, 4]  # Point a at a new list, [1, 2, 3, 4]\n",
        "b = a             # Point b at what a is pointing to\n",
        "b is a            # => True, a and b refer to the same object\n",
        "b == a            # => True, a's and b's objects are equal\n",
        "b = [1, 2, 3, 4]  # Point b at a new list, [1, 2, 3, 4]\n",
        "b is a            # => False, a and b do not refer to the same object\n",
        "b == a            # => True, a's and b's objects are equal"
      ],
      "metadata": {
        "id": "BxdciawKhr_T"
      },
      "execution_count": null,
      "outputs": []
    },
    {
      "cell_type": "code",
      "source": [
        "# if can be used as an expression\n",
        "\"yahoo!\" if 3 > 2 else 2  # => \"yahoo!\""
      ],
      "metadata": {
        "id": "pNsUJ-NbkUMI"
      },
      "execution_count": null,
      "outputs": []
    },
    {
      "cell_type": "code",
      "source": [
        "if x in some_list:\n",
        "  pass\n",
        "if x not in some_list:\n",
        "  pass"
      ],
      "metadata": {
        "id": "RU_SvDyziFav"
      },
      "execution_count": null,
      "outputs": []
    },
    {
      "cell_type": "markdown",
      "source": [
        "**Booleans**"
      ],
      "metadata": {
        "id": "19lK6H9cYFl0"
      }
    },
    {
      "cell_type": "code",
      "source": [
        "# Boolean values are primitives (Note: the capitalization)\n",
        "True\n",
        "False\n",
        "\n",
        "# negate with not\n",
        "not True   # => False\n",
        "not False  # => True\n",
        "\n",
        "# Boolean Operators\n",
        "# Note \"and\" and \"or\" are case-sensitive\n",
        "True and False  # => False\n",
        "False or True   # => True\n",
        "\n",
        "# True and False are actually 1 and 0 but with different keywords\n",
        "True + True # => 2\n",
        "True * 8    # => 8\n",
        "False - 5   # => -5\n",
        "\n",
        "# Comparison operators look at the numerical value of True and False\n",
        "0 == False  # => True\n",
        "1 == True   # => True\n",
        "2 == True   # => False\n",
        "-5 != False # => True\n",
        "\n",
        "# Using boolean logical operators on ints casts them to booleans for evaluation, but their non-cast value is returned\n",
        "# Don't mix up with bool(ints) and bitwise and/or (&,|)\n",
        "bool(0)     # => False\n",
        "bool(4)     # => True\n",
        "bool(-6)    # => True\n",
        "0 and 2     # => 0\n",
        "-5 or 0     # => -5"
      ],
      "metadata": {
        "id": "YXohkBpbhc_X"
      },
      "execution_count": null,
      "outputs": []
    },
    {
      "cell_type": "code",
      "source": [
        "# None is an object\n",
        "None  # => None\n",
        "\n",
        "# Don't use the equality \"==\" symbol to compare objects to None\n",
        "# Use \"is\" instead. This checks for equality of object identity.\n",
        "\"etc\" is None  # => False\n",
        "None is None   # => True\n",
        "\n",
        "# None, 0, and empty strings/lists/dicts/tuples all evaluate to False.\n",
        "# All other values are True\n",
        "bool(0)   # => False\n",
        "bool(\"\")  # => False\n",
        "bool([])  # => False\n",
        "bool({})  # => False\n",
        "bool(())  # => False"
      ],
      "metadata": {
        "id": "uEX3ABS3iw9y"
      },
      "execution_count": null,
      "outputs": []
    },
    {
      "cell_type": "markdown",
      "source": [
        "**While-loops and Match statement**"
      ],
      "metadata": {
        "id": "ExnZl1pAuOix"
      }
    },
    {
      "cell_type": "code",
      "source": [
        "i = 6\n",
        "while i > 3:\n",
        "    print(i)\n",
        "    i -= 1"
      ],
      "metadata": {
        "id": "WisMJWySqvau"
      },
      "execution_count": null,
      "outputs": []
    },
    {
      "cell_type": "markdown",
      "source": [
        "This works like switch in Matlab:"
      ],
      "metadata": {
        "id": "d4_9Ve4UszKy"
      }
    },
    {
      "cell_type": "code",
      "source": [
        "# starting with python 3.10\n",
        "http_code = \"418\"\n",
        "match http_code:\n",
        "    case \"200\":\n",
        "        print(\"OK\")\n",
        "        do_something_good()\n",
        "    case \"404\":\n",
        "        print(\"Not Found\")\n",
        "        do_something_bad()\n",
        "    case \"418\":\n",
        "        print(\"I'm a teapot\")\n",
        "        make_coffee()\n",
        "    case _:\n",
        "        print(\"Code not found\")"
      ],
      "metadata": {
        "id": "g3JpjOe2gfpn"
      },
      "execution_count": null,
      "outputs": []
    },
    {
      "cell_type": "markdown",
      "source": [
        "**Exceptions**"
      ],
      "metadata": {
        "id": "b00BSO2PuanN"
      }
    },
    {
      "cell_type": "code",
      "source": [
        "# Handle exceptions with a try/except block\n",
        "try:\n",
        "    # Use \"raise\" to raise an error\n",
        "    raise IndexError(\"This is an index error\")\n",
        "except IndexError as e:\n",
        "    pass                 # Pass is just a no-op. Usually you would do recovery here.\n",
        "except (TypeError, NameError):\n",
        "    pass                 # Multiple exceptions can be handled together, if required.\n",
        "else:                    # Optional clause to the try/except block. Must follow all except blocks\n",
        "    print(\"All good!\")   # Runs only if the code in try raises no exceptions\n",
        "finally:                 #  Execute under all circumstances\n",
        "    print(\"We can clean up resources here\")\n",
        "\n",
        "# Instead of try/finally to cleanup resources you can use a with statement\n",
        "with open(\"myfile.txt\") as f:\n",
        "    for line in f:\n",
        "        print(line)"
      ],
      "metadata": {
        "id": "EBFlMUWxgsWe"
      },
      "execution_count": null,
      "outputs": []
    },
    {
      "cell_type": "markdown",
      "source": [
        "**Iterables and generators**"
      ],
      "metadata": {
        "id": "t2K3VIYr5Jn9"
      }
    },
    {
      "cell_type": "code",
      "source": [
        "# Python offers a fundamental abstraction called the Iterable.\n",
        "# An iterable is an object that can be treated as a sequence.\n",
        "# The object returned by the range function, is an iterable.\n",
        "\n",
        "filled_dict = {\"one\": 1, \"two\": 2, \"three\": 3}\n",
        "our_iterable = filled_dict.keys()\n",
        "print(our_iterable)  # => dict_keys(['one', 'two', 'three']). This is an object that implements our Iterable interface.\n",
        "\n",
        "# We can loop over it.\n",
        "for i in our_iterable:\n",
        "    print(i)  # Prints one, two, three\n",
        "\n",
        "# However we cannot address elements by index.\n",
        "our_iterable[1]  # Raises a TypeError\n",
        "\n",
        "# An iterable is an object that knows how to create an iterator.\n",
        "our_iterator = iter(our_iterable)\n",
        "\n",
        "# Our iterator is an object that can remember the state as we traverse through it.\n",
        "# We get the next object with \"next()\".\n",
        "next(our_iterator)  # => \"one\"\n",
        "\n",
        "# It maintains state as we iterate.\n",
        "next(our_iterator)  # => \"two\"\n",
        "next(our_iterator)  # => \"three\"\n",
        "\n",
        "# After the iterator has returned all of its data, it raises a StopIteration exception\n",
        "next(our_iterator)  # Raises StopIteration\n",
        "\n",
        "# You can grab all the elements of an iterator by calling list() on it.\n",
        "list(filled_dict.keys())  # => Returns [\"one\", \"two\", \"three\"]\n",
        "\n",
        "# Generators are memory-efficient because they only load the data needed to\n",
        "# process the next value in the iterable. This allows them to perform\n",
        "# operations on otherwise prohibitively large value ranges.\n",
        "# `range` is a generator.\n",
        "\n",
        "# Every generator is an iterator, but not vice versa.\n",
        "\n",
        "# Yield is a keyword in Python that is used to return from a function without\n",
        "# destroying the states of its local variable and when the function is called,\n",
        "# the execution starts from the last yield statement. Any function that contains\n",
        "# a yield keyword is termed a generator. \n",
        "\n",
        "def double_numbers(iterable):\n",
        "    for i in iterable:\n",
        "        yield i + i\n",
        "\n",
        "# Just as you can create a list comprehension, you can create generator\n",
        "# comprehensions as well.\n",
        "values = (-x for x in [1,2,3,4,5])\n",
        "for x in values:\n",
        "    print(x)\n",
        "\n",
        "# e.g.\n",
        "my_dict.iteritems()\n",
        "pd.iterrows()"
      ],
      "metadata": {
        "id": "mmnupv4RupEY"
      },
      "execution_count": null,
      "outputs": []
    },
    {
      "cell_type": "markdown",
      "source": [
        "####################################################\n",
        "## 4. Functions\n",
        "####################################################"
      ],
      "metadata": {
        "id": "TLA1B1itcAfT"
      }
    },
    {
      "cell_type": "markdown",
      "source": [
        "You can use positional arguments, which need to be in the same order the parameters were written; keyword arguments, where each argument consists of a variable name and a value; and lists and dictionaries of values."
      ],
      "metadata": {
        "id": "vD6xgDspyjEg"
      }
    },
    {
      "cell_type": "code",
      "source": [
        "def add(x, y):\n",
        "    return x + y \n",
        "\n",
        "# Calling functions with parameters\n",
        "add(5, 6)  # => prints out \"x is 5 and y is 6\" and returns 11\n",
        "\n"
      ],
      "metadata": {
        "id": "kjdvrWBncC1H",
        "colab": {
          "base_uri": "https://localhost:8080/"
        },
        "outputId": "79509a75-ec51-4bf6-e06c-8f17ec3c2a5b"
      },
      "execution_count": 41,
      "outputs": [
        {
          "output_type": "execute_result",
          "data": {
            "text/plain": [
              "11"
            ]
          },
          "metadata": {},
          "execution_count": 41
        }
      ]
    },
    {
      "cell_type": "code",
      "source": [
        "# Another way to call functions is with keyword arguments\n",
        "add(y=6, x=5)  # Keyword arguments can arrive in any order.\n",
        "\n"
      ],
      "metadata": {
        "colab": {
          "base_uri": "https://localhost:8080/"
        },
        "id": "PvObCl37yuXo",
        "outputId": "28f5022a-c1d6-45ee-d888-875519109173"
      },
      "execution_count": 42,
      "outputs": [
        {
          "output_type": "execute_result",
          "data": {
            "text/plain": [
              "11"
            ]
          },
          "metadata": {},
          "execution_count": 42
        }
      ]
    },
    {
      "cell_type": "code",
      "source": [
        "# You can define functions that take a variable number of\n",
        "# positional arguments which are compiled as a tuple\n",
        "def varargs(*args):\n",
        "    for arg in args:\n",
        "      print(arg**4)\n",
        "\n",
        "varargs(1, 2, 3)"
      ],
      "metadata": {
        "colab": {
          "base_uri": "https://localhost:8080/"
        },
        "id": "6e0m2GEpyzyJ",
        "outputId": "4935728d-1b08-4527-9b53-8bbf9e12f423"
      },
      "execution_count": 2,
      "outputs": [
        {
          "output_type": "stream",
          "name": "stdout",
          "text": [
            "1\n",
            "16\n",
            "81\n"
          ]
        }
      ]
    },
    {
      "cell_type": "markdown",
      "source": [
        "A keyword argument is a name-value pair that you pass to a function. When writing a function, you can define a default value for each parameter. If an argument for a parameter is provided in the function call, Python uses the argument value. If not, it uses the parameter’s default value. "
      ],
      "metadata": {
        "id": "afporgoW5H3I"
      }
    },
    {
      "cell_type": "code",
      "source": [
        "# You can define functions that take a variable number of\n",
        "# keyword arguments, as well\n",
        "def keyword_args(**kwargs):\n",
        "    return kwargs\n",
        "\n",
        "# keyword arguments are saved in a dict\n",
        "keyword_args(big=\"foot\", loch=\"ness\")  # => {\"big\": \"foot\", \"loch\": \"ness\"}"
      ],
      "metadata": {
        "id": "fSqSvy0TzNYP"
      },
      "execution_count": null,
      "outputs": []
    },
    {
      "cell_type": "code",
      "source": [
        "# extracting the kwarguments from the dict and defining them as variables\n",
        "\n",
        "def function(**kwargs):\n",
        "\n",
        "    for key, value in kwargs.items():\n",
        "        if key == 'transcripts':\n",
        "            raw_transcripts = kwargs[key]\n",
        "        if key == 'intents':\n",
        "            intents = kwargs[key]\n",
        "        if key == 'sem_sigs':\n",
        "            sem_sigs = kwargs[key]\n",
        "        if key == 'entities':\n",
        "            entities = kwargs[key]\n",
        "        if key == 'canonicals':\n",
        "            canonicals = kwargs[key]"
      ],
      "metadata": {
        "id": "pwJ_s4xavnhA"
      },
      "execution_count": null,
      "outputs": []
    },
    {
      "cell_type": "markdown",
      "source": [
        "When writing a function, you can define a default value for each parameter. If an argument for a parameter is provided in the function call, Python uses the argument value. If not, it uses the parameter’s default value."
      ],
      "metadata": {
        "id": "_qNBvZ1DwSMn"
      }
    },
    {
      "cell_type": "code",
      "source": [
        "# You can do both at once, if you like\n",
        "def all_the_args(*args, **kwargs):\n",
        "    print(args)\n",
        "    print(kwargs)\n",
        "\"\"\"\n",
        "all_the_args(1, 2, a=3, b=4) prints:\n",
        "    (1, 2)\n",
        "    {\"a\": 3, \"b\": 4}\n",
        "\"\"\""
      ],
      "metadata": {
        "id": "stl9yPbpvg4c"
      },
      "execution_count": null,
      "outputs": []
    },
    {
      "cell_type": "code",
      "source": [
        "# anonymous functions\n",
        "(lambda x: x > 2)(3) #True\n",
        "\n",
        "# There are built-in higher order functions\n",
        "# first class functions\n",
        "def create_adder(x):\n",
        "    def adder(y):\n",
        "        return x + y\n",
        "    return adder\n",
        "\n",
        "add_10 = create_adder(10)\n",
        "add_10(3) # 13\n",
        "\n",
        "# When calling functions, you can do the opposite of args/kwargs!\n",
        "# Use * to expand tuples and use ** to expand kwargs.\n",
        "args = (1, 2, 3, 4)\n",
        "kwargs = {\"a\": 3, \"b\": 4}\n",
        "all_the_args(*args)            # equivalent to all_the_args(1, 2, 3, 4)\n",
        "all_the_args(**kwargs)         # equivalent to all_the_args(a=3, b=4)\n",
        "all_the_args(*args, **kwargs)  # equivalent to all_the_args(1, 2, 3, 4, a=3, b=4)\n",
        "\n",
        "# Returning multiple values (with tuple assignments)\n",
        "def swap(x, y):\n",
        "    return y, x  # Return multiple values as a tuple without the parenthesis.\n",
        "                 # (Note: parenthesis have been excluded but can be included)\n",
        "\n",
        "x = 1\n",
        "y = 2\n",
        "x, y = swap(x, y)     # => x = 2, y = 1\n",
        "# (x, y) = swap(x,y)  # Again parenthesis have been excluded but can be included.\n",
        "\n",
        "# Function Scope\n",
        "x = 5\n",
        "\n",
        "def set_x(num):\n",
        "    # Local var x not the same as global variable x\n",
        "    x = num    # => 43\n",
        "    print(x)   # => 43\n",
        "\n",
        "def set_global_x(num):\n",
        "    global x\n",
        "    print(x)   # => 5\n",
        "    x = num    # global var x is now set to 6\n",
        "    print(x)   # => 6\n",
        "\n",
        "set_x(43)\n",
        "set_global_x(6)\n",
        "\n",
        "\n",
        "# Python has first class functions\n",
        "def create_adder(x):\n",
        "    def adder(y):\n",
        "        return x + y\n",
        "    return adder\n",
        "\n",
        "add_10 = create_adder(10)\n",
        "add_10(3)   # => 13\n",
        "\n",
        "# There are also anonymous functions\n",
        "(lambda x: x > 2)(3)                  # => True\n",
        "(lambda x, y: x ** 2 + y ** 2)(2, 1)  # => 5\n",
        "\n",
        "# There are built-in higher order functions\n",
        "list(map(add_10, [1, 2, 3]))          # => [11, 12, 13]\n",
        "list(map(max, [1, 2, 3], [4, 2, 1]))  # => [4, 2, 3]\n",
        "\n",
        "list(filter(lambda x: x > 5, [3, 4, 5, 6, 7]))  # => [6, 7]\n",
        "\n",
        "# We can use list comprehensions for nice maps and filters\n",
        "# List comprehension stores the output as a list which can itself be a nested list\n",
        "[add_10(i) for i in [1, 2, 3]]         # => [11, 12, 13]\n",
        "[x for x in [3, 4, 5, 6, 7] if x > 5]  # => [6, 7]\n",
        "\n",
        "# You can construct set and dict comprehensions as well.\n",
        "{x for x in 'abcddeef' if x not in 'abc'}  # => {'d', 'e', 'f'}\n",
        "{x: x**2 for x in range(5)}  # => {0: 0, 1: 1, 2: 4, 3: 9, 4: 16}"
      ],
      "metadata": {
        "id": "D1Vl6DRoy6Lv"
      },
      "execution_count": null,
      "outputs": []
    },
    {
      "cell_type": "markdown",
      "source": [
        "####################################################\n",
        "## 5. Modules\n",
        "####################################################"
      ],
      "metadata": {
        "id": "TGW9fF9bcIhb"
      }
    },
    {
      "cell_type": "code",
      "source": [
        "# You can import modules\n",
        "import math\n",
        "print(math.sqrt(16))  # => 4.0\n",
        "\n",
        "# You can get specific functions from a module\n",
        "from math import ceil, floor\n",
        "print(ceil(3.7))   # => 4.0\n",
        "print(floor(3.7))  # => 3.0\n",
        "\n",
        "# You can import all functions from a module.\n",
        "# Warning: this is not recommended\n",
        "from math import *\n",
        "\n",
        "# You can shorten module names\n",
        "import math as m\n",
        "math.sqrt(16) == m.sqrt(16)  # => True\n",
        "\n",
        "# Python modules are just ordinary Python files. You\n",
        "# can write your own, and import them. The name of the\n",
        "# module is the same as the name of the file.\n",
        "\n",
        "# You can find out which functions and attributes\n",
        "# are defined in a module.\n",
        "import math\n",
        "dir(math)\n",
        "\n",
        "# If you have a Python script named math.py in the same\n",
        "# folder as your current script, the file math.py will\n",
        "# be loaded instead of the built-in Python module.\n",
        "# This happens because the local folder has priority\n",
        "# over Python's built-in libraries."
      ],
      "metadata": {
        "id": "mbkx8m9FcLsH"
      },
      "execution_count": null,
      "outputs": []
    },
    {
      "cell_type": "markdown",
      "source": [
        "####################################################\n",
        "## 6. Classes\n",
        "####################################################"
      ],
      "metadata": {
        "id": "1UzSnugNcO_x"
      }
    },
    {
      "cell_type": "markdown",
      "source": [
        "A function that’s part of a class is a method.  The \\__init__() method is a special method Python runs automatically whenever we create a new instance based on a class.\n",
        "\n",
        "Variables that are accessible through instances are called attributes."
      ],
      "metadata": {
        "id": "MQgE3ZZp03Da"
      }
    },
    {
      "cell_type": "code",
      "source": [
        "# We use the \"class\" statement to create a class\n",
        "class Human():\n",
        "\n",
        "    # A class attribute. It is shared by all instances of this class\n",
        "    species = \"H. sapiens\"\n",
        "\n",
        "    # Basic initializer/constructor, this is called when this class is instantiated.\n",
        "    # Note that the double leading and trailing underscores denote objects\n",
        "    # or attributes that are used by Python but that live in user-controlled\n",
        "    # namespaces. Methods(or objects or attributes) like: __init__, __str__,\n",
        "    # __repr__ etc. are called special methods (or sometimes called dunder methods)\n",
        "    # You should not invent such names on your own.\n",
        "    def __init__(self, name):\n",
        "        # Assign the argument to the instance's name attribute\n",
        "        self.name = name\n",
        "\n",
        "        # Initialize property\n",
        "        self._age = 0\n",
        "\n",
        "    # An instance method. All methods take \"self\" as the first argument\n",
        "    def say(self, msg):\n",
        "        print(f\"{self.name}: {msg}\")\n",
        "\n",
        "    # Another instance method\n",
        "    def sing(self):\n",
        "        return 'yo... yo... microphone check... one two... one two...'\n",
        "\n",
        "    # A class method is shared among all instances\n",
        "    # They are called with the calling class as the first argument\n",
        "    @classmethod\n",
        "    def get_species(cls):\n",
        "        return cls.species\n",
        "\n",
        "    # A static method is called without a class or instance reference\n",
        "    @staticmethod\n",
        "    def grunt():\n",
        "        return \"*grunt*\"\n",
        "\n",
        "    # A property is just like a getter.\n",
        "    # It turns the method age() into an read-only attribute of the same name.\n",
        "    # There's no need to write trivial getters and setters in Python, though.\n",
        "    @property\n",
        "    def age(self):\n",
        "        return self._age\n",
        "\n",
        "    # This allows the property to be set\n",
        "    @age.setter\n",
        "    def age(self, age):\n",
        "        self._age = age\n",
        "\n",
        "    # This allows the property to be deleted\n",
        "    @age.deleter\n",
        "    def age(self):\n",
        "        del self._age"
      ],
      "metadata": {
        "id": "UMSRhpKGcRzg"
      },
      "execution_count": 4,
      "outputs": []
    },
    {
      "cell_type": "code",
      "source": [
        "# Instantiate a class\n",
        "i = Human(name=\"Ian\")\n",
        "i.say(\"hi\")                     # \"Ian: hi\"\n",
        "j = Human(\"Joel\")\n",
        "j.say(\"hello\")                  # \"Joel: hello\"\n",
        "# i and j are instances of type Human, or in other words: they are Human objects\n",
        "\n"
      ],
      "metadata": {
        "colab": {
          "base_uri": "https://localhost:8080/"
        },
        "id": "I6hTzHk712z2",
        "outputId": "2121b252-f77b-4a29-e1d9-252d1a5b06ec"
      },
      "execution_count": 5,
      "outputs": [
        {
          "output_type": "stream",
          "name": "stdout",
          "text": [
            "Ian: hi\n",
            "Joel: hello\n"
          ]
        }
      ]
    },
    {
      "cell_type": "code",
      "source": [
        "# Call our class method\n",
        "i.say(i.get_species())          # \"Ian: H. sapiens\"\n",
        "# Change the shared attribute\n",
        "Human.species = \"H. neanderthalensis\"\n",
        "i.say(i.get_species())          # => \"Ian: H. neanderthalensis\"\n",
        "j.say(j.get_species())          # => \"Joel: H. neanderthalensis\"\n",
        "\n",
        "# Call the static method\n",
        "print(Human.grunt())            # => \"*grunt*\"\n",
        "\n",
        "# Cannot call static method with instance of object \n",
        "# because i.grunt() will automatically put \"self\" (the object i) as an argument\n",
        "print(i.grunt())                # => TypeError: grunt() takes 0 positional arguments but 1 was given\n",
        "                                \n",
        "# Update the property for this instance\n",
        "i.age = 42\n",
        "# Get the property\n",
        "i.say(i.age)                    # => \"Ian: 42\"\n",
        "j.say(j.age)                    # => \"Joel: 0\"\n",
        "# Delete the property\n",
        "del i.age\n",
        "# i.age                         # => this would raise an AttributeError"
      ],
      "metadata": {
        "colab": {
          "base_uri": "https://localhost:8080/"
        },
        "id": "wOCet5Hb180r",
        "outputId": "7f4defa7-a2df-40c7-beef-c77620bb0010"
      },
      "execution_count": 6,
      "outputs": [
        {
          "output_type": "stream",
          "name": "stdout",
          "text": [
            "Ian: H. sapiens\n",
            "Ian: H. neanderthalensis\n",
            "Joel: H. neanderthalensis\n",
            "*grunt*\n",
            "*grunt*\n",
            "Ian: 42\n",
            "Joel: 0\n"
          ]
        }
      ]
    },
    {
      "cell_type": "code",
      "source": [
        "# When a Python interpreter reads a source file it executes all its code.\n",
        "# This __name__ check makes sure this code block is only executed when this\n",
        "# module is the main program (run as a stand-alone script rather than being imported).\n",
        "if __name__ == '__main__':\n",
        "    "
      ],
      "metadata": {
        "id": "TKvWILkQ1p-x"
      },
      "execution_count": null,
      "outputs": []
    },
    {
      "cell_type": "markdown",
      "source": [
        "####################################################\n",
        "## 6.1 Inheritance\n",
        "####################################################"
      ],
      "metadata": {
        "id": "AIGrQatwcXi-"
      }
    },
    {
      "cell_type": "markdown",
      "source": [
        "Inheritance allows new child classes to be defined that inherit methods and\n",
        "variables from their parent class. \n",
        "\n",
        "Using the Human class defined above as the base or parent class, we can\n",
        "define a child class, Superhero, which inherits the class variables like\n",
        "\"species\", \"name\", and \"age\", as well as methods, like \"sing\" and \"grunt\"\n",
        "from the Human class, but can also have its own unique properties.\n",
        "\n",
        "To take advantage of modularization by file you could place the classes above in their own files,\n",
        "say, human.py\n",
        "\n",
        "To import functions from other files use the following format\n",
        "from \"filename-without-extension\" import \"function-or-class\""
      ],
      "metadata": {
        "id": "RKA4cSts22PX"
      }
    },
    {
      "cell_type": "code",
      "source": [
        "from human import Human\n",
        "\n",
        "\n",
        "# Specify the parent class(es) as parameters to the class definition\n",
        "class Superhero(Human):\n",
        "\n",
        "    # If the child class should inherit all of the parent's definitions without\n",
        "    # any modifications, you can just use the \"pass\" keyword (and nothing else)\n",
        "    # but in this case it is commented out to allow for a unique child class:\n",
        "    # pass\n",
        "\n",
        "    # Child classes can override their parents' attributes\n",
        "    species = 'Superhuman'\n",
        "\n",
        "    # Children automatically inherit their parent class's constructor including\n",
        "    # its arguments, but can also define additional arguments or definitions\n",
        "    # and override its methods such as the class constructor.\n",
        "    # This constructor inherits the \"name\" argument from the \"Human\" class and\n",
        "    # adds the \"superpower\" and \"movie\" arguments:\n",
        "    def __init__(self, name, movie=False,\n",
        "                 superpowers=[\"super strength\", \"bulletproofing\"]):\n",
        "\n",
        "        # add additional class attributes:\n",
        "        self.fictional = True\n",
        "        self.movie = movie\n",
        "        # be aware of mutable default values, since defaults are shared\n",
        "        self.superpowers = superpowers\n",
        "\n",
        "        # The \"super\" function lets you access the parent class's methods\n",
        "        # that are overridden by the child, in this case, the __init__ method.\n",
        "        # This calls the parent class constructor:\n",
        "        super().__init__(name)\n",
        "\n",
        "    # override the sing method\n",
        "    def sing(self):\n",
        "        return 'Dun, dun, DUN!'\n",
        "\n",
        "    # add an additional instance method\n",
        "    def boast(self):\n",
        "        for power in self.superpowers:\n",
        "            print(\"I wield the power of {pow}!\".format(pow=power))\n",
        "\n",
        "\n",
        "if __name__ == '__main__':\n",
        "    sup = Superhero(name=\"Tick\")\n",
        "\n",
        "    # Instance type checks\n",
        "    if isinstance(sup, Human):\n",
        "        print('I am human')\n",
        "    if type(sup) is Superhero:\n",
        "        print('I am a superhero')\n",
        "\n",
        "    # Get the Method Resolution search Order used by both getattr() and super()\n",
        "    # This attribute is dynamic and can be updated\n",
        "    print(Superhero.__mro__)    # => (<class '__main__.Superhero'>,\n",
        "                                # => <class 'human.Human'>, <class 'object'>)\n",
        "\n",
        "    # Calls parent method but uses its own class attribute\n",
        "    print(sup.get_species())    # => Superhuman\n",
        "\n",
        "    # Calls overridden method\n",
        "    print(sup.sing())           # => Dun, dun, DUN!\n",
        "\n",
        "    # Calls method from Human\n",
        "    sup.say('Spoon')            # => Tick: Spoon\n",
        "\n",
        "    # Call method that exists only in Superhero\n",
        "    sup.boast()                 # => I wield the power of super strength!\n",
        "                                # => I wield the power of bulletproofing!\n",
        "\n",
        "    # Inherited class attribute\n",
        "    sup.age = 31\n",
        "    print(sup.age)              # => 31\n",
        "\n",
        "    # Attribute that only exists within Superhero\n",
        "    print('Am I Oscar eligible? ' + str(sup.movie))"
      ],
      "metadata": {
        "id": "da1cLO4hcVuY"
      },
      "execution_count": null,
      "outputs": []
    },
    {
      "cell_type": "markdown",
      "source": [
        "####################################################\n",
        "## 6.2 Multiple Inheritance\n",
        "####################################################"
      ],
      "metadata": {
        "id": "jN_rBB-tcev5"
      }
    },
    {
      "cell_type": "code",
      "source": [
        "# Another class definition\n",
        "# bat.py\n",
        "class Bat:\n",
        "\n",
        "    species = 'Baty'\n",
        "\n",
        "    def __init__(self, can_fly=True):\n",
        "        self.fly = can_fly\n",
        "\n",
        "    # This class also has a say method\n",
        "    def say(self, msg):\n",
        "        msg = '... ... ...'\n",
        "        return msg\n",
        "\n",
        "    # And its own method as well\n",
        "    def sonar(self):\n",
        "        return '))) ... ((('\n",
        "\n",
        "if __name__ == '__main__':\n",
        "    b = Bat()\n",
        "    print(b.say('hello'))\n",
        "    print(b.fly)\n",
        "\n",
        "\n",
        "# And yet another class definition that inherits from Superhero and Bat\n",
        "# superhero.py\n",
        "from superhero import Superhero\n",
        "from bat import Bat\n",
        "\n",
        "# Define Batman as a child that inherits from both Superhero and Bat\n",
        "class Batman(Superhero, Bat):\n",
        "\n",
        "    def __init__(self, *args, **kwargs):\n",
        "        # Typically to inherit attributes you have to call super:\n",
        "        # super(Batman, self).__init__(*args, **kwargs)      \n",
        "        # However we are dealing with multiple inheritance here, and super()\n",
        "        # only works with the next base class in the MRO list.\n",
        "        # So instead we explicitly call __init__ for all ancestors.\n",
        "        # The use of *args and **kwargs allows for a clean way to pass arguments,\n",
        "        # with each parent \"peeling a layer of the onion\".\n",
        "        Superhero.__init__(self, 'anonymous', movie=True, \n",
        "                           superpowers=['Wealthy'], *args, **kwargs)\n",
        "        Bat.__init__(self, *args, can_fly=False, **kwargs)\n",
        "        # override the value for the name attribute\n",
        "        self.name = 'Sad Affleck'\n",
        "\n",
        "    def sing(self):\n",
        "        return 'nan nan nan nan nan batman!'\n",
        "\n",
        "\n",
        "if __name__ == '__main__':\n",
        "    sup = Batman()\n",
        "\n",
        "    # Get the Method Resolution search Order used by both getattr() and super().\n",
        "    # This attribute is dynamic and can be updated\n",
        "    print(Batman.__mro__)       # => (<class '__main__.Batman'>, \n",
        "                                # => <class 'superhero.Superhero'>, \n",
        "                                # => <class 'human.Human'>, \n",
        "                                # => <class 'bat.Bat'>, <class 'object'>)\n",
        "\n",
        "    # Calls parent method but uses its own class attribute\n",
        "    print(sup.get_species())    # => Superhuman\n",
        "\n",
        "    # Calls overridden method\n",
        "    print(sup.sing())           # => nan nan nan nan nan batman!\n",
        "\n",
        "    # Calls method from Human, because inheritance order matters\n",
        "    sup.say('I agree')          # => Sad Affleck: I agree\n",
        "\n",
        "    # Call method that exists only in 2nd ancestor\n",
        "    print(sup.sonar())          # => ))) ... (((\n",
        "\n",
        "    # Inherited class attribute\n",
        "    sup.age = 100\n",
        "    print(sup.age)              # => 100\n",
        "\n",
        "    # Inherited attribute from 2nd ancestor whose default value was overridden.\n",
        "    print('Can I fly? ' + str(sup.fly)) # => Can I fly? False"
      ],
      "metadata": {
        "id": "RsRl1WxTche2"
      },
      "execution_count": null,
      "outputs": []
    },
    {
      "cell_type": "markdown",
      "source": [
        "####################################################\n",
        "## 7. Advanced\n",
        "####################################################"
      ],
      "metadata": {
        "id": "xIwCutjJckep"
      }
    },
    {
      "cell_type": "code",
      "source": [
        "# Generators help you make lazy code.\n",
        "def double_numbers(iterable):\n",
        "    for i in iterable:\n",
        "        yield i + i\n",
        "\n",
        "# Generators are memory-efficient because they only load the data needed to\n",
        "# process the next value in the iterable. This allows them to perform\n",
        "# operations on otherwise prohibitively large value ranges.\n",
        "# NOTE: `range` replaces `xrange` in Python 3.\n",
        "for i in double_numbers(range(1, 900000000)):  # `range` is a generator.\n",
        "    print(i)\n",
        "    if i >= 30:\n",
        "        break\n",
        "\n",
        "# Just as you can create a list comprehension, you can create generator\n",
        "# comprehensions as well.\n",
        "values = (-x for x in [1,2,3,4,5])\n",
        "for x in values:\n",
        "    print(x)  # prints -1 -2 -3 -4 -5 to console/terminal\n",
        "\n",
        "# You can also cast a generator comprehension directly to a list.\n",
        "values = (-x for x in [1,2,3,4,5])\n",
        "gen_to_list = list(values)\n",
        "print(gen_to_list)  # => [-1, -2, -3, -4, -5]\n",
        "\n",
        "\n",
        "# Decorators\n",
        "# In this example `beg` wraps `say`. If say_please is True then it\n",
        "# will change the returned message.\n",
        "from functools import wraps\n",
        "\n",
        "\n",
        "def beg(target_function):\n",
        "    @wraps(target_function)\n",
        "    def wrapper(*args, **kwargs):\n",
        "        msg, say_please = target_function(*args, **kwargs)\n",
        "        if say_please:\n",
        "            return \"{} {}\".format(msg, \"Please! I am poor :(\")\n",
        "        return msg\n",
        "\n",
        "    return wrapper\n",
        "\n",
        "\n",
        "@beg\n",
        "def say(say_please=False):\n",
        "    msg = \"Can you buy me a beer?\"\n",
        "    return msg, say_please\n",
        "\n",
        "\n",
        "print(say())                 # Can you buy me a beer?\n",
        "print(say(say_please=True))  # Can you buy me a beer? Please! I am poor :("
      ],
      "metadata": {
        "id": "rJFk0tiGcnwC"
      },
      "execution_count": null,
      "outputs": []
    }
  ]
}