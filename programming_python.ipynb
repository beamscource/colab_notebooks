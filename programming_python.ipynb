{
  "nbformat": 4,
  "nbformat_minor": 0,
  "metadata": {
    "colab": {
      "provenance": [],
      "authorship_tag": "ABX9TyPLh//SBu7xKGgElofEC5iP",
      "include_colab_link": true
    },
    "kernelspec": {
      "name": "python3",
      "display_name": "Python 3"
    },
    "language_info": {
      "name": "python"
    }
  },
  "cells": [
    {
      "cell_type": "markdown",
      "metadata": {
        "id": "view-in-github",
        "colab_type": "text"
      },
      "source": [
        "<a href=\"https://colab.research.google.com/github/beamscource/colab_notebooks/blob/main/programming_python.ipynb\" target=\"_parent\"><img src=\"https://colab.research.google.com/assets/colab-badge.svg\" alt=\"Open In Colab\"/></a>"
      ]
    },
    {
      "cell_type": "markdown",
      "source": [
        "This is a summary of the following resources:\n",
        "\n",
        "- https://learning.edx.org/course/course-v1:MITx+6.00.1x_9+2T2016/home\n",
        "- https://www.amazon.de/Python-Crash-Course-Hands-Project-Based/\n",
        "- https://www.amazon.de/dp/1593279663/\n",
        "- https://www.amazon.de/Serious-Python-Black-Belt-Deployment-Scalability/dp/1593278780"
      ],
      "metadata": {
        "id": "qeraweilCaOP"
      }
    },
    {
      "cell_type": "markdown",
      "source": [
        "# Core language"
      ],
      "metadata": {
        "id": "9LtJ4w9Guiv_"
      }
    },
    {
      "cell_type": "markdown",
      "source": [
        "## 1. Primitive Datatypes and Operators"
      ],
      "metadata": {
        "id": "Wb2pIy9fZ6kC"
      }
    },
    {
      "cell_type": "markdown",
      "source": [
        "**Strings and string methods**"
      ],
      "metadata": {
        "id": "xeDXzU_6iHRM"
      }
    },
    {
      "cell_type": "markdown",
      "source": [
        "Strings are quite simple at first glance, but you can use them in many different ways. A string is simply a series of characters. Anything inside quotes is considered a string in Python, and you can use single or double quotes around your strings. This flexibility allows you to use quotes and apostrophes within your strings."
      ],
      "metadata": {
        "id": "-VNqh9tBfJ37"
      }
    },
    {
      "cell_type": "code",
      "source": [
        "# Strings are created with \" or '\n",
        "\"This is a string.\"\n",
        "'This is also a string.'\n",
        "\n",
        "# Strings can be added too! But try not to do this.\n",
        "\"Hello \" + \"world!\"  # => \"Hello world!\"\n",
        "# String literals (but not variables) can be concatenated without using '+'\n",
        "\"Hello \" \"world!\"    # => \"Hello world!\"\n",
        "\n",
        "# A string can be treated like a list of characters\n",
        "\"This is a string\"[0]  # => 'T'\n",
        "\n",
        "# You can find the length of a string\n",
        "len(\"This is a string\")  # => 16\n",
        "\n",
        "# .format can be used to format strings, like this:\n",
        "\"{} can be {}\".format(\"Strings\", \"interpolated\")  # => \"Strings can be interpolated\"\n",
        "\n",
        "# You can repeat the formatting arguments to save some typing.\n",
        "\"{0} be nimble, {0} be quick, {0} jump over the {1}\".format(\"Jack\", \"candle stick\")\n",
        "# => \"Jack be nimble, Jack be quick, Jack jump over the candle stick\"\n",
        "\n",
        "# You can use keywords if you don't want to count.\n",
        "\"{name} wants to eat {food}\".format(name=\"Bob\", food=\"lasagna\")  # => \"Bob wants to eat lasagna\"\n",
        "\n",
        "# for Python 2.5 and below, you can also use the old style of formatting:\n",
        "\"%s can be %s the %s way\" % (\"Strings\", \"interpolated\", \"old\")  # => \"Strings can be interpolated the old way\"\n",
        "\n",
        "# You can also format using f-strings or formatted string literals (in Python 3.6+)\n",
        "name = \"Reiko\"\n",
        "f\"She said her name is {name}.\" # => \"She said her name is Reiko\"\n",
        "f\"{name} is {len(name)} characters long.\" # => \"Reiko is 5 characters long.\""
      ],
      "metadata": {
        "id": "1-c6HwDdh9iD"
      },
      "execution_count": null,
      "outputs": []
    },
    {
      "cell_type": "code",
      "source": [
        "# reverse a string\n",
        "string = 'This is also a string.'\n",
        "string[::-1]\n",
        "''.join(reversed(string))"
      ],
      "metadata": {
        "id": "OZj76A6qjzdj"
      },
      "execution_count": null,
      "outputs": []
    },
    {
      "cell_type": "code",
      "source": [
        "# string methods\n",
        "name = \"Ada Lovelace\"\n",
        "print(name.upper())\n",
        "print(name.lower())\n",
        "print(name.title())\n",
        "print(name.split())\n",
        "print(list(name))"
      ],
      "metadata": {
        "colab": {
          "base_uri": "https://localhost:8080/"
        },
        "id": "TMAp0wzOgTWA",
        "outputId": "3d01160e-ec1d-4200-ce08-a8e205fd5797"
      },
      "execution_count": null,
      "outputs": [
        {
          "output_type": "stream",
          "name": "stdout",
          "text": [
            "ADA LOVELACE\n",
            "ada lovelace\n",
            "Ada Lovelace\n",
            "['Ada', 'Lovelace']\n",
            "['A', 'd', 'a', ' ', 'L', 'o', 'v', 'e', 'l', 'a', 'c', 'e']\n"
          ]
        }
      ]
    },
    {
      "cell_type": "code",
      "source": [
        "print(\"\\tPython\")\n",
        "print('   Python  '.rstrip())\n",
        "print('   Python  '.strip())"
      ],
      "metadata": {
        "colab": {
          "base_uri": "https://localhost:8080/"
        },
        "id": "V04osRu4iqC1",
        "outputId": "bababac7-eae4-4e37-d7ce-9e67034a368e"
      },
      "execution_count": null,
      "outputs": [
        {
          "output_type": "stream",
          "name": "stdout",
          "text": [
            "\tPython\n",
            "   Python\n",
            "Python\n"
          ]
        }
      ]
    },
    {
      "cell_type": "code",
      "source": [
        "print(\"I'm Python. Nice to meet you!\")  # => I'm Python. Nice to meet you!\n",
        "\n",
        "# By default the print function also prints out a newline at the end.\n",
        "# Use the optional argument end to change the end string.\n",
        "print(\"Hello, World\", end=\"!\")  # => Hello, World!\n",
        "\n",
        "# Simple way to get input data from console\n",
        "input_string_var = input(\"Enter some data: \") # Returns the data as a string\n",
        "# In earlier versions of Python, input() method was named as raw_input()"
      ],
      "metadata": {
        "id": "Ja4yWdR5jJ2M"
      },
      "execution_count": null,
      "outputs": []
    },
    {
      "cell_type": "markdown",
      "source": [
        "**Integers**"
      ],
      "metadata": {
        "id": "Uu19DAn2huyy"
      }
    },
    {
      "cell_type": "markdown",
      "source": [
        "Numbers are used quite often in programming to keep score in games, rep-\n",
        "resent data in visualizations, store information in web applications, and so on. Python treats numbers in several different ways, depending on how they\n",
        "are being used."
      ],
      "metadata": {
        "id": "_E457zTokOE6"
      }
    },
    {
      "cell_type": "code",
      "execution_count": null,
      "metadata": {
        "id": "xOBafEtuGQZr",
        "colab": {
          "base_uri": "https://localhost:8080/"
        },
        "outputId": "1fdbf54b-93ce-4b56-d016-5cc594544b70"
      },
      "outputs": [
        {
          "output_type": "execute_result",
          "data": {
            "text/plain": [
              "8"
            ]
          },
          "metadata": {},
          "execution_count": 15
        }
      ],
      "source": [
        "# math on scalars\n",
        "1 + 1   # => 2\n",
        "8 - 1   # => 7\n",
        "10 * 2  # => 20\n",
        "35 / 5  # => 7.0\n",
        "\n",
        "# Integer division rounds down for both positive and negative numbers.\n",
        "5 // 3       # => 1\n",
        "-5 // 3      # => -2\n",
        "5.0 // 3.0   # => 1.0 # works on floats too\n",
        "-5.0 // 3.0  # => -2.0\n",
        "\n",
        "# The result of division is always a float\n",
        "10.0 / 3  # => 3.3333333333333335\n",
        "\n",
        "# Modulo operation\n",
        "7 % 3  # => 1\n",
        "\n",
        "# Exponentiation (x**y, x to the yth power)\n",
        "2**3  # => 8\n",
        "\n",
        "# Enforce precedence with parentheses\n",
        "(1 + 3) * 2  # => 8"
      ]
    },
    {
      "cell_type": "markdown",
      "source": [
        "**Floats**"
      ],
      "metadata": {
        "id": "Akc2x0oflBUV"
      }
    },
    {
      "cell_type": "markdown",
      "source": [
        "Python calls any number with a decimal point a float. This term is used in\n",
        "most programming languages, and it refers to the fact that a decimal point\n",
        "can appear at any position in a number. Every programming language must\n",
        "be carefully designed to properly manage decimal numbers so numbers\n",
        "behave appropriately no matter where the decimal point appears."
      ],
      "metadata": {
        "id": "CRwYna4KlNTq"
      }
    },
    {
      "cell_type": "code",
      "source": [
        "0.1 + 0.1\n",
        "0.2 + 0.2\n",
        "2 * 0.1\n",
        "2 * 0.2"
      ],
      "metadata": {
        "colab": {
          "base_uri": "https://localhost:8080/"
        },
        "id": "h4t-1CT0lDtI",
        "outputId": "ebb8ebf2-765c-40a2-85d2-6d6ee30d0de4"
      },
      "execution_count": null,
      "outputs": [
        {
          "output_type": "execute_result",
          "data": {
            "text/plain": [
              "0.4"
            ]
          },
          "metadata": {},
          "execution_count": 16
        }
      ]
    },
    {
      "cell_type": "code",
      "source": [
        "# https://www.geeksforgeeks.org/floor-ceil-function-python/\n",
        "print(round(2.7468, 2))\n",
        "print(round(2.7468))"
      ],
      "metadata": {
        "colab": {
          "base_uri": "https://localhost:8080/"
        },
        "id": "ngsDnD_Zlh2m",
        "outputId": "87640fb7-904c-4249-c099-420cf4bbade7"
      },
      "execution_count": null,
      "outputs": [
        {
          "output_type": "stream",
          "name": "stdout",
          "text": [
            "2.75\n",
            "3\n"
          ]
        }
      ]
    },
    {
      "cell_type": "code",
      "source": [
        "str(10)"
      ],
      "metadata": {
        "colab": {
          "base_uri": "https://localhost:8080/",
          "height": 36
        },
        "id": "HW3OSxaUmO_K",
        "outputId": "64a3af6d-c327-46b6-f4e2-38ffd28fbe72"
      },
      "execution_count": null,
      "outputs": [
        {
          "output_type": "execute_result",
          "data": {
            "text/plain": [
              "'10'"
            ],
            "application/vnd.google.colaboratory.intrinsic+json": {
              "type": "string"
            }
          },
          "metadata": {},
          "execution_count": 24
        }
      ]
    },
    {
      "cell_type": "markdown",
      "source": [
        "## 2. Variables and Collections\n"
      ],
      "metadata": {
        "id": "XPfJyEmcaVrN"
      }
    },
    {
      "cell_type": "markdown",
      "source": [
        "**Variable assignment**"
      ],
      "metadata": {
        "id": "hWfoNOY5ksGT"
      }
    },
    {
      "cell_type": "markdown",
      "source": [
        "Every variable holds a value, which is the information associated with that variable."
      ],
      "metadata": {
        "id": "Kow_FBlHeUXj"
      }
    },
    {
      "cell_type": "code",
      "source": [
        "# There are no declarations, only assignments.\n",
        "some_var = 5\n",
        "\n",
        "# Accessing a previously unassigned variable is an exception.\n",
        "# See Control Flow to learn more about exception handling.\n",
        "some_unknown_var  # Raises a NameError"
      ],
      "metadata": {
        "id": "MHReSAj-Z7jM"
      },
      "execution_count": null,
      "outputs": []
    },
    {
      "cell_type": "markdown",
      "source": [
        "When you’re using variables in Python, you need to adhere to a few rules and guidelines.\n",
        "\n",
        "- Variable names can contain only letters, numbers, and underscores. They can start with a letter or an underscore, but not with a number. For instance, you can call a variable message_1 but not 1_message.\n",
        "\n",
        "- Spaces are not allowed in variable names, but underscores can be used to separate words in variable names.\n",
        "\n",
        "- Avoid using Python keywords and function names as variable names; that is, do not use words that Python has reserved for a particular programmatic purpose, such as the word print.\n",
        "\n",
        "- Variable names should be short but descriptive. For example, name is better than n, student_name is better than s_n, and name_length is better than length_of_persons_name."
      ],
      "metadata": {
        "id": "qP7D739Qekbc"
      }
    },
    {
      "cell_type": "markdown",
      "source": [
        "**Lists**"
      ],
      "metadata": {
        "id": "rjz3upikkv-H"
      }
    },
    {
      "cell_type": "markdown",
      "source": [
        "A list is a collection of items in a particular order. You can make a list that\n",
        "includes the letters of the alphabet, the digits from 0–9, or the names of\n",
        "all the people in your family. You can put anything you want into a list, and the items in your list don’t have to be related in any particular way.\n",
        "\n",
        "Because a list usually contains more than one element, it’s a good idea to make the name of your list plural, such as letters, digits, or names.\n",
        "\n",
        "In Python, square brackets ([]) indicate a list, and individual elements\n",
        "in the list are separated by commas."
      ],
      "metadata": {
        "id": "zQtHdivGom69"
      }
    },
    {
      "cell_type": "code",
      "source": [
        "# lists store sequences\n",
        "exp_list = [] # empty list\n",
        "other_exp_list = [4, 5, 6]"
      ],
      "metadata": {
        "id": "a1YCmk33kugr"
      },
      "execution_count": null,
      "outputs": []
    },
    {
      "cell_type": "markdown",
      "source": [
        "Adding separate elements to a list or expanding the original list:"
      ],
      "metadata": {
        "id": "VgJZvSP8vv8p"
      }
    },
    {
      "cell_type": "code",
      "source": [
        "# add stuff to the end of a list\n",
        "exp_list.append(1)    # exp_list is now [1]\n",
        "exp_list.append(2)    # exp_list is now [1, 2]\n",
        "\n",
        "# remove the last element (you can use the value of that element)\n",
        "removed_element = exp_list.pop()        # => 2 and exp_list is now [1]\n",
        "\n",
        "# delete arbitrary elements without using them anymore\n",
        "del exp_list[2]"
      ],
      "metadata": {
        "id": "5Bgd0etSvmOX"
      },
      "execution_count": null,
      "outputs": []
    },
    {
      "cell_type": "markdown",
      "source": [
        "Sometimes you won’t know the position of the value you want to remove from a list. If you only know the value of the item you want to remove, you can use the remove() method."
      ],
      "metadata": {
        "id": "5C6nVGThvVfl"
      }
    },
    {
      "cell_type": "code",
      "source": [
        "# remove first occurrence of a value\n",
        "removed_item = other_exp_list.remove(5)  # exp_list is now []\n",
        "other_exp_list.remove(5)  # Raises a ValueError as 5 is not in the exp_list"
      ],
      "metadata": {
        "id": "vB8gxEYAvg5x"
      },
      "execution_count": null,
      "outputs": []
    },
    {
      "cell_type": "code",
      "source": [
        "# Insert an element at a specific index\n",
        "exp_list.insert(1, 2)  # exp_list is now [2]\n",
        "\n",
        "# Get the index of the first item found matching the argument\n",
        "exp_list.index(2)  # => 1\n",
        "exp_list.index(4)  # Raises a ValueError as 4 is not in the list"
      ],
      "metadata": {
        "id": "dlhNw8VrvqzC"
      },
      "execution_count": null,
      "outputs": []
    },
    {
      "cell_type": "markdown",
      "source": [
        "Lists are ordered collections, so you can access any element in a list by telling Python the position, or index, of the item desired. To access an element in a list, write the name of the list followed by the index of the item enclosed in square brackets."
      ],
      "metadata": {
        "id": "YPHswHwhpF5J"
      }
    },
    {
      "cell_type": "code",
      "source": [
        "# indexing and slicing on lists\n",
        "exp_list[0] # first element\n",
        "exp_list[-1] # last element"
      ],
      "metadata": {
        "id": "dtfq6Ls1o3c-"
      },
      "execution_count": null,
      "outputs": []
    },
    {
      "cell_type": "markdown",
      "source": [
        "To make a slice, you specify the index of the first and last elements you want to work with. As with the range() function, Python stops one item before the second index you specify."
      ],
      "metadata": {
        "id": "g2ZweXk62RpY"
      }
    },
    {
      "cell_type": "code",
      "source": [
        "exp_list[1:3]\n",
        "exp_list[2:]\n",
        "exp_list[:3]\n",
        "# exp_list[start:end:step]\n",
        "exp_list[::2] # Select every second entry\n",
        "\n",
        "#reverse a list\n",
        "exp_list[::-1]\n",
        "\n",
        "# Looking out of bounds is an IndexError\n",
        "exp_list[4]  # Raises an IndexError"
      ],
      "metadata": {
        "id": "-ageqUwy2Zn2"
      },
      "execution_count": null,
      "outputs": []
    },
    {
      "cell_type": "markdown",
      "source": [
        "Keep in mind that whenever you want to access the last item in a list you use the index -1. A negative index returns an element at a certain distance from the end of a list; therefore, you can output any slice from the end of a list."
      ],
      "metadata": {
        "id": "JtfQOenozOoK"
      }
    },
    {
      "cell_type": "code",
      "source": [
        "other_exp_list[-1:]"
      ],
      "metadata": {
        "colab": {
          "base_uri": "https://localhost:8080/"
        },
        "id": "UJLnxRxZ21Mc",
        "outputId": "f02d0295-0fc5-46a3-af08-6dd0a1a57174"
      },
      "execution_count": null,
      "outputs": [
        {
          "output_type": "execute_result",
          "data": {
            "text/plain": [
              "[6]"
            ]
          },
          "metadata": {},
          "execution_count": 19
        }
      ]
    },
    {
      "cell_type": "markdown",
      "source": [
        "Sometimes you’ll want to preserve the original order of your list, and other times you’ll want to change the original order."
      ],
      "metadata": {
        "id": "zE01bPWHx414"
      }
    },
    {
      "cell_type": "code",
      "source": [
        "cars = ['bmw', 'audi', 'toyota', 'subaru']\n",
        "cars.sort()\n",
        "print(cars)"
      ],
      "metadata": {
        "colab": {
          "base_uri": "https://localhost:8080/"
        },
        "id": "9PugEHBHx6No",
        "outputId": "94507e5c-840a-427f-f026-adbc22b64841"
      },
      "execution_count": null,
      "outputs": [
        {
          "output_type": "stream",
          "name": "stdout",
          "text": [
            "['audi', 'bmw', 'subaru', 'toyota']\n"
          ]
        }
      ]
    },
    {
      "cell_type": "code",
      "source": [
        "cars.sort(reverse=True)\n",
        "print(cars)"
      ],
      "metadata": {
        "colab": {
          "base_uri": "https://localhost:8080/"
        },
        "id": "HK-3GduoyOcV",
        "outputId": "eeed707e-fd41-443d-e363-f14eed468d8f"
      },
      "execution_count": null,
      "outputs": [
        {
          "output_type": "stream",
          "name": "stdout",
          "text": [
            "['toyota', 'subaru', 'bmw', 'audi']\n"
          ]
        }
      ]
    },
    {
      "cell_type": "markdown",
      "source": [
        "To maintain the original order of a list but present it in a sorted order, you can use the sorted() function. The sorted() function lets you display your list in a particular order but doesn’t affect the actual order of the list."
      ],
      "metadata": {
        "id": "QYZgJ7ucyWo-"
      }
    },
    {
      "cell_type": "code",
      "source": [
        "print(\"Here is the original list:\")\n",
        "print(cars)\n",
        "\n",
        "print(\"\\nHere is the sorted list:\")\n",
        "print(sorted(cars))"
      ],
      "metadata": {
        "colab": {
          "base_uri": "https://localhost:8080/"
        },
        "id": "qxUU1vjVyX1l",
        "outputId": "5ba35813-620a-458c-bd16-40001e6935c0"
      },
      "execution_count": null,
      "outputs": [
        {
          "output_type": "stream",
          "name": "stdout",
          "text": [
            "Here is the original list:\n",
            "['toyota', 'subaru', 'bmw', 'audi']\n",
            "\n",
            "Here is the sorted list:\n",
            "['audi', 'bmw', 'subaru', 'toyota']\n"
          ]
        }
      ]
    },
    {
      "cell_type": "markdown",
      "source": [
        "To reverse the original order of a list, you can use the reverse() method. "
      ],
      "metadata": {
        "id": "ZggPCMJdyv6Y"
      }
    },
    {
      "cell_type": "code",
      "source": [
        "cars.reverse()\n",
        "print(cars)"
      ],
      "metadata": {
        "colab": {
          "base_uri": "https://localhost:8080/"
        },
        "id": "ZVr4b8oIy0Oj",
        "outputId": "2fd09a8a-321b-46bb-f8e3-1485431638de"
      },
      "execution_count": null,
      "outputs": [
        {
          "output_type": "stream",
          "name": "stdout",
          "text": [
            "['audi', 'bmw', 'subaru', 'toyota']\n"
          ]
        }
      ]
    },
    {
      "cell_type": "markdown",
      "source": [
        "To copy a list, you can make a slice that includes the entire original list by omitting the first index and the second index ([:]). "
      ],
      "metadata": {
        "id": "GZh054yb3KOa"
      }
    },
    {
      "cell_type": "code",
      "source": [
        "# Make a one layer deep copy\n",
        "exp_list2 = exp_list[:]\n",
        "\n",
        "# You can add lists\n",
        "exp_list + other_list\n",
        "\n",
        "# Concatenate lists with \"extend()\"\n",
        "exp_list.extend(other_list)\n",
        "\n",
        "# Check for existence in a list with \"in\"\n",
        "1 in exp_list\n",
        "\n",
        "len(exp_list)"
      ],
      "metadata": {
        "id": "31K5Dj3sowa9"
      },
      "execution_count": null,
      "outputs": []
    },
    {
      "cell_type": "markdown",
      "source": [
        "**For-loops**"
      ],
      "metadata": {
        "id": "1iiJ-KKmkdpW"
      }
    },
    {
      "cell_type": "markdown",
      "source": [
        "You’ll often want to run through all entries in a list, performing the same task with each item."
      ],
      "metadata": {
        "id": "nKStHXuRz1uo"
      }
    },
    {
      "cell_type": "code",
      "source": [
        "# iterate over list elements\n",
        "for animal in [\"dog\", \"cat\", \"mouse\"]:\n",
        "    print(f\"{animal} is a mammal\") # f-string\n",
        "\n",
        "text = 'this is a longer text \\n with several lines \\n attached to it'\n",
        "\n",
        "# define an index in the loop\n",
        "for i, line in enumerate(text.split('\\n')):\n",
        "    print(line)\n",
        "\n",
        "# skip remaining iterations in a loop or skip to the next iteration\n",
        "# depending on a condition\n",
        "for i, line in enumerate(text.split('\\n')):\n",
        "    print(line)\n",
        "    if len(line.split()) == 3:\n",
        "        break\n",
        "        #continue\n",
        "\n",
        "# manipulate each element within a loop\n",
        "string = 'Das ist ein.'\n",
        "for word in string:\n",
        "    print(word.upper())\n",
        "\n"
      ],
      "metadata": {
        "id": "Lzt9rmiwevIv"
      },
      "execution_count": null,
      "outputs": []
    },
    {
      "cell_type": "code",
      "source": [
        "for i in range(10):\n",
        "    print(i)\n",
        "\n",
        "print('\\n')\n",
        "# range(lower, upper, step)\n",
        "for i in range(4, 8, 2):\n",
        "    print(i)"
      ],
      "metadata": {
        "id": "lrXUmzaM0Zr-"
      },
      "execution_count": null,
      "outputs": []
    },
    {
      "cell_type": "code",
      "source": [
        "numbers = list(range(1,6))\n",
        "print(numbers)"
      ],
      "metadata": {
        "colab": {
          "base_uri": "https://localhost:8080/"
        },
        "id": "aW4kZ8Tl00g7",
        "outputId": "643f2a65-31cb-414e-ca4a-e436170821ea"
      },
      "execution_count": null,
      "outputs": [
        {
          "output_type": "stream",
          "name": "stdout",
          "text": [
            "[1, 2, 3, 4, 5]\n"
          ]
        }
      ]
    },
    {
      "cell_type": "markdown",
      "source": [
        "**List comprehensions**"
      ],
      "metadata": {
        "id": "5s6dbgQ-pSpo"
      }
    },
    {
      "cell_type": "markdown",
      "source": [
        " A list comprehension combines the for loop and the creation of new elements into one line, and automatically appends each new element."
      ],
      "metadata": {
        "id": "Cvv3AMsd1G2c"
      }
    },
    {
      "cell_type": "code",
      "source": [
        "# list_comprehension\n",
        "new_list = [e for e in numbers if e % 2 == 0]\n",
        "print(new_list)"
      ],
      "metadata": {
        "id": "7rppjesvpVNf",
        "colab": {
          "base_uri": "https://localhost:8080/"
        },
        "outputId": "c4204cf8-7c7b-409d-893b-00808251bab1"
      },
      "execution_count": null,
      "outputs": [
        {
          "output_type": "stream",
          "name": "stdout",
          "text": [
            "[2, 4]\n"
          ]
        }
      ]
    },
    {
      "cell_type": "markdown",
      "source": [
        "Open a set of square brackets and define the expression for the values you want to store in the new list. In this example the expression is e**2, which raises the element to the second power. Then, write a for loop to generate the numbers you want to feed into the expression, and close the square brackets."
      ],
      "metadata": {
        "id": "_68JyVDi15wy"
      }
    },
    {
      "cell_type": "code",
      "source": [
        "new_list = [e**2 for e in numbers]\n",
        "print(new_list)"
      ],
      "metadata": {
        "colab": {
          "base_uri": "https://localhost:8080/"
        },
        "id": "wLaX9L1g1aMF",
        "outputId": "0807238a-6fbb-40ff-b080-16e5244973eb"
      },
      "execution_count": null,
      "outputs": [
        {
          "output_type": "stream",
          "name": "stdout",
          "text": [
            "[1, 4, 9, 16, 25]\n"
          ]
        }
      ]
    },
    {
      "cell_type": "code",
      "source": [
        "# example of combining a loop with a list comprehension\n",
        "exclude_list = [':', '|', '==']\n",
        "\n",
        "for element in exclude_list:\n",
        "    recognizer_output = [line for line in recognizer_output \\\n",
        "    if (element not in line)]"
      ],
      "metadata": {
        "id": "sT5SRSnzpnNS"
      },
      "execution_count": null,
      "outputs": []
    },
    {
      "cell_type": "markdown",
      "source": [
        "**Tuples**"
      ],
      "metadata": {
        "id": "1KdoIBeMrDGV"
      }
    },
    {
      "cell_type": "markdown",
      "source": [
        "Sometimes you’ll want to create a list of items that cannot change. Tuples allow you to do just that. Python refers to values that cannot change as *immutable*, and an immutable list is called a tuple.\n",
        "\n",
        "A tuple looks just like a list except you use parentheses instead of square brackets."
      ],
      "metadata": {
        "id": "3kNlqYx837Vg"
      }
    },
    {
      "cell_type": "code",
      "source": [
        "# Tuples are like lists but are immutable.\n",
        "tup = (1, 2, 3)\n",
        "tup[0]      # => 1\n",
        "tup[0] = 3  # Raises a TypeError"
      ],
      "metadata": {
        "id": "yK6HZ_jwk2_4",
        "colab": {
          "base_uri": "https://localhost:8080/",
          "height": 200
        },
        "outputId": "11d0cd17-15b1-42b4-c8a7-6c96147e5929"
      },
      "execution_count": null,
      "outputs": [
        {
          "output_type": "error",
          "ename": "TypeError",
          "evalue": "ignored",
          "traceback": [
            "\u001b[0;31m---------------------------------------------------------------------------\u001b[0m",
            "\u001b[0;31mTypeError\u001b[0m                                 Traceback (most recent call last)",
            "\u001b[0;32m<ipython-input-23-1e709546ebdb>\u001b[0m in \u001b[0;36m<module>\u001b[0;34m\u001b[0m\n\u001b[1;32m      2\u001b[0m \u001b[0mtup\u001b[0m \u001b[0;34m=\u001b[0m \u001b[0;34m(\u001b[0m\u001b[0;36m1\u001b[0m\u001b[0;34m,\u001b[0m \u001b[0;36m2\u001b[0m\u001b[0;34m,\u001b[0m \u001b[0;36m3\u001b[0m\u001b[0;34m)\u001b[0m\u001b[0;34m\u001b[0m\u001b[0;34m\u001b[0m\u001b[0m\n\u001b[1;32m      3\u001b[0m \u001b[0mtup\u001b[0m\u001b[0;34m[\u001b[0m\u001b[0;36m0\u001b[0m\u001b[0;34m]\u001b[0m      \u001b[0;31m# => 1\u001b[0m\u001b[0;34m\u001b[0m\u001b[0;34m\u001b[0m\u001b[0m\n\u001b[0;32m----> 4\u001b[0;31m \u001b[0mtup\u001b[0m\u001b[0;34m[\u001b[0m\u001b[0;36m0\u001b[0m\u001b[0;34m]\u001b[0m \u001b[0;34m=\u001b[0m \u001b[0;36m3\u001b[0m  \u001b[0;31m# Raises a TypeError\u001b[0m\u001b[0;34m\u001b[0m\u001b[0;34m\u001b[0m\u001b[0m\n\u001b[0m",
            "\u001b[0;31mTypeError\u001b[0m: 'tuple' object does not support item assignment"
          ]
        }
      ]
    },
    {
      "cell_type": "code",
      "source": [
        "# Note that a tuple of length one has to have a comma after the last element but\n",
        "# tuples of other lengths, even zero, do not.\n",
        "print(type((1)))   # => <class 'int'>\n",
        "print(type((1,)))  # => <class 'tuple'>\n",
        "print(type(()))    # => <class 'tuple'>"
      ],
      "metadata": {
        "colab": {
          "base_uri": "https://localhost:8080/"
        },
        "id": "pmP32fsQ4ScJ",
        "outputId": "d4171417-18f0-40bf-9e9d-dd92fe9b3419"
      },
      "execution_count": null,
      "outputs": [
        {
          "output_type": "stream",
          "name": "stdout",
          "text": [
            "<class 'int'>\n",
            "<class 'tuple'>\n",
            "<class 'tuple'>\n"
          ]
        }
      ]
    },
    {
      "cell_type": "code",
      "source": [
        "# You can do most of the list operations on tuples too\n",
        "print(len(tup))         # => 3\n",
        "print(tup + (4, 5, 6))  # => (1, 2, 3, 4, 5, 6)\n",
        "print(tup[:2])          # => (1, 2)\n",
        "print(2 in tup)         # => True"
      ],
      "metadata": {
        "colab": {
          "base_uri": "https://localhost:8080/"
        },
        "id": "eFW1KO-84yoh",
        "outputId": "9246c758-09a6-416b-c064-dd53f815fc85"
      },
      "execution_count": null,
      "outputs": [
        {
          "output_type": "stream",
          "name": "stdout",
          "text": [
            "3\n",
            "(1, 2, 3, 4, 5, 6)\n",
            "(1, 2)\n",
            "True\n"
          ]
        }
      ]
    },
    {
      "cell_type": "markdown",
      "source": [
        "Although you can’t modify a tuple, you can assign a new value to a variable that holds a tuple. "
      ],
      "metadata": {
        "id": "u9zk_3m14rMh"
      }
    },
    {
      "cell_type": "markdown",
      "source": [
        "**Dictionaries**"
      ],
      "metadata": {
        "id": "7fz1cbINrNlY"
      }
    },
    {
      "cell_type": "markdown",
      "source": [
        "A dictionary in Python is a collection of key-value pairs. Each key is connected to a value, and you can use a key to access the value associated with that key. A key’s value can be a number, a string, a list, or even another dictionary."
      ],
      "metadata": {
        "id": "fVkbVvnLit_D"
      }
    },
    {
      "cell_type": "code",
      "source": [
        "# Dictionaries store mappings from keys to values\n",
        "empty_dict = {}\n",
        "my_dict = {\"one\": 1, \"two\": 2, \"three\": 3}"
      ],
      "metadata": {
        "id": "VLqlyDBfrR9c"
      },
      "execution_count": null,
      "outputs": []
    },
    {
      "cell_type": "code",
      "source": [
        "# keys for dictionaries have to be immutable to ensure that\n",
        "# the key can be converted to a constant hash value for quick access\n",
        "# immutable types include ints, floats, strings, an tuples\n",
        "invalid_dict = {[1,2,3]: \"123\"}  # => Raises a TypeError: unhashable type: 'list'\n",
        "valid_dict = {'example_key':[1,2,3]}   # Values can be of any type, however."
      ],
      "metadata": {
        "id": "LS8HbYEppXg6"
      },
      "execution_count": null,
      "outputs": []
    },
    {
      "cell_type": "code",
      "source": [
        "# accessing values\n",
        "my_dict[\"one\"]  # => 1\n",
        "\n",
        "# Get all keys as an iterable with \"keys()\"\n",
        "list(my_dict.keys())  # => [\"three\", \"two\", \"one\"] in Python <3.7\n",
        "list(my_dict.keys())  # => [\"one\", \"two\", \"three\"] in Python 3.7+\n",
        "list(my_dict.values())  # => [3, 2, 1]  in Python <3.7\n",
        "list(my_dict.values())  # => [1, 2, 3] in Python 3.7+"
      ],
      "metadata": {
        "colab": {
          "base_uri": "https://localhost:8080/"
        },
        "id": "6zp-OIu7pbiC",
        "outputId": "4a523003-1f78-48e9-e3d9-12c81502900a"
      },
      "execution_count": null,
      "outputs": [
        {
          "output_type": "execute_result",
          "data": {
            "text/plain": [
              "[1, 2, 3]"
            ]
          },
          "metadata": {},
          "execution_count": 40
        }
      ]
    },
    {
      "cell_type": "code",
      "source": [
        "# extract all values\n",
        "value_list = list(my_dict.values())"
      ],
      "metadata": {
        "id": "aTDTbb2opxda"
      },
      "execution_count": null,
      "outputs": []
    },
    {
      "cell_type": "code",
      "source": [
        "# Remove keys from a dictionary with del\n",
        "del my_dict[\"one\"]  # deletes the key \"one\" from filled dict\n",
        "\n",
        "# insert into dictionaries\n",
        "my_dict.update({\"key_3\":3})\n",
        "my_dict['key_4'] = 6"
      ],
      "metadata": {
        "id": "IyR9HAI1thUy"
      },
      "execution_count": null,
      "outputs": []
    },
    {
      "cell_type": "code",
      "source": [
        "# \"setdefault()\" inserts into a dictionary only if the given key isn't present\n",
        "my_dict.setdefault(\"five\", 5)  # my_dict[\"five\"] is set to 5\n",
        "my_dict.setdefault(\"five\", 6)  # my_dict[\"five\"] is still 5\n",
        "\n",
        "# Check for existence of keys in a dictionary with \"in\"\n",
        "\"one\" in my_dict  # => True\n",
        "1 in my_dict      # => False\n",
        "\n",
        "# Looking up a non-existing key is a KeyError\n",
        "my_dict[\"four\"]  # KeyError\n",
        "\n",
        "# Use \"get()\" method to avoid the KeyError\n",
        "my_dict.get(\"one\")      # => 1\n",
        "my_dict.get(\"four\")     # => None\n",
        "\n",
        "# The get method supports a default argument when the value is missing\n",
        "my_dict.get(\"one\", 4)   # => 1\n",
        "my_dict.get(\"four\", 4)  # => 4\n",
        "\n",
        "# From Python 3.5 you can also use the additional unpacking options\n",
        "{'a': 1, **{'b': 2}}  # => {'a': 1, 'b': 2}\n",
        "{'a': 1, **{'a': 2}}  # => {'a': 2}"
      ],
      "metadata": {
        "id": "ZwusM8jjqKn6"
      },
      "execution_count": null,
      "outputs": []
    },
    {
      "cell_type": "code",
      "source": [
        "my_dict = {'key_1':'value_1',\n",
        "            'key_2':'value_2'}\n",
        "\n",
        "# iterate through keys\n",
        "for key in my_dict.keys():\n",
        "    if key == 'key_2':\n",
        "        my_dict[key] = 'new_value'\n",
        "\n",
        "# sorted keys\n",
        "for key in sorted(my_dict.keys()):\n",
        "    if key == 'key_2':\n",
        "        my_dict[key] = 'new_value'\n",
        "\n",
        "# loop over values directly\n",
        "for value in sorted(my_dict.values()):\n",
        "    if value == 'value':\n",
        "        print(value)\n",
        "\n",
        "# iterate through keys and values at the same time\n",
        "for key, val in my_dict.items():\n",
        "    print(my_dict[key])\n",
        "\n",
        "# loop through two dicts at once with zip\n",
        "for (key_a, value_a), (key_b, value_b) in zip(dict_a.items(), \\\n",
        "            dict_b.items()):\n",
        "  pass"
      ],
      "metadata": {
        "id": "sMQG9SCVsySC"
      },
      "execution_count": null,
      "outputs": []
    },
    {
      "cell_type": "code",
      "source": [
        "# list comprehension works for dicts\n",
        "{x: x**2 for x in range(5)}  # => {0: 0, 1: 1, 2: 4, 3: 9, 4: 16}"
      ],
      "metadata": {
        "id": "R1ckcyePt0Nq"
      },
      "execution_count": null,
      "outputs": []
    },
    {
      "cell_type": "markdown",
      "source": [
        "You can nest dictionaries in a list or lists in dictionaries."
      ],
      "metadata": {
        "id": "2vGE9mjcr8Y4"
      }
    },
    {
      "cell_type": "code",
      "source": [
        "from collections import OrderedDict"
      ],
      "metadata": {
        "id": "NWPVRss1spQJ"
      },
      "execution_count": null,
      "outputs": []
    },
    {
      "cell_type": "markdown",
      "source": [
        "OrderedDict is a great data structure to be aware of because it combines the main benefit of lists (retaining your original order) with the main feature of dictionaries (connecting pieces of information). "
      ],
      "metadata": {
        "id": "eRgMNeZ3sy2K"
      }
    },
    {
      "cell_type": "markdown",
      "source": [
        "**Set**"
      ],
      "metadata": {
        "id": "88OkPJ1ZuCVY"
      }
    },
    {
      "cell_type": "markdown",
      "source": [
        "A set is similar to a list except that each item in the set must be unique:"
      ],
      "metadata": {
        "id": "lpOWHxnosXmh"
      }
    },
    {
      "cell_type": "code",
      "source": [
        "# Sets store ... well sets\n",
        "empty_set = set()\n",
        "# Initialize a set with a bunch of values. Yeah, it looks a bit like a dict. Sorry.\n",
        "some_set = {1, 1, 2, 2, 3, 4}  # some_set is now {1, 2, 3, 4}\n",
        "\n",
        "# Similar to keys of a dictionary, elements of a set have to be immutable.\n",
        "invalid_set = {[1], 1}  # => Raises a TypeError: unhashable type: 'list'\n",
        "valid_set = {(1,), 1}\n",
        "\n",
        "# Add one more item to the set\n",
        "filled_set = some_set\n",
        "filled_set.add(5)  # filled_set is now {1, 2, 3, 4, 5}\n",
        "# Sets do not have duplicate elements\n",
        "filled_set.add(5)  # it remains as before {1, 2, 3, 4, 5}\n",
        "\n",
        "# Do set intersection with &\n",
        "other_set = {3, 4, 5, 6}\n",
        "filled_set & other_set  # => {3, 4, 5}\n",
        "\n",
        "# Do set union with |\n",
        "filled_set | other_set  # => {1, 2, 3, 4, 5, 6}\n",
        "\n",
        "# Do set difference with -\n",
        "{1, 2, 3, 4} - {2, 3, 5}  # => {1, 4}\n",
        "\n",
        "# Do set symmetric difference with ^\n",
        "{1, 2, 3, 4} ^ {2, 3, 5}  # => {1, 4, 5}\n",
        "\n",
        "# Check if set on the left is a superset of set on the right\n",
        "{1, 2} >= {1, 2, 3} # => False\n",
        "\n",
        "# Check if set on the left is a subset of set on the right\n",
        "{1, 2} <= {1, 2, 3} # => True\n",
        "\n",
        "# Check for existence in a set with in\n",
        "2 in filled_set   # => True\n",
        "10 in filled_set  # => False"
      ],
      "metadata": {
        "id": "C1GiryiEuFXS"
      },
      "execution_count": null,
      "outputs": []
    },
    {
      "cell_type": "markdown",
      "source": [
        "When you wrap set() around a list that contains duplicate items, Python identifies the unique items in the list and builds a set from those items."
      ],
      "metadata": {
        "id": "TZt5MNyesfJg"
      }
    },
    {
      "cell_type": "markdown",
      "source": [
        "**Unpacking collections into variables**"
      ],
      "metadata": {
        "id": "QBwoe-Rb703f"
      }
    },
    {
      "cell_type": "code",
      "source": [
        "# You can unpack tuples (or lists) into variables\n",
        "a, b, c = (1, 2, 3)  # a is now 1, b is now 2 and c is now 3\n",
        "print(a)\n",
        "print(b)\n",
        "print(c)\n"
      ],
      "metadata": {
        "colab": {
          "base_uri": "https://localhost:8080/"
        },
        "id": "K0kuYa8Y40pX",
        "outputId": "71c73147-2a7a-4d5b-e8aa-0bb68ebcdc82"
      },
      "execution_count": null,
      "outputs": [
        {
          "output_type": "stream",
          "name": "stdout",
          "text": [
            "1\n",
            "2\n",
            "3\n"
          ]
        }
      ]
    },
    {
      "cell_type": "code",
      "source": [
        "# You can also do extended unpacking\n",
        "a, *b, c = (1, 2, 3, 4)  # a is now 1, b is now [2, 3] and c is now 4\n",
        "print(a)\n",
        "print(b)\n",
        "print(c)"
      ],
      "metadata": {
        "colab": {
          "base_uri": "https://localhost:8080/"
        },
        "id": "zGcZ1mpQ6Lsx",
        "outputId": "fa10f811-0ad9-4062-d72a-3aab17370dbd"
      },
      "execution_count": null,
      "outputs": [
        {
          "output_type": "stream",
          "name": "stdout",
          "text": [
            "1\n",
            "[2, 3]\n",
            "4\n"
          ]
        }
      ]
    },
    {
      "cell_type": "code",
      "source": [
        "d, e, f = 4, 5, 6  # tuple 4, 5, 6 is unpacked into variables d, e and f\n",
        "# respectively such that d = 4, e = 5 and f = 6\n",
        "print(type(d))\n",
        "print(e)\n",
        "print(f)\n"
      ],
      "metadata": {
        "colab": {
          "base_uri": "https://localhost:8080/"
        },
        "id": "MwA0Ta0j6Nbr",
        "outputId": "8d564ac9-b648-408a-9363-cf8370bec0bf"
      },
      "execution_count": null,
      "outputs": [
        {
          "output_type": "stream",
          "name": "stdout",
          "text": [
            "<class 'int'>\n",
            "5\n",
            "6\n"
          ]
        }
      ]
    },
    {
      "cell_type": "code",
      "source": [
        "# Now look how easy it is to swap two values\n",
        "e, d = d, e  # d is now 5 and e is now 4\n",
        "print(d)\n",
        "print(e)"
      ],
      "metadata": {
        "colab": {
          "base_uri": "https://localhost:8080/"
        },
        "id": "TDuLi-xu6kTy",
        "outputId": "af996de9-0ea5-412d-f13e-55634f57dc78"
      },
      "execution_count": null,
      "outputs": [
        {
          "output_type": "stream",
          "name": "stdout",
          "text": [
            "5\n",
            "4\n"
          ]
        }
      ]
    },
    {
      "cell_type": "markdown",
      "source": [
        "## 3. Control Flow and Iterables\n"
      ],
      "metadata": {
        "id": "3RzhJF-JahIw"
      }
    },
    {
      "cell_type": "markdown",
      "source": [
        "**If-else statements and comparisons**"
      ],
      "metadata": {
        "id": "9SdL4V54kV16"
      }
    },
    {
      "cell_type": "markdown",
      "source": [
        "Programming often involves examining a set of conditions and deciding which action to take based on those conditions."
      ],
      "metadata": {
        "id": "onErv3fNXYer"
      }
    },
    {
      "cell_type": "code",
      "source": [
        "string = 'Das ist ein Satz.'\n",
        "\n",
        "if len(string) > 15:\n",
        "    print('Satz ist länger als 15 Buchstaben.')\n",
        "elif len(string) < 15:\n",
        "    print('Satz ist kürzer als 15 Buchstaben.')\n",
        "else:\n",
        "    print('Es gibt keinen String')\n",
        "\n",
        "f'\"{string}\" is {len(string)} characters long.'"
      ],
      "metadata": {
        "id": "H8BAPhebajoH"
      },
      "execution_count": null,
      "outputs": []
    },
    {
      "cell_type": "markdown",
      "source": [
        "At the heart of every if statement is an expression that can be evaluated as True or False and is called a conditional test. Python uses the values True and False to decide whether the code in an if statement should be executed. If a conditional test evaluates to True, Python executes the code following the if statement. If the test evaluates to False, Python ignores the code following the if statement."
      ],
      "metadata": {
        "id": "ACysw_i_X6UP"
      }
    },
    {
      "cell_type": "code",
      "source": [
        "# Equality is ==\n",
        "1 == 1  # => True\n",
        "2 == 1  # => False\n",
        "\n",
        "# Inequality is !=\n",
        "1 != 1  # => False\n",
        "2 != 1  # => True\n",
        "\n",
        "# More comparisons\n",
        "1 < 10  # => True\n",
        "1 > 10  # => False\n",
        "2 <= 2  # => True\n",
        "2 >= 2  # => True\n",
        "\n",
        "# Seeing whether a value is in a range\n",
        "1 < 2 and 2 < 3  # => True\n",
        "2 < 3 and 3 < 2  # => False\n",
        "\n",
        "1 < 2 or 2 < 3  # => True\n",
        "2 < 3 or 3 < 2  # => True\n",
        "# Chaining makes this look nicer\n",
        "1 < 2 < 3  # => True\n",
        "2 < 3 < 2  # => False\n",
        "\n",
        "# (is vs. ==) is checks if two variables refer to the same object, but == checks\n",
        "# if the objects pointed to have the same values.\n",
        "a = [1, 2, 3, 4]  # Point a at a new list, [1, 2, 3, 4]\n",
        "b = a             # Point b at what a is pointing to\n",
        "b is a            # => True, a and b refer to the same object\n",
        "b == a            # => True, a's and b's objects are equal\n",
        "b = [1, 2, 3, 4]  # Point b at a new list, [1, 2, 3, 4]\n",
        "b is a            # => False, a and b do not refer to the same object\n",
        "b == a            # => True, a's and b's objects are equal"
      ],
      "metadata": {
        "id": "BxdciawKhr_T"
      },
      "execution_count": null,
      "outputs": []
    },
    {
      "cell_type": "code",
      "source": [
        "# if can be used as an expression\n",
        "\"yahoo!\" if 3 > 2 else 2  # => \"yahoo!\""
      ],
      "metadata": {
        "id": "pNsUJ-NbkUMI"
      },
      "execution_count": null,
      "outputs": []
    },
    {
      "cell_type": "code",
      "source": [
        "if x in some_list:\n",
        "  pass\n",
        "if x not in some_list:\n",
        "  pass"
      ],
      "metadata": {
        "id": "RU_SvDyziFav"
      },
      "execution_count": null,
      "outputs": []
    },
    {
      "cell_type": "markdown",
      "source": [
        "**Booleans**"
      ],
      "metadata": {
        "id": "19lK6H9cYFl0"
      }
    },
    {
      "cell_type": "code",
      "source": [
        "# Boolean values are primitives (Note: the capitalization)\n",
        "True\n",
        "False\n",
        "\n",
        "# negate with not\n",
        "not True   # => False\n",
        "not False  # => True\n",
        "\n",
        "# Boolean Operators\n",
        "# Note \"and\" and \"or\" are case-sensitive\n",
        "True and False  # => False\n",
        "False or True   # => True\n",
        "\n",
        "# True and False are actually 1 and 0 but with different keywords\n",
        "True + True # => 2\n",
        "True * 8    # => 8\n",
        "False - 5   # => -5\n",
        "\n",
        "# Comparison operators look at the numerical value of True and False\n",
        "0 == False  # => True\n",
        "1 == True   # => True\n",
        "2 == True   # => False\n",
        "-5 != False # => True\n",
        "\n",
        "# Using boolean logical operators on ints casts them to booleans for evaluation, but their non-cast value is returned\n",
        "# Don't mix up with bool(ints) and bitwise and/or (&,|)\n",
        "bool(0)     # => False\n",
        "bool(4)     # => True\n",
        "bool(-6)    # => True\n",
        "0 and 2     # => 0\n",
        "-5 or 0     # => -5"
      ],
      "metadata": {
        "id": "YXohkBpbhc_X"
      },
      "execution_count": null,
      "outputs": []
    },
    {
      "cell_type": "code",
      "source": [
        "# None is an object\n",
        "None  # => None\n",
        "\n",
        "# Don't use the equality \"==\" symbol to compare objects to None\n",
        "# Use \"is\" instead. This checks for equality of object identity.\n",
        "\"etc\" is None  # => False\n",
        "None is None   # => True\n",
        "\n",
        "# None, 0, and empty strings/lists/dicts/tuples all evaluate to False.\n",
        "# All other values are True\n",
        "bool(0)   # => False\n",
        "bool(\"\")  # => False\n",
        "bool([])  # => False\n",
        "bool({})  # => False\n",
        "bool(())  # => False"
      ],
      "metadata": {
        "id": "uEX3ABS3iw9y"
      },
      "execution_count": null,
      "outputs": []
    },
    {
      "cell_type": "markdown",
      "source": [
        "**While-loops and Match statement**"
      ],
      "metadata": {
        "id": "ExnZl1pAuOix"
      }
    },
    {
      "cell_type": "code",
      "source": [
        "i = 6\n",
        "while i > 3:\n",
        "    print(i)\n",
        "    i -= 1"
      ],
      "metadata": {
        "id": "WisMJWySqvau"
      },
      "execution_count": null,
      "outputs": []
    },
    {
      "cell_type": "markdown",
      "source": [
        "This works like switch in Matlab:"
      ],
      "metadata": {
        "id": "d4_9Ve4UszKy"
      }
    },
    {
      "cell_type": "code",
      "source": [
        "# starting with python 3.10\n",
        "http_code = \"418\"\n",
        "match http_code:\n",
        "    case \"200\":\n",
        "        print(\"OK\")\n",
        "        do_something_good()\n",
        "    case \"404\":\n",
        "        print(\"Not Found\")\n",
        "        do_something_bad()\n",
        "    case \"418\":\n",
        "        print(\"I'm a teapot\")\n",
        "        make_coffee()\n",
        "    case _:\n",
        "        print(\"Code not found\")"
      ],
      "metadata": {
        "id": "g3JpjOe2gfpn"
      },
      "execution_count": null,
      "outputs": []
    },
    {
      "cell_type": "markdown",
      "source": [
        "**Iterables and generators**"
      ],
      "metadata": {
        "id": "t2K3VIYr5Jn9"
      }
    },
    {
      "cell_type": "code",
      "source": [
        "# Python offers a fundamental abstraction called the Iterable.\n",
        "# An iterable is an object that can be treated as a sequence.\n",
        "# The object returned by the range function, is an iterable.\n",
        "\n",
        "filled_dict = {\"one\": 1, \"two\": 2, \"three\": 3}\n",
        "our_iterable = filled_dict.keys()\n",
        "print(our_iterable)  # => dict_keys(['one', 'two', 'three']). This is an object that implements our Iterable interface.\n",
        "\n",
        "# We can loop over it.\n",
        "for i in our_iterable:\n",
        "    print(i)  # Prints one, two, three\n",
        "\n",
        "# However we cannot address elements by index.\n",
        "our_iterable[1]  # Raises a TypeError\n",
        "\n",
        "# An iterable is an object that knows how to create an iterator.\n",
        "our_iterator = iter(our_iterable)\n",
        "\n",
        "# Our iterator is an object that can remember the state as we traverse through it.\n",
        "# We get the next object with \"next()\".\n",
        "next(our_iterator)  # => \"one\"\n",
        "\n",
        "# It maintains state as we iterate.\n",
        "next(our_iterator)  # => \"two\"\n",
        "next(our_iterator)  # => \"three\"\n",
        "\n",
        "# After the iterator has returned all of its data, it raises a StopIteration exception\n",
        "next(our_iterator)  # Raises StopIteration\n",
        "\n",
        "# You can grab all the elements of an iterator by calling list() on it.\n",
        "list(filled_dict.keys())  # => Returns [\"one\", \"two\", \"three\"]\n",
        "\n",
        "# Generators are memory-efficient because they only load the data needed to\n",
        "# process the next value in the iterable. This allows them to perform\n",
        "# operations on otherwise prohibitively large value ranges.\n",
        "# `range` is a generator.\n",
        "\n",
        "# Every generator is an iterator, but not vice versa.\n",
        "\n",
        "# Yield is a keyword in Python that is used to return from a function without\n",
        "# destroying the states of its local variable and when the function is called,\n",
        "# the execution starts from the last yield statement. Any function that contains\n",
        "# a yield keyword is termed a generator. \n",
        "\n",
        "def double_numbers(iterable):\n",
        "    for i in iterable:\n",
        "        yield i + i\n",
        "\n",
        "# Just as you can create a list comprehension, you can create generator\n",
        "# comprehensions as well.\n",
        "values = (-x for x in [1,2,3,4,5])\n",
        "for x in values:\n",
        "    print(x)\n",
        "\n",
        "# e.g.\n",
        "my_dict.iteritems()\n",
        "pd.iterrows()"
      ],
      "metadata": {
        "id": "mmnupv4RupEY"
      },
      "execution_count": null,
      "outputs": []
    },
    {
      "cell_type": "markdown",
      "source": [
        "**Exceptions**"
      ],
      "metadata": {
        "id": "b00BSO2PuanN"
      }
    },
    {
      "cell_type": "markdown",
      "source": [
        "When you think an error may occur, you can write a try-except block to handle the exception that might be raised. You tell Python to try running some code, and you tell it what to do if the code results in a particular kind of exception."
      ],
      "metadata": {
        "id": "CQwt3TkxxPm1"
      }
    },
    {
      "cell_type": "code",
      "source": [
        "# Handle exceptions with a try/except block\n",
        "try:\n",
        "    # Use \"raise\" to raise an error\n",
        "    raise IndexError(\"This is an index error\")\n",
        "except IndexError as e:\n",
        "    pass                 # Pass is just a no-op. Usually you would do recovery here.\n",
        "except (TypeError, NameError):\n",
        "    pass                 # Multiple exceptions can be handled together, if required.\n",
        "else:                    # Optional clause to the try/except block. Must follow all except blocks\n",
        "    print(\"All good!\")   # Runs only if the code in try raises no exceptions\n",
        "finally:                 #  Execute under all circumstances\n",
        "    print(\"We can clean up resources here\")\n",
        "\n",
        "# Instead of try/finally to cleanup resources you can use a with statement\n",
        "with open(\"myfile.txt\") as f:\n",
        "    for line in f:\n",
        "        print(line)"
      ],
      "metadata": {
        "id": "EBFlMUWxgsWe"
      },
      "execution_count": null,
      "outputs": []
    },
    {
      "cell_type": "markdown",
      "source": [
        "Handling errors correctly is especially important when the program has more work to do after the error occurs."
      ],
      "metadata": {
        "id": "RS4iXyHhySYt"
      }
    },
    {
      "cell_type": "markdown",
      "source": [
        "## 4. Functions\n"
      ],
      "metadata": {
        "id": "TLA1B1itcAfT"
      }
    },
    {
      "cell_type": "markdown",
      "source": [
        "You can use positional arguments, which need to be in the same order the parameters were written; keyword arguments, where each argument consists of a variable name and a value; and lists and dictionaries of values."
      ],
      "metadata": {
        "id": "vD6xgDspyjEg"
      }
    },
    {
      "cell_type": "code",
      "source": [
        "def add(x, y):\n",
        "    return x + y \n",
        "\n",
        "# Calling functions with parameters\n",
        "add(5, 6)  # => prints out \"x is 5 and y is 6\" and returns 11\n",
        "\n"
      ],
      "metadata": {
        "id": "kjdvrWBncC1H",
        "colab": {
          "base_uri": "https://localhost:8080/"
        },
        "outputId": "79509a75-ec51-4bf6-e06c-8f17ec3c2a5b"
      },
      "execution_count": null,
      "outputs": [
        {
          "output_type": "execute_result",
          "data": {
            "text/plain": [
              "11"
            ]
          },
          "metadata": {},
          "execution_count": 41
        }
      ]
    },
    {
      "cell_type": "code",
      "source": [
        "# Another way to call functions is with keyword arguments\n",
        "add(y=6, x=5)  # Keyword arguments can arrive in any order.\n",
        "\n"
      ],
      "metadata": {
        "colab": {
          "base_uri": "https://localhost:8080/"
        },
        "id": "PvObCl37yuXo",
        "outputId": "28f5022a-c1d6-45ee-d888-875519109173"
      },
      "execution_count": null,
      "outputs": [
        {
          "output_type": "execute_result",
          "data": {
            "text/plain": [
              "11"
            ]
          },
          "metadata": {},
          "execution_count": 42
        }
      ]
    },
    {
      "cell_type": "code",
      "source": [
        "# You can define functions that take a variable number of\n",
        "# positional arguments which are compiled as a tuple\n",
        "def varargs(*args):\n",
        "    for arg in args:\n",
        "      print(arg**4)\n",
        "\n",
        "varargs(1, 2, 3)"
      ],
      "metadata": {
        "colab": {
          "base_uri": "https://localhost:8080/"
        },
        "id": "6e0m2GEpyzyJ",
        "outputId": "4935728d-1b08-4527-9b53-8bbf9e12f423"
      },
      "execution_count": null,
      "outputs": [
        {
          "output_type": "stream",
          "name": "stdout",
          "text": [
            "1\n",
            "16\n",
            "81\n"
          ]
        }
      ]
    },
    {
      "cell_type": "markdown",
      "source": [
        "A keyword argument is a name-value pair that you pass to a function. When writing a function, you can define a default value for each parameter. If an argument for a parameter is provided in the function call, Python uses the argument value. If not, it uses the parameter’s default value. "
      ],
      "metadata": {
        "id": "afporgoW5H3I"
      }
    },
    {
      "cell_type": "code",
      "source": [
        "# You can define functions that take a variable number of\n",
        "# keyword arguments, as well\n",
        "def keyword_args(**kwargs):\n",
        "    return kwargs\n",
        "\n",
        "# keyword arguments are saved in a dict\n",
        "keyword_args(big=\"foot\", loch=\"ness\")  # => {\"big\": \"foot\", \"loch\": \"ness\"}"
      ],
      "metadata": {
        "id": "fSqSvy0TzNYP"
      },
      "execution_count": null,
      "outputs": []
    },
    {
      "cell_type": "code",
      "source": [
        "# extracting the kwarguments from the dict and defining them as variables\n",
        "\n",
        "def function(**kwargs):\n",
        "\n",
        "    for key, value in kwargs.items():\n",
        "        if key == 'transcripts':\n",
        "            raw_transcripts = kwargs[key]\n",
        "        if key == 'intents':\n",
        "            intents = kwargs[key]\n",
        "        if key == 'sem_sigs':\n",
        "            sem_sigs = kwargs[key]\n",
        "        if key == 'entities':\n",
        "            entities = kwargs[key]\n",
        "        if key == 'canonicals':\n",
        "            canonicals = kwargs[key]"
      ],
      "metadata": {
        "id": "pwJ_s4xavnhA"
      },
      "execution_count": null,
      "outputs": []
    },
    {
      "cell_type": "markdown",
      "source": [
        "When writing a function, you can define a default value for each parameter. If an argument for a parameter is provided in the function call, Python uses the argument value. If not, it uses the parameter’s default value."
      ],
      "metadata": {
        "id": "_qNBvZ1DwSMn"
      }
    },
    {
      "cell_type": "code",
      "source": [
        "# You can do both at once, if you like\n",
        "def all_the_args(*args, **kwargs):\n",
        "    print(args)\n",
        "    print(kwargs)\n",
        "\"\"\"\n",
        "all_the_args(1, 2, a=3, b=4) prints:\n",
        "    (1, 2)\n",
        "    {\"a\": 3, \"b\": 4}\n",
        "\"\"\""
      ],
      "metadata": {
        "id": "stl9yPbpvg4c"
      },
      "execution_count": null,
      "outputs": []
    },
    {
      "cell_type": "code",
      "source": [
        "# anonymous functions\n",
        "(lambda x: x > 2)(3) #True\n",
        "\n",
        "# There are built-in higher order functions\n",
        "# first class functions\n",
        "def create_adder(x):\n",
        "    def adder(y):\n",
        "        return x + y\n",
        "    return adder\n",
        "\n",
        "add_10 = create_adder(10)\n",
        "add_10(3) # 13\n",
        "\n",
        "# When calling functions, you can do the opposite of args/kwargs!\n",
        "# Use * to expand tuples and use ** to expand kwargs.\n",
        "args = (1, 2, 3, 4)\n",
        "kwargs = {\"a\": 3, \"b\": 4}\n",
        "all_the_args(*args)            # equivalent to all_the_args(1, 2, 3, 4)\n",
        "all_the_args(**kwargs)         # equivalent to all_the_args(a=3, b=4)\n",
        "all_the_args(*args, **kwargs)  # equivalent to all_the_args(1, 2, 3, 4, a=3, b=4)\n",
        "\n",
        "# Returning multiple values (with tuple assignments)\n",
        "def swap(x, y):\n",
        "    return y, x  # Return multiple values as a tuple without the parenthesis.\n",
        "                 # (Note: parenthesis have been excluded but can be included)\n",
        "\n",
        "x = 1\n",
        "y = 2\n",
        "x, y = swap(x, y)     # => x = 2, y = 1\n",
        "# (x, y) = swap(x,y)  # Again parenthesis have been excluded but can be included.\n",
        "\n",
        "# Function Scope\n",
        "x = 5\n",
        "\n",
        "def set_x(num):\n",
        "    # Local var x not the same as global variable x\n",
        "    x = num    # => 43\n",
        "    print(x)   # => 43\n",
        "\n",
        "def set_global_x(num):\n",
        "    global x\n",
        "    print(x)   # => 5\n",
        "    x = num    # global var x is now set to 6\n",
        "    print(x)   # => 6\n",
        "\n",
        "set_x(43)\n",
        "set_global_x(6)\n",
        "\n",
        "\n",
        "# Python has first class functions\n",
        "def create_adder(x):\n",
        "    def adder(y):\n",
        "        return x + y\n",
        "    return adder\n",
        "\n",
        "add_10 = create_adder(10)\n",
        "add_10(3)   # => 13\n",
        "\n",
        "# There are also anonymous functions\n",
        "(lambda x: x > 2)(3)                  # => True\n",
        "(lambda x, y: x ** 2 + y ** 2)(2, 1)  # => 5\n",
        "\n",
        "# There are built-in higher order functions\n",
        "list(map(add_10, [1, 2, 3]))          # => [11, 12, 13]\n",
        "list(map(max, [1, 2, 3], [4, 2, 1]))  # => [4, 2, 3]\n",
        "\n",
        "list(filter(lambda x: x > 5, [3, 4, 5, 6, 7]))  # => [6, 7]\n",
        "\n",
        "# We can use list comprehensions for nice maps and filters\n",
        "# List comprehension stores the output as a list which can itself be a nested list\n",
        "[add_10(i) for i in [1, 2, 3]]         # => [11, 12, 13]\n",
        "[x for x in [3, 4, 5, 6, 7] if x > 5]  # => [6, 7]\n",
        "\n",
        "# You can construct set and dict comprehensions as well.\n",
        "{x for x in 'abcddeef' if x not in 'abc'}  # => {'d', 'e', 'f'}\n",
        "{x: x**2 for x in range(5)}  # => {0: 0, 1: 1, 2: 4, 3: 9, 4: 16}"
      ],
      "metadata": {
        "id": "D1Vl6DRoy6Lv"
      },
      "execution_count": null,
      "outputs": []
    },
    {
      "cell_type": "markdown",
      "source": [
        "## 5. Modules\n"
      ],
      "metadata": {
        "id": "TGW9fF9bcIhb"
      }
    },
    {
      "cell_type": "markdown",
      "source": [
        "The Python standard library is a set of modules included with every Python installation. You can start to use modules like these that other programmers have written."
      ],
      "metadata": {
        "id": "OBgld2KGsNdk"
      }
    },
    {
      "cell_type": "code",
      "source": [
        "# You can import modules\n",
        "import math\n",
        "print(math.sqrt(16))  # => 4.0\n",
        "\n",
        "# You can get specific functions from a module\n",
        "from math import ceil, floor\n",
        "print(ceil(3.7))   # => 4.0\n",
        "print(floor(3.7))  # => 3.0\n",
        "\n",
        "# You can import all functions from a module.\n",
        "# Warning: this is not recommended\n",
        "from math import *\n",
        "\n",
        "# You can shorten module names\n",
        "import math as m\n",
        "math.sqrt(16) == m.sqrt(16)  # => True\n",
        "\n",
        "# Python modules are just ordinary Python files. You\n",
        "# can write your own, and import them. The name of the\n",
        "# module is the same as the name of the file.\n",
        "\n",
        "# You can find out which functions and attributes\n",
        "# are defined in a module.\n",
        "import math\n",
        "dir(math)\n",
        "\n",
        "# If you have a Python script named math.py in the same\n",
        "# folder as your current script, the file math.py will\n",
        "# be loaded instead of the built-in Python module.\n",
        "# This happens because the local folder has priority\n",
        "# over Python's built-in libraries."
      ],
      "metadata": {
        "id": "mbkx8m9FcLsH"
      },
      "execution_count": null,
      "outputs": []
    },
    {
      "cell_type": "markdown",
      "source": [
        "## 6. Classes\n"
      ],
      "metadata": {
        "id": "1UzSnugNcO_x"
      }
    },
    {
      "cell_type": "markdown",
      "source": [
        "In object-oriented programming you write classes that represent real-world things and situations, and you create objects based on these classes. When you write a class, you define the general behavior that a whole category of objects can have.\n",
        "\n",
        "When you create individual objects from the class, each object is automatically equipped with the general behavior; you can then give each object whatever unique traits you desire.\n",
        "\n",
        "Making an object from a class is called *instantiation*, and you work with *instances* of a class."
      ],
      "metadata": {
        "id": "pJJL-ZoQ_hhG"
      }
    },
    {
      "cell_type": "code",
      "source": [
        "class Dog():\n",
        "  \"\"\"A simple attempt to model a dog.\"\"\"\n",
        "\n",
        "  # a class attribute is shared by all instances of this class\n",
        "  species = 'brutus'\n",
        "  \n",
        "  def __init__(self, name, age):\n",
        "    \"\"\"Initialize name and age attributes.\"\"\"\n",
        "    self.name = name\n",
        "    self.age = age\n",
        "    \n",
        "  def sit(self):\n",
        "    \"\"\"Simulate a dog sitting in response to a command.\"\"\"\n",
        "    print(self.name.title() + \" is now sitting.\")\n",
        "  \n",
        "  def roll_over(self):\n",
        "    \"\"\"Simulate rolling over in response to a command.\"\"\"\n",
        "    print(self.name.title() + \" rolled over!\")\n",
        "  \n",
        "  @staticmethod\n",
        "  def bark():\n",
        "    print('Woow.')\n",
        "  \n",
        "  @classmethod\n",
        "  def drool(cls):\n",
        "      return cls.species"
      ],
      "metadata": {
        "id": "OJW8GjzgABbV"
      },
      "execution_count": 17,
      "outputs": []
    },
    {
      "cell_type": "markdown",
      "source": [
        "A function that’s part of a class is a method.  The \\__init__() method is a special method Python runs automatically whenever we create a new instance based on a class.\n",
        "\n",
        "Any variable prefixed with self is available to every method in the class, and we’ll also be able to access these variables through any instance created from the class. self.name = name takes the value stored in the parameter name and stores it in the variable name, which is then attached to the instance being created. \n",
        "\n",
        "Variables that are accessible through instances are called attributes."
      ],
      "metadata": {
        "id": "MQgE3ZZp03Da"
      }
    },
    {
      "cell_type": "code",
      "source": [
        "my_dog = Dog('willie', 6)\n",
        "my_dog.name"
      ],
      "metadata": {
        "colab": {
          "base_uri": "https://localhost:8080/",
          "height": 36
        },
        "id": "t-rrgH0SM-Du",
        "outputId": "b7eb3e1b-4725-433a-836b-3a260da9bb24"
      },
      "execution_count": 3,
      "outputs": [
        {
          "output_type": "execute_result",
          "data": {
            "text/plain": [
              "'willie'"
            ],
            "application/vnd.google.colaboratory.intrinsic+json": {
              "type": "string"
            }
          },
          "metadata": {},
          "execution_count": 3
        }
      ]
    },
    {
      "cell_type": "code",
      "source": [
        "# methods are functions bound to the instance of a class\n",
        "# are also called instance methods\n",
        "my_dog.roll_over()"
      ],
      "metadata": {
        "colab": {
          "base_uri": "https://localhost:8080/"
        },
        "id": "zSkjb1d8NHlm",
        "outputId": "f479919a-4e0a-44e6-b6c5-d49c822459ba"
      },
      "execution_count": 5,
      "outputs": [
        {
          "output_type": "stream",
          "name": "stdout",
          "text": [
            "Willie rolled over!\n"
          ]
        }
      ]
    },
    {
      "cell_type": "code",
      "source": [
        "# we cannot use this method without istantiating an object from the class\n",
        "# it need the self argument\n",
        "Dog.roll_over()"
      ],
      "metadata": {
        "colab": {
          "base_uri": "https://localhost:8080/",
          "height": 182
        },
        "id": "SIKfC_nyNYta",
        "outputId": "1607d8a1-c51f-45a5-8cc7-778c927d9403"
      },
      "execution_count": 9,
      "outputs": [
        {
          "output_type": "error",
          "ename": "TypeError",
          "evalue": "ignored",
          "traceback": [
            "\u001b[0;31m---------------------------------------------------------------------------\u001b[0m",
            "\u001b[0;31mTypeError\u001b[0m                                 Traceback (most recent call last)",
            "\u001b[0;32m<ipython-input-9-a390acd14e4a>\u001b[0m in \u001b[0;36m<module>\u001b[0;34m\u001b[0m\n\u001b[1;32m      1\u001b[0m \u001b[0;31m# we cannot use this method without istantiating an object from the class\u001b[0m\u001b[0;34m\u001b[0m\u001b[0;34m\u001b[0m\u001b[0;34m\u001b[0m\u001b[0m\n\u001b[0;32m----> 2\u001b[0;31m \u001b[0mDog\u001b[0m\u001b[0;34m.\u001b[0m\u001b[0mroll_over\u001b[0m\u001b[0;34m(\u001b[0m\u001b[0;34m)\u001b[0m\u001b[0;34m\u001b[0m\u001b[0;34m\u001b[0m\u001b[0m\n\u001b[0m",
            "\u001b[0;31mTypeError\u001b[0m: roll_over() missing 1 required positional argument: 'self'"
          ]
        }
      ]
    },
    {
      "cell_type": "code",
      "source": [
        "# but it works for a staticmethod\n",
        "Dog.bark()"
      ],
      "metadata": {
        "colab": {
          "base_uri": "https://localhost:8080/"
        },
        "id": "4Yh9xC5LN-sy",
        "outputId": "df9496d9-7761-48f2-e8e5-e40facaa5032"
      },
      "execution_count": 11,
      "outputs": [
        {
          "output_type": "stream",
          "name": "stdout",
          "text": [
            "Woow.\n"
          ]
        }
      ]
    },
    {
      "cell_type": "code",
      "source": [
        "# class atributes are not bound to specific instances\n",
        "Dog.species"
      ],
      "metadata": {
        "colab": {
          "base_uri": "https://localhost:8080/",
          "height": 36
        },
        "id": "a3SOkewtQldV",
        "outputId": "e26d4a3e-2747-431f-b27e-84f1343891e0"
      },
      "execution_count": 14,
      "outputs": [
        {
          "output_type": "execute_result",
          "data": {
            "text/plain": [
              "'brutus'"
            ],
            "application/vnd.google.colaboratory.intrinsic+json": {
              "type": "string"
            }
          },
          "metadata": {},
          "execution_count": 14
        }
      ]
    },
    {
      "cell_type": "code",
      "source": [
        "# just like class methods\n",
        "Dog.drool()"
      ],
      "metadata": {
        "colab": {
          "base_uri": "https://localhost:8080/",
          "height": 36
        },
        "id": "9bjJvvYJRawx",
        "outputId": "afb78139-1b31-496e-a886-584872e36008"
      },
      "execution_count": 18,
      "outputs": [
        {
          "output_type": "execute_result",
          "data": {
            "text/plain": [
              "'brutus'"
            ],
            "application/vnd.google.colaboratory.intrinsic+json": {
              "type": "string"
            }
          },
          "metadata": {},
          "execution_count": 18
        }
      ]
    },
    {
      "cell_type": "code",
      "source": [
        "# see more detailed explanations here https://julien.danjou.info/guide-python-static-class-abstract-methods/"
      ],
      "metadata": {
        "id": "gKrZcUrYJsCn"
      },
      "execution_count": null,
      "outputs": []
    },
    {
      "cell_type": "markdown",
      "source": [
        "If the class you’re writing is a specialized version of another class you wrote, you can use inheritance. When one class inherits from another, it automatically takes on all the attributes and methods of the first class. The original class is called the parent class, and the new class is the child class. The child class inherits every attribute and method from its parent class but is also free to define new attributes and methods of its own."
      ],
      "metadata": {
        "id": "RKA4cSts22PX"
      }
    },
    {
      "cell_type": "code",
      "source": [
        "class Car():\n",
        "  \"\"\"A simple attempt to represent a car.\"\"\"\n",
        "  \n",
        "  def __init__(self, make, model, year):\n",
        "    self.make = make\n",
        "    self.model = model\n",
        "    self.year = year\n",
        "    self.odometer_reading = 0\n",
        "  \n",
        "  def get_descriptive_name(self):\n",
        "    long_name = str(self.year) + ' ' + self.make + ' ' + self.model\n",
        "    return long_name.title()\n",
        "  \n",
        "  def read_odometer(self):\n",
        "    print(\"This car has \" + str(self.odometer_reading) + \" miles on it.\")\n",
        "    \n",
        "  def update_odometer(self, mileage):\n",
        "    if mileage >= self.odometer_reading:\n",
        "      self.odometer_reading = mileage\n",
        "    else:\n",
        "      print(\"You can't roll back an odometer!\")\n",
        "  \n",
        "  def increment_odometer(self, miles):\n",
        "    self.odometer_reading += miles\n",
        "\n",
        "class ElectricCar(Car):\n",
        "  \"\"\"Represent aspects of a car, specific to electric vehicles.\"\"\"\n",
        "  \n",
        "  def __init__(self, make, model, year):\n",
        "    \"\"\"        Initialize attributes of the parent class.\n",
        "    Then initialize attributes specific to an electric car. \"\"\"\n",
        "    super().__init__(make, model, year)\n",
        "    self.battery_size = 70\n",
        "   \n",
        "  def describe_battery(self):\n",
        "   \"\"\"Print a statement describing the battery size.\"\"\"\n",
        "   print(\"This car has a \" + str(self.battery_size) + \"-kWh battery.\")"
      ],
      "metadata": {
        "id": "da1cLO4hcVuY"
      },
      "execution_count": 27,
      "outputs": []
    },
    {
      "cell_type": "markdown",
      "source": [
        "The super() function is a special function that helps Python make connections between the parent and child class. "
      ],
      "metadata": {
        "id": "xSzI0FuGp4d7"
      }
    },
    {
      "cell_type": "code",
      "source": [
        " shitty_tesla = ElectricCar('tesla', 'model s', 2016)\n",
        " print(shitty_tesla.get_descriptive_name())"
      ],
      "metadata": {
        "colab": {
          "base_uri": "https://localhost:8080/"
        },
        "id": "MYcjOG3opkP6",
        "outputId": "0b0be2b3-cf67-481e-94c0-e0ff7154d48f"
      },
      "execution_count": 28,
      "outputs": [
        {
          "output_type": "stream",
          "name": "stdout",
          "text": [
            "2016 Tesla Model S\n"
          ]
        }
      ]
    },
    {
      "cell_type": "code",
      "source": [
        "shitty_tesla.describe_battery()"
      ],
      "metadata": {
        "colab": {
          "base_uri": "https://localhost:8080/"
        },
        "id": "fKhag6pHrUOL",
        "outputId": "76b0e693-735f-45c0-b389-6f56402f870d"
      },
      "execution_count": 29,
      "outputs": [
        {
          "output_type": "stream",
          "name": "stdout",
          "text": [
            "This car has a 70-kWh battery.\n"
          ]
        }
      ]
    },
    {
      "cell_type": "markdown",
      "source": [
        "You can override any method from the parent class that doesn’t fit what you’re trying to model with the child class. To do this, you define a method in the child class with the same name as the method you want to override in the parent class."
      ],
      "metadata": {
        "id": "dY3ZXRytrhW9"
      }
    },
    {
      "cell_type": "markdown",
      "source": [
        "A single class can also inherit from several classes:"
      ],
      "metadata": {
        "id": "jN_rBB-tcev5"
      }
    },
    {
      "cell_type": "code",
      "source": [
        "# Another class definition\n",
        "# bat.py\n",
        "class Bat:\n",
        "\n",
        "    species = 'Baty'\n",
        "\n",
        "    def __init__(self, can_fly=True):\n",
        "        self.fly = can_fly\n",
        "\n",
        "    # This class also has a say method\n",
        "    def say(self, msg):\n",
        "        msg = '... ... ...'\n",
        "        return msg\n",
        "\n",
        "    # And its own method as well\n",
        "    def sonar(self):\n",
        "        return '))) ... ((('\n",
        "\n",
        "if __name__ == '__main__':\n",
        "    b = Bat()\n",
        "    print(b.say('hello'))\n",
        "    print(b.fly)\n",
        "\n",
        "\n",
        "# And yet another class definition that inherits from Superhero and Bat\n",
        "# superhero.py\n",
        "from superhero import Superhero\n",
        "from bat import Bat\n",
        "\n",
        "# Define Batman as a child that inherits from both Superhero and Bat\n",
        "class Batman(Superhero, Bat):\n",
        "\n",
        "    def __init__(self, *args, **kwargs):\n",
        "        # Typically to inherit attributes you have to call super:\n",
        "        # super(Batman, self).__init__(*args, **kwargs)      \n",
        "        # However we are dealing with multiple inheritance here, and super()\n",
        "        # only works with the next base class in the MRO list.\n",
        "        # So instead we explicitly call __init__ for all ancestors.\n",
        "        # The use of *args and **kwargs allows for a clean way to pass arguments,\n",
        "        # with each parent \"peeling a layer of the onion\".\n",
        "        Superhero.__init__(self, 'anonymous', movie=True, \n",
        "                           superpowers=['Wealthy'], *args, **kwargs)\n",
        "        Bat.__init__(self, *args, can_fly=False, **kwargs)\n",
        "        # override the value for the name attribute\n",
        "        self.name = 'Sad Affleck'\n",
        "\n",
        "    def sing(self):\n",
        "        return 'nan nan nan nan nan batman!'\n",
        "\n",
        "\n",
        "if __name__ == '__main__':\n",
        "    sup = Batman()\n",
        "\n",
        "    # Get the Method Resolution search Order used by both getattr() and super().\n",
        "    # This attribute is dynamic and can be updated\n",
        "    print(Batman.__mro__)       # => (<class '__main__.Batman'>, \n",
        "                                # => <class 'superhero.Superhero'>, \n",
        "                                # => <class 'human.Human'>, \n",
        "                                # => <class 'bat.Bat'>, <class 'object'>)\n",
        "\n",
        "    # Calls parent method but uses its own class attribute\n",
        "    print(sup.get_species())    # => Superhuman\n",
        "\n",
        "    # Calls overridden method\n",
        "    print(sup.sing())           # => nan nan nan nan nan batman!\n",
        "\n",
        "    # Calls method from Human, because inheritance order matters\n",
        "    sup.say('I agree')          # => Sad Affleck: I agree\n",
        "\n",
        "    # Call method that exists only in 2nd ancestor\n",
        "    print(sup.sonar())          # => ))) ... (((\n",
        "\n",
        "    # Inherited class attribute\n",
        "    sup.age = 100\n",
        "    print(sup.age)              # => 100\n",
        "\n",
        "    # Inherited attribute from 2nd ancestor whose default value was overridden.\n",
        "    print('Can I fly? ' + str(sup.fly)) # => Can I fly? False"
      ],
      "metadata": {
        "id": "RsRl1WxTche2"
      },
      "execution_count": null,
      "outputs": []
    },
    {
      "cell_type": "markdown",
      "source": [
        "Class names should be written in CamelCaps. To do this, capitalize the f irst letter of each word in the name, and don’t use underscores. Instance and module names should be written in lowercase with underscores between words.\n",
        "\n",
        "Every class should have a docstring immediately following the class definition. The docstring should be a brief description of what the class does, and you should follow the same formatting conventions you used for writing docstrings in functions. Each module should also have a docstring describing what the classes in a module can be used for. You can use blank lines to organize code, but don’t use them excessively. Within a class you can use one blank line between methods, and within a module you can use two blank lines to separate classes."
      ],
      "metadata": {
        "id": "r_bN2S0HuACj"
      }
    },
    {
      "cell_type": "markdown",
      "source": [
        "## 7. Advanced\n"
      ],
      "metadata": {
        "id": "xIwCutjJckep"
      }
    },
    {
      "cell_type": "code",
      "source": [
        "# Generators help you make lazy code.\n",
        "def double_numbers(iterable):\n",
        "    for i in iterable:\n",
        "        yield i + i\n",
        "\n",
        "# Generators are memory-efficient because they only load the data needed to\n",
        "# process the next value in the iterable. This allows them to perform\n",
        "# operations on otherwise prohibitively large value ranges.\n",
        "# NOTE: `range` replaces `xrange` in Python 3.\n",
        "for i in double_numbers(range(1, 900000000)):  # `range` is a generator.\n",
        "    print(i)\n",
        "    if i >= 30:\n",
        "        break\n",
        "\n",
        "# Just as you can create a list comprehension, you can create generator\n",
        "# comprehensions as well.\n",
        "values = (-x for x in [1,2,3,4,5])\n",
        "for x in values:\n",
        "    print(x)  # prints -1 -2 -3 -4 -5 to console/terminal\n",
        "\n",
        "# You can also cast a generator comprehension directly to a list.\n",
        "values = (-x for x in [1,2,3,4,5])\n",
        "gen_to_list = list(values)\n",
        "print(gen_to_list)  # => [-1, -2, -3, -4, -5]\n",
        "\n",
        "\n",
        "# Decorators\n",
        "# In this example `beg` wraps `say`. If say_please is True then it\n",
        "# will change the returned message.\n",
        "from functools import wraps\n",
        "\n",
        "\n",
        "def beg(target_function):\n",
        "    @wraps(target_function)\n",
        "    def wrapper(*args, **kwargs):\n",
        "        msg, say_please = target_function(*args, **kwargs)\n",
        "        if say_please:\n",
        "            return \"{} {}\".format(msg, \"Please! I am poor :(\")\n",
        "        return msg\n",
        "\n",
        "    return wrapper\n",
        "\n",
        "\n",
        "@beg\n",
        "def say(say_please=False):\n",
        "    msg = \"Can you buy me a beer?\"\n",
        "    return msg, say_please\n",
        "\n",
        "\n",
        "print(say())                 # Can you buy me a beer?\n",
        "print(say(say_please=True))  # Can you buy me a beer? Please! I am poor :("
      ],
      "metadata": {
        "id": "rJFk0tiGcnwC"
      },
      "execution_count": null,
      "outputs": []
    },
    {
      "cell_type": "markdown",
      "source": [
        "# Common use cases"
      ],
      "metadata": {
        "id": "zmV2r4mPv8Ug"
      }
    },
    {
      "cell_type": "markdown",
      "source": [
        "## Common libraries"
      ],
      "metadata": {
        "id": "Z61l06TjVT5S"
      }
    },
    {
      "cell_type": "code",
      "source": [
        "import itertools"
      ],
      "metadata": {
        "id": "O-PZJyvXVXus"
      },
      "execution_count": null,
      "outputs": []
    },
    {
      "cell_type": "markdown",
      "source": [
        "The sys module provides access to variables and functions related to Python itself and the operating system it is running on. This module also contains a lot of information about Python’s import system. "
      ],
      "metadata": {
        "id": "0qJD_EJKVm6n"
      }
    },
    {
      "cell_type": "code",
      "source": [
        "import sys\n",
        "sys.modules['os']\n",
        "sys.modules.keys()\n",
        "sys.builtin_module_names"
      ],
      "metadata": {
        "colab": {
          "base_uri": "https://localhost:8080/"
        },
        "id": "4WcLzbJ9VqyG",
        "outputId": "9c300e24-397e-4cf0-9d6d-687669da3b95"
      },
      "execution_count": 44,
      "outputs": [
        {
          "output_type": "execute_result",
          "data": {
            "text/plain": [
              "('_abc',\n",
              " '_ast',\n",
              " '_bisect',\n",
              " '_blake2',\n",
              " '_codecs',\n",
              " '_collections',\n",
              " '_csv',\n",
              " '_datetime',\n",
              " '_elementtree',\n",
              " '_functools',\n",
              " '_heapq',\n",
              " '_imp',\n",
              " '_io',\n",
              " '_locale',\n",
              " '_md5',\n",
              " '_operator',\n",
              " '_pickle',\n",
              " '_posixsubprocess',\n",
              " '_random',\n",
              " '_sha1',\n",
              " '_sha256',\n",
              " '_sha3',\n",
              " '_sha512',\n",
              " '_signal',\n",
              " '_socket',\n",
              " '_sre',\n",
              " '_stat',\n",
              " '_statistics',\n",
              " '_string',\n",
              " '_struct',\n",
              " '_symtable',\n",
              " '_thread',\n",
              " '_tracemalloc',\n",
              " '_warnings',\n",
              " '_weakref',\n",
              " 'array',\n",
              " 'atexit',\n",
              " 'binascii',\n",
              " 'builtins',\n",
              " 'cmath',\n",
              " 'errno',\n",
              " 'faulthandler',\n",
              " 'fcntl',\n",
              " 'gc',\n",
              " 'grp',\n",
              " 'itertools',\n",
              " 'marshal',\n",
              " 'math',\n",
              " 'posix',\n",
              " 'pwd',\n",
              " 'pyexpat',\n",
              " 'select',\n",
              " 'spwd',\n",
              " 'sys',\n",
              " 'syslog',\n",
              " 'time',\n",
              " 'unicodedata',\n",
              " 'xxsubtype',\n",
              " 'zlib')"
            ]
          },
          "metadata": {},
          "execution_count": 44
        }
      ]
    },
    {
      "cell_type": "markdown",
      "source": [
        "To check which paths your interpreter will search for modules, just enter:"
      ],
      "metadata": {
        "id": "x4skFczXWHLh"
      }
    },
    {
      "cell_type": "code",
      "source": [
        "sys.path"
      ],
      "metadata": {
        "colab": {
          "base_uri": "https://localhost:8080/"
        },
        "id": "qSzdu0atWIjZ",
        "outputId": "4d7a6a12-6281-44f4-913b-e53ed84f1726"
      },
      "execution_count": 45,
      "outputs": [
        {
          "output_type": "execute_result",
          "data": {
            "text/plain": [
              "['/content',\n",
              " '/env/python',\n",
              " '/usr/lib/python38.zip',\n",
              " '/usr/lib/python3.8',\n",
              " '/usr/lib/python3.8/lib-dynload',\n",
              " '',\n",
              " '/usr/local/lib/python3.8/dist-packages',\n",
              " '/usr/lib/python3/dist-packages',\n",
              " '/usr/local/lib/python3.8/dist-packages/IPython/extensions',\n",
              " '/root/.ipython']"
            ]
          },
          "metadata": {},
          "execution_count": 45
        }
      ]
    },
    {
      "cell_type": "code",
      "source": [
        "sys.path.append('/foo/bar')"
      ],
      "metadata": {
        "id": "0TpKDv6LWc5m"
      },
      "execution_count": null,
      "outputs": []
    },
    {
      "cell_type": "markdown",
      "source": [
        "Adding paths to the sys.path variable can be useful if you want to install Python modules to nonstandard locations, such as a test environment."
      ],
      "metadata": {
        "id": "cC1pgpYdWVU-"
      }
    },
    {
      "cell_type": "markdown",
      "source": [
        "It’s important to note that the list will be iterated over to find the requested module, so the order of the paths in sys.path is important. It’s useful to put the path most likely to contain the modules you are importing early in the list to speed up search time. Doing so also ensures that if two modules with the same name are available, the first match will be picked"
      ],
      "metadata": {
        "id": "46IFAv4CWsQZ"
      }
    },
    {
      "cell_type": "code",
      "source": [
        "import os"
      ],
      "metadata": {
        "id": "BcYDvMoKVzBJ"
      },
      "execution_count": 46,
      "outputs": []
    },
    {
      "cell_type": "markdown",
      "source": [
        "Whenever you’re tempted to write your own function to handle a simple task, first stop and look through the standard library. In fact, skim through the whole thing at least once."
      ],
      "metadata": {
        "id": "2ZwnM892XCfb"
      }
    },
    {
      "cell_type": "markdown",
      "source": [
        "## Reading from and writing to files"
      ],
      "metadata": {
        "id": "QicMCymnwcN7"
      }
    },
    {
      "cell_type": "code",
      "source": [
        "# line by line, file paths"
      ],
      "metadata": {
        "id": "HwJowfBQwfla"
      },
      "execution_count": null,
      "outputs": []
    },
    {
      "cell_type": "markdown",
      "source": [
        "Dump data as JSON file:"
      ],
      "metadata": {
        "id": "3JXjG22a0LDX"
      }
    },
    {
      "cell_type": "code",
      "source": [
        "import json\n",
        "\n",
        "numbers = [2, 3, 5, 7, 11, 13]\n",
        "\n",
        "filename = 'numbers.json'\n",
        "\n",
        "with open(filename, 'w') as f:\n",
        "  json.dump(numbers, f)"
      ],
      "metadata": {
        "id": "kLVUAyUbv_HO"
      },
      "execution_count": 30,
      "outputs": []
    },
    {
      "cell_type": "code",
      "source": [
        "with open(filename) as f:\n",
        "  numbers_2 = json.load(f)"
      ],
      "metadata": {
        "id": "yWJdEph6zcFt"
      },
      "execution_count": 31,
      "outputs": []
    },
    {
      "cell_type": "code",
      "source": [
        "print(numbers_2)"
      ],
      "metadata": {
        "colab": {
          "base_uri": "https://localhost:8080/"
        },
        "id": "Sd-wytCqzkfe",
        "outputId": "8ab88e62-7e0d-4aa8-d084-ad7a3bddacea"
      },
      "execution_count": 32,
      "outputs": [
        {
          "output_type": "stream",
          "name": "stdout",
          "text": [
            "[2, 3, 5, 7, 11, 13]\n"
          ]
        }
      ]
    },
    {
      "cell_type": "markdown",
      "source": [
        "## Testing code"
      ],
      "metadata": {
        "id": "8QiEww000Pt3"
      }
    },
    {
      "cell_type": "markdown",
      "source": [
        "The module unittest (previously called PyUnit) from the Python standard library provides tools for testing your code. A unit test verifies that one specific aspect of a function’s behavior is correct.\n",
        "\n",
        "A test case is a collection of unit tests that together prove that a function behaves as it’s supposed to, within the full range of situations you expect it to handle.\n",
        "\n",
        "A good test case considers all the possible kinds of input a function could receive and includes tests to represent each of these situations. A test case with full coverage includes a full range of unit tests covering all the possible ways you can use a function."
      ],
      "metadata": {
        "id": "LnGxJITp0oF6"
      }
    },
    {
      "cell_type": "markdown",
      "source": [
        "To write a test case for a function, import the unittest module and the function you want to test. Then create a class that inherits from unittest.TestCase, and write a series of methods to test different aspects of your function’s behavior."
      ],
      "metadata": {
        "id": "TElDzcY_1Mlw"
      }
    },
    {
      "cell_type": "code",
      "source": [
        "def add(x, y):\n",
        "  return x+y"
      ],
      "metadata": {
        "id": "JZFaJlcq1xYM"
      },
      "execution_count": 33,
      "outputs": []
    },
    {
      "cell_type": "code",
      "source": [
        "add(3,4)"
      ],
      "metadata": {
        "colab": {
          "base_uri": "https://localhost:8080/"
        },
        "id": "fx3jZ5_t12tF",
        "outputId": "b56f939a-91fc-4913-e33f-820b353a6868"
      },
      "execution_count": 34,
      "outputs": [
        {
          "output_type": "execute_result",
          "data": {
            "text/plain": [
              "7"
            ]
          },
          "metadata": {},
          "execution_count": 34
        }
      ]
    },
    {
      "cell_type": "code",
      "source": [
        "import unittest\n",
        "\n",
        "class AdditionTestCase(unittest.TestCase):\n",
        "  \"\"\"Tests for 'add.py'.\"\"\"\n",
        "  \n",
        "  def test_add(self):\n",
        "    \"\"\"Do integers work?\"\"\"\n",
        "    sum = add(5, 6)\n",
        "    self.assertEqual(sum, 10)\n",
        "\n",
        "unittest.main()"
      ],
      "metadata": {
        "id": "5bAHp06aznQi"
      },
      "execution_count": null,
      "outputs": []
    },
    {
      "cell_type": "markdown",
      "source": [
        "Python provides a number of assert methods in the unittest.TestCase class. "
      ],
      "metadata": {
        "id": "6B-LPQVu6jUx"
      }
    },
    {
      "cell_type": "markdown",
      "source": [
        "![image.png](data:image/png;base64,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)"
      ],
      "metadata": {
        "id": "2P9HdTLU6ekk"
      }
    },
    {
      "cell_type": "markdown",
      "source": [
        "Testing a class is similar to testing a function—much of your work involves testing the behavior of the methods in the class. But there are a few differences:"
      ],
      "metadata": {
        "id": "CG2pKeGy6rnx"
      }
    },
    {
      "cell_type": "code",
      "source": [
        "class Car():\n",
        "  \"\"\"A simple attempt to represent a car.\"\"\"\n",
        "  \n",
        "  def __init__(self, make, model, year):\n",
        "    self.make = make\n",
        "    self.model = model\n",
        "    self.year = year\n",
        "    self.odometer_reading = 0\n",
        "  \n",
        "  def get_descriptive_name(self):\n",
        "    long_name = str(self.year) + ' ' + self.make + ' ' + self.model\n",
        "    return long_name.title()\n",
        "  \n",
        "  def read_odometer(self):\n",
        "    print(\"This car has \" + str(self.odometer_reading) + \" miles on it.\")\n",
        "    \n",
        "  def update_odometer(self, mileage):\n",
        "    if mileage >= self.odometer_reading:\n",
        "      self.odometer_reading = mileage\n",
        "    else:\n",
        "      print(\"You can't roll back an odometer!\")\n",
        "  \n",
        "  def increment_odometer(self, miles):\n",
        "    self.odometer_reading += miles"
      ],
      "metadata": {
        "id": "J5Ls8wTu6fLv"
      },
      "execution_count": 40,
      "outputs": []
    },
    {
      "cell_type": "markdown",
      "source": [
        "To test the behavior of a class, we need to make an instance of the class."
      ],
      "metadata": {
        "id": "lbyMN-BHJvMK"
      }
    },
    {
      "cell_type": "code",
      "source": [
        "import unittest\n",
        "from car import Car\n",
        "\n",
        "class TestCar(unittest.TestCase):\n",
        "  \"\"\"Tests for the class Car\"\"\"\n",
        "  def test_get_descriptive_name(self):\n",
        "    \"\"\"Test that a descriptive name is formatted properly.\"\"\"\n",
        "    make = \"Tesla\"\n",
        "    model = \"X\"\n",
        "    year = \"2017\"\n",
        "    \n",
        "    car = Car(make, model, year)\n",
        "    descriptive_name = car.get_descriptive_name()\n",
        "    \n",
        "    self.assertIn(descriptive_name, car.get_descriptive_name())\n",
        "\n",
        "unittest.main() "
      ],
      "metadata": {
        "id": "8GNXPBNFHvm2"
      },
      "execution_count": null,
      "outputs": []
    },
    {
      "cell_type": "markdown",
      "source": [
        "The unittest.TestCase class has a setUp() method that allows you to create test objects including variables once and then use them in each of the following test methods."
      ],
      "metadata": {
        "id": "7CybSyOgPatE"
      }
    },
    {
      "cell_type": "code",
      "source": [
        "import unittest\n",
        "from car import Car\n",
        "\n",
        "class TestCar(unittest.TestCase):\n",
        "  \"\"\"Tests for the class Car\"\"\"\n",
        "\n",
        "  def setUp(self):\n",
        "    make = \"Tesla\"\n",
        "    model = \"X\"\n",
        "    year = \"2017\"\n",
        "    self.my_car = Car(make, model, year)\n",
        "\n",
        "\n",
        "  def test_get_descriptive_name(self):\n",
        "    \"\"\"Test that a descriptive name is formatted properly.\"\"\"\n",
        "    \n",
        "    descriptive_name = self.my_car.get_descriptive_name()\n",
        "    \n",
        "    self.assertIn(descriptive_name, self.my_car.get_descriptive_name())\n",
        "\n",
        "unittest.main() "
      ],
      "metadata": {
        "id": "FC_cOkbdPdQj"
      },
      "execution_count": null,
      "outputs": []
    },
    {
      "cell_type": "markdown",
      "source": [
        "An alternative framework for unit testing in Python is *Pytest*. Pytest supports unittest.TestCase class from the beginning.\n",
        "\n",
        "All behaviors thought during writing tests with unittest (e.g.: writing assertions) remain the same, which gives extremely smooth transition to a new framework. Additionally, most unittest features work too, so pytest executor can run old tests as well (subtests are, however, not supported).\n",
        "\n",
        "https://blog.j-labs.pl/2019/02/Pytest-why-its-more-popular-than-unittest"
      ],
      "metadata": {
        "id": "TryFyRObLOul"
      }
    },
    {
      "cell_type": "code",
      "source": [
        "import pytest\n",
        "import unittest\n",
        "\n",
        "\n",
        "class ClassTest(unittest.TestCase):\n",
        "\n",
        "     @pytest.mark.xfail\n",
        "     def test_feature_a(self):\n",
        "        self.assertEqual(2, 3)\n",
        "\n",
        "     def test_feature_b(self):\n",
        "        self.assertTrue(True)"
      ],
      "metadata": {
        "id": "Lytc3udlLzng"
      },
      "execution_count": null,
      "outputs": []
    },
    {
      "cell_type": "code",
      "source": [
        "# to execute a test script, tun\n",
        "!pytest my_unittest_tests.py"
      ],
      "metadata": {
        "id": "DJCuvtu4MDcX"
      },
      "execution_count": null,
      "outputs": []
    },
    {
      "cell_type": "markdown",
      "source": [
        "Pytest comes with a possibility to run tests parallelly by multiple processes using pytest-xdist."
      ],
      "metadata": {
        "id": "uJ_H0quSNooT"
      }
    },
    {
      "cell_type": "code",
      "source": [
        "!pip install pytest-xdist"
      ],
      "metadata": {
        "id": "r8lwBE4nN6k_"
      },
      "execution_count": null,
      "outputs": []
    },
    {
      "cell_type": "code",
      "source": [
        "# start a test script with several processes\n",
        "pytest test_class.py -n 6"
      ],
      "metadata": {
        "id": "gdsyl_FpOFRq"
      },
      "execution_count": null,
      "outputs": []
    },
    {
      "cell_type": "markdown",
      "source": [
        "You can run parameterized tests:"
      ],
      "metadata": {
        "id": "yT2AtpfsOd2n"
      }
    },
    {
      "cell_type": "code",
      "source": [
        "!pip install parameterized"
      ],
      "metadata": {
        "id": "TRb6_GkUOgn0"
      },
      "execution_count": null,
      "outputs": []
    },
    {
      "cell_type": "code",
      "source": [
        "import requests\n",
        "import unittest\n",
        "from parameterized import parameterized\n",
        "\n",
        "\n",
        "class TestRepositories(unittest.TestCase):\n",
        "\n",
        "    @parameterized.expand(['autorepr', 'django-nose', 'chai-subset'])\n",
        "    def test_repos_existence_in_wolever_profile(self, repo):\n",
        "        api_url = 'https://api.github.com/users/wolever/repos'\n",
        "        response = requests.get().json(api_url)\n",
        "        self.assertIn(repo, [item['name'] for item in response])"
      ],
      "metadata": {
        "id": "PddRQ5D7Ohy0"
      },
      "execution_count": null,
      "outputs": []
    }
  ]
}