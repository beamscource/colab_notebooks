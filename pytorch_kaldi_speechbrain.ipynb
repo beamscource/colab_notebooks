{
  "nbformat": 4,
  "nbformat_minor": 0,
  "metadata": {
    "colab": {
      "provenance": [],
      "collapsed_sections": [],
      "authorship_tag": "ABX9TyNhIsTaqIHbvHc1kQlAemJ1",
      "include_colab_link": true
    },
    "kernelspec": {
      "name": "python3",
      "display_name": "Python 3"
    },
    "language_info": {
      "name": "python"
    }
  },
  "cells": [
    {
      "cell_type": "markdown",
      "metadata": {
        "id": "view-in-github",
        "colab_type": "text"
      },
      "source": [
        "<a href=\"https://colab.research.google.com/github/beamscource/colab_notebooks/blob/main/pytorch_kaldi_speechbrain.ipynb\" target=\"_parent\"><img src=\"https://colab.research.google.com/assets/colab-badge.svg\" alt=\"Open In Colab\"/></a>"
      ]
    },
    {
      "cell_type": "markdown",
      "source": [
        "# PyTorch-Kaldi"
      ],
      "metadata": {
        "id": "5Jzbq8YhYHK2"
      }
    },
    {
      "cell_type": "markdown",
      "source": [
        "- https://github.com/mravanelli/pytorch-kaldi\n",
        "- https://arxiv.org/abs/1811.07453"
      ],
      "metadata": {
        "id": "BrM4WTTAYLWv"
      }
    },
    {
      "cell_type": "markdown",
      "source": [
        "# Speechbrain"
      ],
      "metadata": {
        "id": "ZKnkEqNeX-jy"
      }
    },
    {
      "cell_type": "markdown",
      "source": [
        "- https://speechbrain.github.io/\n",
        "- https://arxiv.org/pdf/2106.04624.pdf - SpeechBrain + survey of other tools"
      ],
      "metadata": {
        "id": "WRoieat1YD1z"
      }
    }
  ]
}